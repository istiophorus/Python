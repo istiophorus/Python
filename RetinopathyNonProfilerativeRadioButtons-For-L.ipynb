{
 "cells": [
  {
   "cell_type": "code",
   "execution_count": 1,
   "metadata": {},
   "outputs": [],
   "source": [
    "from keras.preprocessing.image import ImageDataGenerator\n",
    "from keras import regularizers\n",
    "import os\n",
    "import matplotlib.pyplot as plt\n",
    "import numpy as np\n",
    "from keras.applications.vgg16 import VGG16\n",
    "from keras.applications.vgg19 import VGG19\n",
    "import keras.applications.efficientnet\n",
    "from keras.applications.efficientnet import EfficientNetB7\n",
    "from keras.models import Sequential\n",
    "from keras.layers import Dense, Dropout, Flatten, BatchNormalization, MaxPooling2D, GlobalAveragePooling2D\n",
    "from keras.layers.convolutional import Conv2D\n",
    "#from keras.layers.advanced_activations import LeakyReLU\n",
    "from keras.layers import LeakyReLU\n",
    "from keras.callbacks import ModelCheckpoint, LearningRateScheduler, CSVLogger\n",
    "import tensorflow as tf\n",
    "from tensorflow.keras.layers import Dropout, Flatten, Dense, BatchNormalization\n",
    "from tensorflow.keras.applications.inception_v3 import InceptionV3\n",
    "from keras.applications.efficientnet import EfficientNetB7\n",
    "from keras.applications.efficientnet_v2 import EfficientNetV2L\n",
    "from keras.applications.inception_resnet_v2 import InceptionResNetV2\n",
    "from keras.applications.resnet_v2 import ResNet152V2\n",
    "from keras.applications.densenet import DenseNet121\n",
    "from keras.applications.resnet import ResNet50\n",
    "from sklearn.metrics import ConfusionMatrixDisplay\n",
    "from sklearn.metrics import confusion_matrix\n",
    "from sklearn.utils import class_weight\n",
    "import cv2\n",
    "from PIL import Image"
   ]
  },
  {
   "cell_type": "code",
   "execution_count": 2,
   "metadata": {},
   "outputs": [
    {
     "name": "stdout",
     "output_type": "stream",
     "text": [
      "[PhysicalDevice(name='/physical_device:GPU:0', device_type='GPU')]\n"
     ]
    }
   ],
   "source": [
    "print(tf.config.list_physical_devices('GPU'))"
   ]
  },
  {
   "cell_type": "code",
   "execution_count": 3,
   "metadata": {},
   "outputs": [
    {
     "data": {
      "text/plain": [
       "'2.9.3'"
      ]
     },
     "execution_count": 3,
     "metadata": {},
     "output_type": "execute_result"
    }
   ],
   "source": [
    "tf.__version__"
   ]
  },
  {
   "cell_type": "code",
   "execution_count": 4,
   "metadata": {},
   "outputs": [],
   "source": [
    "CLAHE_FILTER = cv2.createCLAHE(clipLimit=2.0, tileGridSize=(8,8))"
   ]
  },
  {
   "cell_type": "code",
   "execution_count": 5,
   "metadata": {},
   "outputs": [],
   "source": [
    "data_base_train_folder = 'd:/Dane/ImageTagger/RetinopathyNonProfilerativeRadioButtons/Binary/Train'\n",
    "data_base_valid_folder = 'd:/Dane/ImageTagger/RetinopathyNonProfilerativeRadioButtons/Binary/Validate'\n",
    "data_base_test_folder = 'd:/Dane/ImageTagger/RetinopathyNonProfilerativeRadioButtons/Binary/Test'\n",
    "class_names = ['0', '1']"
   ]
  },
  {
   "cell_type": "code",
   "execution_count": 6,
   "metadata": {},
   "outputs": [],
   "source": [
    "training_workspace_folder = \"d:/Dane/ImageTagger/RetinopathyNonProfilerativeRadioButtons/Binary/workspace/\""
   ]
  },
  {
   "cell_type": "code",
   "execution_count": 7,
   "metadata": {},
   "outputs": [],
   "source": [
    "def get_confusion_matrix(model, test_data_generator):\n",
    "    Y_pred = model.predict_generator(test_data_generator)\n",
    "    y_pred = np.argmax(Y_pred, axis=1)\n",
    "    y_true = test_data_generator.classes\n",
    "    cm = confusion_matrix(y_true, y_pred)\n",
    "    return cm"
   ]
  },
  {
   "cell_type": "code",
   "execution_count": 8,
   "metadata": {},
   "outputs": [],
   "source": [
    "def create_model_from_inceptionV3_B():\n",
    "    inceptionV3 = InceptionV3(include_top=False, weights='imagenet', input_shape=(224, 224,3))\n",
    "    \n",
    "    for layer in inceptionV3.layers:\n",
    "        layer.trainable = False\n",
    "        \n",
    "    new_model = tf.keras.models.Sequential([\n",
    "        inceptionV3,\n",
    "        #BatchNormalization(),\n",
    "        Flatten(),  \n",
    "        Dense(256),\n",
    "        LeakyReLU(alpha = 0.01),\n",
    "        BatchNormalization(),\n",
    "        Dense(256),\n",
    "        LeakyReLU(alpha = 0.01),\n",
    "        BatchNormalization(),        \n",
    "        Dropout(0.3),\n",
    "        Dense(1, activation='softmax')\n",
    "    ])\n",
    "    \n",
    "    return (new_model, apply_clahe_get_G_channel)"
   ]
  },
  {
   "cell_type": "code",
   "execution_count": 9,
   "metadata": {},
   "outputs": [],
   "source": [
    "def apply_clahe(image):\n",
    "    (b, g, r) = cv2.split(image)\n",
    "    g_clahe = CLAHE_FILTER.apply(g.astype(np.uint8))\n",
    "    b_clahe = CLAHE_FILTER.apply(b.astype(np.uint8))\n",
    "    r_clahe = CLAHE_FILTER.apply(r.astype(np.uint8))\n",
    "    merged_clahe = cv2.merge((b_clahe, g_clahe, r_clahe)) # we need 3 channels\n",
    "    return merged_clahe"
   ]
  },
  {
   "cell_type": "code",
   "execution_count": 10,
   "metadata": {},
   "outputs": [],
   "source": [
    "def apply_clahe_get_G_channel(image):\n",
    "    (b, g, r) = cv2.split(image)\n",
    "    g_clahe = CLAHE_FILTER.apply(g.astype(np.uint8))\n",
    "    merged_g_clahe = cv2.merge((g_clahe, g_clahe, g_clahe)) # we need 3 channels\n",
    "    return merged_g_clahe"
   ]
  },
  {
   "cell_type": "code",
   "execution_count": 11,
   "metadata": {},
   "outputs": [],
   "source": [
    "def convert_to_lab(image):\n",
    "    image = np.array(image)\n",
    "    converted_image = cv2.cvtColor(image,cv2.COLOR_RGB2LAB)\n",
    "    #return Image.fromarray(hsv_image)\n",
    "    return converted_image"
   ]
  },
  {
   "cell_type": "code",
   "execution_count": 12,
   "metadata": {},
   "outputs": [],
   "source": [
    "def convert_to_hsv(image):\n",
    "    image = np.array(image)\n",
    "    hsv_image = cv2.cvtColor(image,cv2.COLOR_RGB2HSV)\n",
    "    #return Image.fromarray(hsv_image)\n",
    "    return hsv_image"
   ]
  },
  {
   "cell_type": "code",
   "execution_count": 13,
   "metadata": {},
   "outputs": [],
   "source": [
    "def create_model_from_inceptionV3_D():\n",
    "    inceptionV3 = InceptionV3(include_top=False, weights='imagenet', input_shape=(224, 224,3))\n",
    "    \n",
    "    for layer in inceptionV3.layers:\n",
    "        layer.trainable = False\n",
    "        \n",
    "    new_model = tf.keras.models.Sequential([\n",
    "        inceptionV3,\n",
    "        BatchNormalization(),\n",
    "        Flatten(),  \n",
    "        Dense(256),\n",
    "        LeakyReLU(alpha = 0.01),\n",
    "        BatchNormalization(),\n",
    "        Dense(256),\n",
    "        LeakyReLU(alpha = 0.01),\n",
    "        BatchNormalization(),        \n",
    "        Dense(16),\n",
    "        LeakyReLU(alpha = 0.01),\n",
    "        BatchNormalization(),        \n",
    "        Dropout(0.3),\n",
    "        Dense(1, activation='softmax')\n",
    "    ])\n",
    "    \n",
    "    return (new_model, convert_to_hsv)"
   ]
  },
  {
   "cell_type": "code",
   "execution_count": 14,
   "metadata": {},
   "outputs": [],
   "source": [
    "def create_model_from_InceptionResNetV2_A():\n",
    "    base_model = InceptionResNetV2(\n",
    "        include_top = False,\n",
    "        weights = \"imagenet\",\n",
    "        input_shape = (224, 224,3))\n",
    "    \n",
    "    for layer in base_model.layers:\n",
    "        layer.trainable = False\n",
    "    \n",
    "    new_model = tf.keras.models.Sequential([\n",
    "        base_model,\n",
    "        Flatten(),  \n",
    "        BatchNormalization(),\n",
    "        Dense(512),\n",
    "        LeakyReLU(alpha = 0.01),\n",
    "        BatchNormalization(),\n",
    "        Dense(256),\n",
    "        LeakyReLU(alpha = 0.01),\n",
    "        BatchNormalization(),\n",
    "        Dense(16),\n",
    "        LeakyReLU(alpha = 0.01),\n",
    "        Dropout(0.3),\n",
    "        Dense(1, activation='sigmoid')\n",
    "    ])\n",
    "    \n",
    "    return (new_model, apply_clahe_get_G_channel)"
   ]
  },
  {
   "cell_type": "code",
   "execution_count": 15,
   "metadata": {},
   "outputs": [],
   "source": [
    "def create_model_from_vgg16_G():\n",
    "    vgg16 = VGG16(include_top=False, weights='imagenet', input_shape=(224, 224,3))\n",
    "\n",
    "    for layer in vgg16.layers:\n",
    "        layer.trainable = False\n",
    "\n",
    "    new_model = tf.keras.models.Sequential([\n",
    "        vgg16,\n",
    "        Flatten(),    \n",
    "        BatchNormalization(),\n",
    "        Dense(4096, activation=\"sigmoid\"),\n",
    "        Dropout(0.2),\n",
    "        Dense(128, activation=\"sigmoid\"),\n",
    "        Dropout(0.2),\n",
    "        Dense(1, activation='sigmoid')\n",
    "    ])\n",
    "\n",
    "    return (new_model, convert_to_hsv)"
   ]
  },
  {
   "cell_type": "code",
   "execution_count": 16,
   "metadata": {},
   "outputs": [],
   "source": [
    "def create_model_from_VGG19_Z():\n",
    "    base_model = VGG19(\n",
    "        include_top = False,\n",
    "        weights = \"imagenet\",\n",
    "        input_shape = (224, 224,3))\n",
    "    \n",
    "    for layer in base_model.layers:\n",
    "        layer.trainable = False\n",
    "    \n",
    "    new_model = tf.keras.models.Sequential([\n",
    "        base_model,\n",
    "        Flatten(),  \n",
    "        BatchNormalization(),\n",
    "        Dense(512),\n",
    "        LeakyReLU(alpha = 0.01),\n",
    "        BatchNormalization(),\n",
    "        Dense(256),\n",
    "        LeakyReLU(alpha = 0.01),\n",
    "        BatchNormalization(),\n",
    "        Dense(16),\n",
    "        LeakyReLU(alpha = 0.01),\n",
    "        Dropout(0.3),\n",
    "        Dense(1, activation='sigmoid')\n",
    "    ])\n",
    "    \n",
    "    return (new_model, convert_to_hsv) "
   ]
  },
  {
   "cell_type": "code",
   "execution_count": 17,
   "metadata": {},
   "outputs": [],
   "source": [
    "def create_model_from_VGG19_ZG():\n",
    "    base_model = VGG19(\n",
    "        include_top = False,\n",
    "        weights = \"imagenet\",\n",
    "        input_shape = (224, 224,3))\n",
    "    \n",
    "    for layer in base_model.layers:\n",
    "        layer.trainable = False\n",
    "    \n",
    "    new_model = tf.keras.models.Sequential([\n",
    "        base_model,\n",
    "        Flatten(),  \n",
    "        BatchNormalization(),\n",
    "        Dense(512),\n",
    "        LeakyReLU(alpha = 0.01),\n",
    "        BatchNormalization(),\n",
    "        Dense(256),\n",
    "        LeakyReLU(alpha = 0.01),\n",
    "        BatchNormalization(),\n",
    "        Dense(16),\n",
    "        LeakyReLU(alpha = 0.01),\n",
    "        Dropout(0.3),\n",
    "        Dense(1, activation='sigmoid')\n",
    "    ])\n",
    "    \n",
    "    return (new_model, apply_clahe_get_G_channel) "
   ]
  },
  {
   "cell_type": "code",
   "execution_count": 18,
   "metadata": {},
   "outputs": [],
   "source": [
    "def create_model_from_VGG19_ZG_Bin():\n",
    "    base_model = VGG19(\n",
    "        include_top = False,\n",
    "        weights = \"imagenet\",\n",
    "        input_shape = (224, 224,3))\n",
    "    \n",
    "    for layer in base_model.layers:\n",
    "        layer.trainable = False\n",
    "    \n",
    "    new_model = tf.keras.models.Sequential([\n",
    "        base_model,\n",
    "        Flatten(),  \n",
    "        BatchNormalization(),\n",
    "        Dense(512),\n",
    "        LeakyReLU(alpha = 0.01),\n",
    "        BatchNormalization(),\n",
    "        Dense(256),\n",
    "        LeakyReLU(alpha = 0.01),\n",
    "        BatchNormalization(),\n",
    "        Dense(16),\n",
    "        LeakyReLU(alpha = 0.01),\n",
    "        Dropout(0.3),\n",
    "        Dense(1, activation='sigmoid')\n",
    "    ])\n",
    "    \n",
    "    return (new_model, apply_clahe_get_G_channel) "
   ]
  },
  {
   "cell_type": "code",
   "execution_count": 19,
   "metadata": {},
   "outputs": [],
   "source": [
    "def create_model_from_VGG19_ZClahe_Bin():\n",
    "    base_model = VGG19(\n",
    "        include_top = False,\n",
    "        weights = \"imagenet\",\n",
    "        input_shape = (224, 224,3))\n",
    "    \n",
    "    for layer in base_model.layers:\n",
    "        layer.trainable = False\n",
    "    \n",
    "    new_model = tf.keras.models.Sequential([\n",
    "        base_model,\n",
    "        Flatten(),  \n",
    "        BatchNormalization(),\n",
    "        Dense(512),\n",
    "        LeakyReLU(alpha = 0.01),\n",
    "        BatchNormalization(),\n",
    "        Dense(256),\n",
    "        LeakyReLU(alpha = 0.01),\n",
    "        BatchNormalization(),\n",
    "        Dense(16),\n",
    "        LeakyReLU(alpha = 0.01),\n",
    "        Dropout(0.3),\n",
    "        Dense(1, activation='sigmoid')\n",
    "    ])\n",
    "    \n",
    "    return (new_model, apply_clahe) "
   ]
  },
  {
   "cell_type": "code",
   "execution_count": 20,
   "metadata": {},
   "outputs": [],
   "source": [
    "def create_model_from_VGG19_YClahe_Bin():\n",
    "    base_model = VGG19(\n",
    "        include_top = False,\n",
    "        weights = \"imagenet\",\n",
    "        input_shape = (224, 224,3))\n",
    "    \n",
    "    for layer in base_model.layers:\n",
    "        layer.trainable = False\n",
    "    \n",
    "    new_model = tf.keras.models.Sequential([\n",
    "        base_model,\n",
    "        Flatten(),  \n",
    "        BatchNormalization(),\n",
    "        Dense(4092),\n",
    "        LeakyReLU(alpha = 0.01),\n",
    "        BatchNormalization(),\n",
    "        Dense(256),\n",
    "        LeakyReLU(alpha = 0.01),\n",
    "        BatchNormalization(),\n",
    "        Dense(16),\n",
    "        LeakyReLU(alpha = 0.01),\n",
    "        Dropout(0.3),\n",
    "        Dense(1, activation='sigmoid')\n",
    "    ])\n",
    "    \n",
    "    return (new_model, apply_clahe) "
   ]
  },
  {
   "cell_type": "raw",
   "metadata": {},
   "source": [
    "checkpointer = ModelCheckpoint(filepath = training_workspace_folder +'best_val_loss_weights.h5', verbose = 1, monitor = 'val_loss', mode = 'auto', save_best_only = True) #save at each epoch if the validation decreased\n",
    "checkpointer2 = ModelCheckpoint(filepath = training_workspace_folder +'best_accuracy_weights.h5', verbose = 1, monitor = 'accuracy', mode = 'auto', save_best_only = True) #save at each epoch if the validation decreased\n",
    "checkpointer3 = ModelCheckpoint(filepath = training_workspace_folder +'best_val_accuracy_weights.h5', verbose = 1, monitor = 'val_accuracy', mode = 'auto', save_best_only = True) #save at each epoch if the validation decreased"
   ]
  },
  {
   "cell_type": "raw",
   "metadata": {},
   "source": [
    "checkpointer = ModelCheckpoint(filepath = training_workspace_folder +'best_val_loss_weights.h5', verbose = 1, monitor = 'val_loss', mode = 'auto', save_best_only = True) #save at each epoch if the validation decreased\n",
    "checkpointer2 = ModelCheckpoint(filepath = training_workspace_folder +'best_sparse_categorical_accuracy_weights.h5', verbose = 1, monitor = 'sparse_categorical_accuracy', mode = 'auto', save_best_only = True) #save at each epoch if the validation decreased\n",
    "checkpointer3 = ModelCheckpoint(filepath = training_workspace_folder +'best_val_sparse_categorical_accuracy_weights.h5', verbose = 1, monitor = 'val_sparse_categorical_accuracy', mode = 'auto', save_best_only = True) #save at each epoch if the validation decreased"
   ]
  },
  {
   "cell_type": "raw",
   "metadata": {},
   "source": [
    "checkpointer = ModelCheckpoint(filepath = training_workspace_folder +'best_val_loss_weights.h5', verbose = 1, monitor = 'val_loss', mode = 'auto', save_best_only = True) #save at each epoch if the validation decreased\n",
    "checkpointer2 = ModelCheckpoint(filepath = training_workspace_folder +'best_binary_accuracy_weights.h5', verbose = 1, monitor = 'binary_accuracy', mode = 'auto', save_best_only = True) #save at each epoch if the validation decreased\n",
    "checkpointer3 = ModelCheckpoint(filepath = training_workspace_folder +'best_val_binary_accuracy_weights.h5', verbose = 1, monitor = 'val_binary_accuracy', mode = 'auto', save_best_only = True) #save at each epoch if the validation decreased"
   ]
  },
  {
   "cell_type": "raw",
   "metadata": {},
   "source": [
    "checkpointer = ModelCheckpoint(filepath = training_workspace_folder +'best_val_loss_weights.h5', verbose = 1, monitor = 'val_loss', mode = 'auto', save_best_only = True) #save at each epoch if the validation decreased\n",
    "checkpointer2 = ModelCheckpoint(filepath = training_workspace_folder +'best_binary_accuracy_weights.h5', verbose = 1, monitor = 'auc', mode = 'auto', save_best_only = True) #save at each epoch if the validation decreased\n",
    "checkpointer3 = ModelCheckpoint(filepath = training_workspace_folder +'best_val_binary_accuracy_weights.h5', verbose = 1, monitor = 'val_binary_accuracy', mode = 'auto', save_best_only = True) #save at each epoch if the validation decreased"
   ]
  },
  {
   "cell_type": "code",
   "execution_count": 192,
   "metadata": {},
   "outputs": [],
   "source": [
    "checkpointer = ModelCheckpoint(filepath = training_workspace_folder +'best_val_loss_weights.h5', verbose = 1, monitor = 'val_loss', mode = 'auto', save_best_only = True) #save at each epoch if the validation decreased\n",
    "checkpointer2 = ModelCheckpoint(filepath = training_workspace_folder +'best_accuracy_weights.h5', verbose = 1, monitor = 'accuracy', mode = 'auto', save_best_only = True) #save at each epoch if the validation decreased\n",
    "checkpointer3 = ModelCheckpoint(filepath = training_workspace_folder +'best_val_accuracy_weights.h5', verbose = 1, monitor = 'val_accuracy', mode = 'auto', save_best_only = True) #save at each epoch if the validation decreased"
   ]
  },
  {
   "cell_type": "code",
   "execution_count": 21,
   "metadata": {},
   "outputs": [],
   "source": [
    "(model, selected_preprocessing_function) = create_model_from_VGG19_YClahe_Bin()"
   ]
  },
  {
   "cell_type": "code",
   "execution_count": 22,
   "metadata": {},
   "outputs": [
    {
     "data": {
      "text/plain": [
       "<function __main__.apply_clahe(image)>"
      ]
     },
     "execution_count": 22,
     "metadata": {},
     "output_type": "execute_result"
    }
   ],
   "source": [
    "selected_preprocessing_function"
   ]
  },
  {
   "cell_type": "code",
   "execution_count": 23,
   "metadata": {},
   "outputs": [
    {
     "name": "stdout",
     "output_type": "stream",
     "text": [
      "Found 1560 images belonging to 2 classes.\n"
     ]
    }
   ],
   "source": [
    "train_generator = ImageDataGenerator(\n",
    "#    zoom_range=[0.8, 1.2],\n",
    "    rotation_range = 90.0,\n",
    "#    width_shift_range = 0.1,\n",
    "#    height_shift_range = 0.1,\n",
    "    horizontal_flip = True,\n",
    "    vertical_flip = True,\n",
    "    preprocessing_function = selected_preprocessing_function\n",
    ").flow_from_directory(\n",
    "    directory = data_base_train_folder,\n",
    "    class_mode='binary',\n",
    "    target_size = (224,224),\n",
    "    classes = class_names,\n",
    "    batch_size = 32)"
   ]
  },
  {
   "cell_type": "code",
   "execution_count": 24,
   "metadata": {},
   "outputs": [
    {
     "name": "stdout",
     "output_type": "stream",
     "text": [
      "Found 529 images belonging to 2 classes.\n"
     ]
    }
   ],
   "source": [
    "validation_generator = ImageDataGenerator(\n",
    "#    zoom_range=[0.8, 1.2],\n",
    "    rotation_range = 90.0,\n",
    "#    width_shift_range = 0.1,\n",
    "#    height_shift_range = 0.1,\n",
    "    horizontal_flip = True,\n",
    "    vertical_flip = True,\n",
    "    preprocessing_function = selected_preprocessing_function\n",
    ").flow_from_directory(\n",
    "    directory = data_base_valid_folder,\n",
    "    class_mode = 'binary',\n",
    "    target_size = (224,224),\n",
    "    classes = class_names,\n",
    "    batch_size = 32)"
   ]
  },
  {
   "cell_type": "code",
   "execution_count": 25,
   "metadata": {},
   "outputs": [
    {
     "name": "stdout",
     "output_type": "stream",
     "text": [
      "Found 511 images belonging to 2 classes.\n"
     ]
    }
   ],
   "source": [
    "test_generator = ImageDataGenerator(\n",
    "    preprocessing_function = selected_preprocessing_function\n",
    ").flow_from_directory(\n",
    "    directory = data_base_test_folder,\n",
    "    class_mode = 'binary',\n",
    "    target_size = (224,224),\n",
    "    classes = class_names,\n",
    "    batch_size = 32)"
   ]
  },
  {
   "cell_type": "code",
   "execution_count": 26,
   "metadata": {},
   "outputs": [],
   "source": [
    "def scheduler_I(epoch, lr):\n",
    "    if epoch < 10:\n",
    "        return 0.001\n",
    "    \n",
    "    if epoch < 20:\n",
    "        return 0.0005\n",
    "    \n",
    "    if epoch < 50:\n",
    "        return 0.0001\n",
    "    \n",
    "    return 0.00005"
   ]
  },
  {
   "cell_type": "code",
   "execution_count": 27,
   "metadata": {},
   "outputs": [],
   "source": [
    "def scheduler_II(epoch, lr):\n",
    "    if epoch < 10:\n",
    "        return 0.001\n",
    "    \n",
    "    if epoch < 20:\n",
    "        return 0.0001\n",
    "    \n",
    "    if epoch < 50:\n",
    "        return 0.00001\n",
    "    \n",
    "    return 0.000005"
   ]
  },
  {
   "cell_type": "code",
   "execution_count": 200,
   "metadata": {},
   "outputs": [],
   "source": [
    "learning_rate_scheduler_callback = LearningRateScheduler(scheduler_I)"
   ]
  },
  {
   "cell_type": "code",
   "execution_count": 201,
   "metadata": {},
   "outputs": [],
   "source": [
    "csv_logger = CSVLogger(training_workspace_folder + 'training.log')"
   ]
  },
  {
   "cell_type": "raw",
   "metadata": {},
   "source": [
    "sparse_categorical_crossentropy = tf.keras.losses.SparseCategoricalCrossentropy(\n",
    "    from_logits=False,\n",
    "#    ignore_class=None,\n",
    "    reduction=\"auto\",\n",
    "    name=\"sparse_categorical_crossentropy\",\n",
    ")"
   ]
  },
  {
   "cell_type": "raw",
   "metadata": {},
   "source": [
    "selected_loss_function = tf.keras.losses.SparseCategoricalCrossentropy()\n",
    "selected_metrics = tf.keras.metrics.SparseCategoricalAccuracy()"
   ]
  },
  {
   "cell_type": "code",
   "execution_count": 29,
   "metadata": {},
   "outputs": [],
   "source": [
    "class_weight = {0: 2400, 1: 180}"
   ]
  },
  {
   "cell_type": "raw",
   "metadata": {},
   "source": [
    "one_base = 2400 * 2400\n",
    "zero_base = 180 * 180"
   ]
  },
  {
   "cell_type": "code",
   "execution_count": 30,
   "metadata": {},
   "outputs": [],
   "source": [
    "one_base = 2400\n",
    "zero_base = 180"
   ]
  },
  {
   "cell_type": "code",
   "execution_count": 31,
   "metadata": {},
   "outputs": [],
   "source": [
    "one_weight = one_base / (one_base + zero_base)\n",
    "zero_weight = 1 - one_weight"
   ]
  },
  {
   "cell_type": "code",
   "execution_count": 32,
   "metadata": {},
   "outputs": [],
   "source": [
    "def weighted_binary_crossentropy(y_true, y_pred):\n",
    "\n",
    "    # Original binary crossentropy (see losses.py):\n",
    "    # K.mean(K.binary_crossentropy(y_true, y_pred), axis=-1)\n",
    "\n",
    "    # Calculate the binary crossentropy\n",
    "    b_ce = tf.keras.losses.binary_crossentropy(y_true, y_pred)\n",
    "\n",
    "    # Apply the weights\n",
    "    weight_vector = y_true * one_weight + (1. - y_true) * zero_weight\n",
    "    weighted_b_ce = weight_vector * b_ce\n",
    "\n",
    "    # Return the mean error\n",
    "    return keras.backend.mean(weighted_b_ce)"
   ]
  },
  {
   "cell_type": "raw",
   "metadata": {},
   "source": [
    "model.compile(optimizer = 'adam', loss = weighted_binary_crossentropy, metrics = [tf.keras.metrics.AUC()])\n",
    "\n",
    "json_string = model.to_json()\n",
    "open(training_workspace_folder + 'TL_model_architecture.json', 'w').write(json_string)\n",
    "history = model.fit(\n",
    "    train_generator,\n",
    "    validation_data = validation_generator,\n",
    "    epochs = 100,\n",
    "    callbacks = [checkpointer, checkpointer2, checkpointer3, learning_rate_scheduler_callback, csv_logger]\n",
    ")"
   ]
  },
  {
   "cell_type": "code",
   "execution_count": 206,
   "metadata": {},
   "outputs": [
    {
     "name": "stdout",
     "output_type": "stream",
     "text": [
      "Epoch 1/100\n",
      "49/49 [==============================] - ETA: 0s - loss: 0.0640 - precision_6: 0.1111 - recall_6: 0.1818 - specificity_at_sensitivity_6: 0.5917 - sensitivity_at_specificity_6: 0.5909 - accuracy: 0.8397\n",
      "Epoch 1: val_loss improved from inf to 0.10027, saving model to d:/Dane/ImageTagger/RetinopathyNonProfilerativeRadioButtons/Binary/workspace\\best_val_loss_weights.h5\n",
      "\n",
      "Epoch 1: accuracy improved from -inf to 0.83974, saving model to d:/Dane/ImageTagger/RetinopathyNonProfilerativeRadioButtons/Binary/workspace\\best_accuracy_weights.h5\n",
      "\n",
      "Epoch 1: val_accuracy improved from -inf to 0.81853, saving model to d:/Dane/ImageTagger/RetinopathyNonProfilerativeRadioButtons/Binary/workspace\\best_val_accuracy_weights.h5\n",
      "49/49 [==============================] - 202s 4s/step - loss: 0.0640 - precision_6: 0.1111 - recall_6: 0.1818 - specificity_at_sensitivity_6: 0.5917 - sensitivity_at_specificity_6: 0.5909 - accuracy: 0.8397 - val_loss: 0.1003 - val_precision_6: 0.1848 - val_recall_6: 0.4474 - val_specificity_at_sensitivity_6: 0.8371 - val_sensitivity_at_specificity_6: 0.8421 - val_accuracy: 0.8185 - lr: 0.0010\n",
      "Epoch 2/100\n",
      "49/49 [==============================] - ETA: 0s - loss: 0.0412 - precision_6: 0.2900 - recall_6: 0.2636 - specificity_at_sensitivity_6: 0.8069 - sensitivity_at_specificity_6: 0.8273 - accuracy: 0.9026\n",
      "Epoch 2: val_loss improved from 0.10027 to 0.05060, saving model to d:/Dane/ImageTagger/RetinopathyNonProfilerativeRadioButtons/Binary/workspace\\best_val_loss_weights.h5\n",
      "\n",
      "Epoch 2: accuracy improved from 0.83974 to 0.90256, saving model to d:/Dane/ImageTagger/RetinopathyNonProfilerativeRadioButtons/Binary/workspace\\best_accuracy_weights.h5\n",
      "\n",
      "Epoch 2: val_accuracy improved from 0.81853 to 0.89981, saving model to d:/Dane/ImageTagger/RetinopathyNonProfilerativeRadioButtons/Binary/workspace\\best_val_accuracy_weights.h5\n",
      "49/49 [==============================] - 192s 4s/step - loss: 0.0412 - precision_6: 0.2900 - recall_6: 0.2636 - specificity_at_sensitivity_6: 0.8069 - sensitivity_at_specificity_6: 0.8273 - accuracy: 0.9026 - val_loss: 0.0506 - val_precision_6: 0.3077 - val_recall_6: 0.3158 - val_specificity_at_sensitivity_6: 0.8859 - val_sensitivity_at_specificity_6: 0.7895 - val_accuracy: 0.8998 - lr: 0.0010\n",
      "Epoch 3/100\n",
      "49/49 [==============================] - ETA: 0s - loss: 0.0358 - precision_6: 0.3258 - recall_6: 0.2636 - specificity_at_sensitivity_6: 0.8710 - sensitivity_at_specificity_6: 0.9091 - accuracy: 0.9096\n",
      "Epoch 3: val_loss improved from 0.05060 to 0.04130, saving model to d:/Dane/ImageTagger/RetinopathyNonProfilerativeRadioButtons/Binary/workspace\\best_val_loss_weights.h5\n",
      "\n",
      "Epoch 3: accuracy improved from 0.90256 to 0.90962, saving model to d:/Dane/ImageTagger/RetinopathyNonProfilerativeRadioButtons/Binary/workspace\\best_accuracy_weights.h5\n",
      "\n",
      "Epoch 3: val_accuracy improved from 0.89981 to 0.92439, saving model to d:/Dane/ImageTagger/RetinopathyNonProfilerativeRadioButtons/Binary/workspace\\best_val_accuracy_weights.h5\n",
      "49/49 [==============================] - 194s 4s/step - loss: 0.0358 - precision_6: 0.3258 - recall_6: 0.2636 - specificity_at_sensitivity_6: 0.8710 - sensitivity_at_specificity_6: 0.9091 - accuracy: 0.9096 - val_loss: 0.0413 - val_precision_6: 0.4286 - val_recall_6: 0.1579 - val_specificity_at_sensitivity_6: 0.8289 - val_sensitivity_at_specificity_6: 0.7368 - val_accuracy: 0.9244 - lr: 0.0010\n",
      "Epoch 4/100\n",
      "49/49 [==============================] - ETA: 0s - loss: 0.0370 - precision_6: 0.3636 - recall_6: 0.2909 - specificity_at_sensitivity_6: 0.8910 - sensitivity_at_specificity_6: 0.8636 - accuracy: 0.9141\n",
      "Epoch 4: val_loss improved from 0.04130 to 0.03871, saving model to d:/Dane/ImageTagger/RetinopathyNonProfilerativeRadioButtons/Binary/workspace\\best_val_loss_weights.h5\n",
      "\n",
      "Epoch 4: accuracy improved from 0.90962 to 0.91410, saving model to d:/Dane/ImageTagger/RetinopathyNonProfilerativeRadioButtons/Binary/workspace\\best_accuracy_weights.h5\n",
      "\n",
      "Epoch 4: val_accuracy did not improve from 0.92439\n",
      "49/49 [==============================] - 186s 4s/step - loss: 0.0370 - precision_6: 0.3636 - recall_6: 0.2909 - specificity_at_sensitivity_6: 0.8910 - sensitivity_at_specificity_6: 0.8636 - accuracy: 0.9141 - val_loss: 0.0387 - val_precision_6: 0.3095 - val_recall_6: 0.3421 - val_specificity_at_sensitivity_6: 0.8493 - val_sensitivity_at_specificity_6: 0.8947 - val_accuracy: 0.8979 - lr: 0.0010\n",
      "Epoch 5/100\n",
      "49/49 [==============================] - ETA: 0s - loss: 0.0335 - precision_6: 0.4079 - recall_6: 0.2818 - specificity_at_sensitivity_6: 0.8993 - sensitivity_at_specificity_6: 0.8545 - accuracy: 0.9205\n",
      "Epoch 5: val_loss did not improve from 0.03871\n",
      "\n",
      "Epoch 5: accuracy improved from 0.91410 to 0.92051, saving model to d:/Dane/ImageTagger/RetinopathyNonProfilerativeRadioButtons/Binary/workspace\\best_accuracy_weights.h5\n",
      "\n",
      "Epoch 5: val_accuracy did not improve from 0.92439\n",
      "49/49 [==============================] - 182s 4s/step - loss: 0.0335 - precision_6: 0.4079 - recall_6: 0.2818 - specificity_at_sensitivity_6: 0.8993 - sensitivity_at_specificity_6: 0.8545 - accuracy: 0.9205 - val_loss: 0.0434 - val_precision_6: 0.4483 - val_recall_6: 0.3421 - val_specificity_at_sensitivity_6: 0.8839 - val_sensitivity_at_specificity_6: 0.7895 - val_accuracy: 0.9225 - lr: 0.0010\n",
      "Epoch 6/100\n",
      "49/49 [==============================] - ETA: 0s - loss: 0.0302 - precision_6: 0.4270 - recall_6: 0.3455 - specificity_at_sensitivity_6: 0.9372 - sensitivity_at_specificity_6: 0.8818 - accuracy: 0.9212\n",
      "Epoch 6: val_loss improved from 0.03871 to 0.03602, saving model to d:/Dane/ImageTagger/RetinopathyNonProfilerativeRadioButtons/Binary/workspace\\best_val_loss_weights.h5\n",
      "\n",
      "Epoch 6: accuracy improved from 0.92051 to 0.92115, saving model to d:/Dane/ImageTagger/RetinopathyNonProfilerativeRadioButtons/Binary/workspace\\best_accuracy_weights.h5\n",
      "\n",
      "Epoch 6: val_accuracy improved from 0.92439 to 0.93006, saving model to d:/Dane/ImageTagger/RetinopathyNonProfilerativeRadioButtons/Binary/workspace\\best_val_accuracy_weights.h5\n",
      "49/49 [==============================] - 194s 4s/step - loss: 0.0302 - precision_6: 0.4270 - recall_6: 0.3455 - specificity_at_sensitivity_6: 0.9372 - sensitivity_at_specificity_6: 0.8818 - accuracy: 0.9212 - val_loss: 0.0360 - val_precision_6: 0.5556 - val_recall_6: 0.1316 - val_specificity_at_sensitivity_6: 0.8758 - val_sensitivity_at_specificity_6: 0.8158 - val_accuracy: 0.9301 - lr: 0.0010\n",
      "Epoch 7/100\n",
      "49/49 [==============================] - ETA: 0s - loss: 0.0301 - precision_6: 0.4444 - recall_6: 0.3273 - specificity_at_sensitivity_6: 0.9248 - sensitivity_at_specificity_6: 0.9091 - accuracy: 0.9237\n",
      "Epoch 7: val_loss did not improve from 0.03602\n",
      "\n",
      "Epoch 7: accuracy improved from 0.92115 to 0.92372, saving model to d:/Dane/ImageTagger/RetinopathyNonProfilerativeRadioButtons/Binary/workspace\\best_accuracy_weights.h5\n",
      "\n",
      "Epoch 7: val_accuracy did not improve from 0.93006\n",
      "49/49 [==============================] - 181s 4s/step - loss: 0.0301 - precision_6: 0.4444 - recall_6: 0.3273 - specificity_at_sensitivity_6: 0.9248 - sensitivity_at_specificity_6: 0.9091 - accuracy: 0.9237 - val_loss: 0.0387 - val_precision_6: 0.4000 - val_recall_6: 0.2632 - val_specificity_at_sensitivity_6: 0.9043 - val_sensitivity_at_specificity_6: 0.8158 - val_accuracy: 0.9187 - lr: 0.0010\n",
      "Epoch 8/100\n",
      "49/49 [==============================] - ETA: 0s - loss: 0.0285 - precision_6: 0.4872 - recall_6: 0.3455 - specificity_at_sensitivity_6: 0.9407 - sensitivity_at_specificity_6: 0.8909 - accuracy: 0.9282\n",
      "Epoch 8: val_loss improved from 0.03602 to 0.03283, saving model to d:/Dane/ImageTagger/RetinopathyNonProfilerativeRadioButtons/Binary/workspace\\best_val_loss_weights.h5\n",
      "\n",
      "Epoch 8: accuracy improved from 0.92372 to 0.92821, saving model to d:/Dane/ImageTagger/RetinopathyNonProfilerativeRadioButtons/Binary/workspace\\best_accuracy_weights.h5\n",
      "\n",
      "Epoch 8: val_accuracy did not improve from 0.93006\n",
      "49/49 [==============================] - 189s 4s/step - loss: 0.0285 - precision_6: 0.4872 - recall_6: 0.3455 - specificity_at_sensitivity_6: 0.9407 - sensitivity_at_specificity_6: 0.8909 - accuracy: 0.9282 - val_loss: 0.0328 - val_precision_6: 0.4615 - val_recall_6: 0.3158 - val_specificity_at_sensitivity_6: 0.8880 - val_sensitivity_at_specificity_6: 0.8947 - val_accuracy: 0.9244 - lr: 0.0010\n"
     ]
    },
    {
     "name": "stdout",
     "output_type": "stream",
     "text": [
      "Epoch 9/100\n",
      "49/49 [==============================] - ETA: 0s - loss: 0.0272 - precision_6: 0.5233 - recall_6: 0.4091 - specificity_at_sensitivity_6: 0.9552 - sensitivity_at_specificity_6: 0.9273 - accuracy: 0.9321\n",
      "Epoch 9: val_loss did not improve from 0.03283\n",
      "\n",
      "Epoch 9: accuracy improved from 0.92821 to 0.93205, saving model to d:/Dane/ImageTagger/RetinopathyNonProfilerativeRadioButtons/Binary/workspace\\best_accuracy_weights.h5\n",
      "\n",
      "Epoch 9: val_accuracy did not improve from 0.93006\n",
      "49/49 [==============================] - 182s 4s/step - loss: 0.0272 - precision_6: 0.5233 - recall_6: 0.4091 - specificity_at_sensitivity_6: 0.9552 - sensitivity_at_specificity_6: 0.9273 - accuracy: 0.9321 - val_loss: 0.0374 - val_precision_6: 0.3810 - val_recall_6: 0.2105 - val_specificity_at_sensitivity_6: 0.7984 - val_sensitivity_at_specificity_6: 0.8158 - val_accuracy: 0.9187 - lr: 0.0010\n",
      "Epoch 10/100\n",
      "49/49 [==============================] - ETA: 0s - loss: 0.0260 - precision_6: 0.6136 - recall_6: 0.4909 - specificity_at_sensitivity_6: 0.9648 - sensitivity_at_specificity_6: 0.9273 - accuracy: 0.9423\n",
      "Epoch 10: val_loss did not improve from 0.03283\n",
      "\n",
      "Epoch 10: accuracy improved from 0.93205 to 0.94231, saving model to d:/Dane/ImageTagger/RetinopathyNonProfilerativeRadioButtons/Binary/workspace\\best_accuracy_weights.h5\n",
      "\n",
      "Epoch 10: val_accuracy did not improve from 0.93006\n",
      "49/49 [==============================] - 182s 4s/step - loss: 0.0260 - precision_6: 0.6136 - recall_6: 0.4909 - specificity_at_sensitivity_6: 0.9648 - sensitivity_at_specificity_6: 0.9273 - accuracy: 0.9423 - val_loss: 0.0339 - val_precision_6: 0.3548 - val_recall_6: 0.2895 - val_specificity_at_sensitivity_6: 0.9328 - val_sensitivity_at_specificity_6: 0.8421 - val_accuracy: 0.9112 - lr: 0.0010\n",
      "Epoch 11/100\n",
      "49/49 [==============================] - ETA: 0s - loss: 0.0252 - precision_6: 0.5957 - recall_6: 0.5091 - specificity_at_sensitivity_6: 0.9738 - sensitivity_at_specificity_6: 0.9636 - accuracy: 0.9410\n",
      "Epoch 11: val_loss did not improve from 0.03283\n",
      "\n",
      "Epoch 11: accuracy did not improve from 0.94231\n",
      "\n",
      "Epoch 11: val_accuracy did not improve from 0.93006\n",
      "49/49 [==============================] - 176s 4s/step - loss: 0.0252 - precision_6: 0.5957 - recall_6: 0.5091 - specificity_at_sensitivity_6: 0.9738 - sensitivity_at_specificity_6: 0.9636 - accuracy: 0.9410 - val_loss: 0.0360 - val_precision_6: 0.3684 - val_recall_6: 0.1842 - val_specificity_at_sensitivity_6: 0.9348 - val_sensitivity_at_specificity_6: 0.8158 - val_accuracy: 0.9187 - lr: 5.0000e-04\n",
      "Epoch 12/100\n",
      "49/49 [==============================] - ETA: 0s - loss: 0.0251 - precision_6: 0.5616 - recall_6: 0.3727 - specificity_at_sensitivity_6: 0.9448 - sensitivity_at_specificity_6: 0.9818 - accuracy: 0.9353\n",
      "Epoch 12: val_loss did not improve from 0.03283\n",
      "\n",
      "Epoch 12: accuracy did not improve from 0.94231\n",
      "\n",
      "Epoch 12: val_accuracy did not improve from 0.93006\n",
      "49/49 [==============================] - 177s 4s/step - loss: 0.0251 - precision_6: 0.5616 - recall_6: 0.3727 - specificity_at_sensitivity_6: 0.9448 - sensitivity_at_specificity_6: 0.9818 - accuracy: 0.9353 - val_loss: 0.0332 - val_precision_6: 0.3824 - val_recall_6: 0.3421 - val_specificity_at_sensitivity_6: 0.9063 - val_sensitivity_at_specificity_6: 0.9474 - val_accuracy: 0.9130 - lr: 5.0000e-04\n",
      "Epoch 13/100\n",
      "49/49 [==============================] - ETA: 0s - loss: 0.0250 - precision_6: 0.5833 - recall_6: 0.5091 - specificity_at_sensitivity_6: 0.9724 - sensitivity_at_specificity_6: 0.9545 - accuracy: 0.9397\n",
      "Epoch 13: val_loss did not improve from 0.03283\n",
      "\n",
      "Epoch 13: accuracy did not improve from 0.94231\n",
      "\n",
      "Epoch 13: val_accuracy did not improve from 0.93006\n",
      "49/49 [==============================] - 176s 4s/step - loss: 0.0250 - precision_6: 0.5833 - recall_6: 0.5091 - specificity_at_sensitivity_6: 0.9724 - sensitivity_at_specificity_6: 0.9545 - accuracy: 0.9397 - val_loss: 0.0344 - val_precision_6: 0.3824 - val_recall_6: 0.3421 - val_specificity_at_sensitivity_6: 0.9084 - val_sensitivity_at_specificity_6: 0.9474 - val_accuracy: 0.9130 - lr: 5.0000e-04\n",
      "Epoch 14/100\n",
      "49/49 [==============================] - ETA: 0s - loss: 0.0216 - precision_6: 0.6162 - recall_6: 0.5545 - specificity_at_sensitivity_6: 0.9807 - sensitivity_at_specificity_6: 0.9818 - accuracy: 0.9442\n",
      "Epoch 14: val_loss did not improve from 0.03283\n",
      "\n",
      "Epoch 14: accuracy improved from 0.94231 to 0.94423, saving model to d:/Dane/ImageTagger/RetinopathyNonProfilerativeRadioButtons/Binary/workspace\\best_accuracy_weights.h5\n",
      "\n",
      "Epoch 14: val_accuracy did not improve from 0.93006\n",
      "49/49 [==============================] - 182s 4s/step - loss: 0.0216 - precision_6: 0.6162 - recall_6: 0.5545 - specificity_at_sensitivity_6: 0.9807 - sensitivity_at_specificity_6: 0.9818 - accuracy: 0.9442 - val_loss: 0.0365 - val_precision_6: 0.4483 - val_recall_6: 0.3421 - val_specificity_at_sensitivity_6: 0.8859 - val_sensitivity_at_specificity_6: 0.8684 - val_accuracy: 0.9225 - lr: 5.0000e-04\n",
      "Epoch 15/100\n",
      "49/49 [==============================] - ETA: 0s - loss: 0.0216 - precision_6: 0.5930 - recall_6: 0.4636 - specificity_at_sensitivity_6: 0.9724 - sensitivity_at_specificity_6: 0.9727 - accuracy: 0.9397\n",
      "Epoch 15: val_loss did not improve from 0.03283\n",
      "\n",
      "Epoch 15: accuracy did not improve from 0.94423\n",
      "\n",
      "Epoch 15: val_accuracy did not improve from 0.93006\n",
      "49/49 [==============================] - 176s 4s/step - loss: 0.0216 - precision_6: 0.5930 - recall_6: 0.4636 - specificity_at_sensitivity_6: 0.9724 - sensitivity_at_specificity_6: 0.9727 - accuracy: 0.9397 - val_loss: 0.0360 - val_precision_6: 0.4211 - val_recall_6: 0.2105 - val_specificity_at_sensitivity_6: 0.9104 - val_sensitivity_at_specificity_6: 0.8684 - val_accuracy: 0.9225 - lr: 5.0000e-04\n",
      "Epoch 16/100\n",
      "49/49 [==============================] - ETA: 0s - loss: 0.0268 - precision_6: 0.5385 - recall_6: 0.4455 - specificity_at_sensitivity_6: 0.9600 - sensitivity_at_specificity_6: 0.9545 - accuracy: 0.9340\n",
      "Epoch 16: val_loss improved from 0.03283 to 0.03163, saving model to d:/Dane/ImageTagger/RetinopathyNonProfilerativeRadioButtons/Binary/workspace\\best_val_loss_weights.h5\n",
      "\n",
      "Epoch 16: accuracy did not improve from 0.94423\n",
      "\n",
      "Epoch 16: val_accuracy did not improve from 0.93006\n",
      "49/49 [==============================] - 182s 4s/step - loss: 0.0268 - precision_6: 0.5385 - recall_6: 0.4455 - specificity_at_sensitivity_6: 0.9600 - sensitivity_at_specificity_6: 0.9545 - accuracy: 0.9340 - val_loss: 0.0316 - val_precision_6: 0.3448 - val_recall_6: 0.2632 - val_specificity_at_sensitivity_6: 0.9165 - val_sensitivity_at_specificity_6: 0.9211 - val_accuracy: 0.9112 - lr: 5.0000e-04\n",
      "Epoch 17/100\n",
      "49/49 [==============================] - ETA: 0s - loss: 0.0204 - precision_6: 0.6279 - recall_6: 0.4909 - specificity_at_sensitivity_6: 0.9772 - sensitivity_at_specificity_6: 1.0000 - accuracy: 0.9436\n",
      "Epoch 17: val_loss did not improve from 0.03163\n",
      "\n",
      "Epoch 17: accuracy did not improve from 0.94423\n",
      "\n",
      "Epoch 17: val_accuracy improved from 0.93006 to 0.93195, saving model to d:/Dane/ImageTagger/RetinopathyNonProfilerativeRadioButtons/Binary/workspace\\best_val_accuracy_weights.h5\n",
      "49/49 [==============================] - 180s 4s/step - loss: 0.0204 - precision_6: 0.6279 - recall_6: 0.4909 - specificity_at_sensitivity_6: 0.9772 - sensitivity_at_specificity_6: 1.0000 - accuracy: 0.9436 - val_loss: 0.0360 - val_precision_6: 0.5417 - val_recall_6: 0.3421 - val_specificity_at_sensitivity_6: 0.9328 - val_sensitivity_at_specificity_6: 0.7895 - val_accuracy: 0.9319 - lr: 5.0000e-04\n",
      "Epoch 18/100\n",
      "49/49 [==============================] - ETA: 0s - loss: 0.0217 - precision_6: 0.6222 - recall_6: 0.5091 - specificity_at_sensitivity_6: 0.9779 - sensitivity_at_specificity_6: 0.9727 - accuracy: 0.9436\n",
      "Epoch 18: val_loss did not improve from 0.03163\n",
      "\n",
      "Epoch 18: accuracy did not improve from 0.94423\n",
      "\n",
      "Epoch 18: val_accuracy did not improve from 0.93195\n",
      "49/49 [==============================] - 175s 4s/step - loss: 0.0217 - precision_6: 0.6222 - recall_6: 0.5091 - specificity_at_sensitivity_6: 0.9779 - sensitivity_at_specificity_6: 0.9727 - accuracy: 0.9436 - val_loss: 0.0324 - val_precision_6: 0.3846 - val_recall_6: 0.2632 - val_specificity_at_sensitivity_6: 0.9063 - val_sensitivity_at_specificity_6: 0.8684 - val_accuracy: 0.9168 - lr: 5.0000e-04\n"
     ]
    },
    {
     "name": "stdout",
     "output_type": "stream",
     "text": [
      "Epoch 19/100\n",
      "49/49 [==============================] - ETA: 0s - loss: 0.0208 - precision_6: 0.6316 - recall_6: 0.4364 - specificity_at_sensitivity_6: 0.9738 - sensitivity_at_specificity_6: 0.9636 - accuracy: 0.9423\n",
      "Epoch 19: val_loss improved from 0.03163 to 0.02917, saving model to d:/Dane/ImageTagger/RetinopathyNonProfilerativeRadioButtons/Binary/workspace\\best_val_loss_weights.h5\n",
      "\n",
      "Epoch 19: accuracy did not improve from 0.94423\n",
      "\n",
      "Epoch 19: val_accuracy did not improve from 0.93195\n",
      "49/49 [==============================] - 180s 4s/step - loss: 0.0208 - precision_6: 0.6316 - recall_6: 0.4364 - specificity_at_sensitivity_6: 0.9738 - sensitivity_at_specificity_6: 0.9636 - accuracy: 0.9423 - val_loss: 0.0292 - val_precision_6: 0.5000 - val_recall_6: 0.3684 - val_specificity_at_sensitivity_6: 0.9287 - val_sensitivity_at_specificity_6: 0.9211 - val_accuracy: 0.9282 - lr: 5.0000e-04\n",
      "Epoch 20/100\n",
      "49/49 [==============================] - ETA: 0s - loss: 0.0224 - precision_6: 0.5794 - recall_6: 0.5636 - specificity_at_sensitivity_6: 0.9793 - sensitivity_at_specificity_6: 0.9727 - accuracy: 0.9404\n",
      "Epoch 20: val_loss did not improve from 0.02917\n",
      "\n",
      "Epoch 20: accuracy did not improve from 0.94423\n",
      "\n",
      "Epoch 20: val_accuracy did not improve from 0.93195\n",
      "49/49 [==============================] - 176s 4s/step - loss: 0.0224 - precision_6: 0.5794 - recall_6: 0.5636 - specificity_at_sensitivity_6: 0.9793 - sensitivity_at_specificity_6: 0.9727 - accuracy: 0.9404 - val_loss: 0.0458 - val_precision_6: 0.5417 - val_recall_6: 0.3421 - val_specificity_at_sensitivity_6: 0.9063 - val_sensitivity_at_specificity_6: 0.8158 - val_accuracy: 0.9319 - lr: 5.0000e-04\n",
      "Epoch 21/100\n",
      "49/49 [==============================] - ETA: 0s - loss: 0.0233 - precision_6: 0.6875 - recall_6: 0.5000 - specificity_at_sensitivity_6: 0.9855 - sensitivity_at_specificity_6: 0.9727 - accuracy: 0.9487\n",
      "Epoch 21: val_loss did not improve from 0.02917\n",
      "\n",
      "Epoch 21: accuracy improved from 0.94423 to 0.94872, saving model to d:/Dane/ImageTagger/RetinopathyNonProfilerativeRadioButtons/Binary/workspace\\best_accuracy_weights.h5\n",
      "\n",
      "Epoch 21: val_accuracy did not improve from 0.93195\n",
      "49/49 [==============================] - 180s 4s/step - loss: 0.0233 - precision_6: 0.6875 - recall_6: 0.5000 - specificity_at_sensitivity_6: 0.9855 - sensitivity_at_specificity_6: 0.9727 - accuracy: 0.9487 - val_loss: 0.0351 - val_precision_6: 0.3571 - val_recall_6: 0.2632 - val_specificity_at_sensitivity_6: 0.9084 - val_sensitivity_at_specificity_6: 0.8684 - val_accuracy: 0.9130 - lr: 1.0000e-04\n",
      "Epoch 22/100\n",
      "49/49 [==============================] - ETA: 0s - loss: 0.0180 - precision_6: 0.6593 - recall_6: 0.5455 - specificity_at_sensitivity_6: 0.9807 - sensitivity_at_specificity_6: 0.9909 - accuracy: 0.9481\n",
      "Epoch 22: val_loss did not improve from 0.02917\n",
      "\n",
      "Epoch 22: accuracy did not improve from 0.94872\n",
      "\n",
      "Epoch 22: val_accuracy did not improve from 0.93195\n",
      "49/49 [==============================] - 176s 4s/step - loss: 0.0180 - precision_6: 0.6593 - recall_6: 0.5455 - specificity_at_sensitivity_6: 0.9807 - sensitivity_at_specificity_6: 0.9909 - accuracy: 0.9481 - val_loss: 0.0346 - val_precision_6: 0.3871 - val_recall_6: 0.3158 - val_specificity_at_sensitivity_6: 0.9308 - val_sensitivity_at_specificity_6: 0.7632 - val_accuracy: 0.9149 - lr: 1.0000e-04\n",
      "Epoch 23/100\n",
      "49/49 [==============================] - ETA: 0s - loss: 0.0190 - precision_6: 0.7222 - recall_6: 0.5909 - specificity_at_sensitivity_6: 0.9910 - sensitivity_at_specificity_6: 0.9727 - accuracy: 0.9551\n",
      "Epoch 23: val_loss did not improve from 0.02917\n",
      "\n",
      "Epoch 23: accuracy improved from 0.94872 to 0.95513, saving model to d:/Dane/ImageTagger/RetinopathyNonProfilerativeRadioButtons/Binary/workspace\\best_accuracy_weights.h5\n",
      "\n",
      "Epoch 23: val_accuracy improved from 0.93195 to 0.93384, saving model to d:/Dane/ImageTagger/RetinopathyNonProfilerativeRadioButtons/Binary/workspace\\best_val_accuracy_weights.h5\n",
      "49/49 [==============================] - 187s 4s/step - loss: 0.0190 - precision_6: 0.7222 - recall_6: 0.5909 - specificity_at_sensitivity_6: 0.9910 - sensitivity_at_specificity_6: 0.9727 - accuracy: 0.9551 - val_loss: 0.0306 - val_precision_6: 0.5405 - val_recall_6: 0.5263 - val_specificity_at_sensitivity_6: 0.9695 - val_sensitivity_at_specificity_6: 0.8684 - val_accuracy: 0.9338 - lr: 1.0000e-04\n",
      "Epoch 24/100\n",
      "49/49 [==============================] - ETA: 0s - loss: 0.0176 - precision_6: 0.7059 - recall_6: 0.6545 - specificity_at_sensitivity_6: 0.9910 - sensitivity_at_specificity_6: 1.0000 - accuracy: 0.9564\n",
      "Epoch 24: val_loss did not improve from 0.02917\n",
      "\n",
      "Epoch 24: accuracy improved from 0.95513 to 0.95641, saving model to d:/Dane/ImageTagger/RetinopathyNonProfilerativeRadioButtons/Binary/workspace\\best_accuracy_weights.h5\n",
      "\n",
      "Epoch 24: val_accuracy did not improve from 0.93384\n",
      "49/49 [==============================] - 181s 4s/step - loss: 0.0176 - precision_6: 0.7059 - recall_6: 0.6545 - specificity_at_sensitivity_6: 0.9910 - sensitivity_at_specificity_6: 1.0000 - accuracy: 0.9564 - val_loss: 0.0377 - val_precision_6: 0.4167 - val_recall_6: 0.3947 - val_specificity_at_sensitivity_6: 0.9185 - val_sensitivity_at_specificity_6: 0.8421 - val_accuracy: 0.9168 - lr: 1.0000e-04\n",
      "Epoch 25/100\n",
      "49/49 [==============================] - ETA: 0s - loss: 0.0183 - precision_6: 0.6275 - recall_6: 0.5818 - specificity_at_sensitivity_6: 0.9828 - sensitivity_at_specificity_6: 0.9818 - accuracy: 0.9462\n",
      "Epoch 25: val_loss improved from 0.02917 to 0.02529, saving model to d:/Dane/ImageTagger/RetinopathyNonProfilerativeRadioButtons/Binary/workspace\\best_val_loss_weights.h5\n",
      "\n",
      "Epoch 25: accuracy did not improve from 0.95641\n",
      "\n",
      "Epoch 25: val_accuracy did not improve from 0.93384\n",
      "49/49 [==============================] - 181s 4s/step - loss: 0.0183 - precision_6: 0.6275 - recall_6: 0.5818 - specificity_at_sensitivity_6: 0.9828 - sensitivity_at_specificity_6: 0.9818 - accuracy: 0.9462 - val_loss: 0.0253 - val_precision_6: 0.5484 - val_recall_6: 0.4474 - val_specificity_at_sensitivity_6: 0.9695 - val_sensitivity_at_specificity_6: 0.9737 - val_accuracy: 0.9338 - lr: 1.0000e-04\n",
      "Epoch 26/100\n",
      "49/49 [==============================] - ETA: 0s - loss: 0.0177 - precision_6: 0.6939 - recall_6: 0.6182 - specificity_at_sensitivity_6: 0.9883 - sensitivity_at_specificity_6: 1.0000 - accuracy: 0.9538\n",
      "Epoch 26: val_loss did not improve from 0.02529\n",
      "\n",
      "Epoch 26: accuracy did not improve from 0.95641\n",
      "\n",
      "Epoch 26: val_accuracy did not improve from 0.93384\n",
      "49/49 [==============================] - 176s 4s/step - loss: 0.0177 - precision_6: 0.6939 - recall_6: 0.6182 - specificity_at_sensitivity_6: 0.9883 - sensitivity_at_specificity_6: 1.0000 - accuracy: 0.9538 - val_loss: 0.0303 - val_precision_6: 0.4839 - val_recall_6: 0.3947 - val_specificity_at_sensitivity_6: 0.9450 - val_sensitivity_at_specificity_6: 0.9737 - val_accuracy: 0.9263 - lr: 1.0000e-04\n",
      "Epoch 27/100\n",
      "49/49 [==============================] - ETA: 0s - loss: 0.0183 - precision_6: 0.6990 - recall_6: 0.6545 - specificity_at_sensitivity_6: 0.9862 - sensitivity_at_specificity_6: 0.9909 - accuracy: 0.9558\n",
      "Epoch 27: val_loss did not improve from 0.02529\n",
      "\n",
      "Epoch 27: accuracy did not improve from 0.95641\n",
      "\n",
      "Epoch 27: val_accuracy did not improve from 0.93384\n",
      "49/49 [==============================] - 176s 4s/step - loss: 0.0183 - precision_6: 0.6990 - recall_6: 0.6545 - specificity_at_sensitivity_6: 0.9862 - sensitivity_at_specificity_6: 0.9909 - accuracy: 0.9558 - val_loss: 0.0301 - val_precision_6: 0.4737 - val_recall_6: 0.4737 - val_specificity_at_sensitivity_6: 0.9572 - val_sensitivity_at_specificity_6: 0.9474 - val_accuracy: 0.9244 - lr: 1.0000e-04\n",
      "Epoch 28/100\n",
      "49/49 [==============================] - ETA: 0s - loss: 0.0179 - precision_6: 0.6863 - recall_6: 0.6364 - specificity_at_sensitivity_6: 0.9910 - sensitivity_at_specificity_6: 0.9909 - accuracy: 0.9538\n",
      "Epoch 28: val_loss did not improve from 0.02529\n",
      "\n",
      "Epoch 28: accuracy did not improve from 0.95641\n",
      "\n",
      "Epoch 28: val_accuracy did not improve from 0.93384\n",
      "49/49 [==============================] - 180s 4s/step - loss: 0.0179 - precision_6: 0.6863 - recall_6: 0.6364 - specificity_at_sensitivity_6: 0.9910 - sensitivity_at_specificity_6: 0.9909 - accuracy: 0.9538 - val_loss: 0.0387 - val_precision_6: 0.4545 - val_recall_6: 0.3947 - val_specificity_at_sensitivity_6: 0.9043 - val_sensitivity_at_specificity_6: 0.8684 - val_accuracy: 0.9225 - lr: 1.0000e-04\n"
     ]
    },
    {
     "name": "stdout",
     "output_type": "stream",
     "text": [
      "Epoch 29/100\n",
      "49/49 [==============================] - ETA: 0s - loss: 0.0180 - precision_6: 0.7100 - recall_6: 0.6455 - specificity_at_sensitivity_6: 0.9883 - sensitivity_at_specificity_6: 0.9818 - accuracy: 0.9564\n",
      "Epoch 29: val_loss did not improve from 0.02529\n",
      "\n",
      "Epoch 29: accuracy did not improve from 0.95641\n",
      "\n",
      "Epoch 29: val_accuracy did not improve from 0.93384\n",
      "49/49 [==============================] - 183s 4s/step - loss: 0.0180 - precision_6: 0.7100 - recall_6: 0.6455 - specificity_at_sensitivity_6: 0.9883 - sensitivity_at_specificity_6: 0.9818 - accuracy: 0.9564 - val_loss: 0.0353 - val_precision_6: 0.3902 - val_recall_6: 0.4211 - val_specificity_at_sensitivity_6: 0.9002 - val_sensitivity_at_specificity_6: 0.9211 - val_accuracy: 0.9112 - lr: 1.0000e-04\n",
      "Epoch 30/100\n",
      "49/49 [==============================] - ETA: 0s - loss: 0.0181 - precision_6: 0.6869 - recall_6: 0.6182 - specificity_at_sensitivity_6: 0.9841 - sensitivity_at_specificity_6: 0.9818 - accuracy: 0.9532\n",
      "Epoch 30: val_loss did not improve from 0.02529\n",
      "\n",
      "Epoch 30: accuracy did not improve from 0.95641\n",
      "\n",
      "Epoch 30: val_accuracy did not improve from 0.93384\n",
      "49/49 [==============================] - 178s 4s/step - loss: 0.0181 - precision_6: 0.6869 - recall_6: 0.6182 - specificity_at_sensitivity_6: 0.9841 - sensitivity_at_specificity_6: 0.9818 - accuracy: 0.9532 - val_loss: 0.0340 - val_precision_6: 0.3750 - val_recall_6: 0.3158 - val_specificity_at_sensitivity_6: 0.9226 - val_sensitivity_at_specificity_6: 0.8684 - val_accuracy: 0.9130 - lr: 1.0000e-04\n",
      "Epoch 31/100\n",
      "49/49 [==============================] - ETA: 0s - loss: 0.0179 - precision_6: 0.7347 - recall_6: 0.6545 - specificity_at_sensitivity_6: 0.9945 - sensitivity_at_specificity_6: 0.9818 - accuracy: 0.9590\n",
      "Epoch 31: val_loss did not improve from 0.02529\n",
      "\n",
      "Epoch 31: accuracy improved from 0.95641 to 0.95897, saving model to d:/Dane/ImageTagger/RetinopathyNonProfilerativeRadioButtons/Binary/workspace\\best_accuracy_weights.h5\n",
      "\n",
      "Epoch 31: val_accuracy did not improve from 0.93384\n",
      "49/49 [==============================] - 182s 4s/step - loss: 0.0179 - precision_6: 0.7347 - recall_6: 0.6545 - specificity_at_sensitivity_6: 0.9945 - sensitivity_at_specificity_6: 0.9818 - accuracy: 0.9590 - val_loss: 0.0344 - val_precision_6: 0.4524 - val_recall_6: 0.5000 - val_specificity_at_sensitivity_6: 0.9633 - val_sensitivity_at_specificity_6: 0.9474 - val_accuracy: 0.9206 - lr: 1.0000e-04\n",
      "Epoch 32/100\n",
      "49/49 [==============================] - ETA: 0s - loss: 0.0192 - precision_6: 0.6696 - recall_6: 0.6818 - specificity_at_sensitivity_6: 0.9862 - sensitivity_at_specificity_6: 0.9818 - accuracy: 0.9538\n",
      "Epoch 32: val_loss did not improve from 0.02529\n",
      "\n",
      "Epoch 32: accuracy did not improve from 0.95897\n",
      "\n",
      "Epoch 32: val_accuracy did not improve from 0.93384\n",
      "49/49 [==============================] - 175s 4s/step - loss: 0.0192 - precision_6: 0.6696 - recall_6: 0.6818 - specificity_at_sensitivity_6: 0.9862 - sensitivity_at_specificity_6: 0.9818 - accuracy: 0.9538 - val_loss: 0.0383 - val_precision_6: 0.3333 - val_recall_6: 0.3684 - val_specificity_at_sensitivity_6: 0.8900 - val_sensitivity_at_specificity_6: 0.8421 - val_accuracy: 0.9017 - lr: 1.0000e-04\n",
      "Epoch 33/100\n",
      "49/49 [==============================] - ETA: 0s - loss: 0.0159 - precision_6: 0.7396 - recall_6: 0.6455 - specificity_at_sensitivity_6: 0.9855 - sensitivity_at_specificity_6: 1.0000 - accuracy: 0.9590\n",
      "Epoch 33: val_loss did not improve from 0.02529\n",
      "\n",
      "Epoch 33: accuracy did not improve from 0.95897\n",
      "\n",
      "Epoch 33: val_accuracy did not improve from 0.93384\n",
      "49/49 [==============================] - 175s 4s/step - loss: 0.0159 - precision_6: 0.7396 - recall_6: 0.6455 - specificity_at_sensitivity_6: 0.9855 - sensitivity_at_specificity_6: 1.0000 - accuracy: 0.9590 - val_loss: 0.0335 - val_precision_6: 0.5278 - val_recall_6: 0.5000 - val_specificity_at_sensitivity_6: 0.9654 - val_sensitivity_at_specificity_6: 0.8684 - val_accuracy: 0.9319 - lr: 1.0000e-04\n",
      "Epoch 34/100\n",
      "49/49 [==============================] - ETA: 0s - loss: 0.0185 - precision_6: 0.7320 - recall_6: 0.6455 - specificity_at_sensitivity_6: 0.9890 - sensitivity_at_specificity_6: 0.9818 - accuracy: 0.9583\n",
      "Epoch 34: val_loss did not improve from 0.02529\n",
      "\n",
      "Epoch 34: accuracy did not improve from 0.95897\n",
      "\n",
      "Epoch 34: val_accuracy did not improve from 0.93384\n",
      "49/49 [==============================] - 176s 4s/step - loss: 0.0185 - precision_6: 0.7320 - recall_6: 0.6455 - specificity_at_sensitivity_6: 0.9890 - sensitivity_at_specificity_6: 0.9818 - accuracy: 0.9583 - val_loss: 0.0356 - val_precision_6: 0.3913 - val_recall_6: 0.4737 - val_specificity_at_sensitivity_6: 0.9409 - val_sensitivity_at_specificity_6: 0.8947 - val_accuracy: 0.9093 - lr: 1.0000e-04\n",
      "Epoch 35/100\n",
      "49/49 [==============================] - ETA: 0s - loss: 0.0164 - precision_6: 0.6881 - recall_6: 0.6818 - specificity_at_sensitivity_6: 0.9855 - sensitivity_at_specificity_6: 1.0000 - accuracy: 0.9558\n",
      "Epoch 35: val_loss did not improve from 0.02529\n",
      "\n",
      "Epoch 35: accuracy did not improve from 0.95897\n",
      "\n",
      "Epoch 35: val_accuracy did not improve from 0.93384\n",
      "49/49 [==============================] - 176s 4s/step - loss: 0.0164 - precision_6: 0.6881 - recall_6: 0.6818 - specificity_at_sensitivity_6: 0.9855 - sensitivity_at_specificity_6: 1.0000 - accuracy: 0.9558 - val_loss: 0.0312 - val_precision_6: 0.3846 - val_recall_6: 0.3947 - val_specificity_at_sensitivity_6: 0.9491 - val_sensitivity_at_specificity_6: 0.9211 - val_accuracy: 0.9112 - lr: 1.0000e-04\n",
      "Epoch 36/100\n",
      "49/49 [==============================] - ETA: 0s - loss: 0.0150 - precision_6: 0.7677 - recall_6: 0.6909 - specificity_at_sensitivity_6: 0.9931 - sensitivity_at_specificity_6: 0.9909 - accuracy: 0.9635\n",
      "Epoch 36: val_loss did not improve from 0.02529\n",
      "\n",
      "Epoch 36: accuracy improved from 0.95897 to 0.96346, saving model to d:/Dane/ImageTagger/RetinopathyNonProfilerativeRadioButtons/Binary/workspace\\best_accuracy_weights.h5\n",
      "\n",
      "Epoch 36: val_accuracy did not improve from 0.93384\n",
      "49/49 [==============================] - 181s 4s/step - loss: 0.0150 - precision_6: 0.7677 - recall_6: 0.6909 - specificity_at_sensitivity_6: 0.9931 - sensitivity_at_specificity_6: 0.9909 - accuracy: 0.9635 - val_loss: 0.0411 - val_precision_6: 0.4324 - val_recall_6: 0.4211 - val_specificity_at_sensitivity_6: 0.9389 - val_sensitivity_at_specificity_6: 0.8158 - val_accuracy: 0.9187 - lr: 1.0000e-04\n",
      "Epoch 37/100\n",
      "49/49 [==============================] - ETA: 0s - loss: 0.0160 - precision_6: 0.7387 - recall_6: 0.7455 - specificity_at_sensitivity_6: 0.9931 - sensitivity_at_specificity_6: 0.9636 - accuracy: 0.9635\n",
      "Epoch 37: val_loss did not improve from 0.02529\n",
      "\n",
      "Epoch 37: accuracy did not improve from 0.96346\n",
      "\n",
      "Epoch 37: val_accuracy did not improve from 0.93384\n",
      "49/49 [==============================] - 176s 4s/step - loss: 0.0160 - precision_6: 0.7387 - recall_6: 0.7455 - specificity_at_sensitivity_6: 0.9931 - sensitivity_at_specificity_6: 0.9636 - accuracy: 0.9635 - val_loss: 0.0366 - val_precision_6: 0.3889 - val_recall_6: 0.3684 - val_specificity_at_sensitivity_6: 0.9308 - val_sensitivity_at_specificity_6: 0.8947 - val_accuracy: 0.9130 - lr: 1.0000e-04\n",
      "Epoch 38/100\n",
      "49/49 [==============================] - ETA: 0s - loss: 0.0150 - precision_6: 0.7130 - recall_6: 0.7455 - specificity_at_sensitivity_6: 0.9897 - sensitivity_at_specificity_6: 0.9909 - accuracy: 0.9609\n",
      "Epoch 38: val_loss did not improve from 0.02529\n",
      "\n",
      "Epoch 38: accuracy did not improve from 0.96346\n",
      "\n",
      "Epoch 38: val_accuracy did not improve from 0.93384\n",
      "49/49 [==============================] - 176s 4s/step - loss: 0.0150 - precision_6: 0.7130 - recall_6: 0.7455 - specificity_at_sensitivity_6: 0.9897 - sensitivity_at_specificity_6: 0.9909 - accuracy: 0.9609 - val_loss: 0.0344 - val_precision_6: 0.4000 - val_recall_6: 0.4737 - val_specificity_at_sensitivity_6: 0.9369 - val_sensitivity_at_specificity_6: 0.8684 - val_accuracy: 0.9112 - lr: 1.0000e-04\n",
      "Epoch 39/100\n",
      "49/49 [==============================] - ETA: 0s - loss: 0.0147 - precision_6: 0.7103 - recall_6: 0.6909 - specificity_at_sensitivity_6: 0.9883 - sensitivity_at_specificity_6: 1.0000 - accuracy: 0.9583\n",
      "Epoch 39: val_loss did not improve from 0.02529\n",
      "\n",
      "Epoch 39: accuracy did not improve from 0.96346\n"
     ]
    },
    {
     "name": "stdout",
     "output_type": "stream",
     "text": [
      "\n",
      "Epoch 39: val_accuracy did not improve from 0.93384\n",
      "49/49 [==============================] - 183s 4s/step - loss: 0.0147 - precision_6: 0.7103 - recall_6: 0.6909 - specificity_at_sensitivity_6: 0.9883 - sensitivity_at_specificity_6: 1.0000 - accuracy: 0.9583 - val_loss: 0.0356 - val_precision_6: 0.4054 - val_recall_6: 0.3947 - val_specificity_at_sensitivity_6: 0.9430 - val_sensitivity_at_specificity_6: 0.7895 - val_accuracy: 0.9149 - lr: 1.0000e-04\n",
      "Epoch 40/100\n",
      "49/49 [==============================] - ETA: 0s - loss: 0.0147 - precision_6: 0.7027 - recall_6: 0.7091 - specificity_at_sensitivity_6: 0.9917 - sensitivity_at_specificity_6: 0.9909 - accuracy: 0.9583\n",
      "Epoch 40: val_loss did not improve from 0.02529\n",
      "\n",
      "Epoch 40: accuracy did not improve from 0.96346\n",
      "\n",
      "Epoch 40: val_accuracy did not improve from 0.93384\n",
      "49/49 [==============================] - 179s 4s/step - loss: 0.0147 - precision_6: 0.7027 - recall_6: 0.7091 - specificity_at_sensitivity_6: 0.9917 - sensitivity_at_specificity_6: 0.9909 - accuracy: 0.9583 - val_loss: 0.0388 - val_precision_6: 0.3684 - val_recall_6: 0.3684 - val_specificity_at_sensitivity_6: 0.9084 - val_sensitivity_at_specificity_6: 0.8947 - val_accuracy: 0.9093 - lr: 1.0000e-04\n",
      "Epoch 41/100\n",
      "49/49 [==============================] - ETA: 0s - loss: 0.0149 - precision_6: 0.7290 - recall_6: 0.7091 - specificity_at_sensitivity_6: 0.9945 - sensitivity_at_specificity_6: 0.9909 - accuracy: 0.9609\n",
      "Epoch 41: val_loss did not improve from 0.02529\n",
      "\n",
      "Epoch 41: accuracy did not improve from 0.96346\n",
      "\n",
      "Epoch 41: val_accuracy did not improve from 0.93384\n",
      "49/49 [==============================] - 176s 4s/step - loss: 0.0149 - precision_6: 0.7290 - recall_6: 0.7091 - specificity_at_sensitivity_6: 0.9945 - sensitivity_at_specificity_6: 0.9909 - accuracy: 0.9609 - val_loss: 0.0405 - val_precision_6: 0.3784 - val_recall_6: 0.3684 - val_specificity_at_sensitivity_6: 0.8452 - val_sensitivity_at_specificity_6: 0.8421 - val_accuracy: 0.9112 - lr: 1.0000e-04\n",
      "Epoch 42/100\n",
      "49/49 [==============================] - ETA: 0s - loss: 0.0168 - precision_6: 0.6937 - recall_6: 0.7000 - specificity_at_sensitivity_6: 0.9897 - sensitivity_at_specificity_6: 0.9818 - accuracy: 0.9571\n",
      "Epoch 42: val_loss did not improve from 0.02529\n",
      "\n",
      "Epoch 42: accuracy did not improve from 0.96346\n",
      "\n",
      "Epoch 42: val_accuracy did not improve from 0.93384\n",
      "49/49 [==============================] - 176s 4s/step - loss: 0.0168 - precision_6: 0.6937 - recall_6: 0.7000 - specificity_at_sensitivity_6: 0.9897 - sensitivity_at_specificity_6: 0.9818 - accuracy: 0.9571 - val_loss: 0.0426 - val_precision_6: 0.3043 - val_recall_6: 0.3684 - val_specificity_at_sensitivity_6: 0.8921 - val_sensitivity_at_specificity_6: 0.8158 - val_accuracy: 0.8941 - lr: 1.0000e-04\n",
      "Epoch 43/100\n",
      "49/49 [==============================] - ETA: 0s - loss: 0.0168 - precision_6: 0.7064 - recall_6: 0.7000 - specificity_at_sensitivity_6: 0.9917 - sensitivity_at_specificity_6: 0.9818 - accuracy: 0.9583\n",
      "Epoch 43: val_loss did not improve from 0.02529\n",
      "\n",
      "Epoch 43: accuracy did not improve from 0.96346\n",
      "\n",
      "Epoch 43: val_accuracy did not improve from 0.93384\n",
      "49/49 [==============================] - 177s 4s/step - loss: 0.0168 - precision_6: 0.7064 - recall_6: 0.7000 - specificity_at_sensitivity_6: 0.9917 - sensitivity_at_specificity_6: 0.9818 - accuracy: 0.9583 - val_loss: 0.0432 - val_precision_6: 0.3684 - val_recall_6: 0.3684 - val_specificity_at_sensitivity_6: 0.8859 - val_sensitivity_at_specificity_6: 0.8684 - val_accuracy: 0.9093 - lr: 1.0000e-04\n",
      "Epoch 44/100\n",
      "49/49 [==============================] - ETA: 0s - loss: 0.0140 - precision_6: 0.7615 - recall_6: 0.7545 - specificity_at_sensitivity_6: 0.9945 - sensitivity_at_specificity_6: 0.9818 - accuracy: 0.9660\n",
      "Epoch 44: val_loss did not improve from 0.02529\n",
      "\n",
      "Epoch 44: accuracy improved from 0.96346 to 0.96603, saving model to d:/Dane/ImageTagger/RetinopathyNonProfilerativeRadioButtons/Binary/workspace\\best_accuracy_weights.h5\n",
      "\n",
      "Epoch 44: val_accuracy did not improve from 0.93384\n",
      "49/49 [==============================] - 184s 4s/step - loss: 0.0140 - precision_6: 0.7615 - recall_6: 0.7545 - specificity_at_sensitivity_6: 0.9945 - sensitivity_at_specificity_6: 0.9818 - accuracy: 0.9660 - val_loss: 0.0424 - val_precision_6: 0.4595 - val_recall_6: 0.4474 - val_specificity_at_sensitivity_6: 0.9287 - val_sensitivity_at_specificity_6: 0.7895 - val_accuracy: 0.9225 - lr: 1.0000e-04\n",
      "Epoch 45/100\n",
      "49/49 [==============================] - ETA: 0s - loss: 0.0129 - precision_6: 0.7500 - recall_6: 0.7091 - specificity_at_sensitivity_6: 0.9931 - sensitivity_at_specificity_6: 0.9909 - accuracy: 0.9628\n",
      "Epoch 45: val_loss did not improve from 0.02529\n",
      "\n",
      "Epoch 45: accuracy did not improve from 0.96603\n",
      "\n",
      "Epoch 45: val_accuracy did not improve from 0.93384\n",
      "49/49 [==============================] - 176s 4s/step - loss: 0.0129 - precision_6: 0.7500 - recall_6: 0.7091 - specificity_at_sensitivity_6: 0.9931 - sensitivity_at_specificity_6: 0.9909 - accuracy: 0.9628 - val_loss: 0.0380 - val_precision_6: 0.4000 - val_recall_6: 0.4737 - val_specificity_at_sensitivity_6: 0.9409 - val_sensitivity_at_specificity_6: 0.8421 - val_accuracy: 0.9112 - lr: 1.0000e-04\n",
      "Epoch 46/100\n",
      "49/49 [==============================] - ETA: 0s - loss: 0.0144 - precision_6: 0.7706 - recall_6: 0.7636 - specificity_at_sensitivity_6: 0.9924 - sensitivity_at_specificity_6: 0.9909 - accuracy: 0.9673\n",
      "Epoch 46: val_loss did not improve from 0.02529\n",
      "\n",
      "Epoch 46: accuracy improved from 0.96603 to 0.96731, saving model to d:/Dane/ImageTagger/RetinopathyNonProfilerativeRadioButtons/Binary/workspace\\best_accuracy_weights.h5\n",
      "\n",
      "Epoch 46: val_accuracy did not improve from 0.93384\n",
      "49/49 [==============================] - 181s 4s/step - loss: 0.0144 - precision_6: 0.7706 - recall_6: 0.7636 - specificity_at_sensitivity_6: 0.9924 - sensitivity_at_specificity_6: 0.9909 - accuracy: 0.9673 - val_loss: 0.0384 - val_precision_6: 0.2941 - val_recall_6: 0.2632 - val_specificity_at_sensitivity_6: 0.8982 - val_sensitivity_at_specificity_6: 0.8421 - val_accuracy: 0.9017 - lr: 1.0000e-04\n",
      "Epoch 47/100\n",
      "49/49 [==============================] - ETA: 0s - loss: 0.0159 - precision_6: 0.7339 - recall_6: 0.7273 - specificity_at_sensitivity_6: 0.9897 - sensitivity_at_specificity_6: 0.9636 - accuracy: 0.9622\n",
      "Epoch 47: val_loss did not improve from 0.02529\n",
      "\n",
      "Epoch 47: accuracy did not improve from 0.96731\n",
      "\n",
      "Epoch 47: val_accuracy did not improve from 0.93384\n",
      "49/49 [==============================] - 176s 4s/step - loss: 0.0159 - precision_6: 0.7339 - recall_6: 0.7273 - specificity_at_sensitivity_6: 0.9897 - sensitivity_at_specificity_6: 0.9636 - accuracy: 0.9622 - val_loss: 0.0474 - val_precision_6: 0.3571 - val_recall_6: 0.3947 - val_specificity_at_sensitivity_6: 0.9206 - val_sensitivity_at_specificity_6: 0.7895 - val_accuracy: 0.9055 - lr: 1.0000e-04\n",
      "Epoch 48/100\n",
      "49/49 [==============================] - ETA: 0s - loss: 0.0140 - precision_6: 0.7500 - recall_6: 0.7636 - specificity_at_sensitivity_6: 0.9890 - sensitivity_at_specificity_6: 1.0000 - accuracy: 0.9654\n",
      "Epoch 48: val_loss did not improve from 0.02529\n",
      "\n",
      "Epoch 48: accuracy did not improve from 0.96731\n",
      "\n",
      "Epoch 48: val_accuracy did not improve from 0.93384\n",
      "49/49 [==============================] - 176s 4s/step - loss: 0.0140 - precision_6: 0.7500 - recall_6: 0.7636 - specificity_at_sensitivity_6: 0.9890 - sensitivity_at_specificity_6: 1.0000 - accuracy: 0.9654 - val_loss: 0.0364 - val_precision_6: 0.4286 - val_recall_6: 0.3947 - val_specificity_at_sensitivity_6: 0.9369 - val_sensitivity_at_specificity_6: 0.8947 - val_accuracy: 0.9187 - lr: 1.0000e-04\n",
      "Epoch 49/100\n",
      "49/49 [==============================] - ETA: 0s - loss: 0.0141 - precision_6: 0.7368 - recall_6: 0.7636 - specificity_at_sensitivity_6: 0.9931 - sensitivity_at_specificity_6: 0.9818 - accuracy: 0.9641\n",
      "Epoch 49: val_loss did not improve from 0.02529\n",
      "\n",
      "Epoch 49: accuracy did not improve from 0.96731\n",
      "\n",
      "Epoch 49: val_accuracy did not improve from 0.93384\n",
      "49/49 [==============================] - 176s 4s/step - loss: 0.0141 - precision_6: 0.7368 - recall_6: 0.7636 - specificity_at_sensitivity_6: 0.9931 - sensitivity_at_specificity_6: 0.9818 - accuracy: 0.9641 - val_loss: 0.0406 - val_precision_6: 0.3750 - val_recall_6: 0.3947 - val_specificity_at_sensitivity_6: 0.8941 - val_sensitivity_at_specificity_6: 0.8947 - val_accuracy: 0.9093 - lr: 1.0000e-04\n"
     ]
    },
    {
     "name": "stdout",
     "output_type": "stream",
     "text": [
      "Epoch 50/100\n",
      "49/49 [==============================] - ETA: 0s - loss: 0.0132 - precision_6: 0.7767 - recall_6: 0.7273 - specificity_at_sensitivity_6: 0.9945 - sensitivity_at_specificity_6: 1.0000 - accuracy: 0.9660\n",
      "Epoch 50: val_loss did not improve from 0.02529\n",
      "\n",
      "Epoch 50: accuracy did not improve from 0.96731\n",
      "\n",
      "Epoch 50: val_accuracy did not improve from 0.93384\n",
      "49/49 [==============================] - 177s 4s/step - loss: 0.0132 - precision_6: 0.7767 - recall_6: 0.7273 - specificity_at_sensitivity_6: 0.9945 - sensitivity_at_specificity_6: 1.0000 - accuracy: 0.9660 - val_loss: 0.0410 - val_precision_6: 0.3500 - val_recall_6: 0.3684 - val_specificity_at_sensitivity_6: 0.9185 - val_sensitivity_at_specificity_6: 0.8947 - val_accuracy: 0.9055 - lr: 1.0000e-04\n",
      "Epoch 51/100\n",
      "49/49 [==============================] - ETA: 0s - loss: 0.0147 - precision_6: 0.7549 - recall_6: 0.7000 - specificity_at_sensitivity_6: 0.9910 - sensitivity_at_specificity_6: 0.9909 - accuracy: 0.9628\n",
      "Epoch 51: val_loss did not improve from 0.02529\n",
      "\n",
      "Epoch 51: accuracy did not improve from 0.96731\n",
      "\n",
      "Epoch 51: val_accuracy did not improve from 0.93384\n",
      "49/49 [==============================] - 176s 4s/step - loss: 0.0147 - precision_6: 0.7549 - recall_6: 0.7000 - specificity_at_sensitivity_6: 0.9910 - sensitivity_at_specificity_6: 0.9909 - accuracy: 0.9628 - val_loss: 0.0397 - val_precision_6: 0.4167 - val_recall_6: 0.3947 - val_specificity_at_sensitivity_6: 0.9470 - val_sensitivity_at_specificity_6: 0.8684 - val_accuracy: 0.9168 - lr: 5.0000e-05\n",
      "Epoch 52/100\n",
      "49/49 [==============================] - ETA: 0s - loss: 0.0121 - precision_6: 0.7438 - recall_6: 0.8182 - specificity_at_sensitivity_6: 0.9972 - sensitivity_at_specificity_6: 1.0000 - accuracy: 0.9673\n",
      "Epoch 52: val_loss did not improve from 0.02529\n",
      "\n",
      "Epoch 52: accuracy did not improve from 0.96731\n",
      "\n",
      "Epoch 52: val_accuracy did not improve from 0.93384\n",
      "49/49 [==============================] - 176s 4s/step - loss: 0.0121 - precision_6: 0.7438 - recall_6: 0.8182 - specificity_at_sensitivity_6: 0.9972 - sensitivity_at_specificity_6: 1.0000 - accuracy: 0.9673 - val_loss: 0.0389 - val_precision_6: 0.3208 - val_recall_6: 0.4474 - val_specificity_at_sensitivity_6: 0.9124 - val_sensitivity_at_specificity_6: 0.8947 - val_accuracy: 0.8922 - lr: 5.0000e-05\n",
      "Epoch 53/100\n",
      "49/49 [==============================] - ETA: 0s - loss: 0.0117 - precision_6: 0.7667 - recall_6: 0.8364 - specificity_at_sensitivity_6: 0.9952 - sensitivity_at_specificity_6: 0.9909 - accuracy: 0.9705\n",
      "Epoch 53: val_loss did not improve from 0.02529\n",
      "\n",
      "Epoch 53: accuracy improved from 0.96731 to 0.97051, saving model to d:/Dane/ImageTagger/RetinopathyNonProfilerativeRadioButtons/Binary/workspace\\best_accuracy_weights.h5\n",
      "\n",
      "Epoch 53: val_accuracy did not improve from 0.93384\n",
      "49/49 [==============================] - 182s 4s/step - loss: 0.0117 - precision_6: 0.7667 - recall_6: 0.8364 - specificity_at_sensitivity_6: 0.9952 - sensitivity_at_specificity_6: 0.9909 - accuracy: 0.9705 - val_loss: 0.0435 - val_precision_6: 0.3478 - val_recall_6: 0.4211 - val_specificity_at_sensitivity_6: 0.8778 - val_sensitivity_at_specificity_6: 0.8158 - val_accuracy: 0.9017 - lr: 5.0000e-05\n",
      "Epoch 54/100\n",
      "49/49 [==============================] - ETA: 0s - loss: 0.0157 - precision_6: 0.7925 - recall_6: 0.7636 - specificity_at_sensitivity_6: 0.9945 - sensitivity_at_specificity_6: 0.9727 - accuracy: 0.9692\n",
      "Epoch 54: val_loss did not improve from 0.02529\n",
      "\n",
      "Epoch 54: accuracy did not improve from 0.97051\n",
      "\n",
      "Epoch 54: val_accuracy did not improve from 0.93384\n",
      "49/49 [==============================] - 175s 4s/step - loss: 0.0157 - precision_6: 0.7925 - recall_6: 0.7636 - specificity_at_sensitivity_6: 0.9945 - sensitivity_at_specificity_6: 0.9727 - accuracy: 0.9692 - val_loss: 0.0431 - val_precision_6: 0.3529 - val_recall_6: 0.4737 - val_specificity_at_sensitivity_6: 0.9246 - val_sensitivity_at_specificity_6: 0.8684 - val_accuracy: 0.8998 - lr: 5.0000e-05\n",
      "Epoch 55/100\n",
      "49/49 [==============================] - ETA: 0s - loss: 0.0141 - precision_6: 0.7094 - recall_6: 0.7545 - specificity_at_sensitivity_6: 0.9952 - sensitivity_at_specificity_6: 0.9909 - accuracy: 0.9609\n",
      "Epoch 55: val_loss did not improve from 0.02529\n",
      "\n",
      "Epoch 55: accuracy did not improve from 0.97051\n",
      "\n",
      "Epoch 55: val_accuracy did not improve from 0.93384\n",
      "49/49 [==============================] - 176s 4s/step - loss: 0.0141 - precision_6: 0.7094 - recall_6: 0.7545 - specificity_at_sensitivity_6: 0.9952 - sensitivity_at_specificity_6: 0.9909 - accuracy: 0.9609 - val_loss: 0.0340 - val_precision_6: 0.4348 - val_recall_6: 0.5263 - val_specificity_at_sensitivity_6: 0.9511 - val_sensitivity_at_specificity_6: 0.9211 - val_accuracy: 0.9168 - lr: 5.0000e-05\n",
      "Epoch 56/100\n",
      "49/49 [==============================] - ETA: 0s - loss: 0.0122 - precision_6: 0.7414 - recall_6: 0.7818 - specificity_at_sensitivity_6: 0.9972 - sensitivity_at_specificity_6: 0.9909 - accuracy: 0.9654\n",
      "Epoch 56: val_loss did not improve from 0.02529\n",
      "\n",
      "Epoch 56: accuracy did not improve from 0.97051\n",
      "\n",
      "Epoch 56: val_accuracy did not improve from 0.93384\n",
      "49/49 [==============================] - 175s 4s/step - loss: 0.0122 - precision_6: 0.7414 - recall_6: 0.7818 - specificity_at_sensitivity_6: 0.9972 - sensitivity_at_specificity_6: 0.9909 - accuracy: 0.9654 - val_loss: 0.0469 - val_precision_6: 0.3636 - val_recall_6: 0.5263 - val_specificity_at_sensitivity_6: 0.9450 - val_sensitivity_at_specificity_6: 0.9211 - val_accuracy: 0.8998 - lr: 5.0000e-05\n",
      "Epoch 57/100\n",
      "49/49 [==============================] - ETA: 0s - loss: 0.0133 - precision_6: 0.7414 - recall_6: 0.7818 - specificity_at_sensitivity_6: 0.9931 - sensitivity_at_specificity_6: 1.0000 - accuracy: 0.9654\n",
      "Epoch 57: val_loss did not improve from 0.02529\n",
      "\n",
      "Epoch 57: accuracy did not improve from 0.97051\n",
      "\n",
      "Epoch 57: val_accuracy did not improve from 0.93384\n",
      "49/49 [==============================] - 176s 4s/step - loss: 0.0133 - precision_6: 0.7414 - recall_6: 0.7818 - specificity_at_sensitivity_6: 0.9931 - sensitivity_at_specificity_6: 1.0000 - accuracy: 0.9654 - val_loss: 0.0406 - val_precision_6: 0.2857 - val_recall_6: 0.3158 - val_specificity_at_sensitivity_6: 0.8717 - val_sensitivity_at_specificity_6: 0.8947 - val_accuracy: 0.8941 - lr: 5.0000e-05\n",
      "Epoch 58/100\n",
      "49/49 [==============================] - ETA: 0s - loss: 0.0134 - precision_6: 0.7479 - recall_6: 0.8091 - specificity_at_sensitivity_6: 0.9966 - sensitivity_at_specificity_6: 0.9909 - accuracy: 0.9673\n",
      "Epoch 58: val_loss did not improve from 0.02529\n",
      "\n",
      "Epoch 58: accuracy did not improve from 0.97051\n",
      "\n",
      "Epoch 58: val_accuracy did not improve from 0.93384\n",
      "49/49 [==============================] - 176s 4s/step - loss: 0.0134 - precision_6: 0.7479 - recall_6: 0.8091 - specificity_at_sensitivity_6: 0.9966 - sensitivity_at_specificity_6: 0.9909 - accuracy: 0.9673 - val_loss: 0.0411 - val_precision_6: 0.2889 - val_recall_6: 0.3421 - val_specificity_at_sensitivity_6: 0.9185 - val_sensitivity_at_specificity_6: 0.7895 - val_accuracy: 0.8922 - lr: 5.0000e-05\n",
      "Epoch 59/100\n",
      "49/49 [==============================] - ETA: 0s - loss: 0.0122 - precision_6: 0.7059 - recall_6: 0.7636 - specificity_at_sensitivity_6: 0.9979 - sensitivity_at_specificity_6: 1.0000 - accuracy: 0.9609\n",
      "Epoch 59: val_loss did not improve from 0.02529\n",
      "\n",
      "Epoch 59: accuracy did not improve from 0.97051\n",
      "\n",
      "Epoch 59: val_accuracy did not improve from 0.93384\n",
      "49/49 [==============================] - 175s 4s/step - loss: 0.0122 - precision_6: 0.7059 - recall_6: 0.7636 - specificity_at_sensitivity_6: 0.9979 - sensitivity_at_specificity_6: 1.0000 - accuracy: 0.9609 - val_loss: 0.0504 - val_precision_6: 0.3462 - val_recall_6: 0.4737 - val_specificity_at_sensitivity_6: 0.9206 - val_sensitivity_at_specificity_6: 0.7632 - val_accuracy: 0.8979 - lr: 5.0000e-05\n",
      "Epoch 60/100\n",
      "49/49 [==============================] - ETA: 0s - loss: 0.0125 - precision_6: 0.7714 - recall_6: 0.7364 - specificity_at_sensitivity_6: 0.9972 - sensitivity_at_specificity_6: 1.0000 - accuracy: 0.9660\n",
      "Epoch 60: val_loss did not improve from 0.02529\n",
      "\n",
      "Epoch 60: accuracy did not improve from 0.97051\n",
      "\n",
      "Epoch 60: val_accuracy did not improve from 0.93384\n",
      "49/49 [==============================] - 175s 4s/step - loss: 0.0125 - precision_6: 0.7714 - recall_6: 0.7364 - specificity_at_sensitivity_6: 0.9972 - sensitivity_at_specificity_6: 1.0000 - accuracy: 0.9660 - val_loss: 0.0385 - val_precision_6: 0.3571 - val_recall_6: 0.3947 - val_specificity_at_sensitivity_6: 0.9267 - val_sensitivity_at_specificity_6: 0.8684 - val_accuracy: 0.9055 - lr: 5.0000e-05\n"
     ]
    },
    {
     "name": "stdout",
     "output_type": "stream",
     "text": [
      "Epoch 61/100\n",
      "49/49 [==============================] - ETA: 0s - loss: 0.0107 - precision_6: 0.7833 - recall_6: 0.8545 - specificity_at_sensitivity_6: 0.9966 - sensitivity_at_specificity_6: 1.0000 - accuracy: 0.9731\n",
      "Epoch 61: val_loss did not improve from 0.02529\n",
      "\n",
      "Epoch 61: accuracy improved from 0.97051 to 0.97308, saving model to d:/Dane/ImageTagger/RetinopathyNonProfilerativeRadioButtons/Binary/workspace\\best_accuracy_weights.h5\n",
      "\n",
      "Epoch 61: val_accuracy did not improve from 0.93384\n",
      "49/49 [==============================] - 180s 4s/step - loss: 0.0107 - precision_6: 0.7833 - recall_6: 0.8545 - specificity_at_sensitivity_6: 0.9966 - sensitivity_at_specificity_6: 1.0000 - accuracy: 0.9731 - val_loss: 0.0491 - val_precision_6: 0.3455 - val_recall_6: 0.5000 - val_specificity_at_sensitivity_6: 0.9369 - val_sensitivity_at_specificity_6: 0.7895 - val_accuracy: 0.8960 - lr: 5.0000e-05\n",
      "Epoch 62/100\n",
      "49/49 [==============================] - ETA: 0s - loss: 0.0094 - precision_6: 0.8190 - recall_6: 0.8636 - specificity_at_sensitivity_6: 0.9972 - sensitivity_at_specificity_6: 1.0000 - accuracy: 0.9769\n",
      "Epoch 62: val_loss did not improve from 0.02529\n",
      "\n",
      "Epoch 62: accuracy improved from 0.97308 to 0.97692, saving model to d:/Dane/ImageTagger/RetinopathyNonProfilerativeRadioButtons/Binary/workspace\\best_accuracy_weights.h5\n",
      "\n",
      "Epoch 62: val_accuracy did not improve from 0.93384\n",
      "49/49 [==============================] - 180s 4s/step - loss: 0.0094 - precision_6: 0.8190 - recall_6: 0.8636 - specificity_at_sensitivity_6: 0.9972 - sensitivity_at_specificity_6: 1.0000 - accuracy: 0.9769 - val_loss: 0.0383 - val_precision_6: 0.4048 - val_recall_6: 0.4474 - val_specificity_at_sensitivity_6: 0.9409 - val_sensitivity_at_specificity_6: 0.8158 - val_accuracy: 0.9130 - lr: 5.0000e-05\n",
      "Epoch 63/100\n",
      "49/49 [==============================] - ETA: 0s - loss: 0.0121 - precision_6: 0.7850 - recall_6: 0.7636 - specificity_at_sensitivity_6: 0.9972 - sensitivity_at_specificity_6: 0.9909 - accuracy: 0.9686\n",
      "Epoch 63: val_loss did not improve from 0.02529\n",
      "\n",
      "Epoch 63: accuracy did not improve from 0.97692\n",
      "\n",
      "Epoch 63: val_accuracy did not improve from 0.93384\n",
      "49/49 [==============================] - 175s 4s/step - loss: 0.0121 - precision_6: 0.7850 - recall_6: 0.7636 - specificity_at_sensitivity_6: 0.9972 - sensitivity_at_specificity_6: 0.9909 - accuracy: 0.9686 - val_loss: 0.0501 - val_precision_6: 0.3519 - val_recall_6: 0.5000 - val_specificity_at_sensitivity_6: 0.9287 - val_sensitivity_at_specificity_6: 0.8158 - val_accuracy: 0.8979 - lr: 5.0000e-05\n",
      "Epoch 64/100\n",
      "49/49 [==============================] - ETA: 0s - loss: 0.0133 - precision_6: 0.7355 - recall_6: 0.8091 - specificity_at_sensitivity_6: 0.9966 - sensitivity_at_specificity_6: 0.9909 - accuracy: 0.9660\n",
      "Epoch 64: val_loss did not improve from 0.02529\n",
      "\n",
      "Epoch 64: accuracy did not improve from 0.97692\n",
      "\n",
      "Epoch 64: val_accuracy did not improve from 0.93384\n",
      "49/49 [==============================] - 176s 4s/step - loss: 0.0133 - precision_6: 0.7355 - recall_6: 0.8091 - specificity_at_sensitivity_6: 0.9966 - sensitivity_at_specificity_6: 0.9909 - accuracy: 0.9660 - val_loss: 0.0435 - val_precision_6: 0.2909 - val_recall_6: 0.4211 - val_specificity_at_sensitivity_6: 0.8880 - val_sensitivity_at_specificity_6: 0.9474 - val_accuracy: 0.8847 - lr: 5.0000e-05\n",
      "Epoch 65/100\n",
      "49/49 [==============================] - ETA: 0s - loss: 0.0112 - precision_6: 0.7438 - recall_6: 0.8182 - specificity_at_sensitivity_6: 0.9993 - sensitivity_at_specificity_6: 1.0000 - accuracy: 0.9673\n",
      "Epoch 65: val_loss did not improve from 0.02529\n",
      "\n",
      "Epoch 65: accuracy did not improve from 0.97692\n",
      "\n",
      "Epoch 65: val_accuracy did not improve from 0.93384\n",
      "49/49 [==============================] - 176s 4s/step - loss: 0.0112 - precision_6: 0.7438 - recall_6: 0.8182 - specificity_at_sensitivity_6: 0.9993 - sensitivity_at_specificity_6: 1.0000 - accuracy: 0.9673 - val_loss: 0.0421 - val_precision_6: 0.3542 - val_recall_6: 0.4474 - val_specificity_at_sensitivity_6: 0.9043 - val_sensitivity_at_specificity_6: 0.8158 - val_accuracy: 0.9017 - lr: 5.0000e-05\n",
      "Epoch 66/100\n",
      "49/49 [==============================] - ETA: 0s - loss: 0.0116 - precision_6: 0.7280 - recall_6: 0.8273 - specificity_at_sensitivity_6: 0.9945 - sensitivity_at_specificity_6: 1.0000 - accuracy: 0.9660\n",
      "Epoch 66: val_loss did not improve from 0.02529\n",
      "\n",
      "Epoch 66: accuracy did not improve from 0.97692\n",
      "\n",
      "Epoch 66: val_accuracy did not improve from 0.93384\n",
      "49/49 [==============================] - 176s 4s/step - loss: 0.0116 - precision_6: 0.7280 - recall_6: 0.8273 - specificity_at_sensitivity_6: 0.9945 - sensitivity_at_specificity_6: 1.0000 - accuracy: 0.9660 - val_loss: 0.0501 - val_precision_6: 0.3208 - val_recall_6: 0.4474 - val_specificity_at_sensitivity_6: 0.8717 - val_sensitivity_at_specificity_6: 0.8158 - val_accuracy: 0.8922 - lr: 5.0000e-05\n",
      "Epoch 67/100\n",
      "49/49 [==============================] - ETA: 0s - loss: 0.0139 - precision_6: 0.7333 - recall_6: 0.8000 - specificity_at_sensitivity_6: 0.9897 - sensitivity_at_specificity_6: 1.0000 - accuracy: 0.9654\n",
      "Epoch 67: val_loss did not improve from 0.02529\n",
      "\n",
      "Epoch 67: accuracy did not improve from 0.97692\n",
      "\n",
      "Epoch 67: val_accuracy did not improve from 0.93384\n",
      "49/49 [==============================] - 176s 4s/step - loss: 0.0139 - precision_6: 0.7333 - recall_6: 0.8000 - specificity_at_sensitivity_6: 0.9897 - sensitivity_at_specificity_6: 1.0000 - accuracy: 0.9654 - val_loss: 0.0422 - val_precision_6: 0.2927 - val_recall_6: 0.3158 - val_specificity_at_sensitivity_6: 0.8859 - val_sensitivity_at_specificity_6: 0.7895 - val_accuracy: 0.8960 - lr: 5.0000e-05\n",
      "Epoch 68/100\n",
      "49/49 [==============================] - ETA: 0s - loss: 0.0102 - precision_6: 0.7705 - recall_6: 0.8545 - specificity_at_sensitivity_6: 0.9972 - sensitivity_at_specificity_6: 1.0000 - accuracy: 0.9718\n",
      "Epoch 68: val_loss did not improve from 0.02529\n",
      "\n",
      "Epoch 68: accuracy did not improve from 0.97692\n",
      "\n",
      "Epoch 68: val_accuracy did not improve from 0.93384\n",
      "49/49 [==============================] - 175s 4s/step - loss: 0.0102 - precision_6: 0.7705 - recall_6: 0.8545 - specificity_at_sensitivity_6: 0.9972 - sensitivity_at_specificity_6: 1.0000 - accuracy: 0.9718 - val_loss: 0.0422 - val_precision_6: 0.3953 - val_recall_6: 0.4474 - val_specificity_at_sensitivity_6: 0.9409 - val_sensitivity_at_specificity_6: 0.7895 - val_accuracy: 0.9112 - lr: 5.0000e-05\n",
      "Epoch 69/100\n",
      "49/49 [==============================] - ETA: 0s - loss: 0.0101 - precision_6: 0.7909 - recall_6: 0.7909 - specificity_at_sensitivity_6: 0.9986 - sensitivity_at_specificity_6: 1.0000 - accuracy: 0.9705\n",
      "Epoch 69: val_loss did not improve from 0.02529\n",
      "\n",
      "Epoch 69: accuracy did not improve from 0.97692\n",
      "\n",
      "Epoch 69: val_accuracy did not improve from 0.93384\n",
      "49/49 [==============================] - 176s 4s/step - loss: 0.0101 - precision_6: 0.7909 - recall_6: 0.7909 - specificity_at_sensitivity_6: 0.9986 - sensitivity_at_specificity_6: 1.0000 - accuracy: 0.9705 - val_loss: 0.0432 - val_precision_6: 0.3500 - val_recall_6: 0.3684 - val_specificity_at_sensitivity_6: 0.8961 - val_sensitivity_at_specificity_6: 0.8684 - val_accuracy: 0.9055 - lr: 5.0000e-05\n",
      "Epoch 70/100\n",
      "49/49 [==============================] - ETA: 0s - loss: 0.0105 - precision_6: 0.7951 - recall_6: 0.8818 - specificity_at_sensitivity_6: 0.9945 - sensitivity_at_specificity_6: 0.9909 - accuracy: 0.9756\n",
      "Epoch 70: val_loss did not improve from 0.02529\n",
      "\n",
      "Epoch 70: accuracy did not improve from 0.97692\n",
      "\n",
      "Epoch 70: val_accuracy did not improve from 0.93384\n",
      "49/49 [==============================] - 176s 4s/step - loss: 0.0105 - precision_6: 0.7951 - recall_6: 0.8818 - specificity_at_sensitivity_6: 0.9945 - sensitivity_at_specificity_6: 0.9909 - accuracy: 0.9756 - val_loss: 0.0532 - val_precision_6: 0.2800 - val_recall_6: 0.3684 - val_specificity_at_sensitivity_6: 0.8473 - val_sensitivity_at_specificity_6: 0.7632 - val_accuracy: 0.8866 - lr: 5.0000e-05\n",
      "Epoch 71/100\n",
      "49/49 [==============================] - ETA: 0s - loss: 0.0112 - precision_6: 0.7895 - recall_6: 0.8182 - specificity_at_sensitivity_6: 0.9938 - sensitivity_at_specificity_6: 1.0000 - accuracy: 0.9718\n",
      "Epoch 71: val_loss did not improve from 0.02529\n",
      "\n",
      "Epoch 71: accuracy did not improve from 0.97692\n"
     ]
    },
    {
     "name": "stdout",
     "output_type": "stream",
     "text": [
      "\n",
      "Epoch 71: val_accuracy did not improve from 0.93384\n",
      "49/49 [==============================] - 175s 4s/step - loss: 0.0112 - precision_6: 0.7895 - recall_6: 0.8182 - specificity_at_sensitivity_6: 0.9938 - sensitivity_at_specificity_6: 1.0000 - accuracy: 0.9718 - val_loss: 0.0353 - val_precision_6: 0.4000 - val_recall_6: 0.4211 - val_specificity_at_sensitivity_6: 0.9287 - val_sensitivity_at_specificity_6: 0.8684 - val_accuracy: 0.9130 - lr: 5.0000e-05\n",
      "Epoch 72/100\n",
      "49/49 [==============================] - ETA: 0s - loss: 0.0100 - precision_6: 0.7563 - recall_6: 0.8182 - specificity_at_sensitivity_6: 0.9966 - sensitivity_at_specificity_6: 0.9909 - accuracy: 0.9686\n",
      "Epoch 72: val_loss did not improve from 0.02529\n",
      "\n",
      "Epoch 72: accuracy did not improve from 0.97692\n",
      "\n",
      "Epoch 72: val_accuracy did not improve from 0.93384\n",
      "49/49 [==============================] - 176s 4s/step - loss: 0.0100 - precision_6: 0.7563 - recall_6: 0.8182 - specificity_at_sensitivity_6: 0.9966 - sensitivity_at_specificity_6: 0.9909 - accuracy: 0.9686 - val_loss: 0.0452 - val_precision_6: 0.3333 - val_recall_6: 0.4211 - val_specificity_at_sensitivity_6: 0.9308 - val_sensitivity_at_specificity_6: 0.7895 - val_accuracy: 0.8979 - lr: 5.0000e-05\n",
      "Epoch 73/100\n",
      "49/49 [==============================] - ETA: 0s - loss: 0.0101 - precision_6: 0.7778 - recall_6: 0.8273 - specificity_at_sensitivity_6: 0.9979 - sensitivity_at_specificity_6: 1.0000 - accuracy: 0.9712\n",
      "Epoch 73: val_loss did not improve from 0.02529\n",
      "\n",
      "Epoch 73: accuracy did not improve from 0.97692\n",
      "\n",
      "Epoch 73: val_accuracy did not improve from 0.93384\n",
      "49/49 [==============================] - 175s 4s/step - loss: 0.0101 - precision_6: 0.7778 - recall_6: 0.8273 - specificity_at_sensitivity_6: 0.9979 - sensitivity_at_specificity_6: 1.0000 - accuracy: 0.9712 - val_loss: 0.0486 - val_precision_6: 0.3137 - val_recall_6: 0.4211 - val_specificity_at_sensitivity_6: 0.8982 - val_sensitivity_at_specificity_6: 0.8158 - val_accuracy: 0.8922 - lr: 5.0000e-05\n",
      "Epoch 74/100\n",
      "49/49 [==============================] - ETA: 0s - loss: 0.0115 - precision_6: 0.7982 - recall_6: 0.8273 - specificity_at_sensitivity_6: 0.9959 - sensitivity_at_specificity_6: 1.0000 - accuracy: 0.9731\n",
      "Epoch 74: val_loss did not improve from 0.02529\n",
      "\n",
      "Epoch 74: accuracy did not improve from 0.97692\n",
      "\n",
      "Epoch 74: val_accuracy did not improve from 0.93384\n",
      "49/49 [==============================] - 175s 4s/step - loss: 0.0115 - precision_6: 0.7982 - recall_6: 0.8273 - specificity_at_sensitivity_6: 0.9959 - sensitivity_at_specificity_6: 1.0000 - accuracy: 0.9731 - val_loss: 0.0472 - val_precision_6: 0.3200 - val_recall_6: 0.4211 - val_specificity_at_sensitivity_6: 0.9206 - val_sensitivity_at_specificity_6: 0.6842 - val_accuracy: 0.8941 - lr: 5.0000e-05\n",
      "Epoch 75/100\n",
      "49/49 [==============================] - ETA: 0s - loss: 0.0093 - precision_6: 0.7600 - recall_6: 0.8636 - specificity_at_sensitivity_6: 1.0000 - sensitivity_at_specificity_6: 1.0000 - accuracy: 0.9712\n",
      "Epoch 75: val_loss did not improve from 0.02529\n",
      "\n",
      "Epoch 75: accuracy did not improve from 0.97692\n",
      "\n",
      "Epoch 75: val_accuracy did not improve from 0.93384\n",
      "49/49 [==============================] - 177s 4s/step - loss: 0.0093 - precision_6: 0.7600 - recall_6: 0.8636 - specificity_at_sensitivity_6: 1.0000 - sensitivity_at_specificity_6: 1.0000 - accuracy: 0.9712 - val_loss: 0.0426 - val_precision_6: 0.3256 - val_recall_6: 0.3684 - val_specificity_at_sensitivity_6: 0.9185 - val_sensitivity_at_specificity_6: 0.8684 - val_accuracy: 0.8998 - lr: 5.0000e-05\n",
      "Epoch 76/100\n",
      "49/49 [==============================] - ETA: 0s - loss: 0.0100 - precision_6: 0.8198 - recall_6: 0.8273 - specificity_at_sensitivity_6: 0.9993 - sensitivity_at_specificity_6: 0.9909 - accuracy: 0.9750\n",
      "Epoch 76: val_loss did not improve from 0.02529\n",
      "\n",
      "Epoch 76: accuracy did not improve from 0.97692\n",
      "\n",
      "Epoch 76: val_accuracy did not improve from 0.93384\n",
      "49/49 [==============================] - 184s 4s/step - loss: 0.0100 - precision_6: 0.8198 - recall_6: 0.8273 - specificity_at_sensitivity_6: 0.9993 - sensitivity_at_specificity_6: 0.9909 - accuracy: 0.9750 - val_loss: 0.0544 - val_precision_6: 0.2500 - val_recall_6: 0.3421 - val_specificity_at_sensitivity_6: 0.8982 - val_sensitivity_at_specificity_6: 0.8158 - val_accuracy: 0.8790 - lr: 5.0000e-05\n",
      "Epoch 77/100\n",
      "49/49 [==============================] - ETA: 0s - loss: 0.0095 - precision_6: 0.7863 - recall_6: 0.8364 - specificity_at_sensitivity_6: 0.9979 - sensitivity_at_specificity_6: 0.9818 - accuracy: 0.9724\n",
      "Epoch 77: val_loss did not improve from 0.02529\n",
      "\n",
      "Epoch 77: accuracy did not improve from 0.97692\n",
      "\n",
      "Epoch 77: val_accuracy did not improve from 0.93384\n",
      "49/49 [==============================] - 176s 4s/step - loss: 0.0095 - precision_6: 0.7863 - recall_6: 0.8364 - specificity_at_sensitivity_6: 0.9979 - sensitivity_at_specificity_6: 0.9818 - accuracy: 0.9724 - val_loss: 0.0461 - val_precision_6: 0.3333 - val_recall_6: 0.4211 - val_specificity_at_sensitivity_6: 0.9145 - val_sensitivity_at_specificity_6: 0.7632 - val_accuracy: 0.8979 - lr: 5.0000e-05\n",
      "Epoch 78/100\n",
      "49/49 [==============================] - ETA: 0s - loss: 0.0093 - precision_6: 0.7967 - recall_6: 0.8909 - specificity_at_sensitivity_6: 0.9986 - sensitivity_at_specificity_6: 1.0000 - accuracy: 0.9763\n",
      "Epoch 78: val_loss did not improve from 0.02529\n",
      "\n",
      "Epoch 78: accuracy did not improve from 0.97692\n",
      "\n",
      "Epoch 78: val_accuracy did not improve from 0.93384\n",
      "49/49 [==============================] - 176s 4s/step - loss: 0.0093 - precision_6: 0.7967 - recall_6: 0.8909 - specificity_at_sensitivity_6: 0.9986 - sensitivity_at_specificity_6: 1.0000 - accuracy: 0.9763 - val_loss: 0.0451 - val_precision_6: 0.3469 - val_recall_6: 0.4474 - val_specificity_at_sensitivity_6: 0.9084 - val_sensitivity_at_specificity_6: 0.8421 - val_accuracy: 0.8998 - lr: 5.0000e-05\n",
      "Epoch 79/100\n",
      "49/49 [==============================] - ETA: 0s - loss: 0.0088 - precision_6: 0.8333 - recall_6: 0.9091 - specificity_at_sensitivity_6: 0.9986 - sensitivity_at_specificity_6: 1.0000 - accuracy: 0.9808\n",
      "Epoch 79: val_loss did not improve from 0.02529\n",
      "\n",
      "Epoch 79: accuracy improved from 0.97692 to 0.98077, saving model to d:/Dane/ImageTagger/RetinopathyNonProfilerativeRadioButtons/Binary/workspace\\best_accuracy_weights.h5\n",
      "\n",
      "Epoch 79: val_accuracy did not improve from 0.93384\n",
      "49/49 [==============================] - 181s 4s/step - loss: 0.0088 - precision_6: 0.8333 - recall_6: 0.9091 - specificity_at_sensitivity_6: 0.9986 - sensitivity_at_specificity_6: 1.0000 - accuracy: 0.9808 - val_loss: 0.0404 - val_precision_6: 0.4103 - val_recall_6: 0.4211 - val_specificity_at_sensitivity_6: 0.9022 - val_sensitivity_at_specificity_6: 0.8947 - val_accuracy: 0.9149 - lr: 5.0000e-05\n",
      "Epoch 80/100\n",
      "49/49 [==============================] - ETA: 0s - loss: 0.0115 - precision_6: 0.7818 - recall_6: 0.7818 - specificity_at_sensitivity_6: 0.9931 - sensitivity_at_specificity_6: 1.0000 - accuracy: 0.9692\n",
      "Epoch 80: val_loss did not improve from 0.02529\n",
      "\n",
      "Epoch 80: accuracy did not improve from 0.98077\n",
      "\n",
      "Epoch 80: val_accuracy did not improve from 0.93384\n",
      "49/49 [==============================] - 176s 4s/step - loss: 0.0115 - precision_6: 0.7818 - recall_6: 0.7818 - specificity_at_sensitivity_6: 0.9931 - sensitivity_at_specificity_6: 1.0000 - accuracy: 0.9692 - val_loss: 0.0501 - val_precision_6: 0.2941 - val_recall_6: 0.3947 - val_specificity_at_sensitivity_6: 0.9063 - val_sensitivity_at_specificity_6: 0.7368 - val_accuracy: 0.8885 - lr: 5.0000e-05\n",
      "Epoch 81/100\n",
      "49/49 [==============================] - ETA: 0s - loss: 0.0111 - precision_6: 0.8230 - recall_6: 0.8455 - specificity_at_sensitivity_6: 0.9993 - sensitivity_at_specificity_6: 0.9909 - accuracy: 0.9763\n",
      "Epoch 81: val_loss did not improve from 0.02529\n",
      "\n",
      "Epoch 81: accuracy did not improve from 0.98077\n",
      "\n",
      "Epoch 81: val_accuracy did not improve from 0.93384\n",
      "49/49 [==============================] - 176s 4s/step - loss: 0.0111 - precision_6: 0.8230 - recall_6: 0.8455 - specificity_at_sensitivity_6: 0.9993 - sensitivity_at_specificity_6: 0.9909 - accuracy: 0.9763 - val_loss: 0.0468 - val_precision_6: 0.3448 - val_recall_6: 0.5263 - val_specificity_at_sensitivity_6: 0.9267 - val_sensitivity_at_specificity_6: 0.7895 - val_accuracy: 0.8941 - lr: 5.0000e-05\n"
     ]
    },
    {
     "name": "stdout",
     "output_type": "stream",
     "text": [
      "Epoch 82/100\n",
      "49/49 [==============================] - ETA: 0s - loss: 0.0104 - precision_6: 0.8083 - recall_6: 0.8818 - specificity_at_sensitivity_6: 0.9938 - sensitivity_at_specificity_6: 1.0000 - accuracy: 0.9769\n",
      "Epoch 82: val_loss did not improve from 0.02529\n",
      "\n",
      "Epoch 82: accuracy did not improve from 0.98077\n",
      "\n",
      "Epoch 82: val_accuracy did not improve from 0.93384\n",
      "49/49 [==============================] - 176s 4s/step - loss: 0.0104 - precision_6: 0.8083 - recall_6: 0.8818 - specificity_at_sensitivity_6: 0.9938 - sensitivity_at_specificity_6: 1.0000 - accuracy: 0.9769 - val_loss: 0.0458 - val_precision_6: 0.3273 - val_recall_6: 0.4737 - val_specificity_at_sensitivity_6: 0.9145 - val_sensitivity_at_specificity_6: 0.8158 - val_accuracy: 0.8922 - lr: 5.0000e-05\n",
      "Epoch 83/100\n",
      "49/49 [==============================] - ETA: 0s - loss: 0.0087 - precision_6: 0.8509 - recall_6: 0.8818 - specificity_at_sensitivity_6: 0.9993 - sensitivity_at_specificity_6: 1.0000 - accuracy: 0.9808\n",
      "Epoch 83: val_loss did not improve from 0.02529\n",
      "\n",
      "Epoch 83: accuracy did not improve from 0.98077\n",
      "\n",
      "Epoch 83: val_accuracy did not improve from 0.93384\n",
      "49/49 [==============================] - 175s 4s/step - loss: 0.0087 - precision_6: 0.8509 - recall_6: 0.8818 - specificity_at_sensitivity_6: 0.9993 - sensitivity_at_specificity_6: 1.0000 - accuracy: 0.9808 - val_loss: 0.0490 - val_precision_6: 0.3846 - val_recall_6: 0.5263 - val_specificity_at_sensitivity_6: 0.9409 - val_sensitivity_at_specificity_6: 0.7895 - val_accuracy: 0.9055 - lr: 5.0000e-05\n",
      "Epoch 84/100\n",
      "49/49 [==============================] - ETA: 0s - loss: 0.0101 - precision_6: 0.7917 - recall_6: 0.8636 - specificity_at_sensitivity_6: 0.9966 - sensitivity_at_specificity_6: 1.0000 - accuracy: 0.9744\n",
      "Epoch 84: val_loss did not improve from 0.02529\n",
      "\n",
      "Epoch 84: accuracy did not improve from 0.98077\n",
      "\n",
      "Epoch 84: val_accuracy did not improve from 0.93384\n",
      "49/49 [==============================] - 176s 4s/step - loss: 0.0101 - precision_6: 0.7917 - recall_6: 0.8636 - specificity_at_sensitivity_6: 0.9966 - sensitivity_at_specificity_6: 1.0000 - accuracy: 0.9744 - val_loss: 0.0504 - val_precision_6: 0.2766 - val_recall_6: 0.3421 - val_specificity_at_sensitivity_6: 0.8717 - val_sensitivity_at_specificity_6: 0.7895 - val_accuracy: 0.8885 - lr: 5.0000e-05\n",
      "Epoch 85/100\n",
      "49/49 [==============================] - ETA: 0s - loss: 0.0075 - precision_6: 0.8160 - recall_6: 0.9273 - specificity_at_sensitivity_6: 1.0000 - sensitivity_at_specificity_6: 1.0000 - accuracy: 0.9801\n",
      "Epoch 85: val_loss did not improve from 0.02529\n",
      "\n",
      "Epoch 85: accuracy did not improve from 0.98077\n",
      "\n",
      "Epoch 85: val_accuracy did not improve from 0.93384\n",
      "49/49 [==============================] - 175s 4s/step - loss: 0.0075 - precision_6: 0.8160 - recall_6: 0.9273 - specificity_at_sensitivity_6: 1.0000 - sensitivity_at_specificity_6: 1.0000 - accuracy: 0.9801 - val_loss: 0.0408 - val_precision_6: 0.3261 - val_recall_6: 0.3947 - val_specificity_at_sensitivity_6: 0.9246 - val_sensitivity_at_specificity_6: 0.8158 - val_accuracy: 0.8979 - lr: 5.0000e-05\n",
      "Epoch 86/100\n",
      "49/49 [==============================] - ETA: 0s - loss: 0.0101 - precision_6: 0.8273 - recall_6: 0.8273 - specificity_at_sensitivity_6: 0.9972 - sensitivity_at_specificity_6: 0.9909 - accuracy: 0.9756\n",
      "Epoch 86: val_loss did not improve from 0.02529\n",
      "\n",
      "Epoch 86: accuracy did not improve from 0.98077\n",
      "\n",
      "Epoch 86: val_accuracy did not improve from 0.93384\n",
      "49/49 [==============================] - 176s 4s/step - loss: 0.0101 - precision_6: 0.8273 - recall_6: 0.8273 - specificity_at_sensitivity_6: 0.9972 - sensitivity_at_specificity_6: 0.9909 - accuracy: 0.9756 - val_loss: 0.0534 - val_precision_6: 0.2982 - val_recall_6: 0.4474 - val_specificity_at_sensitivity_6: 0.9043 - val_sensitivity_at_specificity_6: 0.7368 - val_accuracy: 0.8847 - lr: 5.0000e-05\n",
      "Epoch 87/100\n",
      "49/49 [==============================] - ETA: 0s - loss: 0.0103 - precision_6: 0.7944 - recall_6: 0.7727 - specificity_at_sensitivity_6: 0.9979 - sensitivity_at_specificity_6: 1.0000 - accuracy: 0.9699\n",
      "Epoch 87: val_loss did not improve from 0.02529\n",
      "\n",
      "Epoch 87: accuracy did not improve from 0.98077\n",
      "\n",
      "Epoch 87: val_accuracy did not improve from 0.93384\n",
      "49/49 [==============================] - 175s 4s/step - loss: 0.0103 - precision_6: 0.7944 - recall_6: 0.7727 - specificity_at_sensitivity_6: 0.9979 - sensitivity_at_specificity_6: 1.0000 - accuracy: 0.9699 - val_loss: 0.0434 - val_precision_6: 0.3778 - val_recall_6: 0.4474 - val_specificity_at_sensitivity_6: 0.9246 - val_sensitivity_at_specificity_6: 0.8421 - val_accuracy: 0.9074 - lr: 5.0000e-05\n",
      "Epoch 88/100\n",
      "49/49 [==============================] - ETA: 0s - loss: 0.0068 - precision_6: 0.8632 - recall_6: 0.9182 - specificity_at_sensitivity_6: 0.9993 - sensitivity_at_specificity_6: 0.9909 - accuracy: 0.9840\n",
      "Epoch 88: val_loss did not improve from 0.02529\n",
      "\n",
      "Epoch 88: accuracy improved from 0.98077 to 0.98397, saving model to d:/Dane/ImageTagger/RetinopathyNonProfilerativeRadioButtons/Binary/workspace\\best_accuracy_weights.h5\n",
      "\n",
      "Epoch 88: val_accuracy did not improve from 0.93384\n",
      "49/49 [==============================] - 181s 4s/step - loss: 0.0068 - precision_6: 0.8632 - recall_6: 0.9182 - specificity_at_sensitivity_6: 0.9993 - sensitivity_at_specificity_6: 0.9909 - accuracy: 0.9840 - val_loss: 0.0472 - val_precision_6: 0.3333 - val_recall_6: 0.3947 - val_specificity_at_sensitivity_6: 0.8880 - val_sensitivity_at_specificity_6: 0.7632 - val_accuracy: 0.8998 - lr: 5.0000e-05\n",
      "Epoch 89/100\n",
      "49/49 [==============================] - ETA: 0s - loss: 0.0097 - precision_6: 0.8440 - recall_6: 0.8364 - specificity_at_sensitivity_6: 0.9966 - sensitivity_at_specificity_6: 1.0000 - accuracy: 0.9776\n",
      "Epoch 89: val_loss did not improve from 0.02529\n",
      "\n",
      "Epoch 89: accuracy did not improve from 0.98397\n",
      "\n",
      "Epoch 89: val_accuracy did not improve from 0.93384\n",
      "49/49 [==============================] - 175s 4s/step - loss: 0.0097 - precision_6: 0.8440 - recall_6: 0.8364 - specificity_at_sensitivity_6: 0.9966 - sensitivity_at_specificity_6: 1.0000 - accuracy: 0.9776 - val_loss: 0.0438 - val_precision_6: 0.4103 - val_recall_6: 0.4211 - val_specificity_at_sensitivity_6: 0.9002 - val_sensitivity_at_specificity_6: 0.7895 - val_accuracy: 0.9149 - lr: 5.0000e-05\n",
      "Epoch 90/100\n",
      "49/49 [==============================] - ETA: 0s - loss: 0.0091 - precision_6: 0.8378 - recall_6: 0.8455 - specificity_at_sensitivity_6: 0.9993 - sensitivity_at_specificity_6: 0.9909 - accuracy: 0.9776\n",
      "Epoch 90: val_loss did not improve from 0.02529\n",
      "\n",
      "Epoch 90: accuracy did not improve from 0.98397\n",
      "\n",
      "Epoch 90: val_accuracy did not improve from 0.93384\n",
      "49/49 [==============================] - 175s 4s/step - loss: 0.0091 - precision_6: 0.8378 - recall_6: 0.8455 - specificity_at_sensitivity_6: 0.9993 - sensitivity_at_specificity_6: 0.9909 - accuracy: 0.9776 - val_loss: 0.0596 - val_precision_6: 0.3125 - val_recall_6: 0.3947 - val_specificity_at_sensitivity_6: 0.8859 - val_sensitivity_at_specificity_6: 0.6579 - val_accuracy: 0.8941 - lr: 5.0000e-05\n",
      "Epoch 91/100\n",
      "49/49 [==============================] - ETA: 0s - loss: 0.0101 - precision_6: 0.8103 - recall_6: 0.8545 - specificity_at_sensitivity_6: 0.9986 - sensitivity_at_specificity_6: 0.9909 - accuracy: 0.9756\n",
      "Epoch 91: val_loss did not improve from 0.02529\n",
      "\n",
      "Epoch 91: accuracy did not improve from 0.98397\n",
      "\n",
      "Epoch 91: val_accuracy did not improve from 0.93384\n",
      "49/49 [==============================] - 176s 4s/step - loss: 0.0101 - precision_6: 0.8103 - recall_6: 0.8545 - specificity_at_sensitivity_6: 0.9986 - sensitivity_at_specificity_6: 0.9909 - accuracy: 0.9756 - val_loss: 0.0515 - val_precision_6: 0.3019 - val_recall_6: 0.4211 - val_specificity_at_sensitivity_6: 0.8941 - val_sensitivity_at_specificity_6: 0.7632 - val_accuracy: 0.8885 - lr: 5.0000e-05\n",
      "Epoch 92/100\n",
      "49/49 [==============================] - ETA: 0s - loss: 0.0085 - precision_6: 0.8482 - recall_6: 0.8636 - specificity_at_sensitivity_6: 1.0000 - sensitivity_at_specificity_6: 1.0000 - accuracy: 0.9795\n",
      "Epoch 92: val_loss did not improve from 0.02529\n",
      "\n",
      "Epoch 92: accuracy did not improve from 0.98397\n",
      "\n",
      "Epoch 92: val_accuracy did not improve from 0.93384\n",
      "49/49 [==============================] - 176s 4s/step - loss: 0.0085 - precision_6: 0.8482 - recall_6: 0.8636 - specificity_at_sensitivity_6: 1.0000 - sensitivity_at_specificity_6: 1.0000 - accuracy: 0.9795 - val_loss: 0.0498 - val_precision_6: 0.3333 - val_recall_6: 0.4211 - val_specificity_at_sensitivity_6: 0.8941 - val_sensitivity_at_specificity_6: 0.7632 - val_accuracy: 0.8979 - lr: 5.0000e-05\n"
     ]
    },
    {
     "name": "stdout",
     "output_type": "stream",
     "text": [
      "Epoch 93/100\n",
      "49/49 [==============================] - ETA: 0s - loss: 0.0077 - precision_6: 0.8624 - recall_6: 0.8545 - specificity_at_sensitivity_6: 0.9993 - sensitivity_at_specificity_6: 1.0000 - accuracy: 0.9801\n",
      "Epoch 93: val_loss did not improve from 0.02529\n",
      "\n",
      "Epoch 93: accuracy did not improve from 0.98397\n",
      "\n",
      "Epoch 93: val_accuracy did not improve from 0.93384\n",
      "49/49 [==============================] - 175s 4s/step - loss: 0.0077 - precision_6: 0.8624 - recall_6: 0.8545 - specificity_at_sensitivity_6: 0.9993 - sensitivity_at_specificity_6: 1.0000 - accuracy: 0.9801 - val_loss: 0.0583 - val_precision_6: 0.3333 - val_recall_6: 0.4737 - val_specificity_at_sensitivity_6: 0.9185 - val_sensitivity_at_specificity_6: 0.7632 - val_accuracy: 0.8941 - lr: 5.0000e-05\n",
      "Epoch 94/100\n",
      "49/49 [==============================] - ETA: 0s - loss: 0.0104 - precision_6: 0.7692 - recall_6: 0.8182 - specificity_at_sensitivity_6: 0.9993 - sensitivity_at_specificity_6: 1.0000 - accuracy: 0.9699\n",
      "Epoch 94: val_loss did not improve from 0.02529\n",
      "\n",
      "Epoch 94: accuracy did not improve from 0.98397\n",
      "\n",
      "Epoch 94: val_accuracy did not improve from 0.93384\n",
      "49/49 [==============================] - 176s 4s/step - loss: 0.0104 - precision_6: 0.7692 - recall_6: 0.8182 - specificity_at_sensitivity_6: 0.9993 - sensitivity_at_specificity_6: 1.0000 - accuracy: 0.9699 - val_loss: 0.0433 - val_precision_6: 0.4375 - val_recall_6: 0.5526 - val_specificity_at_sensitivity_6: 0.9633 - val_sensitivity_at_specificity_6: 0.7632 - val_accuracy: 0.9168 - lr: 5.0000e-05\n",
      "Epoch 95/100\n",
      "49/49 [==============================] - ETA: 0s - loss: 0.0079 - precision_6: 0.8534 - recall_6: 0.9000 - specificity_at_sensitivity_6: 0.9979 - sensitivity_at_specificity_6: 1.0000 - accuracy: 0.9821\n",
      "Epoch 95: val_loss did not improve from 0.02529\n",
      "\n",
      "Epoch 95: accuracy did not improve from 0.98397\n",
      "\n",
      "Epoch 95: val_accuracy did not improve from 0.93384\n",
      "49/49 [==============================] - 176s 4s/step - loss: 0.0079 - precision_6: 0.8534 - recall_6: 0.9000 - specificity_at_sensitivity_6: 0.9979 - sensitivity_at_specificity_6: 1.0000 - accuracy: 0.9821 - val_loss: 0.0486 - val_precision_6: 0.3500 - val_recall_6: 0.3684 - val_specificity_at_sensitivity_6: 0.9084 - val_sensitivity_at_specificity_6: 0.6842 - val_accuracy: 0.9055 - lr: 5.0000e-05\n",
      "Epoch 96/100\n",
      "49/49 [==============================] - ETA: 0s - loss: 0.0089 - precision_6: 0.8349 - recall_6: 0.8273 - specificity_at_sensitivity_6: 1.0000 - sensitivity_at_specificity_6: 0.9909 - accuracy: 0.9763\n",
      "Epoch 96: val_loss did not improve from 0.02529\n",
      "\n",
      "Epoch 96: accuracy did not improve from 0.98397\n",
      "\n",
      "Epoch 96: val_accuracy did not improve from 0.93384\n",
      "49/49 [==============================] - 175s 4s/step - loss: 0.0089 - precision_6: 0.8349 - recall_6: 0.8273 - specificity_at_sensitivity_6: 1.0000 - sensitivity_at_specificity_6: 0.9909 - accuracy: 0.9763 - val_loss: 0.0525 - val_precision_6: 0.3585 - val_recall_6: 0.5000 - val_specificity_at_sensitivity_6: 0.9348 - val_sensitivity_at_specificity_6: 0.7632 - val_accuracy: 0.8998 - lr: 5.0000e-05\n",
      "Epoch 97/100\n",
      "49/49 [==============================] - ETA: 0s - loss: 0.0086 - precision_6: 0.8182 - recall_6: 0.9000 - specificity_at_sensitivity_6: 0.9993 - sensitivity_at_specificity_6: 0.9909 - accuracy: 0.9788\n",
      "Epoch 97: val_loss did not improve from 0.02529\n",
      "\n",
      "Epoch 97: accuracy did not improve from 0.98397\n",
      "\n",
      "Epoch 97: val_accuracy did not improve from 0.93384\n",
      "49/49 [==============================] - 175s 4s/step - loss: 0.0086 - precision_6: 0.8182 - recall_6: 0.9000 - specificity_at_sensitivity_6: 0.9993 - sensitivity_at_specificity_6: 0.9909 - accuracy: 0.9788 - val_loss: 0.0422 - val_precision_6: 0.3191 - val_recall_6: 0.3947 - val_specificity_at_sensitivity_6: 0.9308 - val_sensitivity_at_specificity_6: 0.8421 - val_accuracy: 0.8960 - lr: 5.0000e-05\n",
      "Epoch 98/100\n",
      "49/49 [==============================] - ETA: 0s - loss: 0.0089 - precision_6: 0.8522 - recall_6: 0.8909 - specificity_at_sensitivity_6: 0.9966 - sensitivity_at_specificity_6: 1.0000 - accuracy: 0.9814\n",
      "Epoch 98: val_loss did not improve from 0.02529\n",
      "\n",
      "Epoch 98: accuracy did not improve from 0.98397\n",
      "\n",
      "Epoch 98: val_accuracy did not improve from 0.93384\n",
      "49/49 [==============================] - 176s 4s/step - loss: 0.0089 - precision_6: 0.8522 - recall_6: 0.8909 - specificity_at_sensitivity_6: 0.9966 - sensitivity_at_specificity_6: 1.0000 - accuracy: 0.9814 - val_loss: 0.0530 - val_precision_6: 0.2444 - val_recall_6: 0.2895 - val_specificity_at_sensitivity_6: 0.8941 - val_sensitivity_at_specificity_6: 0.8158 - val_accuracy: 0.8847 - lr: 5.0000e-05\n",
      "Epoch 99/100\n",
      "49/49 [==============================] - ETA: 0s - loss: 0.0090 - precision_6: 0.8108 - recall_6: 0.8182 - specificity_at_sensitivity_6: 1.0000 - sensitivity_at_specificity_6: 1.0000 - accuracy: 0.9737\n",
      "Epoch 99: val_loss did not improve from 0.02529\n",
      "\n",
      "Epoch 99: accuracy did not improve from 0.98397\n",
      "\n",
      "Epoch 99: val_accuracy did not improve from 0.93384\n",
      "49/49 [==============================] - 176s 4s/step - loss: 0.0090 - precision_6: 0.8108 - recall_6: 0.8182 - specificity_at_sensitivity_6: 1.0000 - sensitivity_at_specificity_6: 1.0000 - accuracy: 0.9737 - val_loss: 0.0507 - val_precision_6: 0.3488 - val_recall_6: 0.3947 - val_specificity_at_sensitivity_6: 0.9022 - val_sensitivity_at_specificity_6: 0.7895 - val_accuracy: 0.9036 - lr: 5.0000e-05\n",
      "Epoch 100/100\n",
      "49/49 [==============================] - ETA: 0s - loss: 0.0079 - precision_6: 0.8333 - recall_6: 0.8636 - specificity_at_sensitivity_6: 1.0000 - sensitivity_at_specificity_6: 0.9909 - accuracy: 0.9782\n",
      "Epoch 100: val_loss did not improve from 0.02529\n",
      "\n",
      "Epoch 100: accuracy did not improve from 0.98397\n",
      "\n",
      "Epoch 100: val_accuracy did not improve from 0.93384\n",
      "49/49 [==============================] - 175s 4s/step - loss: 0.0079 - precision_6: 0.8333 - recall_6: 0.8636 - specificity_at_sensitivity_6: 1.0000 - sensitivity_at_specificity_6: 0.9909 - accuracy: 0.9782 - val_loss: 0.0474 - val_precision_6: 0.3333 - val_recall_6: 0.4474 - val_specificity_at_sensitivity_6: 0.9104 - val_sensitivity_at_specificity_6: 0.7895 - val_accuracy: 0.8960 - lr: 5.0000e-05\n"
     ]
    }
   ],
   "source": [
    "model.compile(optimizer = 'adam', loss = weighted_binary_crossentropy, metrics=[keras.metrics.Precision(), keras.metrics.Recall(), keras.metrics.SpecificityAtSensitivity(0.5), keras.metrics.SensitivityAtSpecificity(0.5), 'accuracy'])\n",
    "\n",
    "json_string = model.to_json()\n",
    "open(training_workspace_folder + 'TL_model_architecture.json', 'w').write(json_string)\n",
    "history = model.fit(\n",
    "    train_generator,\n",
    "    validation_data = validation_generator,\n",
    "    epochs = 100,\n",
    "    callbacks = [checkpointer, checkpointer2, checkpointer3, learning_rate_scheduler_callback, csv_logger]\n",
    ")"
   ]
  },
  {
   "cell_type": "raw",
   "metadata": {},
   "source": [
    "#model.compile(optimizer = 'adam', loss = 'categorical_crossentropy', metrics = ['accuracy'])\n",
    "\n",
    "model.compile(optimizer = 'adam', loss = weighted_binary_crossentropy, metrics = ['binary_accuracy'])\n",
    "\n",
    "json_string = model.to_json()\n",
    "open(training_workspace_folder + 'TL_model_architecture.json', 'w').write(json_string)\n",
    "history = model.fit(\n",
    "    train_generator,\n",
    "    validation_data = validation_generator,\n",
    "    epochs = 100,\n",
    "    callbacks = [checkpointer, checkpointer2, checkpointer3, learning_rate_scheduler_callback, csv_logger]\n",
    ")"
   ]
  },
  {
   "cell_type": "raw",
   "metadata": {},
   "source": [
    "#model.compile(optimizer = 'adam', loss = 'categorical_crossentropy', metrics = ['accuracy'])\n",
    "\n",
    "model.compile(optimizer = 'adam', loss = 'binary_crossentropy', metrics = ['binary_accuracy'])\n",
    "\n",
    "json_string = model.to_json()\n",
    "open(training_workspace_folder + 'TL_model_architecture.json', 'w').write(json_string)\n",
    "history = model.fit(\n",
    "    train_generator,\n",
    "    validation_data = validation_generator,\n",
    "    epochs = 100,\n",
    "    callbacks = [checkpointer, checkpointer2, checkpointer3, learning_rate_scheduler_callback, csv_logger],\n",
    "    class_weight = {0: 2400, 1: 180}\n",
    ")"
   ]
  },
  {
   "cell_type": "code",
   "execution_count": 207,
   "metadata": {},
   "outputs": [
    {
     "data": {
      "image/png": "[encoded data removed]",
      "text/plain": [
       "<Figure size 640x480 with 1 Axes>"
      ]
     },
     "metadata": {},
     "output_type": "display_data"
    },
    {
     "data": {
      "image/png": "[encoded data removed]",
      "text/plain": [
       "<Figure size 640x480 with 1 Axes>"
      ]
     },
     "metadata": {},
     "output_type": "display_data"
    }
   ],
   "source": [
    "plt.plot(history.history['accuracy'])\n",
    "plt.plot(history.history['val_accuracy'])\n",
    "plt.title('model accuracy')\n",
    "plt.ylabel('val_accuracy')\n",
    "plt.xlabel('epoch')\n",
    "plt.legend(['train', 'validation'], loc='upper left')\n",
    "plt.show()\n",
    "# \"Loss\"\n",
    "plt.plot(history.history['loss'])\n",
    "plt.plot(history.history['val_loss'])\n",
    "plt.title('model loss')\n",
    "plt.ylabel('loss')\n",
    "plt.xlabel('epoch')\n",
    "plt.legend(['train', 'validation'], loc='upper left')\n",
    "plt.show()"
   ]
  },
  {
   "cell_type": "raw",
   "metadata": {},
   "source": [
    "plt.plot(history.history['auc_1'])\n",
    "plt.title('model auc_1')\n",
    "plt.ylabel('val_binary_accuracy')\n",
    "plt.xlabel('epoch')\n",
    "plt.legend(['train', 'validation'], loc='upper left')\n",
    "plt.show()\n",
    "# \"Loss\"\n",
    "plt.plot(history.history['loss'])\n",
    "plt.plot(history.history['val_loss'])\n",
    "plt.title('model loss')\n",
    "plt.ylabel('loss')\n",
    "plt.xlabel('epoch')\n",
    "plt.legend(['train', 'validation'], loc='upper left')\n",
    "plt.show()"
   ]
  },
  {
   "cell_type": "raw",
   "metadata": {},
   "source": [
    "#model.compile(optimizer = 'adam', loss = 'categorical_crossentropy', metrics = ['accuracy'])\n",
    "\n",
    "model.compile(optimizer = 'adam', loss = selected_loss_function, metrics = [selected_metrics])\n",
    "\n",
    "json_string = model.to_json()\n",
    "open(training_workspace_folder + 'TL_model_architecture.json', 'w').write(json_string)\n",
    "history = model.fit(\n",
    "    train_generator,\n",
    "    validation_data = validation_generator,\n",
    "    epochs = 100,\n",
    "    callbacks = [checkpointer, checkpointer2, checkpointer3, learning_rate_scheduler_callback, csv_logger],\n",
    "    class_weight = {0: 2400, 1: 180}\n",
    ")"
   ]
  },
  {
   "cell_type": "raw",
   "metadata": {},
   "source": [
    "plt.plot(history.history['sparse_categorical_accuracy'])\n",
    "plt.plot(history.history['val_sparse_categorical_accuracy'])\n",
    "plt.title('model accuracy')\n",
    "plt.ylabel('sparse_categorical_accuracy')\n",
    "plt.xlabel('epoch')\n",
    "plt.legend(['train', 'validation'], loc='upper left')\n",
    "plt.show()\n",
    "# \"Loss\"\n",
    "plt.plot(history.history['loss'])\n",
    "plt.plot(history.history['val_loss'])\n",
    "plt.title('model loss')\n",
    "plt.ylabel('loss')\n",
    "plt.xlabel('epoch')\n",
    "plt.legend(['train', 'validation'], loc='upper left')\n",
    "plt.show()"
   ]
  },
  {
   "cell_type": "code",
   "execution_count": 33,
   "metadata": {},
   "outputs": [],
   "source": [
    "best_model_1 = keras.models.load_model(\"d:/Dane/ImageTagger/RetinopathyNonProfilerativeRadioButtons/Binary/workspace/9-VGG19-YClahe-bin-98397-93384-100-epochs-multi-metrics/best_val_loss_weights.h5\", custom_objects = { \"weighted_binary_crossentropy\" : weighted_binary_crossentropy })"
   ]
  },
  {
   "cell_type": "code",
   "execution_count": 34,
   "metadata": {},
   "outputs": [
    {
     "name": "stderr",
     "output_type": "stream",
     "text": [
      "C:\\Users\\ax\\AppData\\Local\\Temp\\ipykernel_43728\\4279285764.py:2: UserWarning: `Model.evaluate_generator` is deprecated and will be removed in a future version. Please use `Model.evaluate`, which supports generators.\n",
      "  score_seg_1 = best_model_1.evaluate_generator(test_generator)\n"
     ]
    }
   ],
   "source": [
    "#scoreSeg = model.evaluate_generator(test_generator, 400)\n",
    "score_seg_1 = best_model_1.evaluate_generator(test_generator)"
   ]
  },
  {
   "cell_type": "code",
   "execution_count": 35,
   "metadata": {},
   "outputs": [
    {
     "name": "stdout",
     "output_type": "stream",
     "text": [
      "[0.0388769768178463, 0.29411765933036804, 0.1515151560306549, 0.857740581035614, 0.8181818127632141, 0.9217221140861511]\n",
      "['loss', 'precision_6', 'recall_6', 'specificity_at_sensitivity_6', 'sensitivity_at_specificity_6', 'accuracy']\n"
     ]
    }
   ],
   "source": [
    "print(score_seg_1)\n",
    "print(best_model_1.metrics_names)"
   ]
  },
  {
   "cell_type": "code",
   "execution_count": 37,
   "metadata": {},
   "outputs": [
    {
     "ename": "ResourceExhaustedError",
     "evalue": "OOM when allocating tensor with shape[25088,4092] and type float on /job:localhost/replica:0/task:0/device:GPU:0 by allocator GPU_0_bfc [Op:RandomUniform]",
     "output_type": "error",
     "traceback": [
      "\u001b[1;31m---------------------------------------------------------------------------\u001b[0m",
      "\u001b[1;31mResourceExhaustedError\u001b[0m                    Traceback (most recent call last)",
      "Cell \u001b[1;32mIn[37], line 1\u001b[0m\n\u001b[1;32m----> 1\u001b[0m best_model_2 \u001b[38;5;241m=\u001b[39m \u001b[43mkeras\u001b[49m\u001b[38;5;241;43m.\u001b[39;49m\u001b[43mmodels\u001b[49m\u001b[38;5;241;43m.\u001b[39;49m\u001b[43mload_model\u001b[49m\u001b[43m(\u001b[49m\u001b[38;5;124;43m\"\u001b[39;49m\u001b[38;5;124;43md:/Dane/ImageTagger/RetinopathyNonProfilerativeRadioButtons/Binary/workspace/9-VGG19-YClahe-bin-98397-93384-100-epochs-multi-metrics/best_val_accuracy_weights.h5\u001b[39;49m\u001b[38;5;124;43m\"\u001b[39;49m\u001b[43m,\u001b[49m\u001b[43m \u001b[49m\u001b[43mcustom_objects\u001b[49m\u001b[43m \u001b[49m\u001b[38;5;241;43m=\u001b[39;49m\u001b[43m \u001b[49m\u001b[43m{\u001b[49m\u001b[43m \u001b[49m\u001b[38;5;124;43m\"\u001b[39;49m\u001b[38;5;124;43mweighted_binary_crossentropy\u001b[39;49m\u001b[38;5;124;43m\"\u001b[39;49m\u001b[43m \u001b[49m\u001b[43m:\u001b[49m\u001b[43m \u001b[49m\u001b[43mweighted_binary_crossentropy\u001b[49m\u001b[43m \u001b[49m\u001b[43m}\u001b[49m\u001b[43m)\u001b[49m\n",
      "File \u001b[1;32mC:\\Programs\\anaconda3\\lib\\site-packages\\keras\\utils\\traceback_utils.py:67\u001b[0m, in \u001b[0;36mfilter_traceback.<locals>.error_handler\u001b[1;34m(*args, **kwargs)\u001b[0m\n\u001b[0;32m     65\u001b[0m \u001b[38;5;28;01mexcept\u001b[39;00m \u001b[38;5;167;01mException\u001b[39;00m \u001b[38;5;28;01mas\u001b[39;00m e:  \u001b[38;5;66;03m# pylint: disable=broad-except\u001b[39;00m\n\u001b[0;32m     66\u001b[0m   filtered_tb \u001b[38;5;241m=\u001b[39m _process_traceback_frames(e\u001b[38;5;241m.\u001b[39m__traceback__)\n\u001b[1;32m---> 67\u001b[0m   \u001b[38;5;28;01mraise\u001b[39;00m e\u001b[38;5;241m.\u001b[39mwith_traceback(filtered_tb) \u001b[38;5;28;01mfrom\u001b[39;00m \u001b[38;5;28mNone\u001b[39m\n\u001b[0;32m     68\u001b[0m \u001b[38;5;28;01mfinally\u001b[39;00m:\n\u001b[0;32m     69\u001b[0m   \u001b[38;5;28;01mdel\u001b[39;00m filtered_tb\n",
      "File \u001b[1;32mC:\\Programs\\anaconda3\\lib\\site-packages\\keras\\backend.py:1920\u001b[0m, in \u001b[0;36mRandomGenerator.random_uniform\u001b[1;34m(self, shape, minval, maxval, dtype)\u001b[0m\n\u001b[0;32m   1917\u001b[0m \u001b[38;5;28;01mif\u001b[39;00m \u001b[38;5;28mself\u001b[39m\u001b[38;5;241m.\u001b[39m_generator:\n\u001b[0;32m   1918\u001b[0m   \u001b[38;5;28;01mreturn\u001b[39;00m \u001b[38;5;28mself\u001b[39m\u001b[38;5;241m.\u001b[39m_generator\u001b[38;5;241m.\u001b[39muniform(\n\u001b[0;32m   1919\u001b[0m       shape\u001b[38;5;241m=\u001b[39mshape, minval\u001b[38;5;241m=\u001b[39mminval, maxval\u001b[38;5;241m=\u001b[39mmaxval, dtype\u001b[38;5;241m=\u001b[39mdtype)\n\u001b[1;32m-> 1920\u001b[0m \u001b[38;5;28;01mreturn\u001b[39;00m \u001b[43mtf\u001b[49m\u001b[38;5;241;43m.\u001b[39;49m\u001b[43mrandom\u001b[49m\u001b[38;5;241;43m.\u001b[39;49m\u001b[43muniform\u001b[49m\u001b[43m(\u001b[49m\n\u001b[0;32m   1921\u001b[0m \u001b[43m    \u001b[49m\u001b[43mshape\u001b[49m\u001b[38;5;241;43m=\u001b[39;49m\u001b[43mshape\u001b[49m\u001b[43m,\u001b[49m\u001b[43m \u001b[49m\u001b[43mminval\u001b[49m\u001b[38;5;241;43m=\u001b[39;49m\u001b[43mminval\u001b[49m\u001b[43m,\u001b[49m\u001b[43m \u001b[49m\u001b[43mmaxval\u001b[49m\u001b[38;5;241;43m=\u001b[39;49m\u001b[43mmaxval\u001b[49m\u001b[43m,\u001b[49m\u001b[43m \u001b[49m\u001b[43mdtype\u001b[49m\u001b[38;5;241;43m=\u001b[39;49m\u001b[43mdtype\u001b[49m\u001b[43m,\u001b[49m\n\u001b[0;32m   1922\u001b[0m \u001b[43m    \u001b[49m\u001b[43mseed\u001b[49m\u001b[38;5;241;43m=\u001b[39;49m\u001b[38;5;28;43mself\u001b[39;49m\u001b[38;5;241;43m.\u001b[39;49m\u001b[43mmake_legacy_seed\u001b[49m\u001b[43m(\u001b[49m\u001b[43m)\u001b[49m\u001b[43m)\u001b[49m\n",
      "\u001b[1;31mResourceExhaustedError\u001b[0m: OOM when allocating tensor with shape[25088,4092] and type float on /job:localhost/replica:0/task:0/device:GPU:0 by allocator GPU_0_bfc [Op:RandomUniform]"
     ]
    }
   ],
   "source": [
    "best_model_2 = keras.models.load_model(\"d:/Dane/ImageTagger/RetinopathyNonProfilerativeRadioButtons/Binary/workspace/9-VGG19-YClahe-bin-98397-93384-100-epochs-multi-metrics/best_val_accuracy_weights.h5\", custom_objects = { \"weighted_binary_crossentropy\" : weighted_binary_crossentropy })"
   ]
  },
  {
   "cell_type": "code",
   "execution_count": null,
   "metadata": {},
   "outputs": [],
   "source": [
    "print(score_seg_2)\n",
    "print(best_model_2.metrics_names)"
   ]
  },
  {
   "cell_type": "code",
   "execution_count": null,
   "metadata": {},
   "outputs": [],
   "source": [
    "best_model_3 = keras.models.load_model(\"d:/Dane/ImageTagger/RetinopathyNonProfilerativeRadioButtons/Binary/workspace/9-VGG19-YClahe-bin-98397-93384-100-epochs-multi-metrics/best_accuracy_weights.h5\", custom_objects = { \"weighted_binary_crossentropy\" : weighted_binary_crossentropy })"
   ]
  },
  {
   "cell_type": "code",
   "execution_count": 339,
   "metadata": {},
   "outputs": [
    {
     "name": "stderr",
     "output_type": "stream",
     "text": [
      "C:\\Users\\ax\\AppData\\Local\\Temp\\ipykernel_8156\\908860726.py:1: UserWarning: `Model.evaluate_generator` is deprecated and will be removed in a future version. Please use `Model.evaluate`, which supports generators.\n",
      "  score_seg_2 = best_model_2.evaluate_generator(test_generator)\n"
     ]
    }
   ],
   "source": [
    "score_seg_2 = best_model_2.evaluate_generator(test_generator)"
   ]
  },
  {
   "cell_type": "code",
   "execution_count": 340,
   "metadata": {},
   "outputs": [
    {
     "name": "stderr",
     "output_type": "stream",
     "text": [
      "C:\\Users\\ax\\AppData\\Local\\Temp\\ipykernel_8156\\1932655602.py:1: UserWarning: `Model.evaluate_generator` is deprecated and will be removed in a future version. Please use `Model.evaluate`, which supports generators.\n",
      "  score_seg_3 = best_model_3.evaluate_generator(test_generator)\n"
     ]
    }
   ],
   "source": [
    "score_seg_3 = best_model_3.evaluate_generator(test_generator)"
   ]
  },
  {
   "cell_type": "code",
   "execution_count": 341,
   "metadata": {},
   "outputs": [
    {
     "name": "stdout",
     "output_type": "stream",
     "text": [
      "[0.02817726507782936, 0.908023476600647]\n",
      "[0.03088008239865303, 0.9041095972061157]\n",
      "[0.02344031259417534, 0.9178082346916199]\n"
     ]
    }
   ],
   "source": [
    "print(score_seg_3)\n",
    "print(best_model_3.metrics_names)"
   ]
  },
  {
   "cell_type": "code",
   "execution_count": 342,
   "metadata": {},
   "outputs": [
    {
     "data": {
      "text/plain": [
       "['loss', 'binary_accuracy']"
      ]
     },
     "execution_count": 342,
     "metadata": {},
     "output_type": "execute_result"
    }
   ],
   "source": [
    "best_model_3.metrics_names"
   ]
  },
  {
   "cell_type": "code",
   "execution_count": 36,
   "metadata": {},
   "outputs": [
    {
     "name": "stderr",
     "output_type": "stream",
     "text": [
      "C:\\Users\\ax\\AppData\\Local\\Temp\\ipykernel_43728\\3029224857.py:2: UserWarning: `Model.predict_generator` is deprecated and will be removed in a future version. Please use `Model.predict`, which supports generators.\n",
      "  Y_pred = model.predict_generator(test_data_generator)\n"
     ]
    }
   ],
   "source": [
    "cm = get_confusion_matrix(best_model_1, test_generator)"
   ]
  },
  {
   "cell_type": "code",
   "execution_count": 37,
   "metadata": {},
   "outputs": [
    {
     "data": {
      "text/plain": [
       "array([[478,   0],\n",
       "       [ 33,   0]], dtype=int64)"
      ]
     },
     "execution_count": 37,
     "metadata": {},
     "output_type": "execute_result"
    }
   ],
   "source": [
    "cm"
   ]
  },
  {
   "cell_type": "code",
   "execution_count": 38,
   "metadata": {},
   "outputs": [
    {
     "data": {
      "image/png": "[encoded data removed]",
      "text/plain": [
       "<Figure size 640x480 with 2 Axes>"
      ]
     },
     "metadata": {},
     "output_type": "display_data"
    }
   ],
   "source": [
    "labels = [\"No\", \"Yes\"]\n",
    "disp = ConfusionMatrixDisplay(confusion_matrix = cm, display_labels = labels)\n",
    "disp.plot(cmap = plt.cm.Blues)\n",
    "plt.show()"
   ]
  },
  {
   "cell_type": "code",
   "execution_count": null,
   "metadata": {},
   "outputs": [],
   "source": []
  }
 ],
 "metadata": {
  "kernelspec": {
   "display_name": "Python 3 (ipykernel)",
   "language": "python",
   "name": "python3"
  },
  "language_info": {
   "codemirror_mode": {
    "name": "ipython",
    "version": 3
   },
   "file_extension": ".py",
   "mimetype": "text/x-python",
   "name": "python",
   "nbconvert_exporter": "python",
   "pygments_lexer": "ipython3",
   "version": "3.10.9"
  }
 },
 "nbformat": 4,
 "nbformat_minor": 4
}
