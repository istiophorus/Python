{
 "cells": [
  {
   "cell_type": "code",
   "execution_count": 47,
   "metadata": {
    "collapsed": true
   },
   "outputs": [],
   "source": [
    "import nltk\n",
    "from nltk.tokenize import word_tokenize, sent_tokenize\n",
    "from nltk.corpus import stopwords\n",
    "from string import punctuation\n",
    "from collections import defaultdict\n",
    "from nltk.collocations import *\n",
    "from nltk.corpus import wordnet as wn\n",
    "from nltk.wsd import lesk\n",
    "from nltk.probability import FreqDist\n",
    "from heapq import nlargest"
   ]
  },
  {
   "cell_type": "code",
   "execution_count": 24,
   "metadata": {
    "collapsed": true
   },
   "outputs": [],
   "source": [
    "def read_file(file_path):\n",
    "    with open(file_path, 'r') as content_file:\n",
    "        content = content_file.read()\n",
    "        \n",
    "    return content"
   ]
  },
  {
   "cell_type": "code",
   "execution_count": 25,
   "metadata": {
    "collapsed": true
   },
   "outputs": [],
   "source": [
    "def preprocess(txt):\n",
    "    return txt.replace(\"’\", \" \").replace(\"“\", \" \").replace(\"”\", \" \").replace(\"\\n\", \" \")"
   ]
  },
  {
   "cell_type": "code",
   "execution_count": 26,
   "metadata": {
    "collapsed": true
   },
   "outputs": [],
   "source": [
    "def get_stopwords():\n",
    "    result = set(stopwords.words('english') + list(punctuation) + ['\\'', '’', '\"', '“', '”'])\n",
    "    return result"
   ]
  },
  {
   "cell_type": "code",
   "execution_count": 27,
   "metadata": {
    "collapsed": true
   },
   "outputs": [],
   "source": [
    "def create_sentences_map(txt):\n",
    "    sentences = sent_tokenize(txt)\n",
    "   \n",
    "    sentencesMap = {key: value for (key, value) in enumerate(sentences)}\n",
    "        \n",
    "    return sentencesMap"
   ]
  },
  {
   "cell_type": "code",
   "execution_count": 28,
   "metadata": {
    "collapsed": true
   },
   "outputs": [],
   "source": [
    "def create_words_map(sentencesMap):\n",
    "    wordsMap = {key: word_tokenize(sentencesMap[key]) for key in sentencesMap}\n",
    "       \n",
    "    return wordsMap"
   ]
  },
  {
   "cell_type": "code",
   "execution_count": 29,
   "metadata": {
    "collapsed": true
   },
   "outputs": [],
   "source": [
    "def remove_stopwords(words):\n",
    "    customStopWords = get_stopwords()\n",
    "    \n",
    "    wordsFiltered = [word for word in words if word not in customStopWords]\n",
    "    \n",
    "    return wordsFiltered"
   ]
  },
  {
   "cell_type": "code",
   "execution_count": 30,
   "metadata": {
    "collapsed": true
   },
   "outputs": [],
   "source": [
    "def clean_words_map(wordsMap):\n",
    "    cleanWordsMap = {}\n",
    "    for p in wordsMap:\n",
    "        words = wordsMap[p]\n",
    "        cleanWords = remove_stopwords(words)\n",
    "        cleanWordsMap[p] = cleanWords\n",
    "        \n",
    "    return cleanWordsMap"
   ]
  },
  {
   "cell_type": "code",
   "execution_count": 31,
   "metadata": {
    "collapsed": true
   },
   "outputs": [],
   "source": [
    "def create_raw_words(input):\n",
    "    customStopWords =  get_stopwords()\n",
    "    rawWords = [word for word in word_tokenize(txt) if word not in customStopWords]\n",
    "    return rawWords"
   ]
  },
  {
   "cell_type": "code",
   "execution_count": 32,
   "metadata": {
    "collapsed": true
   },
   "outputs": [],
   "source": [
    "def count_words(words):\n",
    "    result = defaultdict(int)\n",
    "    for word in words:\n",
    "        result[word] = result[word] + 1\n",
    "    return result"
   ]
  },
  {
   "cell_type": "code",
   "execution_count": 33,
   "metadata": {
    "collapsed": true
   },
   "outputs": [],
   "source": [
    "def calculate_sentence_popularity_index(wordsCount, sentenceWords):\n",
    "    result = 0\n",
    "    for word in sentenceWords:\n",
    "        if word in wordsCount:\n",
    "            result += wordsCount[word]\n",
    "            \n",
    "    return result"
   ]
  },
  {
   "cell_type": "code",
   "execution_count": 34,
   "metadata": {
    "collapsed": true
   },
   "outputs": [],
   "source": [
    "def calculate_text_popularity_index(wordsCount, cleanWordsMap):\n",
    "    result = {}\n",
    "    for p in cleanWordsMap:\n",
    "        ix = calculate_sentence_popularity_index(wordsCount, cleanWordsMap[p])\n",
    "        result[p] = ix\n",
    "        \n",
    "    return result"
   ]
  },
  {
   "cell_type": "code",
   "execution_count": 38,
   "metadata": {
    "collapsed": true
   },
   "outputs": [],
   "source": [
    "def create_abstract_from_text(inputText, sentencesCount):\n",
    "    txt = preprocess(inputText)\n",
    "    sentencesMap = create_sentences_map(txt)\n",
    "    wordsMap = create_words_map(sentencesMap)\n",
    "    cleanWordsMap = clean_words_map(wordsMap)\n",
    "    rawWords = create_raw_words(txt)\n",
    "    wordsCount = count_words(rawWords)\n",
    "    popIndex = calculate_text_popularity_index(wordsCount, cleanWordsMap)\n",
    "    popIndexList = [(k, popIndex[k]) for k in popIndex]\n",
    "    sortedPopIndexList = sorted(popIndexList, key = lambda p: p[1], reverse = True)\n",
    "    \n",
    "    result = []\n",
    "    \n",
    "    for ix in range(sentencesCount):\n",
    "        if ix >= len(sentencesMap):\n",
    "            break\n",
    "        result.append(sentencesMap[sortedPopIndexList[ix][0]])\n",
    "        \n",
    "    return result    "
   ]
  },
  {
   "cell_type": "code",
   "execution_count": 70,
   "metadata": {
    "collapsed": true
   },
   "outputs": [],
   "source": [
    "def create_abstract_from_text_beta(inputText, sentencesCount):\n",
    "    assert sentencesCount > 0\n",
    "    \n",
    "    txt = preprocess(inputText)\n",
    "    sentencesMap = create_sentences_map(txt)\n",
    "    \n",
    "    assert sentencesCount <= len(sentencesMap)\n",
    "    \n",
    "    wordsMap = create_words_map(sentencesMap)\n",
    "    cleanWordsMap = clean_words_map(wordsMap)\n",
    "    rawWords = create_raw_words(txt)\n",
    "    wordsCount = FreqDist(rawWords)\n",
    "    popIndex = calculate_text_popularity_index(wordsCount, cleanWordsMap)\n",
    "    nlarge = nlargest(sentencesCount, popIndex, key = popIndex.get)\n",
    "    \n",
    "    result = []\n",
    "    \n",
    "    for ix in range(len(nlarge)):\n",
    "        if ix >= len(sentencesMap):\n",
    "            break\n",
    "        result.append(sentencesMap[nlarge[ix]])\n",
    "        \n",
    "    return result     "
   ]
  },
  {
   "cell_type": "code",
   "execution_count": 71,
   "metadata": {
    "collapsed": true
   },
   "outputs": [],
   "source": [
    "txt = read_file('d:/sample_text.txt')"
   ]
  },
  {
   "cell_type": "code",
   "execution_count": 72,
   "metadata": {},
   "outputs": [
    {
     "data": {
      "text/plain": [
       "['With a history of innovation spanning more than 130 years, ABB is today a leader in digital industries with four customer-focused, globally leading businesses: Electrification, Industrial Automation, Motion, and Robotics & Discrete Automation, supported by its common ABB Ability™ digital platform.',\n",
       " 'They were shown how iconic, two-armed YuMi® robots together with single-armed YuMi® put together wristwatches individually with unparalleled precision, using the revolutionary versatile transport system from ABB s newly formed Robotics & Discrete Automation business.']"
      ]
     },
     "execution_count": 72,
     "metadata": {},
     "output_type": "execute_result"
    }
   ],
   "source": [
    "create_abstract_from_text(txt, 2)"
   ]
  },
  {
   "cell_type": "code",
   "execution_count": 74,
   "metadata": {},
   "outputs": [
    {
     "data": {
      "text/plain": [
       "['With a history of innovation spanning more than 130 years, ABB is today a leader in digital industries with four customer-focused, globally leading businesses: Electrification, Industrial Automation, Motion, and Robotics & Discrete Automation, supported by its common ABB Ability™ digital platform.',\n",
       " 'They were shown how iconic, two-armed YuMi® robots together with single-armed YuMi® put together wristwatches individually with unparalleled precision, using the revolutionary versatile transport system from ABB s newly formed Robotics & Discrete Automation business.']"
      ]
     },
     "execution_count": 74,
     "metadata": {},
     "output_type": "execute_result"
    }
   ],
   "source": [
    "create_abstract_from_text_beta(txt, 2)"
   ]
  },
  {
   "cell_type": "code",
   "execution_count": null,
   "metadata": {
    "collapsed": true
   },
   "outputs": [],
   "source": []
  }
 ],
 "metadata": {
  "kernelspec": {
   "display_name": "Python 3",
   "language": "python",
   "name": "python3"
  },
  "language_info": {
   "codemirror_mode": {
    "name": "ipython",
    "version": 3
   },
   "file_extension": ".py",
   "mimetype": "text/x-python",
   "name": "python",
   "nbconvert_exporter": "python",
   "pygments_lexer": "ipython3",
   "version": "3.6.2"
  }
 },
 "nbformat": 4,
 "nbformat_minor": 2
}
