{
 "cells": [
  {
   "cell_type": "code",
   "execution_count": 1,
   "metadata": {},
   "outputs": [],
   "source": [
    "import pandas as pd\n",
    "import numpy as np\n",
    "import matplotlib.pyplot as plt"
   ]
  },
  {
   "cell_type": "code",
   "execution_count": 3,
   "metadata": {},
   "outputs": [],
   "source": [
    "df = pd.read_csv(\"q:/Data.3/gradedata2.csv\")"
   ]
  },
  {
   "cell_type": "code",
   "execution_count": 4,
   "metadata": {},
   "outputs": [
    {
     "data": {
      "text/html": [
       "<div>\n",
       "<style scoped>\n",
       "    .dataframe tbody tr th:only-of-type {\n",
       "        vertical-align: middle;\n",
       "    }\n",
       "\n",
       "    .dataframe tbody tr th {\n",
       "        vertical-align: top;\n",
       "    }\n",
       "\n",
       "    .dataframe thead th {\n",
       "        text-align: right;\n",
       "    }\n",
       "</style>\n",
       "<table border=\"1\" class=\"dataframe\">\n",
       "  <thead>\n",
       "    <tr style=\"text-align: right;\">\n",
       "      <th></th>\n",
       "      <th>fname</th>\n",
       "      <th>lname</th>\n",
       "      <th>gender</th>\n",
       "      <th>age</th>\n",
       "      <th>exercise</th>\n",
       "      <th>hours</th>\n",
       "      <th>grade</th>\n",
       "      <th>address</th>\n",
       "    </tr>\n",
       "  </thead>\n",
       "  <tbody>\n",
       "    <tr>\n",
       "      <th>0</th>\n",
       "      <td>Marcia</td>\n",
       "      <td>Pugh</td>\n",
       "      <td>female</td>\n",
       "      <td>17</td>\n",
       "      <td>3</td>\n",
       "      <td>10</td>\n",
       "      <td>82.4</td>\n",
       "      <td>7379 Highland Rd. , Dublin, GA 31021</td>\n",
       "    </tr>\n",
       "    <tr>\n",
       "      <th>1</th>\n",
       "      <td>Kadeem</td>\n",
       "      <td>Morrison</td>\n",
       "      <td>male</td>\n",
       "      <td>18</td>\n",
       "      <td>4</td>\n",
       "      <td>4</td>\n",
       "      <td>78.2</td>\n",
       "      <td>8 Bayport St. , Honolulu, HI 96815</td>\n",
       "    </tr>\n",
       "    <tr>\n",
       "      <th>2</th>\n",
       "      <td>Nash</td>\n",
       "      <td>Powell</td>\n",
       "      <td>male</td>\n",
       "      <td>18</td>\n",
       "      <td>5</td>\n",
       "      <td>9</td>\n",
       "      <td>79.3</td>\n",
       "      <td>Encino, CA 91316, 3 Lilac Street</td>\n",
       "    </tr>\n",
       "    <tr>\n",
       "      <th>3</th>\n",
       "      <td>Noelani</td>\n",
       "      <td>Wagner</td>\n",
       "      <td>female</td>\n",
       "      <td>14</td>\n",
       "      <td>2</td>\n",
       "      <td>7</td>\n",
       "      <td>83.2</td>\n",
       "      <td>Riverview, FL 33569, 9998 North Smith Dr.</td>\n",
       "    </tr>\n",
       "    <tr>\n",
       "      <th>4</th>\n",
       "      <td>Noelani</td>\n",
       "      <td>Cherry</td>\n",
       "      <td>female</td>\n",
       "      <td>18</td>\n",
       "      <td>4</td>\n",
       "      <td>15</td>\n",
       "      <td>87.4</td>\n",
       "      <td>97 SE. Ocean Street , Bethlehem, PA 18015</td>\n",
       "    </tr>\n",
       "  </tbody>\n",
       "</table>\n",
       "</div>"
      ],
      "text/plain": [
       "     fname     lname  gender  age  exercise  hours  grade  \\\n",
       "0   Marcia      Pugh  female   17         3     10   82.4   \n",
       "1   Kadeem  Morrison    male   18         4      4   78.2   \n",
       "2     Nash    Powell    male   18         5      9   79.3   \n",
       "3  Noelani    Wagner  female   14         2      7   83.2   \n",
       "4  Noelani    Cherry  female   18         4     15   87.4   \n",
       "\n",
       "                                      address  \n",
       "0        7379 Highland Rd. , Dublin, GA 31021  \n",
       "1          8 Bayport St. , Honolulu, HI 96815  \n",
       "2           Encino, CA 91316, 3 Lilac Street   \n",
       "3  Riverview, FL 33569, 9998 North Smith Dr.   \n",
       "4   97 SE. Ocean Street , Bethlehem, PA 18015  "
      ]
     },
     "execution_count": 4,
     "metadata": {},
     "output_type": "execute_result"
    }
   ],
   "source": [
    "df.head()"
   ]
  },
  {
   "cell_type": "code",
   "execution_count": 9,
   "metadata": {},
   "outputs": [],
   "source": [
    "df2 = df.drop(labels=['address', 'fname', 'lname'], axis=1)"
   ]
  },
  {
   "cell_type": "code",
   "execution_count": 18,
   "metadata": {},
   "outputs": [],
   "source": [
    "def nans(df): \n",
    "    return df[df.isnull().any(axis=1)]"
   ]
  },
  {
   "cell_type": "code",
   "execution_count": 27,
   "metadata": {},
   "outputs": [],
   "source": [
    "def convert_gender_to_int(x):\n",
    "    if x == \"male\": \n",
    "        return 0 \n",
    "    else: \n",
    "        return 1"
   ]
  },
  {
   "cell_type": "code",
   "execution_count": 28,
   "metadata": {},
   "outputs": [],
   "source": [
    "df2['gender_flag'] = df2[\"gender\"].apply(lambda x: convert_gender_to_int(x))"
   ]
  },
  {
   "cell_type": "code",
   "execution_count": 30,
   "metadata": {},
   "outputs": [],
   "source": [
    "df2 = df2.drop(labels=['gender'], axis = 1)"
   ]
  },
  {
   "cell_type": "code",
   "execution_count": 38,
   "metadata": {},
   "outputs": [],
   "source": [
    "y = df2[\"grade\"]\n",
    "X = df2[[\"age\", \"exercise\", \"hours\", \"grade\", \"gender_flag\"]]"
   ]
  },
  {
   "cell_type": "code",
   "execution_count": 33,
   "metadata": {},
   "outputs": [
    {
     "data": {
      "text/html": [
       "<div>\n",
       "<style scoped>\n",
       "    .dataframe tbody tr th:only-of-type {\n",
       "        vertical-align: middle;\n",
       "    }\n",
       "\n",
       "    .dataframe tbody tr th {\n",
       "        vertical-align: top;\n",
       "    }\n",
       "\n",
       "    .dataframe thead th {\n",
       "        text-align: right;\n",
       "    }\n",
       "</style>\n",
       "<table border=\"1\" class=\"dataframe\">\n",
       "  <thead>\n",
       "    <tr style=\"text-align: right;\">\n",
       "      <th></th>\n",
       "      <th>age</th>\n",
       "      <th>exercise</th>\n",
       "      <th>hours</th>\n",
       "      <th>grade</th>\n",
       "      <th>gender_flag</th>\n",
       "    </tr>\n",
       "  </thead>\n",
       "  <tbody>\n",
       "    <tr>\n",
       "      <th>age</th>\n",
       "      <td>1.000000</td>\n",
       "      <td>-0.003643</td>\n",
       "      <td>-0.017467</td>\n",
       "      <td>-0.007580</td>\n",
       "      <td>-0.006192</td>\n",
       "    </tr>\n",
       "    <tr>\n",
       "      <th>exercise</th>\n",
       "      <td>-0.003643</td>\n",
       "      <td>1.000000</td>\n",
       "      <td>0.021105</td>\n",
       "      <td>0.161286</td>\n",
       "      <td>0.032681</td>\n",
       "    </tr>\n",
       "    <tr>\n",
       "      <th>hours</th>\n",
       "      <td>-0.017467</td>\n",
       "      <td>0.021105</td>\n",
       "      <td>1.000000</td>\n",
       "      <td>0.801955</td>\n",
       "      <td>-0.013906</td>\n",
       "    </tr>\n",
       "    <tr>\n",
       "      <th>grade</th>\n",
       "      <td>-0.007580</td>\n",
       "      <td>0.161286</td>\n",
       "      <td>0.801955</td>\n",
       "      <td>1.000000</td>\n",
       "      <td>0.016547</td>\n",
       "    </tr>\n",
       "    <tr>\n",
       "      <th>gender_flag</th>\n",
       "      <td>-0.006192</td>\n",
       "      <td>0.032681</td>\n",
       "      <td>-0.013906</td>\n",
       "      <td>0.016547</td>\n",
       "      <td>1.000000</td>\n",
       "    </tr>\n",
       "  </tbody>\n",
       "</table>\n",
       "</div>"
      ],
      "text/plain": [
       "                  age  exercise     hours     grade  gender_flag\n",
       "age          1.000000 -0.003643 -0.017467 -0.007580    -0.006192\n",
       "exercise    -0.003643  1.000000  0.021105  0.161286     0.032681\n",
       "hours       -0.017467  0.021105  1.000000  0.801955    -0.013906\n",
       "grade       -0.007580  0.161286  0.801955  1.000000     0.016547\n",
       "gender_flag -0.006192  0.032681 -0.013906  0.016547     1.000000"
      ]
     },
     "execution_count": 33,
     "metadata": {},
     "output_type": "execute_result"
    }
   ],
   "source": [
    "df2.corr()"
   ]
  },
  {
   "cell_type": "code",
   "execution_count": 46,
   "metadata": {},
   "outputs": [],
   "source": [
    "from sklearn import linear_model\n",
    "from sklearn.model_selection import train_test_split\n",
    "from sklearn.metrics import mean_squared_error, r2_score"
   ]
  },
  {
   "cell_type": "code",
   "execution_count": 41,
   "metadata": {},
   "outputs": [],
   "source": [
    "model = linear_model.LinearRegression()"
   ]
  },
  {
   "cell_type": "code",
   "execution_count": 42,
   "metadata": {},
   "outputs": [],
   "source": [
    "X_train, X_test, y_train, y_test = train_test_split(X, y, test_size=0.33, random_state=4669)"
   ]
  },
  {
   "cell_type": "code",
   "execution_count": 43,
   "metadata": {},
   "outputs": [
    {
     "data": {
      "text/plain": [
       "LinearRegression(copy_X=True, fit_intercept=True, n_jobs=None, normalize=False)"
      ]
     },
     "execution_count": 43,
     "metadata": {},
     "output_type": "execute_result"
    }
   ],
   "source": [
    "model.fit(X_train, y_train)"
   ]
  },
  {
   "cell_type": "code",
   "execution_count": 44,
   "metadata": {},
   "outputs": [],
   "source": [
    "Y_predicted = model.predict(X_test)"
   ]
  },
  {
   "cell_type": "code",
   "execution_count": 48,
   "metadata": {},
   "outputs": [
    {
     "data": {
      "text/plain": [
       "1.2981303817309644e-28"
      ]
     },
     "execution_count": 48,
     "metadata": {},
     "output_type": "execute_result"
    }
   ],
   "source": [
    "mean_squared_error(y_test, Y_predicted)"
   ]
  },
  {
   "cell_type": "code",
   "execution_count": 50,
   "metadata": {},
   "outputs": [
    {
     "data": {
      "text/plain": [
       "array([2.98687474e-16, 8.74300632e-16, 8.67361738e-16, 1.00000000e+00,\n",
       "       1.09287579e-16])"
      ]
     },
     "execution_count": 50,
     "metadata": {},
     "output_type": "execute_result"
    }
   ],
   "source": [
    "model.coef_"
   ]
  },
  {
   "cell_type": "code",
   "execution_count": null,
   "metadata": {},
   "outputs": [],
   "source": []
  }
 ],
 "metadata": {
  "kernelspec": {
   "display_name": "Python 3",
   "language": "python",
   "name": "python3"
  },
  "language_info": {
   "codemirror_mode": {
    "name": "ipython",
    "version": 3
   },
   "file_extension": ".py",
   "mimetype": "text/x-python",
   "name": "python",
   "nbconvert_exporter": "python",
   "pygments_lexer": "ipython3",
   "version": "3.7.6"
  }
 },
 "nbformat": 4,
 "nbformat_minor": 4
}
