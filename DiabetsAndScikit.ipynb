{
 "cells": [
  {
   "cell_type": "code",
   "execution_count": 1,
   "metadata": {},
   "outputs": [
    {
     "name": "stderr",
     "output_type": "stream",
     "text": [
      "C:\\Program Files (x86)\\Microsoft Visual Studio\\Shared\\Anaconda3_64\\lib\\site-packages\\sklearn\\cross_validation.py:41: DeprecationWarning: This module was deprecated in version 0.18 in favor of the model_selection module into which all the refactored classes and functions are moved. Also note that the interface of the new CV iterators are different from that of this module. This module will be removed in 0.20.\n",
      "  \"This module will be removed in 0.20.\", DeprecationWarning)\n"
     ]
    }
   ],
   "source": [
    "import pandas as pd\n",
    "import matplotlib.pyplot as plt\n",
    "import numpy as np\n",
    "%matplotlib inline\n",
    "from sklearn.cross_validation import train_test_split\n",
    "from sklearn.preprocessing import Imputer\n",
    "from sklearn import metrics\n",
    "\n",
    "def silent_remove(arr,val):\n",
    "    if val in arr:\n",
    "        arr.remove(val)\n",
    "        \n",
    "def plot_corr(df, size=11):\n",
    "    corr = df.corr()\n",
    "    fig, ax = plt.subplots(figsize=(size, size))\n",
    "    ax.matshow(corr)\n",
    "    plt.xticks(range(len(corr.columns)), corr.columns)\n",
    "    plt.yticks(range(len(corr.columns)), corr.columns)        \n",
    "    \n",
    "df = pd.read_csv(\"d:/WorkFolder/pima-data/pima-data.csv\")\n",
    "bool_map = {True:1, False:0}\n",
    "df[\"diabetes_val\"] = df[\"diabetes\"].map(bool_map)\n",
    "\n",
    "feature_col_names = [n for n in df.columns]\n",
    "silent_remove(feature_col_names, \"diabetes\")\n",
    "silent_remove(feature_col_names, \"diabetes_val\")\n",
    "predicted_class_names = [\"diabetes_val\"]"
   ]
  },
  {
   "cell_type": "code",
   "execution_count": 17,
   "metadata": {
    "collapsed": true
   },
   "outputs": [],
   "source": [
    "def test_algo(algo, X_train, X_test, Y_train, Y_test):\n",
    "    model = algo.fit(X_train, Y_train.ravel())\n",
    "    \n",
    "    nb_predict_train = model.predict(X_train)\n",
    "    score = metrics.accuracy_score(Y_train, nb_predict_train)\n",
    "    print(score)\n",
    "    score = metrics.recall_score(Y_train, nb_predict_train)\n",
    "    print(score)\n",
    "    \n",
    "    nb_predict_test = model.predict(X_test)\n",
    "    score = metrics.accuracy_score(Y_test, nb_predict_test)\n",
    "    print(score)\n",
    "    score = metrics.recall_score(Y_test, nb_predict_test)\n",
    "    print(score)"
   ]
  },
  {
   "cell_type": "code",
   "execution_count": 2,
   "metadata": {},
   "outputs": [
    {
     "data": {
      "text/html": [
       "<div>\n",
       "<style>\n",
       "    .dataframe thead tr:only-child th {\n",
       "        text-align: right;\n",
       "    }\n",
       "\n",
       "    .dataframe thead th {\n",
       "        text-align: left;\n",
       "    }\n",
       "\n",
       "    .dataframe tbody tr th {\n",
       "        vertical-align: top;\n",
       "    }\n",
       "</style>\n",
       "<table border=\"1\" class=\"dataframe\">\n",
       "  <thead>\n",
       "    <tr style=\"text-align: right;\">\n",
       "      <th></th>\n",
       "      <th>num_preg</th>\n",
       "      <th>glucose_conc</th>\n",
       "      <th>diastolic_bp</th>\n",
       "      <th>thickness</th>\n",
       "      <th>insulin</th>\n",
       "      <th>bmi</th>\n",
       "      <th>diab_pred</th>\n",
       "      <th>age</th>\n",
       "      <th>skin</th>\n",
       "      <th>diabetes</th>\n",
       "      <th>diabetes_val</th>\n",
       "    </tr>\n",
       "  </thead>\n",
       "  <tbody>\n",
       "    <tr>\n",
       "      <th>num_preg</th>\n",
       "      <td>1.000000</td>\n",
       "      <td>0.091323</td>\n",
       "      <td>0.135440</td>\n",
       "      <td>-0.064401</td>\n",
       "      <td>-0.096417</td>\n",
       "      <td>0.004183</td>\n",
       "      <td>-0.029959</td>\n",
       "      <td>0.458272</td>\n",
       "      <td>-0.064401</td>\n",
       "      <td>0.170370</td>\n",
       "      <td>0.170370</td>\n",
       "    </tr>\n",
       "    <tr>\n",
       "      <th>glucose_conc</th>\n",
       "      <td>0.091323</td>\n",
       "      <td>1.000000</td>\n",
       "      <td>0.159961</td>\n",
       "      <td>0.039046</td>\n",
       "      <td>0.163645</td>\n",
       "      <td>0.155862</td>\n",
       "      <td>0.061871</td>\n",
       "      <td>0.196510</td>\n",
       "      <td>0.039046</td>\n",
       "      <td>0.390565</td>\n",
       "      <td>0.390565</td>\n",
       "    </tr>\n",
       "    <tr>\n",
       "      <th>diastolic_bp</th>\n",
       "      <td>0.135440</td>\n",
       "      <td>0.159961</td>\n",
       "      <td>1.000000</td>\n",
       "      <td>0.094868</td>\n",
       "      <td>-0.003682</td>\n",
       "      <td>0.205222</td>\n",
       "      <td>0.019448</td>\n",
       "      <td>0.246056</td>\n",
       "      <td>0.094868</td>\n",
       "      <td>0.119206</td>\n",
       "      <td>0.119206</td>\n",
       "    </tr>\n",
       "    <tr>\n",
       "      <th>thickness</th>\n",
       "      <td>-0.064401</td>\n",
       "      <td>0.039046</td>\n",
       "      <td>0.094868</td>\n",
       "      <td>1.000000</td>\n",
       "      <td>0.420066</td>\n",
       "      <td>0.331532</td>\n",
       "      <td>0.126457</td>\n",
       "      <td>-0.044754</td>\n",
       "      <td>1.000000</td>\n",
       "      <td>0.076297</td>\n",
       "      <td>0.076297</td>\n",
       "    </tr>\n",
       "    <tr>\n",
       "      <th>insulin</th>\n",
       "      <td>-0.096417</td>\n",
       "      <td>0.163645</td>\n",
       "      <td>-0.003682</td>\n",
       "      <td>0.420066</td>\n",
       "      <td>1.000000</td>\n",
       "      <td>0.141587</td>\n",
       "      <td>0.161652</td>\n",
       "      <td>-0.080176</td>\n",
       "      <td>0.420066</td>\n",
       "      <td>0.058531</td>\n",
       "      <td>0.058531</td>\n",
       "    </tr>\n",
       "    <tr>\n",
       "      <th>bmi</th>\n",
       "      <td>0.004183</td>\n",
       "      <td>0.155862</td>\n",
       "      <td>0.205222</td>\n",
       "      <td>0.331532</td>\n",
       "      <td>0.141587</td>\n",
       "      <td>1.000000</td>\n",
       "      <td>0.094644</td>\n",
       "      <td>0.088678</td>\n",
       "      <td>0.331532</td>\n",
       "      <td>0.253676</td>\n",
       "      <td>0.253676</td>\n",
       "    </tr>\n",
       "    <tr>\n",
       "      <th>diab_pred</th>\n",
       "      <td>-0.029959</td>\n",
       "      <td>0.061871</td>\n",
       "      <td>0.019448</td>\n",
       "      <td>0.126457</td>\n",
       "      <td>0.161652</td>\n",
       "      <td>0.094644</td>\n",
       "      <td>1.000000</td>\n",
       "      <td>0.028042</td>\n",
       "      <td>0.126457</td>\n",
       "      <td>0.143359</td>\n",
       "      <td>0.143359</td>\n",
       "    </tr>\n",
       "    <tr>\n",
       "      <th>age</th>\n",
       "      <td>0.458272</td>\n",
       "      <td>0.196510</td>\n",
       "      <td>0.246056</td>\n",
       "      <td>-0.044754</td>\n",
       "      <td>-0.080176</td>\n",
       "      <td>0.088678</td>\n",
       "      <td>0.028042</td>\n",
       "      <td>1.000000</td>\n",
       "      <td>-0.044754</td>\n",
       "      <td>0.257363</td>\n",
       "      <td>0.257363</td>\n",
       "    </tr>\n",
       "    <tr>\n",
       "      <th>skin</th>\n",
       "      <td>-0.064401</td>\n",
       "      <td>0.039046</td>\n",
       "      <td>0.094868</td>\n",
       "      <td>1.000000</td>\n",
       "      <td>0.420066</td>\n",
       "      <td>0.331532</td>\n",
       "      <td>0.126457</td>\n",
       "      <td>-0.044754</td>\n",
       "      <td>1.000000</td>\n",
       "      <td>0.076297</td>\n",
       "      <td>0.076297</td>\n",
       "    </tr>\n",
       "    <tr>\n",
       "      <th>diabetes</th>\n",
       "      <td>0.170370</td>\n",
       "      <td>0.390565</td>\n",
       "      <td>0.119206</td>\n",
       "      <td>0.076297</td>\n",
       "      <td>0.058531</td>\n",
       "      <td>0.253676</td>\n",
       "      <td>0.143359</td>\n",
       "      <td>0.257363</td>\n",
       "      <td>0.076297</td>\n",
       "      <td>1.000000</td>\n",
       "      <td>1.000000</td>\n",
       "    </tr>\n",
       "    <tr>\n",
       "      <th>diabetes_val</th>\n",
       "      <td>0.170370</td>\n",
       "      <td>0.390565</td>\n",
       "      <td>0.119206</td>\n",
       "      <td>0.076297</td>\n",
       "      <td>0.058531</td>\n",
       "      <td>0.253676</td>\n",
       "      <td>0.143359</td>\n",
       "      <td>0.257363</td>\n",
       "      <td>0.076297</td>\n",
       "      <td>1.000000</td>\n",
       "      <td>1.000000</td>\n",
       "    </tr>\n",
       "  </tbody>\n",
       "</table>\n",
       "</div>"
      ],
      "text/plain": [
       "              num_preg  glucose_conc  diastolic_bp  thickness   insulin  \\\n",
       "num_preg      1.000000      0.091323      0.135440  -0.064401 -0.096417   \n",
       "glucose_conc  0.091323      1.000000      0.159961   0.039046  0.163645   \n",
       "diastolic_bp  0.135440      0.159961      1.000000   0.094868 -0.003682   \n",
       "thickness    -0.064401      0.039046      0.094868   1.000000  0.420066   \n",
       "insulin      -0.096417      0.163645     -0.003682   0.420066  1.000000   \n",
       "bmi           0.004183      0.155862      0.205222   0.331532  0.141587   \n",
       "diab_pred    -0.029959      0.061871      0.019448   0.126457  0.161652   \n",
       "age           0.458272      0.196510      0.246056  -0.044754 -0.080176   \n",
       "skin         -0.064401      0.039046      0.094868   1.000000  0.420066   \n",
       "diabetes      0.170370      0.390565      0.119206   0.076297  0.058531   \n",
       "diabetes_val  0.170370      0.390565      0.119206   0.076297  0.058531   \n",
       "\n",
       "                   bmi  diab_pred       age      skin  diabetes  diabetes_val  \n",
       "num_preg      0.004183  -0.029959  0.458272 -0.064401  0.170370      0.170370  \n",
       "glucose_conc  0.155862   0.061871  0.196510  0.039046  0.390565      0.390565  \n",
       "diastolic_bp  0.205222   0.019448  0.246056  0.094868  0.119206      0.119206  \n",
       "thickness     0.331532   0.126457 -0.044754  1.000000  0.076297      0.076297  \n",
       "insulin       0.141587   0.161652 -0.080176  0.420066  0.058531      0.058531  \n",
       "bmi           1.000000   0.094644  0.088678  0.331532  0.253676      0.253676  \n",
       "diab_pred     0.094644   1.000000  0.028042  0.126457  0.143359      0.143359  \n",
       "age           0.088678   0.028042  1.000000 -0.044754  0.257363      0.257363  \n",
       "skin          0.331532   0.126457 -0.044754  1.000000  0.076297      0.076297  \n",
       "diabetes      0.253676   0.143359  0.257363  0.076297  1.000000      1.000000  \n",
       "diabetes_val  0.253676   0.143359  0.257363  0.076297  1.000000      1.000000  "
      ]
     },
     "execution_count": 2,
     "metadata": {},
     "output_type": "execute_result"
    }
   ],
   "source": [
    "df.corr(method=\"kendall\")\n",
    "\n",
    "# ‘pearson’, ‘kendall’, ‘spearman’"
   ]
  },
  {
   "cell_type": "code",
   "execution_count": 28,
   "metadata": {},
   "outputs": [
    {
     "data": {
      "text/html": [
       "<div>\n",
       "<style>\n",
       "    .dataframe thead tr:only-child th {\n",
       "        text-align: right;\n",
       "    }\n",
       "\n",
       "    .dataframe thead th {\n",
       "        text-align: left;\n",
       "    }\n",
       "\n",
       "    .dataframe tbody tr th {\n",
       "        vertical-align: top;\n",
       "    }\n",
       "</style>\n",
       "<table border=\"1\" class=\"dataframe\">\n",
       "  <thead>\n",
       "    <tr style=\"text-align: right;\">\n",
       "      <th></th>\n",
       "      <th>num_preg</th>\n",
       "      <th>glucose_conc</th>\n",
       "      <th>diastolic_bp</th>\n",
       "      <th>thickness</th>\n",
       "      <th>insulin</th>\n",
       "      <th>bmi</th>\n",
       "      <th>diab_pred</th>\n",
       "      <th>age</th>\n",
       "      <th>skin</th>\n",
       "      <th>diabetes</th>\n",
       "    </tr>\n",
       "  </thead>\n",
       "  <tbody>\n",
       "    <tr>\n",
       "      <th>num_preg</th>\n",
       "      <td>1.000000</td>\n",
       "      <td>0.130734</td>\n",
       "      <td>0.185127</td>\n",
       "      <td>-0.085222</td>\n",
       "      <td>-0.126723</td>\n",
       "      <td>0.000132</td>\n",
       "      <td>-0.043242</td>\n",
       "      <td>0.607216</td>\n",
       "      <td>-0.085222</td>\n",
       "      <td>0.198689</td>\n",
       "    </tr>\n",
       "    <tr>\n",
       "      <th>glucose_conc</th>\n",
       "      <td>0.130734</td>\n",
       "      <td>1.000000</td>\n",
       "      <td>0.235191</td>\n",
       "      <td>0.060022</td>\n",
       "      <td>0.213206</td>\n",
       "      <td>0.231141</td>\n",
       "      <td>0.091293</td>\n",
       "      <td>0.285045</td>\n",
       "      <td>0.060022</td>\n",
       "      <td>0.475776</td>\n",
       "    </tr>\n",
       "    <tr>\n",
       "      <th>diastolic_bp</th>\n",
       "      <td>0.185127</td>\n",
       "      <td>0.235191</td>\n",
       "      <td>1.000000</td>\n",
       "      <td>0.126486</td>\n",
       "      <td>-0.006771</td>\n",
       "      <td>0.292870</td>\n",
       "      <td>0.030046</td>\n",
       "      <td>0.350895</td>\n",
       "      <td>0.126486</td>\n",
       "      <td>0.142921</td>\n",
       "    </tr>\n",
       "    <tr>\n",
       "      <th>thickness</th>\n",
       "      <td>-0.085222</td>\n",
       "      <td>0.060022</td>\n",
       "      <td>0.126486</td>\n",
       "      <td>1.000000</td>\n",
       "      <td>0.541000</td>\n",
       "      <td>0.443615</td>\n",
       "      <td>0.180390</td>\n",
       "      <td>-0.066795</td>\n",
       "      <td>1.000000</td>\n",
       "      <td>0.089728</td>\n",
       "    </tr>\n",
       "    <tr>\n",
       "      <th>insulin</th>\n",
       "      <td>-0.126723</td>\n",
       "      <td>0.213206</td>\n",
       "      <td>-0.006771</td>\n",
       "      <td>0.541000</td>\n",
       "      <td>1.000000</td>\n",
       "      <td>0.192726</td>\n",
       "      <td>0.221150</td>\n",
       "      <td>-0.114213</td>\n",
       "      <td>0.541000</td>\n",
       "      <td>0.066472</td>\n",
       "    </tr>\n",
       "    <tr>\n",
       "      <th>bmi</th>\n",
       "      <td>0.000132</td>\n",
       "      <td>0.231141</td>\n",
       "      <td>0.292870</td>\n",
       "      <td>0.443615</td>\n",
       "      <td>0.192726</td>\n",
       "      <td>1.000000</td>\n",
       "      <td>0.141192</td>\n",
       "      <td>0.131186</td>\n",
       "      <td>0.443615</td>\n",
       "      <td>0.309707</td>\n",
       "    </tr>\n",
       "    <tr>\n",
       "      <th>diab_pred</th>\n",
       "      <td>-0.043242</td>\n",
       "      <td>0.091293</td>\n",
       "      <td>0.030046</td>\n",
       "      <td>0.180390</td>\n",
       "      <td>0.221150</td>\n",
       "      <td>0.141192</td>\n",
       "      <td>1.000000</td>\n",
       "      <td>0.042909</td>\n",
       "      <td>0.180390</td>\n",
       "      <td>0.175353</td>\n",
       "    </tr>\n",
       "    <tr>\n",
       "      <th>age</th>\n",
       "      <td>0.607216</td>\n",
       "      <td>0.285045</td>\n",
       "      <td>0.350895</td>\n",
       "      <td>-0.066795</td>\n",
       "      <td>-0.114213</td>\n",
       "      <td>0.131186</td>\n",
       "      <td>0.042909</td>\n",
       "      <td>1.000000</td>\n",
       "      <td>-0.066795</td>\n",
       "      <td>0.309040</td>\n",
       "    </tr>\n",
       "    <tr>\n",
       "      <th>skin</th>\n",
       "      <td>-0.085222</td>\n",
       "      <td>0.060022</td>\n",
       "      <td>0.126486</td>\n",
       "      <td>1.000000</td>\n",
       "      <td>0.541000</td>\n",
       "      <td>0.443615</td>\n",
       "      <td>0.180390</td>\n",
       "      <td>-0.066795</td>\n",
       "      <td>1.000000</td>\n",
       "      <td>0.089728</td>\n",
       "    </tr>\n",
       "    <tr>\n",
       "      <th>diabetes</th>\n",
       "      <td>0.198689</td>\n",
       "      <td>0.475776</td>\n",
       "      <td>0.142921</td>\n",
       "      <td>0.089728</td>\n",
       "      <td>0.066472</td>\n",
       "      <td>0.309707</td>\n",
       "      <td>0.175353</td>\n",
       "      <td>0.309040</td>\n",
       "      <td>0.089728</td>\n",
       "      <td>1.000000</td>\n",
       "    </tr>\n",
       "  </tbody>\n",
       "</table>\n",
       "</div>"
      ],
      "text/plain": [
       "              num_preg  glucose_conc  diastolic_bp  thickness   insulin  \\\n",
       "num_preg      1.000000      0.130734      0.185127  -0.085222 -0.126723   \n",
       "glucose_conc  0.130734      1.000000      0.235191   0.060022  0.213206   \n",
       "diastolic_bp  0.185127      0.235191      1.000000   0.126486 -0.006771   \n",
       "thickness    -0.085222      0.060022      0.126486   1.000000  0.541000   \n",
       "insulin      -0.126723      0.213206     -0.006771   0.541000  1.000000   \n",
       "bmi           0.000132      0.231141      0.292870   0.443615  0.192726   \n",
       "diab_pred    -0.043242      0.091293      0.030046   0.180390  0.221150   \n",
       "age           0.607216      0.285045      0.350895  -0.066795 -0.114213   \n",
       "skin         -0.085222      0.060022      0.126486   1.000000  0.541000   \n",
       "diabetes      0.198689      0.475776      0.142921   0.089728  0.066472   \n",
       "\n",
       "                   bmi  diab_pred       age      skin  diabetes  \n",
       "num_preg      0.000132  -0.043242  0.607216 -0.085222  0.198689  \n",
       "glucose_conc  0.231141   0.091293  0.285045  0.060022  0.475776  \n",
       "diastolic_bp  0.292870   0.030046  0.350895  0.126486  0.142921  \n",
       "thickness     0.443615   0.180390 -0.066795  1.000000  0.089728  \n",
       "insulin       0.192726   0.221150 -0.114213  0.541000  0.066472  \n",
       "bmi           1.000000   0.141192  0.131186  0.443615  0.309707  \n",
       "diab_pred     0.141192   1.000000  0.042909  0.180390  0.175353  \n",
       "age           0.131186   0.042909  1.000000 -0.066795  0.309040  \n",
       "skin          0.443615   0.180390 -0.066795  1.000000  0.089728  \n",
       "diabetes      0.309707   0.175353  0.309040  0.089728  1.000000  "
      ]
     },
     "execution_count": 28,
     "metadata": {},
     "output_type": "execute_result"
    }
   ],
   "source": [
    "df.corr(method=\"spearman\")\n"
   ]
  },
  {
   "cell_type": "code",
   "execution_count": 33,
   "metadata": {},
   "outputs": [
    {
     "data": {
      "text/plain": [
       "False"
      ]
     },
     "execution_count": 33,
     "metadata": {},
     "output_type": "execute_result"
    }
   ],
   "source": [
    "df.isnull().values.any()"
   ]
  },
  {
   "cell_type": "code",
   "execution_count": null,
   "metadata": {
    "collapsed": true
   },
   "outputs": [],
   "source": []
  },
  {
   "cell_type": "code",
   "execution_count": 3,
   "metadata": {},
   "outputs": [
    {
     "data": {
      "image/png": "[encoded data removed]",
      "text/plain": [
       "<matplotlib.figure.Figure at 0x59d5e48>"
      ]
     },
     "metadata": {},
     "output_type": "display_data"
    }
   ],
   "source": [
    "plot_corr(df)"
   ]
  },
  {
   "cell_type": "code",
   "execution_count": null,
   "metadata": {
    "collapsed": true
   },
   "outputs": [],
   "source": []
  },
  {
   "cell_type": "code",
   "execution_count": null,
   "metadata": {
    "collapsed": true
   },
   "outputs": [],
   "source": []
  },
  {
   "cell_type": "code",
   "execution_count": 23,
   "metadata": {
    "collapsed": true
   },
   "outputs": [],
   "source": []
  },
  {
   "cell_type": "code",
   "execution_count": 4,
   "metadata": {},
   "outputs": [
    {
     "data": {
      "text/html": [
       "<div>\n",
       "<style>\n",
       "    .dataframe thead tr:only-child th {\n",
       "        text-align: right;\n",
       "    }\n",
       "\n",
       "    .dataframe thead th {\n",
       "        text-align: left;\n",
       "    }\n",
       "\n",
       "    .dataframe tbody tr th {\n",
       "        vertical-align: top;\n",
       "    }\n",
       "</style>\n",
       "<table border=\"1\" class=\"dataframe\">\n",
       "  <thead>\n",
       "    <tr style=\"text-align: right;\">\n",
       "      <th></th>\n",
       "      <th>num_preg</th>\n",
       "      <th>glucose_conc</th>\n",
       "      <th>diastolic_bp</th>\n",
       "      <th>thickness</th>\n",
       "      <th>insulin</th>\n",
       "      <th>bmi</th>\n",
       "      <th>diab_pred</th>\n",
       "      <th>age</th>\n",
       "      <th>skin</th>\n",
       "      <th>diabetes</th>\n",
       "      <th>diabetes_val</th>\n",
       "    </tr>\n",
       "  </thead>\n",
       "  <tbody>\n",
       "    <tr>\n",
       "      <th>0</th>\n",
       "      <td>6</td>\n",
       "      <td>148</td>\n",
       "      <td>72</td>\n",
       "      <td>35</td>\n",
       "      <td>0</td>\n",
       "      <td>33.6</td>\n",
       "      <td>0.627</td>\n",
       "      <td>50</td>\n",
       "      <td>1.3790</td>\n",
       "      <td>True</td>\n",
       "      <td>1</td>\n",
       "    </tr>\n",
       "    <tr>\n",
       "      <th>1</th>\n",
       "      <td>1</td>\n",
       "      <td>85</td>\n",
       "      <td>66</td>\n",
       "      <td>29</td>\n",
       "      <td>0</td>\n",
       "      <td>26.6</td>\n",
       "      <td>0.351</td>\n",
       "      <td>31</td>\n",
       "      <td>1.1426</td>\n",
       "      <td>False</td>\n",
       "      <td>0</td>\n",
       "    </tr>\n",
       "    <tr>\n",
       "      <th>2</th>\n",
       "      <td>8</td>\n",
       "      <td>183</td>\n",
       "      <td>64</td>\n",
       "      <td>0</td>\n",
       "      <td>0</td>\n",
       "      <td>23.3</td>\n",
       "      <td>0.672</td>\n",
       "      <td>32</td>\n",
       "      <td>0.0000</td>\n",
       "      <td>True</td>\n",
       "      <td>1</td>\n",
       "    </tr>\n",
       "    <tr>\n",
       "      <th>3</th>\n",
       "      <td>1</td>\n",
       "      <td>89</td>\n",
       "      <td>66</td>\n",
       "      <td>23</td>\n",
       "      <td>94</td>\n",
       "      <td>28.1</td>\n",
       "      <td>0.167</td>\n",
       "      <td>21</td>\n",
       "      <td>0.9062</td>\n",
       "      <td>False</td>\n",
       "      <td>0</td>\n",
       "    </tr>\n",
       "    <tr>\n",
       "      <th>4</th>\n",
       "      <td>0</td>\n",
       "      <td>137</td>\n",
       "      <td>40</td>\n",
       "      <td>35</td>\n",
       "      <td>168</td>\n",
       "      <td>43.1</td>\n",
       "      <td>2.288</td>\n",
       "      <td>33</td>\n",
       "      <td>1.3790</td>\n",
       "      <td>True</td>\n",
       "      <td>1</td>\n",
       "    </tr>\n",
       "  </tbody>\n",
       "</table>\n",
       "</div>"
      ],
      "text/plain": [
       "   num_preg  glucose_conc  diastolic_bp  thickness  insulin   bmi  diab_pred  \\\n",
       "0         6           148            72         35        0  33.6      0.627   \n",
       "1         1            85            66         29        0  26.6      0.351   \n",
       "2         8           183            64          0        0  23.3      0.672   \n",
       "3         1            89            66         23       94  28.1      0.167   \n",
       "4         0           137            40         35      168  43.1      2.288   \n",
       "\n",
       "   age    skin  diabetes  diabetes_val  \n",
       "0   50  1.3790      True             1  \n",
       "1   31  1.1426     False             0  \n",
       "2   32  0.0000      True             1  \n",
       "3   21  0.9062     False             0  \n",
       "4   33  1.3790      True             1  "
      ]
     },
     "execution_count": 4,
     "metadata": {},
     "output_type": "execute_result"
    }
   ],
   "source": [
    "df.head()"
   ]
  },
  {
   "cell_type": "code",
   "execution_count": 13,
   "metadata": {},
   "outputs": [
    {
     "data": {
      "image/png": "[encoded data removed]",
      "text/plain": [
       "<matplotlib.figure.Figure at 0xa602f28>"
      ]
     },
     "metadata": {},
     "output_type": "display_data"
    }
   ],
   "source": [
    "plot_corr(df)"
   ]
  },
  {
   "cell_type": "code",
   "execution_count": 5,
   "metadata": {},
   "outputs": [
    {
     "data": {
      "text/plain": [
       "0    500\n",
       "1    268\n",
       "Name: diabetes_val, dtype: int64"
      ]
     },
     "execution_count": 5,
     "metadata": {},
     "output_type": "execute_result"
    }
   ],
   "source": [
    "df[\"diabetes_val\"].value_counts()"
   ]
  },
  {
   "cell_type": "code",
   "execution_count": null,
   "metadata": {
    "collapsed": true
   },
   "outputs": [],
   "source": []
  },
  {
   "cell_type": "code",
   "execution_count": 27,
   "metadata": {
    "collapsed": true
   },
   "outputs": [],
   "source": []
  },
  {
   "cell_type": "code",
   "execution_count": 6,
   "metadata": {
    "collapsed": true
   },
   "outputs": [],
   "source": [
    "x = df[feature_col_names].values\n",
    "y = df[predicted_class_names].values\n",
    "split_test_size = 0.30"
   ]
  },
  {
   "cell_type": "code",
   "execution_count": 7,
   "metadata": {
    "collapsed": true
   },
   "outputs": [],
   "source": [
    "X_train, X_test, Y_train, Y_test = train_test_split(x, y, test_size=split_test_size, random_state=42)"
   ]
  },
  {
   "cell_type": "code",
   "execution_count": null,
   "metadata": {
    "collapsed": true
   },
   "outputs": [],
   "source": []
  },
  {
   "cell_type": "code",
   "execution_count": 8,
   "metadata": {},
   "outputs": [
    {
     "data": {
      "text/plain": [
       "(537, 1)"
      ]
     },
     "execution_count": 8,
     "metadata": {},
     "output_type": "execute_result"
    }
   ],
   "source": [
    "Y_train.shape"
   ]
  },
  {
   "cell_type": "code",
   "execution_count": 9,
   "metadata": {
    "collapsed": true
   },
   "outputs": [],
   "source": [
    "fill_0 = Imputer(missing_values=0, strategy=\"mean\", axis=0)"
   ]
  },
  {
   "cell_type": "code",
   "execution_count": 10,
   "metadata": {
    "collapsed": true
   },
   "outputs": [],
   "source": [
    "X_train_clean = fill_0.fit_transform(X_train)\n",
    "X_test_clean = fill_0.fit_transform(X_test)"
   ]
  },
  {
   "cell_type": "code",
   "execution_count": 11,
   "metadata": {
    "collapsed": true
   },
   "outputs": [],
   "source": [
    "from sklearn.naive_bayes import GaussianNB"
   ]
  },
  {
   "cell_type": "code",
   "execution_count": 18,
   "metadata": {
    "collapsed": true
   },
   "outputs": [],
   "source": [
    "nb_model = GaussianNB()"
   ]
  },
  {
   "cell_type": "code",
   "execution_count": 19,
   "metadata": {},
   "outputs": [
    {
     "name": "stdout",
     "output_type": "stream",
     "text": [
      "0.754189944134\n",
      "0.595744680851\n",
      "0.722943722944\n",
      "0.6375\n"
     ]
    }
   ],
   "source": [
    "test_algo(nb_model, X_train_clean, X_test_clean, Y_train, Y_test)"
   ]
  },
  {
   "cell_type": "code",
   "execution_count": 20,
   "metadata": {
    "collapsed": true
   },
   "outputs": [],
   "source": [
    "from sklearn.ensemble import RandomForestClassifier"
   ]
  },
  {
   "cell_type": "code",
   "execution_count": 21,
   "metadata": {
    "collapsed": true
   },
   "outputs": [],
   "source": [
    "rf_model = RandomForestClassifier(random_state=42)"
   ]
  },
  {
   "cell_type": "code",
   "execution_count": 22,
   "metadata": {},
   "outputs": [
    {
     "name": "stdout",
     "output_type": "stream",
     "text": [
      "0.988826815642\n",
      "0.978723404255\n",
      "0.692640692641\n",
      "0.6\n"
     ]
    }
   ],
   "source": [
    "test_algo(rf_model, X_train_clean, X_test_clean, Y_train, Y_test)"
   ]
  },
  {
   "cell_type": "code",
   "execution_count": 23,
   "metadata": {
    "collapsed": true
   },
   "outputs": [],
   "source": [
    "from sklearn.linear_model import LogisticRegression\n",
    "lr_model = LogisticRegression(C=0.7, random_state = 42)\n"
   ]
  },
  {
   "cell_type": "code",
   "execution_count": 24,
   "metadata": {},
   "outputs": [
    {
     "name": "stdout",
     "output_type": "stream",
     "text": [
      "0.772811918063\n",
      "0.537234042553\n",
      "0.744588744589\n",
      "0.55\n"
     ]
    }
   ],
   "source": [
    "test_algo(lr_model, X_train_clean, X_test_clean, Y_train, Y_test)"
   ]
  },
  {
   "cell_type": "code",
   "execution_count": 25,
   "metadata": {
    "collapsed": true
   },
   "outputs": [],
   "source": [
    "from sklearn.linear_model import LogisticRegressionCV\n",
    "lr_cv_model = LogisticRegressionCV(n_jobs = 1, random_state = 42, Cs = 3, cv = 10, refit = False, class_weight = \"balanced\")"
   ]
  },
  {
   "cell_type": "code",
   "execution_count": 26,
   "metadata": {},
   "outputs": [
    {
     "name": "stdout",
     "output_type": "stream",
     "text": [
      "0.772811918063\n",
      "0.739361702128\n",
      "0.709956709957\n",
      "0.6875\n"
     ]
    }
   ],
   "source": [
    "test_algo(lr_cv_model, X_train_clean, X_test_clean, Y_train, Y_test)"
   ]
  },
  {
   "cell_type": "code",
   "execution_count": null,
   "metadata": {
    "collapsed": true
   },
   "outputs": [],
   "source": []
  }
 ],
 "metadata": {
  "kernelspec": {
   "display_name": "Python 3",
   "language": "python",
   "name": "python3"
  },
  "language_info": {
   "codemirror_mode": {
    "name": "ipython",
    "version": 3
   },
   "file_extension": ".py",
   "mimetype": "text/x-python",
   "name": "python",
   "nbconvert_exporter": "python",
   "pygments_lexer": "ipython3",
   "version": "3.6.1"
  }
 },
 "nbformat": 4,
 "nbformat_minor": 2
}
