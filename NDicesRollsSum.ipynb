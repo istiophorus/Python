{
 "cells": [
  {
   "cell_type": "code",
   "execution_count": 43,
   "metadata": {},
   "outputs": [],
   "source": [
    "from collections import defaultdict\n",
    "import pandas as pd\n",
    "import matplotlib.pyplot as plt\n",
    "import numpy as np\n",
    "import math\n",
    "%matplotlib inline"
   ]
  },
  {
   "cell_type": "code",
   "execution_count": 39,
   "metadata": {},
   "outputs": [],
   "source": [
    "def init_list_with_value(n, v = 0):\n",
    "    result = [v] * n\n",
    "    return result"
   ]
  },
  {
   "cell_type": "code",
   "execution_count": 56,
   "metadata": {},
   "outputs": [],
   "source": [
    "def sum(v,i = 0):\n",
    "    result = i\n",
    "    for x in v:\n",
    "        result = result + x\n",
    "    return result"
   ]
  },
  {
   "cell_type": "code",
   "execution_count": 64,
   "metadata": {},
   "outputs": [],
   "source": [
    "def roll_dices(n):\n",
    "    counts = defaultdict(int)\n",
    "    \n",
    "    #init dice rolls\n",
    "    dice_rolls = init_list_with_value(n, 1)\n",
    "    \n",
    "    # calculate max roll index\n",
    "    max_roll = int(math.pow(6, n))\n",
    "    for roll in range(0, max_roll):\n",
    "        \n",
    "        # calculate sum of current dices roll\n",
    "        current_sum = sum(dice_rolls)\n",
    "        counts[current_sum] = counts[current_sum] + 1\n",
    "        \n",
    "        # increment loop counters\n",
    "        for counter_ix in range(0, n):\n",
    "            counter = dice_rolls[counter_ix]\n",
    "            if counter < 6:\n",
    "                dice_rolls[counter_ix] = counter + 1\n",
    "                break\n",
    "            else:\n",
    "                dice_rolls[counter_ix] = 1\n",
    "        \n",
    "    return counts"
   ]
  },
  {
   "cell_type": "code",
   "execution_count": 78,
   "metadata": {},
   "outputs": [],
   "source": [
    "counts = roll_dices(8)"
   ]
  },
  {
   "cell_type": "code",
   "execution_count": 79,
   "metadata": {},
   "outputs": [
    {
     "data": {
      "text/plain": [
       "<matplotlib.collections.PathCollection at 0xa828a88>"
      ]
     },
     "execution_count": 79,
     "metadata": {},
     "output_type": "execute_result"
    },
    {
     "data": {
      "image/png": "[encoded data removed]",
      "text/plain": [
       "<Figure size 432x288 with 1 Axes>"
      ]
     },
     "metadata": {
      "needs_background": "light"
     },
     "output_type": "display_data"
    }
   ],
   "source": [
    "plt.scatter(list(counts.keys()), list(counts.values()))"
   ]
  },
  {
   "cell_type": "code",
   "execution_count": null,
   "metadata": {},
   "outputs": [],
   "source": []
  }
 ],
 "metadata": {
  "kernelspec": {
   "display_name": "Python 3",
   "language": "python",
   "name": "python3"
  },
  "language_info": {
   "codemirror_mode": {
    "name": "ipython",
    "version": 3
   },
   "file_extension": ".py",
   "mimetype": "text/x-python",
   "name": "python",
   "nbconvert_exporter": "python",
   "pygments_lexer": "ipython3",
   "version": "3.7.4"
  }
 },
 "nbformat": 4,
 "nbformat_minor": 2
}
