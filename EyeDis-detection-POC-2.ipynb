{
 "cells": [
  {
   "cell_type": "code",
   "execution_count": 1,
   "metadata": {},
   "outputs": [],
   "source": [
    "from keras.preprocessing.image import ImageDataGenerator\n",
    "from keras import regularizers\n",
    "import os\n",
    "import matplotlib.pyplot as plt\n",
    "import numpy as np\n",
    "from keras.applications.vgg16 import VGG16\n",
    "from keras.applications.vgg19 import VGG19\n",
    "import keras.applications.efficientnet\n",
    "from keras.applications.efficientnet import EfficientNetB7\n",
    "from keras.models import Sequential\n",
    "from keras.layers import Dense, Dropout, Flatten, BatchNormalization, MaxPooling2D, GlobalAveragePooling2D\n",
    "from keras.layers.convolutional import Conv2D\n",
    "#from keras.layers.advanced_activations import LeakyReLU\n",
    "from keras.layers import LeakyReLU\n",
    "from keras.callbacks import ModelCheckpoint, LearningRateScheduler, CSVLogger\n",
    "import tensorflow as tf\n",
    "from tensorflow.keras.layers import Dropout, Flatten, Dense, BatchNormalization\n",
    "from tensorflow.keras.applications.inception_v3 import InceptionV3\n",
    "from keras.applications.efficientnet import EfficientNetB7\n",
    "from keras.applications.efficientnet_v2 import EfficientNetV2L\n",
    "from keras.applications.inception_resnet_v2 import InceptionResNetV2\n",
    "from keras.applications.resnet_v2 import ResNet152V2\n",
    "from keras.applications.densenet import DenseNet121\n",
    "from keras.applications.resnet import ResNet50\n",
    "from sklearn.metrics import ConfusionMatrixDisplay\n",
    "from sklearn.metrics import confusion_matrix"
   ]
  },
  {
   "cell_type": "code",
   "execution_count": 2,
   "metadata": {},
   "outputs": [
    {
     "name": "stdout",
     "output_type": "stream",
     "text": [
      "[PhysicalDevice(name='/physical_device:GPU:0', device_type='GPU')]\n"
     ]
    }
   ],
   "source": [
    "print(tf.config.list_physical_devices('GPU'))"
   ]
  },
  {
   "cell_type": "code",
   "execution_count": 3,
   "metadata": {},
   "outputs": [
    {
     "data": {
      "text/plain": [
       "'2.9.3'"
      ]
     },
     "execution_count": 3,
     "metadata": {},
     "output_type": "execute_result"
    }
   ],
   "source": [
    "tf.__version__"
   ]
  },
  {
   "cell_type": "code",
   "execution_count": 4,
   "metadata": {},
   "outputs": [],
   "source": [
    "data_base_train_folder = 'd:/Dane/retinaldiseaseclassification/prepared/ARMD/Train'\n",
    "data_base_valid_folder = 'd:/Dane/retinaldiseaseclassification/prepared/ARMD/Validate'\n",
    "data_base_test_folder = 'd:/Dane/retinaldiseaseclassification/prepared/ARMD/Test'\n",
    "class_names = ['ARMD0', 'ARMD1']"
   ]
  },
  {
   "cell_type": "code",
   "execution_count": 5,
   "metadata": {},
   "outputs": [],
   "source": [
    "training_workspace_folder = \"d:/Dane/retinaldiseaseclassification/prepared/workspace/\""
   ]
  },
  {
   "cell_type": "code",
   "execution_count": 6,
   "metadata": {},
   "outputs": [],
   "source": [
    "def get_confusion_matrix(model, test_data_generator):\n",
    "    Y_pred = model.predict_generator(test_data_generator)\n",
    "    y_pred = np.argmax(Y_pred, axis=1)\n",
    "    y_true = test_data_generator.classes\n",
    "    cm = confusion_matrix(y_true, y_pred)\n",
    "    return cm"
   ]
  },
  {
   "cell_type": "code",
   "execution_count": 7,
   "metadata": {},
   "outputs": [],
   "source": [
    "def create_model_from_vgg16():\n",
    "    vgg16 = VGG16(include_top=False, weights='imagenet', input_shape=(224, 224,3))\n",
    "    \n",
    "    for layer in vgg16.layers:\n",
    "        layer.trainable = False\n",
    "        \n",
    "    new_model = tf.keras.models.Sequential([\n",
    "        vgg16,\n",
    "        Flatten(),    \n",
    "        BatchNormalization(),\n",
    "        Dense(256),\n",
    "        LeakyReLU(alpha = 0.01),\n",
    "        BatchNormalization(),\n",
    "        Dropout(0.3),\n",
    "        Dense(2, activation='softmax')\n",
    "    ])\n",
    "    \n",
    "    return new_model"
   ]
  },
  {
   "cell_type": "code",
   "execution_count": 8,
   "metadata": {},
   "outputs": [],
   "source": [
    "def create_model_from_inceptionV3():\n",
    "    inceptionV3 = InceptionV3(include_top=False, weights='imagenet', input_shape=(224, 224,3))\n",
    "    \n",
    "    for layer in inceptionV3.layers:\n",
    "        layer.trainable = False\n",
    "        \n",
    "    new_model = tf.keras.models.Sequential([\n",
    "        inceptionV3,\n",
    "        BatchNormalization(),\n",
    "        Flatten(),  \n",
    "        Dense(256),\n",
    "        LeakyReLU(alpha = 0.01),\n",
    "        BatchNormalization(),\n",
    "        Dropout(0.3),\n",
    "        Dense(2, activation='softmax')\n",
    "    ])\n",
    "    \n",
    "    return new_model"
   ]
  },
  {
   "cell_type": "code",
   "execution_count": 9,
   "metadata": {},
   "outputs": [],
   "source": [
    "def create_model_from_inceptionV3_B():\n",
    "    inceptionV3 = InceptionV3(include_top=False, weights='imagenet', input_shape=(224, 224,3))\n",
    "    \n",
    "    for layer in inceptionV3.layers:\n",
    "        layer.trainable = False\n",
    "        \n",
    "    new_model = tf.keras.models.Sequential([\n",
    "        inceptionV3,\n",
    "        #BatchNormalization(),\n",
    "        Flatten(),  \n",
    "        Dense(256),\n",
    "        LeakyReLU(alpha = 0.01),\n",
    "        BatchNormalization(),\n",
    "        Dense(256),\n",
    "        LeakyReLU(alpha = 0.01),\n",
    "        BatchNormalization(),        \n",
    "        Dropout(0.3),\n",
    "        Dense(2, activation='softmax')\n",
    "    ])\n",
    "    \n",
    "    return new_model"
   ]
  },
  {
   "cell_type": "code",
   "execution_count": 10,
   "metadata": {},
   "outputs": [],
   "source": [
    "def create_model_from_inceptionV3_D():\n",
    "    inceptionV3 = InceptionV3(include_top=False, weights='imagenet', input_shape=(224, 224,3))\n",
    "    \n",
    "    for layer in inceptionV3.layers:\n",
    "        layer.trainable = False\n",
    "        \n",
    "    new_model = tf.keras.models.Sequential([\n",
    "        inceptionV3,\n",
    "        BatchNormalization(),\n",
    "        Flatten(),  \n",
    "        Dense(256),\n",
    "        LeakyReLU(alpha = 0.01),\n",
    "        BatchNormalization(),\n",
    "        Dense(256),\n",
    "        LeakyReLU(alpha = 0.01),\n",
    "        BatchNormalization(),        \n",
    "        Dense(16),\n",
    "        LeakyReLU(alpha = 0.01),\n",
    "        BatchNormalization(),        \n",
    "        Dropout(0.3),\n",
    "        Dense(2, activation='softmax')\n",
    "    ])\n",
    "    \n",
    "    return new_model"
   ]
  },
  {
   "cell_type": "code",
   "execution_count": 11,
   "metadata": {},
   "outputs": [],
   "source": [
    "def create_model_from_inceptionV3_C():\n",
    "    inceptionV3 = InceptionV3(include_top=False, weights='imagenet', input_shape=(224, 224,3))\n",
    "    \n",
    "    for layer in inceptionV3.layers:\n",
    "        layer.trainable = False\n",
    "        \n",
    "    new_model = tf.keras.models.Sequential([\n",
    "        inceptionV3,\n",
    "        Flatten(),  \n",
    "        Dense(256),\n",
    "        LeakyReLU(alpha = 0.01),\n",
    "        Dropout(0.3),\n",
    "        Dense(2, activation='softmax')\n",
    "    ])\n",
    "    \n",
    "    return new_model"
   ]
  },
  {
   "cell_type": "code",
   "execution_count": 12,
   "metadata": {},
   "outputs": [],
   "source": [
    "def create_model_from_efficientnet_B():\n",
    "    base_model = EfficientNetB7(\n",
    "        include_top = False,\n",
    "        weights = \"imagenet\",\n",
    "        input_shape = (224, 224,3))\n",
    "    \n",
    "    for layer in base_model.layers:\n",
    "        layer.trainable = False\n",
    "    \n",
    "    new_model = tf.keras.models.Sequential([\n",
    "        base_model,\n",
    "        Flatten(),  \n",
    "        BatchNormalization(),\n",
    "        Dense(256),\n",
    "        LeakyReLU(alpha = 0.01),\n",
    "        BatchNormalization(),\n",
    "        Dense(256),\n",
    "        LeakyReLU(alpha = 0.01),\n",
    "        BatchNormalization(),\n",
    "        Dense(16),\n",
    "        LeakyReLU(alpha = 0.01),\n",
    "        Dropout(0.3),\n",
    "        Dense(2, activation='softmax')\n",
    "    ])\n",
    "    \n",
    "    return new_model    "
   ]
  },
  {
   "cell_type": "code",
   "execution_count": 13,
   "metadata": {},
   "outputs": [],
   "source": [
    "def create_model_from_efficientnet_C():\n",
    "    base_model = EfficientNetB7(\n",
    "        include_top = False,\n",
    "        weights = \"imagenet\",\n",
    "        input_shape = (224, 224,3))\n",
    "    \n",
    "    for layer in base_model.layers:\n",
    "        layer.trainable = False\n",
    "    \n",
    "    new_model = tf.keras.models.Sequential([\n",
    "        base_model,\n",
    "        Flatten(),  \n",
    "        BatchNormalization(),\n",
    "        Dense(512),\n",
    "        LeakyReLU(alpha = 0.01),\n",
    "        BatchNormalization(),\n",
    "        Dense(256),\n",
    "        LeakyReLU(alpha = 0.01),\n",
    "        BatchNormalization(),\n",
    "        Dense(16),\n",
    "        LeakyReLU(alpha = 0.01),\n",
    "        Dropout(0.3),\n",
    "        Dense(2, activation='softmax')\n",
    "    ])\n",
    "    \n",
    "    return new_model  "
   ]
  },
  {
   "cell_type": "code",
   "execution_count": 14,
   "metadata": {},
   "outputs": [],
   "source": [
    "def create_model_from_InceptionResNetV2_A():\n",
    "    base_model = InceptionResNetV2(\n",
    "        include_top = False,\n",
    "        weights = \"imagenet\",\n",
    "        input_shape = (224, 224,3))\n",
    "    \n",
    "    for layer in base_model.layers:\n",
    "        layer.trainable = False\n",
    "    \n",
    "    new_model = tf.keras.models.Sequential([\n",
    "        base_model,\n",
    "        Flatten(),  \n",
    "        BatchNormalization(),\n",
    "        Dense(512),\n",
    "        LeakyReLU(alpha = 0.01),\n",
    "        BatchNormalization(),\n",
    "        Dense(256),\n",
    "        LeakyReLU(alpha = 0.01),\n",
    "        BatchNormalization(),\n",
    "        Dense(16),\n",
    "        LeakyReLU(alpha = 0.01),\n",
    "        Dropout(0.3),\n",
    "        Dense(2, activation='softmax')\n",
    "    ])\n",
    "    \n",
    "    return new_model "
   ]
  },
  {
   "cell_type": "code",
   "execution_count": 15,
   "metadata": {},
   "outputs": [],
   "source": [
    "def create_model_from_VGG19_A():\n",
    "    base_model = VGG19(\n",
    "        include_top = False,\n",
    "        weights = \"imagenet\",\n",
    "        input_shape = (224, 224,3))\n",
    "    \n",
    "    for layer in base_model.layers:\n",
    "        layer.trainable = False\n",
    "    \n",
    "    new_model = tf.keras.models.Sequential([\n",
    "        base_model,\n",
    "        Flatten(),  \n",
    "        BatchNormalization(),\n",
    "        Dense(512),\n",
    "        LeakyReLU(alpha = 0.01),\n",
    "        BatchNormalization(),\n",
    "        Dense(256),\n",
    "        LeakyReLU(alpha = 0.01),\n",
    "        BatchNormalization(),\n",
    "        Dense(16),\n",
    "        LeakyReLU(alpha = 0.01),\n",
    "        Dropout(0.3),\n",
    "        Dense(2, activation='softmax')\n",
    "    ])\n",
    "    \n",
    "    return new_model "
   ]
  },
  {
   "cell_type": "code",
   "execution_count": 16,
   "metadata": {},
   "outputs": [],
   "source": [
    "def create_model_from_VGG19_B():\n",
    "    base_model = VGG19(\n",
    "        include_top = False,\n",
    "        weights = \"imagenet\",\n",
    "        input_shape = (224, 224,3))\n",
    "    \n",
    "    for layer in base_model.layers:\n",
    "        layer.trainable = False\n",
    "    \n",
    "    new_model = tf.keras.models.Sequential([\n",
    "        base_model,\n",
    "        Flatten(),  \n",
    "        BatchNormalization(),\n",
    "        Dense(1024),\n",
    "        LeakyReLU(alpha = 0.01),\n",
    "        BatchNormalization(),\n",
    "        Dense(512),\n",
    "        LeakyReLU(alpha = 0.01),\n",
    "        BatchNormalization(),\n",
    "        Dense(256),\n",
    "        LeakyReLU(alpha = 0.01),\n",
    "        BatchNormalization(),\n",
    "        Dense(16),\n",
    "        LeakyReLU(alpha = 0.01),\n",
    "        Dropout(0.3),\n",
    "        Dense(2, activation='softmax')\n",
    "    ])\n",
    "    \n",
    "    return new_model "
   ]
  },
  {
   "cell_type": "code",
   "execution_count": 17,
   "metadata": {},
   "outputs": [],
   "source": [
    "def create_model_from_VGG19_C():\n",
    "    base_model = VGG19(\n",
    "        include_top = False,\n",
    "        weights = \"imagenet\",\n",
    "        input_shape = (224, 224,3))\n",
    "    \n",
    "    for layer in base_model.layers:\n",
    "        layer.trainable = False\n",
    "    \n",
    "    new_model = tf.keras.models.Sequential([\n",
    "        base_model,\n",
    "        Flatten(),  \n",
    "        BatchNormalization(),\n",
    "        Dense(1024, activation=\"sigmoid\"),\n",
    "        Dropout(0.2),\n",
    "        Dense(512, activation=\"sigmoid\"),\n",
    "        Dropout(0.2),\n",
    "        Dense(256, activation=\"sigmoid\"),\n",
    "        Dropout(0.2),\n",
    "        Dense(16, activation=\"sigmoid\"),\n",
    "        Dropout(0.2),\n",
    "        Dense(2, activation='softmax')\n",
    "    ])\n",
    "    \n",
    "    return new_model "
   ]
  },
  {
   "cell_type": "code",
   "execution_count": 18,
   "metadata": {},
   "outputs": [],
   "source": [
    "def create_model_from_EfficientNetV2L_A():\n",
    "    base_model = EfficientNetV2L(\n",
    "        include_top = False,\n",
    "        weights = \"imagenet\",\n",
    "        input_shape = (224, 224,3))\n",
    "    \n",
    "    for layer in base_model.layers:\n",
    "        layer.trainable = False\n",
    "    \n",
    "    new_model = tf.keras.models.Sequential([\n",
    "        base_model,\n",
    "        Flatten(),  \n",
    "        BatchNormalization(),\n",
    "        Dense(1024, activation=\"sigmoid\"),\n",
    "        Dropout(0.2),\n",
    "        Dense(512, activation=\"sigmoid\"),\n",
    "        Dropout(0.2),\n",
    "        Dense(256, activation=\"sigmoid\"),\n",
    "        Dropout(0.2),\n",
    "        Dense(16, activation=\"sigmoid\"),\n",
    "        Dropout(0.2),\n",
    "        Dense(2, activation='softmax')\n",
    "    ])\n",
    "    \n",
    "    return new_model "
   ]
  },
  {
   "cell_type": "code",
   "execution_count": 19,
   "metadata": {},
   "outputs": [],
   "source": [
    "def create_model_from_EfficientNetV2L_B():\n",
    "    base_model = EfficientNetV2L(\n",
    "        include_top = False,\n",
    "        weights = \"imagenet\",\n",
    "        input_shape = (224, 224,3))\n",
    "    \n",
    "    for layer in base_model.layers:\n",
    "        layer.trainable = False\n",
    "    \n",
    "    new_model = tf.keras.models.Sequential([\n",
    "        base_model,\n",
    "        Flatten(),  \n",
    "        BatchNormalization(),\n",
    "        Dense(1024, activation=\"relu\"),\n",
    "        Dropout(0.2),\n",
    "        Dense(512, activation=\"relu\"),\n",
    "        Dropout(0.2),\n",
    "        Dense(256, activation=\"relu\"),\n",
    "        Dropout(0.2),\n",
    "        Dense(16, activation=\"relu\"),\n",
    "        Dropout(0.2),\n",
    "        Dense(2, activation='softmax')\n",
    "    ])\n",
    "    \n",
    "    return new_model "
   ]
  },
  {
   "cell_type": "code",
   "execution_count": 20,
   "metadata": {},
   "outputs": [],
   "source": [
    "def create_model_from_EfficientNetV2L_C():\n",
    "    base_model = EfficientNetV2L(\n",
    "        include_top = False,\n",
    "        weights = \"imagenet\",\n",
    "        input_shape = (224, 224,3))\n",
    "    \n",
    "    for layer in base_model.layers:\n",
    "        layer.trainable = False\n",
    "    \n",
    "    new_model = tf.keras.models.Sequential([\n",
    "        base_model,\n",
    "        Flatten(),  \n",
    "        BatchNormalization(),\n",
    "        Dense(2048, activation=\"sigmoid\"),\n",
    "        Dropout(0.2),\n",
    "        Dense(1024, activation=\"sigmoid\"),\n",
    "        Dropout(0.2),\n",
    "        Dense(512, activation=\"sigmoid\"),\n",
    "        Dropout(0.2),\n",
    "        Dense(256, activation=\"sigmoid\"),\n",
    "        Dropout(0.2),\n",
    "        Dense(128, activation=\"sigmoid\"),\n",
    "        Dropout(0.2),\n",
    "        Dense(2, activation='softmax')\n",
    "    ])\n",
    "    \n",
    "    return new_model "
   ]
  },
  {
   "cell_type": "code",
   "execution_count": 21,
   "metadata": {},
   "outputs": [],
   "source": [
    "def create_model_from_vgg16_B():\n",
    "    vgg16 = VGG16(include_top=False, weights='imagenet', input_shape=(224, 224,3))\n",
    "    \n",
    "    for layer in vgg16.layers:\n",
    "        layer.trainable = False\n",
    "        \n",
    "    new_model = tf.keras.models.Sequential([\n",
    "        vgg16,\n",
    "        Flatten(),    \n",
    "        BatchNormalization(),\n",
    "        Dense(256),\n",
    "        LeakyReLU(alpha = 0.01),\n",
    "        BatchNormalization(),\n",
    "        Dropout(0.3),\n",
    "        Dense(2, activation='softmax')\n",
    "    ])\n",
    "    \n",
    "    return new_model"
   ]
  },
  {
   "cell_type": "code",
   "execution_count": 22,
   "metadata": {},
   "outputs": [],
   "source": [
    "def create_model_from_vgg16_C():\n",
    "    vgg16 = VGG16(include_top=False, weights='imagenet', input_shape=(224, 224,3))\n",
    "    \n",
    "    for layer in vgg16.layers:\n",
    "        layer.trainable = False\n",
    "        \n",
    "    new_model = tf.keras.models.Sequential([\n",
    "        vgg16,\n",
    "        Flatten(),    \n",
    "        BatchNormalization(),\n",
    "        Dense(1024, activation=\"sigmoid\"),\n",
    "        Dropout(0.2),\n",
    "        Dense(512, activation=\"sigmoid\"),\n",
    "        Dropout(0.2),\n",
    "        Dense(256, activation=\"sigmoid\"),\n",
    "        Dropout(0.2),\n",
    "        Dense(128, activation=\"sigmoid\"),\n",
    "        Dropout(0.2),\n",
    "        Dense(2, activation='softmax')\n",
    "    ])\n",
    "    \n",
    "    return new_model"
   ]
  },
  {
   "cell_type": "code",
   "execution_count": 23,
   "metadata": {},
   "outputs": [],
   "source": [
    "def create_model_from_efficientnet_D():\n",
    "    base_model = EfficientNetB7(\n",
    "        include_top = False,\n",
    "        weights = \"imagenet\",\n",
    "        input_shape = (224, 224,3))\n",
    "    \n",
    "    for layer in base_model.layers:\n",
    "        layer.trainable = False\n",
    "    \n",
    "    new_model = tf.keras.models.Sequential([\n",
    "        base_model,\n",
    "        Flatten(),  \n",
    "        BatchNormalization(),\n",
    "        Dense(1024, activation=\"sigmoid\"),\n",
    "        Dropout(0.2),\n",
    "        Dense(512, activation=\"sigmoid\"),\n",
    "        Dropout(0.2),\n",
    "        Dense(256, activation=\"sigmoid\"),\n",
    "        Dropout(0.2),\n",
    "        Dense(128, activation=\"sigmoid\"),\n",
    "        Dropout(0.2),\n",
    "        Dense(2, activation='softmax')\n",
    "    ])\n",
    "    \n",
    "    return new_model "
   ]
  },
  {
   "cell_type": "code",
   "execution_count": 24,
   "metadata": {},
   "outputs": [],
   "source": [
    "def create_model_from_efficientnet_E():\n",
    "    base_model = EfficientNetB7(\n",
    "        include_top = False,\n",
    "        weights = \"imagenet\",\n",
    "        input_shape = (224, 224,3))\n",
    "    \n",
    "    for layer in base_model.layers:\n",
    "        layer.trainable = False\n",
    "    \n",
    "    new_model = tf.keras.models.Sequential([\n",
    "        base_model,\n",
    "        Flatten(),  \n",
    "        BatchNormalization(),\n",
    "        Dense(512),\n",
    "        LeakyReLU(alpha = 0.01),\n",
    "        BatchNormalization(),\n",
    "        Dense(256),\n",
    "        LeakyReLU(alpha = 0.01),\n",
    "        BatchNormalization(),\n",
    "        Dense(256),\n",
    "        LeakyReLU(alpha = 0.01),\n",
    "        BatchNormalization(),\n",
    "        Dense(16),\n",
    "        LeakyReLU(alpha = 0.01),\n",
    "        Dropout(0.3),\n",
    "        Dense(2, activation='softmax')\n",
    "    ])\n",
    "    \n",
    "    return new_model "
   ]
  },
  {
   "cell_type": "code",
   "execution_count": 25,
   "metadata": {},
   "outputs": [],
   "source": [
    "def create_model_from_vgg16_D():\n",
    "    vgg16 = VGG16(include_top=False, weights='imagenet', input_shape=(224, 224,3))\n",
    "    \n",
    "    for layer in vgg16.layers:\n",
    "        layer.trainable = False\n",
    "        \n",
    "    new_model = tf.keras.models.Sequential([\n",
    "        vgg16,\n",
    "        Flatten(),    \n",
    "        BatchNormalization(),\n",
    "        Dense(1024, activation=\"sigmoid\"),\n",
    "        Dropout(0.2),\n",
    "        Dense(512, activation=\"sigmoid\"),\n",
    "        Dropout(0.2),\n",
    "        Dense(256, activation=\"sigmoid\"),\n",
    "        Dropout(0.2),\n",
    "        Dense(128, activation=\"sigmoid\"),\n",
    "        Dropout(0.2),\n",
    "        Dense(2, activation='softmax')\n",
    "    ])\n",
    "    \n",
    "    return new_model"
   ]
  },
  {
   "cell_type": "code",
   "execution_count": 26,
   "metadata": {},
   "outputs": [],
   "source": [
    "def create_model_from_vgg16_E():\n",
    "    vgg16 = VGG16(include_top=False, weights='imagenet', input_shape=(224, 224,3))\n",
    "    \n",
    "    for layer in vgg16.layers:\n",
    "        layer.trainable = False\n",
    "        \n",
    "    vgg16.layers[-1].trainable = True\n",
    "    vgg16.layers[-2].trainable = True\n",
    "    vgg16.layers[-3].trainable = True\n",
    "        \n",
    "    new_model = tf.keras.models.Sequential([\n",
    "        vgg16,\n",
    "        Flatten(),    \n",
    "        BatchNormalization(),\n",
    "        Dense(1024, activation=\"sigmoid\"),\n",
    "        Dropout(0.2),\n",
    "        Dense(512, activation=\"sigmoid\"),\n",
    "        Dropout(0.2),\n",
    "        Dense(256, activation=\"sigmoid\"),\n",
    "        Dropout(0.2),\n",
    "        Dense(128, activation=\"sigmoid\"),\n",
    "        Dropout(0.2),\n",
    "        Dense(2, activation='softmax')\n",
    "    ])\n",
    "    \n",
    "    return new_model"
   ]
  },
  {
   "cell_type": "code",
   "execution_count": 27,
   "metadata": {},
   "outputs": [],
   "source": [
    "def create_model_from_vgg16_E():\n",
    "    vgg16 = VGG16(include_top=False, weights='imagenet', input_shape=(224, 224,3))\n",
    "    \n",
    "    for layer in vgg16.layers:\n",
    "        layer.trainable = False\n",
    "        \n",
    "    vgg16.layers[-1].trainable = True\n",
    "    vgg16.layers[-2].trainable = True\n",
    "    vgg16.layers[-3].trainable = True\n",
    "        \n",
    "    new_model = tf.keras.models.Sequential([\n",
    "        vgg16,\n",
    "        Flatten(),    \n",
    "        BatchNormalization(),\n",
    "        Dense(1024, activation=\"sigmoid\"),\n",
    "        Dropout(0.2),\n",
    "        Dense(512, activation=\"sigmoid\"),\n",
    "        Dropout(0.2),\n",
    "        Dense(256, activation=\"sigmoid\"),\n",
    "        Dropout(0.2),\n",
    "        Dense(128, activation=\"sigmoid\"),\n",
    "        Dropout(0.2),\n",
    "        Dense(2, activation='softmax')\n",
    "    ])\n",
    "    \n",
    "    return new_model"
   ]
  },
  {
   "cell_type": "code",
   "execution_count": 60,
   "metadata": {},
   "outputs": [],
   "source": [
    "def create_model_from_vgg16_F():\n",
    "    vgg16 = VGG16(include_top=False, weights='imagenet', input_shape=(224, 224,3))\n",
    "\n",
    "    for layer in vgg16.layers:\n",
    "        layer.trainable = False\n",
    "\n",
    "    new_model = tf.keras.models.Sequential([\n",
    "        vgg16,\n",
    "        Conv2D(filters = 512, kernel_size = (3,3), padding = \"same\", activation = \"relu\"),\n",
    "        Conv2D(filters = 512, kernel_size = (3,3), padding = \"same\", activation = \"relu\"),\n",
    "        #Conv2D(filters = 512, kernel_size = (3,3), padding = \"same\", activation = \"relu\"),\n",
    "        MaxPooling2D(pool_size=(2,2), strides=(2,2)),\n",
    "        Flatten(),    \n",
    "        BatchNormalization(),\n",
    "        #Dense(1024, activation=\"sigmoid\"),\n",
    "        #Dropout(0.2),\n",
    "        Dense(512, activation=\"sigmoid\"),\n",
    "        Dropout(0.2),\n",
    "        Dense(256, activation=\"sigmoid\"),\n",
    "        Dropout(0.2),\n",
    "        Dense(128, activation=\"sigmoid\"),\n",
    "        Dropout(0.2),\n",
    "        Dense(2, activation='softmax')\n",
    "    ])\n",
    "\n",
    "    return new_model"
   ]
  },
  {
   "cell_type": "code",
   "execution_count": 29,
   "metadata": {},
   "outputs": [],
   "source": [
    "def create_model_from_vgg16_G():\n",
    "    vgg16 = VGG16(include_top=False, weights='imagenet', input_shape=(224, 224,3))\n",
    "\n",
    "    for layer in vgg16.layers:\n",
    "        layer.trainable = False\n",
    "\n",
    "    new_model = tf.keras.models.Sequential([\n",
    "        vgg16,\n",
    "        Flatten(),    \n",
    "        BatchNormalization(),\n",
    "        Dense(4096, activation=\"sigmoid\"),\n",
    "        Dropout(0.2),\n",
    "        Dense(128, activation=\"sigmoid\"),\n",
    "        Dropout(0.2),\n",
    "        Dense(2, activation='softmax')\n",
    "    ])\n",
    "\n",
    "    return (new_model, keras.applications.vgg16.preprocess_input)"
   ]
  },
  {
   "cell_type": "code",
   "execution_count": 30,
   "metadata": {},
   "outputs": [],
   "source": [
    "def create_model_from_ResNet152V2_A():\n",
    "    base_model = ResNet152V2(include_top=False, weights='imagenet', input_shape=(224, 224,3))\n",
    "\n",
    "    for layer in base_model.layers:\n",
    "        layer.trainable = False\n",
    "\n",
    "    new_model = tf.keras.models.Sequential([\n",
    "        base_model,\n",
    "        Flatten(),    \n",
    "        BatchNormalization(),\n",
    "        Dense(1024, activation=\"sigmoid\"),\n",
    "        Dropout(0.2),\n",
    "        Dense(128, activation=\"sigmoid\"),\n",
    "        Dropout(0.2),\n",
    "        Dense(2, activation='softmax')\n",
    "    ])\n",
    "\n",
    "    return (new_model, keras.applications.resnet_v2.preprocess_input)"
   ]
  },
  {
   "cell_type": "code",
   "execution_count": 31,
   "metadata": {},
   "outputs": [],
   "source": [
    "def create_model_from_efficientnet_C():\n",
    "    base_model = EfficientNetB7(\n",
    "        include_top = False,\n",
    "        weights = \"imagenet\",\n",
    "        input_shape = (224, 224,3))\n",
    "    \n",
    "    for layer in base_model.layers:\n",
    "        layer.trainable = False\n",
    "    \n",
    "    new_model = tf.keras.models.Sequential([\n",
    "        base_model,\n",
    "        Flatten(),  \n",
    "        BatchNormalization(),\n",
    "        Dense(256),\n",
    "        LeakyReLU(alpha = 0.01),\n",
    "        BatchNormalization(),\n",
    "        Dense(256),\n",
    "        LeakyReLU(alpha = 0.01),\n",
    "        BatchNormalization(),\n",
    "        Dense(16),\n",
    "        LeakyReLU(alpha = 0.01),\n",
    "        Dropout(0.3),\n",
    "        Dense(2, activation='softmax')\n",
    "    ])\n",
    "    \n",
    "    return (new_model, keras.applications.efficientnet_v2.preprocess_input)"
   ]
  },
  {
   "cell_type": "code",
   "execution_count": 32,
   "metadata": {},
   "outputs": [],
   "source": [
    "def create_model_from_DenseNet121_C():\n",
    "    base_model = DenseNet121(\n",
    "        include_top = False,\n",
    "        weights = \"imagenet\",\n",
    "        input_shape = (224, 224,3))\n",
    "    \n",
    "    for layer in base_model.layers:\n",
    "        layer.trainable = False\n",
    "    \n",
    "    new_model = tf.keras.models.Sequential([\n",
    "        base_model,\n",
    "        GlobalAveragePooling2D(),  \n",
    "        Dropout(0.5),\n",
    "        Dense(2, activation='softmax')\n",
    "    ])\n",
    "    \n",
    "    return (new_model, keras.applications.densenet.preprocess_input)"
   ]
  },
  {
   "cell_type": "code",
   "execution_count": 33,
   "metadata": {},
   "outputs": [],
   "source": [
    "def create_model_from_DenseNet121_D():\n",
    "    base_model = DenseNet121(\n",
    "        include_top = False,\n",
    "        weights = \"imagenet\",\n",
    "        input_shape = (224, 224,3))\n",
    "    \n",
    "    for layer in base_model.layers:\n",
    "        layer.trainable = False\n",
    "    \n",
    "    new_model = tf.keras.models.Sequential([\n",
    "        base_model,\n",
    "        Flatten(),    \n",
    "        BatchNormalization(),\n",
    "        Dense(4096, activation=\"sigmoid\"),\n",
    "        Dropout(0.2),\n",
    "        Dense(128, activation=\"sigmoid\"),\n",
    "        Dropout(0.2),\n",
    "        Dense(2, activation='softmax')\n",
    "    ])\n",
    "    \n",
    "    return (new_model, keras.applications.densenet.preprocess_input)"
   ]
  },
  {
   "cell_type": "code",
   "execution_count": 34,
   "metadata": {},
   "outputs": [],
   "source": [
    "def create_model_from_ResNet50_A():\n",
    "    base_model = ResNet50(\n",
    "        include_top = False,\n",
    "        weights = \"imagenet\",\n",
    "        input_shape = (224, 224,3))\n",
    "    \n",
    "    for layer in base_model.layers:\n",
    "        layer.trainable = False\n",
    "    \n",
    "    new_model = tf.keras.models.Sequential([\n",
    "        base_model,\n",
    "        Flatten(),    \n",
    "        BatchNormalization(),\n",
    "        Dense(1024, activation=\"sigmoid\"),\n",
    "        Dropout(0.2),\n",
    "        Dense(128, activation=\"sigmoid\"),\n",
    "        Dropout(0.2),\n",
    "        Dense(2, activation='softmax')\n",
    "    ])\n",
    "    \n",
    "    return (new_model, keras.applications.resnet.preprocess_input)"
   ]
  },
  {
   "cell_type": "code",
   "execution_count": 63,
   "metadata": {},
   "outputs": [],
   "source": [
    "checkpointer = ModelCheckpoint(filepath = training_workspace_folder +'best_val_loss_weights.h5', verbose = 1, monitor = 'val_loss', mode = 'auto', save_best_only = True) #save at each epoch if the validation decreased\n",
    "checkpointer2 = ModelCheckpoint(filepath = training_workspace_folder +'best_accuracy_weights.h5', verbose = 1, monitor = 'accuracy', mode = 'auto', save_best_only = True) #save at each epoch if the validation decreased\n",
    "checkpointer3 = ModelCheckpoint(filepath = training_workspace_folder +'best_val_accuracy_weights.h5', verbose = 1, monitor = 'val_accuracy', mode = 'auto', save_best_only = True) #save at each epoch if the validation decreased"
   ]
  },
  {
   "cell_type": "code",
   "execution_count": 64,
   "metadata": {},
   "outputs": [],
   "source": [
    "(model, selected_preprocessing_function) = create_model_from_vgg16_G()"
   ]
  },
  {
   "cell_type": "code",
   "execution_count": 65,
   "metadata": {},
   "outputs": [
    {
     "data": {
      "text/plain": [
       "<function keras.applications.vgg16.preprocess_input(x, data_format=None)>"
      ]
     },
     "execution_count": 65,
     "metadata": {},
     "output_type": "execute_result"
    }
   ],
   "source": [
    "selected_preprocessing_function"
   ]
  },
  {
   "cell_type": "code",
   "execution_count": 66,
   "metadata": {},
   "outputs": [
    {
     "name": "stdout",
     "output_type": "stream",
     "text": [
      "Found 3320 images belonging to 2 classes.\n"
     ]
    }
   ],
   "source": [
    "train_generator = ImageDataGenerator(\n",
    "    zoom_range=[0.8, 1.2],\n",
    "    rotation_range = 90.0,\n",
    "    width_shift_range = 0.1,\n",
    "    height_shift_range = 0.1,\n",
    "    horizontal_flip = True,\n",
    "    vertical_flip = True,\n",
    "    preprocessing_function = selected_preprocessing_function\n",
    ").flow_from_directory(\n",
    "    directory = data_base_train_folder,\n",
    "    class_mode = 'categorical',\n",
    "    target_size = (224,224),\n",
    "    classes = class_names,\n",
    "    batch_size = 32)"
   ]
  },
  {
   "cell_type": "code",
   "execution_count": 67,
   "metadata": {},
   "outputs": [
    {
     "name": "stdout",
     "output_type": "stream",
     "text": [
      "Found 1172 images belonging to 2 classes.\n"
     ]
    }
   ],
   "source": [
    "validation_generator = ImageDataGenerator(\n",
    "    zoom_range=[0.8, 1.2],\n",
    "    rotation_range = 90.0,\n",
    "    width_shift_range = 0.1,\n",
    "    height_shift_range = 0.1,\n",
    "    horizontal_flip = True,\n",
    "    vertical_flip = True,\n",
    "    preprocessing_function = selected_preprocessing_function\n",
    ").flow_from_directory(\n",
    "    directory = data_base_valid_folder,\n",
    "    class_mode = 'categorical',\n",
    "    target_size = (224,224),\n",
    "    classes = class_names,\n",
    "    batch_size = 32)"
   ]
  },
  {
   "cell_type": "code",
   "execution_count": 68,
   "metadata": {},
   "outputs": [
    {
     "name": "stdout",
     "output_type": "stream",
     "text": [
      "Found 1074 images belonging to 2 classes.\n"
     ]
    }
   ],
   "source": [
    "test_generator = ImageDataGenerator(\n",
    "    preprocessing_function = selected_preprocessing_function\n",
    ").flow_from_directory(\n",
    "    directory = data_base_test_folder,\n",
    "    class_mode = 'categorical',\n",
    "    target_size = (224,224),\n",
    "    classes = class_names,\n",
    "    batch_size = 32)"
   ]
  },
  {
   "cell_type": "code",
   "execution_count": 69,
   "metadata": {},
   "outputs": [],
   "source": [
    "def scheduler_I(epoch, lr):\n",
    "    if epoch < 10:\n",
    "        return 0.001\n",
    "    \n",
    "    if epoch < 20:\n",
    "        return 0.0005\n",
    "    \n",
    "    if epoch < 50:\n",
    "        return 0.0001\n",
    "    \n",
    "    return 0.00005"
   ]
  },
  {
   "cell_type": "code",
   "execution_count": 70,
   "metadata": {},
   "outputs": [],
   "source": [
    "def scheduler_II(epoch, lr):\n",
    "    if epoch < 10:\n",
    "        return 0.001\n",
    "    \n",
    "    if epoch < 20:\n",
    "        return 0.0001\n",
    "    \n",
    "    if epoch < 50:\n",
    "        return 0.00001\n",
    "    \n",
    "    return 0.000005"
   ]
  },
  {
   "cell_type": "code",
   "execution_count": 71,
   "metadata": {},
   "outputs": [],
   "source": [
    "learning_rate_scheduler_callback = LearningRateScheduler(scheduler_I)"
   ]
  },
  {
   "cell_type": "code",
   "execution_count": 72,
   "metadata": {},
   "outputs": [],
   "source": [
    "csv_logger = CSVLogger('d:/Dane/retinaldiseaseclassification/prepared/workspace/training.log')"
   ]
  },
  {
   "cell_type": "code",
   "execution_count": 74,
   "metadata": {},
   "outputs": [
    {
     "name": "stderr",
     "output_type": "stream",
     "text": [
      "C:\\Users\\ax\\AppData\\Local\\Temp\\ipykernel_22216\\3208046943.py:4: UserWarning: `Model.fit_generator` is deprecated and will be removed in a future version. Please use `Model.fit`, which supports generators.\n",
      "  history = model.fit_generator(\n"
     ]
    },
    {
     "name": "stdout",
     "output_type": "stream",
     "text": [
      "Epoch 1/50\n",
      "104/104 [==============================] - ETA: 0s - loss: 0.5554 - accuracy: 0.7337\n",
      "Epoch 1: val_loss improved from inf to 0.47328, saving model to d:/Dane/retinaldiseaseclassification/prepared/workspace\\best_val_loss_weights.h5\n",
      "\n",
      "Epoch 1: accuracy improved from -inf to 0.73373, saving model to d:/Dane/retinaldiseaseclassification/prepared/workspace\\best_accuracy_weights.h5\n",
      "\n",
      "Epoch 1: val_accuracy improved from -inf to 0.77218, saving model to d:/Dane/retinaldiseaseclassification/prepared/workspace\\best_val_accuracy_weights.h5\n",
      "104/104 [==============================] - 398s 4s/step - loss: 0.5554 - accuracy: 0.7337 - val_loss: 0.4733 - val_accuracy: 0.7722 - lr: 0.0010\n",
      "Epoch 2/50\n",
      "104/104 [==============================] - ETA: 0s - loss: 0.3967 - accuracy: 0.8199\n",
      "Epoch 2: val_loss improved from 0.47328 to 0.43820, saving model to d:/Dane/retinaldiseaseclassification/prepared/workspace\\best_val_loss_weights.h5\n",
      "\n",
      "Epoch 2: accuracy improved from 0.73373 to 0.81988, saving model to d:/Dane/retinaldiseaseclassification/prepared/workspace\\best_accuracy_weights.h5\n",
      "\n",
      "Epoch 2: val_accuracy improved from 0.77218 to 0.81570, saving model to d:/Dane/retinaldiseaseclassification/prepared/workspace\\best_val_accuracy_weights.h5\n",
      "104/104 [==============================] - 397s 4s/step - loss: 0.3967 - accuracy: 0.8199 - val_loss: 0.4382 - val_accuracy: 0.8157 - lr: 0.0010\n",
      "Epoch 3/50\n",
      "104/104 [==============================] - ETA: 0s - loss: 0.3425 - accuracy: 0.8491\n",
      "Epoch 3: val_loss did not improve from 0.43820\n",
      "\n",
      "Epoch 3: accuracy improved from 0.81988 to 0.84910, saving model to d:/Dane/retinaldiseaseclassification/prepared/workspace\\best_accuracy_weights.h5\n",
      "\n",
      "Epoch 3: val_accuracy did not improve from 0.81570\n",
      "104/104 [==============================] - 396s 4s/step - loss: 0.3425 - accuracy: 0.8491 - val_loss: 0.5789 - val_accuracy: 0.7756 - lr: 0.0010\n",
      "Epoch 4/50\n",
      "104/104 [==============================] - ETA: 0s - loss: 0.3164 - accuracy: 0.8651\n",
      "Epoch 4: val_loss did not improve from 0.43820\n",
      "\n",
      "Epoch 4: accuracy improved from 0.84910 to 0.86506, saving model to d:/Dane/retinaldiseaseclassification/prepared/workspace\\best_accuracy_weights.h5\n",
      "\n",
      "Epoch 4: val_accuracy did not improve from 0.81570\n",
      "104/104 [==============================] - 403s 4s/step - loss: 0.3164 - accuracy: 0.8651 - val_loss: 0.5781 - val_accuracy: 0.7654 - lr: 0.0010\n",
      "Epoch 5/50\n",
      "104/104 [==============================] - ETA: 0s - loss: 0.3327 - accuracy: 0.8560\n",
      "Epoch 5: val_loss did not improve from 0.43820\n",
      "\n",
      "Epoch 5: accuracy did not improve from 0.86506\n",
      "\n",
      "Epoch 5: val_accuracy did not improve from 0.81570\n",
      "104/104 [==============================] - 409s 4s/step - loss: 0.3327 - accuracy: 0.8560 - val_loss: 0.4799 - val_accuracy: 0.8020 - lr: 0.0010\n",
      "Epoch 6/50\n",
      "104/104 [==============================] - ETA: 0s - loss: 0.2945 - accuracy: 0.8741\n",
      "Epoch 6: val_loss did not improve from 0.43820\n",
      "\n",
      "Epoch 6: accuracy improved from 0.86506 to 0.87410, saving model to d:/Dane/retinaldiseaseclassification/prepared/workspace\\best_accuracy_weights.h5\n",
      "\n",
      "Epoch 6: val_accuracy did not improve from 0.81570\n",
      "104/104 [==============================] - 420s 4s/step - loss: 0.2945 - accuracy: 0.8741 - val_loss: 0.4599 - val_accuracy: 0.8097 - lr: 0.0010\n",
      "Epoch 7/50\n",
      "104/104 [==============================] - ETA: 0s - loss: 0.2954 - accuracy: 0.8750\n",
      "Epoch 7: val_loss improved from 0.43820 to 0.43373, saving model to d:/Dane/retinaldiseaseclassification/prepared/workspace\\best_val_loss_weights.h5\n",
      "\n",
      "Epoch 7: accuracy improved from 0.87410 to 0.87500, saving model to d:/Dane/retinaldiseaseclassification/prepared/workspace\\best_accuracy_weights.h5\n",
      "\n",
      "Epoch 7: val_accuracy did not improve from 0.81570\n",
      "104/104 [==============================] - 426s 4s/step - loss: 0.2954 - accuracy: 0.8750 - val_loss: 0.4337 - val_accuracy: 0.8131 - lr: 0.0010\n",
      "Epoch 8/50\n",
      "104/104 [==============================] - ETA: 0s - loss: 0.2926 - accuracy: 0.8801\n",
      "Epoch 8: val_loss did not improve from 0.43373\n",
      "\n",
      "Epoch 8: accuracy improved from 0.87500 to 0.88012, saving model to d:/Dane/retinaldiseaseclassification/prepared/workspace\\best_accuracy_weights.h5\n",
      "\n",
      "Epoch 8: val_accuracy did not improve from 0.81570\n",
      "104/104 [==============================] - 417s 4s/step - loss: 0.2926 - accuracy: 0.8801 - val_loss: 0.5800 - val_accuracy: 0.7722 - lr: 0.0010\n",
      "Epoch 9/50\n",
      "104/104 [==============================] - ETA: 0s - loss: 0.2828 - accuracy: 0.8816\n",
      "Epoch 9: val_loss did not improve from 0.43373\n",
      "\n",
      "Epoch 9: accuracy improved from 0.88012 to 0.88163, saving model to d:/Dane/retinaldiseaseclassification/prepared/workspace\\best_accuracy_weights.h5\n",
      "\n",
      "Epoch 9: val_accuracy improved from 0.81570 to 0.82594, saving model to d:/Dane/retinaldiseaseclassification/prepared/workspace\\best_val_accuracy_weights.h5\n",
      "104/104 [==============================] - 424s 4s/step - loss: 0.2828 - accuracy: 0.8816 - val_loss: 0.4535 - val_accuracy: 0.8259 - lr: 0.0010\n",
      "Epoch 10/50\n",
      "104/104 [==============================] - ETA: 0s - loss: 0.2692 - accuracy: 0.8867\n",
      "Epoch 10: val_loss did not improve from 0.43373\n",
      "\n",
      "Epoch 10: accuracy improved from 0.88163 to 0.88675, saving model to d:/Dane/retinaldiseaseclassification/prepared/workspace\\best_accuracy_weights.h5\n",
      "\n",
      "Epoch 10: val_accuracy did not improve from 0.82594\n",
      "104/104 [==============================] - 443s 4s/step - loss: 0.2692 - accuracy: 0.8867 - val_loss: 0.5037 - val_accuracy: 0.7841 - lr: 0.0010\n",
      "Epoch 11/50\n",
      "104/104 [==============================] - ETA: 0s - loss: 0.2475 - accuracy: 0.9039\n",
      "Epoch 11: val_loss did not improve from 0.43373\n",
      "\n",
      "Epoch 11: accuracy improved from 0.88675 to 0.90392, saving model to d:/Dane/retinaldiseaseclassification/prepared/workspace\\best_accuracy_weights.h5\n",
      "\n",
      "Epoch 11: val_accuracy did not improve from 0.82594\n",
      "104/104 [==============================] - 440s 4s/step - loss: 0.2475 - accuracy: 0.9039 - val_loss: 0.6263 - val_accuracy: 0.7671 - lr: 5.0000e-04\n",
      "Epoch 12/50\n",
      "104/104 [==============================] - ETA: 0s - loss: 0.2352 - accuracy: 0.9027\n",
      "Epoch 12: val_loss did not improve from 0.43373\n",
      "\n",
      "Epoch 12: accuracy did not improve from 0.90392\n",
      "\n",
      "Epoch 12: val_accuracy did not improve from 0.82594\n",
      "104/104 [==============================] - 458s 4s/step - loss: 0.2352 - accuracy: 0.9027 - val_loss: 0.7215 - val_accuracy: 0.7560 - lr: 5.0000e-04\n",
      "Epoch 13/50\n",
      "104/104 [==============================] - ETA: 0s - loss: 0.2292 - accuracy: 0.9039\n",
      "Epoch 13: val_loss did not improve from 0.43373\n",
      "\n",
      "Epoch 13: accuracy did not improve from 0.90392\n",
      "\n",
      "Epoch 13: val_accuracy did not improve from 0.82594\n",
      "104/104 [==============================] - 443s 4s/step - loss: 0.2292 - accuracy: 0.9039 - val_loss: 0.6241 - val_accuracy: 0.7824 - lr: 5.0000e-04\n",
      "Epoch 14/50\n",
      "104/104 [==============================] - ETA: 0s - loss: 0.2255 - accuracy: 0.9102\n",
      "Epoch 14: val_loss did not improve from 0.43373\n",
      "\n",
      "Epoch 14: accuracy improved from 0.90392 to 0.91024, saving model to d:/Dane/retinaldiseaseclassification/prepared/workspace\\best_accuracy_weights.h5\n",
      "\n",
      "Epoch 14: val_accuracy did not improve from 0.82594\n",
      "104/104 [==============================] - 443s 4s/step - loss: 0.2255 - accuracy: 0.9102 - val_loss: 0.5805 - val_accuracy: 0.7969 - lr: 5.0000e-04\n",
      "Epoch 15/50\n",
      "104/104 [==============================] - ETA: 0s - loss: 0.2536 - accuracy: 0.8994\n",
      "Epoch 15: val_loss did not improve from 0.43373\n",
      "\n",
      "Epoch 15: accuracy did not improve from 0.91024\n",
      "\n",
      "Epoch 15: val_accuracy did not improve from 0.82594\n",
      "104/104 [==============================] - 432s 4s/step - loss: 0.2536 - accuracy: 0.8994 - val_loss: 0.5662 - val_accuracy: 0.7918 - lr: 5.0000e-04\n",
      "Epoch 16/50\n",
      "104/104 [==============================] - ETA: 0s - loss: 0.2185 - accuracy: 0.9072\n",
      "Epoch 16: val_loss did not improve from 0.43373\n",
      "\n",
      "Epoch 16: accuracy did not improve from 0.91024\n",
      "\n",
      "Epoch 16: val_accuracy did not improve from 0.82594\n",
      "104/104 [==============================] - 433s 4s/step - loss: 0.2185 - accuracy: 0.9072 - val_loss: 0.5675 - val_accuracy: 0.7969 - lr: 5.0000e-04\n",
      "Epoch 17/50\n",
      "104/104 [==============================] - ETA: 0s - loss: 0.2204 - accuracy: 0.9057\n",
      "Epoch 17: val_loss did not improve from 0.43373\n",
      "\n",
      "Epoch 17: accuracy did not improve from 0.91024\n",
      "\n",
      "Epoch 17: val_accuracy did not improve from 0.82594\n"
     ]
    },
    {
     "name": "stdout",
     "output_type": "stream",
     "text": [
      "104/104 [==============================] - 437s 4s/step - loss: 0.2204 - accuracy: 0.9057 - val_loss: 0.5791 - val_accuracy: 0.8080 - lr: 5.0000e-04\n",
      "Epoch 18/50\n",
      "104/104 [==============================] - ETA: 0s - loss: 0.2211 - accuracy: 0.9102\n",
      "Epoch 18: val_loss did not improve from 0.43373\n",
      "\n",
      "Epoch 18: accuracy did not improve from 0.91024\n",
      "\n",
      "Epoch 18: val_accuracy did not improve from 0.82594\n",
      "104/104 [==============================] - 438s 4s/step - loss: 0.2211 - accuracy: 0.9102 - val_loss: 0.5823 - val_accuracy: 0.8148 - lr: 5.0000e-04\n",
      "Epoch 19/50\n",
      "104/104 [==============================] - ETA: 0s - loss: 0.2102 - accuracy: 0.9163\n",
      "Epoch 19: val_loss did not improve from 0.43373\n",
      "\n",
      "Epoch 19: accuracy improved from 0.91024 to 0.91627, saving model to d:/Dane/retinaldiseaseclassification/prepared/workspace\\best_accuracy_weights.h5\n",
      "\n",
      "Epoch 19: val_accuracy did not improve from 0.82594\n",
      "104/104 [==============================] - 430s 4s/step - loss: 0.2102 - accuracy: 0.9163 - val_loss: 0.5560 - val_accuracy: 0.8097 - lr: 5.0000e-04\n",
      "Epoch 20/50\n",
      "104/104 [==============================] - ETA: 0s - loss: 0.2199 - accuracy: 0.9123\n",
      "Epoch 20: val_loss did not improve from 0.43373\n",
      "\n",
      "Epoch 20: accuracy did not improve from 0.91627\n",
      "\n",
      "Epoch 20: val_accuracy did not improve from 0.82594\n",
      "104/104 [==============================] - 428s 4s/step - loss: 0.2199 - accuracy: 0.9123 - val_loss: 0.5727 - val_accuracy: 0.8174 - lr: 5.0000e-04\n",
      "Epoch 21/50\n",
      "104/104 [==============================] - ETA: 0s - loss: 0.2147 - accuracy: 0.9102\n",
      "Epoch 21: val_loss did not improve from 0.43373\n",
      "\n",
      "Epoch 21: accuracy did not improve from 0.91627\n",
      "\n",
      "Epoch 21: val_accuracy did not improve from 0.82594\n",
      "104/104 [==============================] - 427s 4s/step - loss: 0.2147 - accuracy: 0.9102 - val_loss: 0.5829 - val_accuracy: 0.7978 - lr: 1.0000e-04\n",
      "Epoch 22/50\n",
      "104/104 [==============================] - ETA: 0s - loss: 0.1991 - accuracy: 0.9217\n",
      "Epoch 22: val_loss did not improve from 0.43373\n",
      "\n",
      "Epoch 22: accuracy improved from 0.91627 to 0.92169, saving model to d:/Dane/retinaldiseaseclassification/prepared/workspace\\best_accuracy_weights.h5\n",
      "\n",
      "Epoch 22: val_accuracy did not improve from 0.82594\n",
      "104/104 [==============================] - 430s 4s/step - loss: 0.1991 - accuracy: 0.9217 - val_loss: 0.6242 - val_accuracy: 0.8063 - lr: 1.0000e-04\n",
      "Epoch 23/50\n",
      "104/104 [==============================] - ETA: 0s - loss: 0.1893 - accuracy: 0.9226\n",
      "Epoch 23: val_loss did not improve from 0.43373\n",
      "\n",
      "Epoch 23: accuracy improved from 0.92169 to 0.92259, saving model to d:/Dane/retinaldiseaseclassification/prepared/workspace\\best_accuracy_weights.h5\n",
      "\n",
      "Epoch 23: val_accuracy did not improve from 0.82594\n",
      "104/104 [==============================] - 421s 4s/step - loss: 0.1893 - accuracy: 0.9226 - val_loss: 0.6372 - val_accuracy: 0.7995 - lr: 1.0000e-04\n",
      "Epoch 24/50\n",
      "104/104 [==============================] - ETA: 0s - loss: 0.1861 - accuracy: 0.9289\n",
      "Epoch 24: val_loss did not improve from 0.43373\n",
      "\n",
      "Epoch 24: accuracy improved from 0.92259 to 0.92892, saving model to d:/Dane/retinaldiseaseclassification/prepared/workspace\\best_accuracy_weights.h5\n",
      "\n",
      "Epoch 24: val_accuracy did not improve from 0.82594\n",
      "104/104 [==============================] - 412s 4s/step - loss: 0.1861 - accuracy: 0.9289 - val_loss: 0.6623 - val_accuracy: 0.7773 - lr: 1.0000e-04\n",
      "Epoch 25/50\n",
      "104/104 [==============================] - ETA: 0s - loss: 0.1874 - accuracy: 0.9244\n",
      "Epoch 25: val_loss did not improve from 0.43373\n",
      "\n",
      "Epoch 25: accuracy did not improve from 0.92892\n",
      "\n",
      "Epoch 25: val_accuracy did not improve from 0.82594\n",
      "104/104 [==============================] - 410s 4s/step - loss: 0.1874 - accuracy: 0.9244 - val_loss: 0.6830 - val_accuracy: 0.7867 - lr: 1.0000e-04\n",
      "Epoch 26/50\n",
      "104/104 [==============================] - ETA: 0s - loss: 0.1836 - accuracy: 0.9262\n",
      "Epoch 26: val_loss did not improve from 0.43373\n",
      "\n",
      "Epoch 26: accuracy did not improve from 0.92892\n",
      "\n",
      "Epoch 26: val_accuracy did not improve from 0.82594\n",
      "104/104 [==============================] - 408s 4s/step - loss: 0.1836 - accuracy: 0.9262 - val_loss: 0.6171 - val_accuracy: 0.7995 - lr: 1.0000e-04\n",
      "Epoch 27/50\n",
      "104/104 [==============================] - ETA: 0s - loss: 0.2022 - accuracy: 0.9163\n",
      "Epoch 27: val_loss did not improve from 0.43373\n",
      "\n",
      "Epoch 27: accuracy did not improve from 0.92892\n",
      "\n",
      "Epoch 27: val_accuracy did not improve from 0.82594\n",
      "104/104 [==============================] - 405s 4s/step - loss: 0.2022 - accuracy: 0.9163 - val_loss: 0.6500 - val_accuracy: 0.7944 - lr: 1.0000e-04\n",
      "Epoch 28/50\n",
      "104/104 [==============================] - ETA: 0s - loss: 0.1757 - accuracy: 0.9328\n",
      "Epoch 28: val_loss did not improve from 0.43373\n",
      "\n",
      "Epoch 28: accuracy improved from 0.92892 to 0.93283, saving model to d:/Dane/retinaldiseaseclassification/prepared/workspace\\best_accuracy_weights.h5\n",
      "\n",
      "Epoch 28: val_accuracy did not improve from 0.82594\n",
      "104/104 [==============================] - 407s 4s/step - loss: 0.1757 - accuracy: 0.9328 - val_loss: 0.6986 - val_accuracy: 0.7696 - lr: 1.0000e-04\n",
      "Epoch 29/50\n",
      "104/104 [==============================] - ETA: 0s - loss: 0.1608 - accuracy: 0.9349\n",
      "Epoch 29: val_loss did not improve from 0.43373\n",
      "\n",
      "Epoch 29: accuracy improved from 0.93283 to 0.93494, saving model to d:/Dane/retinaldiseaseclassification/prepared/workspace\\best_accuracy_weights.h5\n",
      "\n",
      "Epoch 29: val_accuracy did not improve from 0.82594\n",
      "104/104 [==============================] - 406s 4s/step - loss: 0.1608 - accuracy: 0.9349 - val_loss: 0.6732 - val_accuracy: 0.7995 - lr: 1.0000e-04\n",
      "Epoch 30/50\n",
      "104/104 [==============================] - ETA: 0s - loss: 0.1771 - accuracy: 0.9331\n",
      "Epoch 30: val_loss did not improve from 0.43373\n",
      "\n",
      "Epoch 30: accuracy did not improve from 0.93494\n",
      "\n",
      "Epoch 30: val_accuracy did not improve from 0.82594\n",
      "104/104 [==============================] - 406s 4s/step - loss: 0.1771 - accuracy: 0.9331 - val_loss: 0.6605 - val_accuracy: 0.7858 - lr: 1.0000e-04\n",
      "Epoch 31/50\n",
      "104/104 [==============================] - ETA: 0s - loss: 0.1840 - accuracy: 0.9289\n",
      "Epoch 31: val_loss did not improve from 0.43373\n",
      "\n",
      "Epoch 31: accuracy did not improve from 0.93494\n",
      "\n",
      "Epoch 31: val_accuracy did not improve from 0.82594\n",
      "104/104 [==============================] - 407s 4s/step - loss: 0.1840 - accuracy: 0.9289 - val_loss: 0.6606 - val_accuracy: 0.7875 - lr: 1.0000e-04\n",
      "Epoch 32/50\n",
      "104/104 [==============================] - ETA: 0s - loss: 0.1720 - accuracy: 0.9298\n",
      "Epoch 32: val_loss did not improve from 0.43373\n",
      "\n",
      "Epoch 32: accuracy did not improve from 0.93494\n",
      "\n",
      "Epoch 32: val_accuracy did not improve from 0.82594\n",
      "104/104 [==============================] - 405s 4s/step - loss: 0.1720 - accuracy: 0.9298 - val_loss: 0.5689 - val_accuracy: 0.8046 - lr: 1.0000e-04\n",
      "Epoch 33/50\n",
      "104/104 [==============================] - ETA: 0s - loss: 0.1881 - accuracy: 0.9247\n",
      "Epoch 33: val_loss did not improve from 0.43373\n",
      "\n",
      "Epoch 33: accuracy did not improve from 0.93494\n",
      "\n",
      "Epoch 33: val_accuracy did not improve from 0.82594\n",
      "104/104 [==============================] - 405s 4s/step - loss: 0.1881 - accuracy: 0.9247 - val_loss: 0.7004 - val_accuracy: 0.7611 - lr: 1.0000e-04\n",
      "Epoch 34/50\n",
      "104/104 [==============================] - ETA: 0s - loss: 0.1847 - accuracy: 0.9271\n",
      "Epoch 34: val_loss did not improve from 0.43373\n",
      "\n",
      "Epoch 34: accuracy did not improve from 0.93494\n",
      "\n",
      "Epoch 34: val_accuracy did not improve from 0.82594\n",
      "104/104 [==============================] - 407s 4s/step - loss: 0.1847 - accuracy: 0.9271 - val_loss: 0.6349 - val_accuracy: 0.7892 - lr: 1.0000e-04\n",
      "Epoch 35/50\n",
      "104/104 [==============================] - ETA: 0s - loss: 0.1833 - accuracy: 0.9283\n",
      "Epoch 35: val_loss did not improve from 0.43373\n",
      "\n",
      "Epoch 35: accuracy did not improve from 0.93494\n",
      "\n",
      "Epoch 35: val_accuracy did not improve from 0.82594\n",
      "104/104 [==============================] - 404s 4s/step - loss: 0.1833 - accuracy: 0.9283 - val_loss: 0.6493 - val_accuracy: 0.7799 - lr: 1.0000e-04\n",
      "Epoch 36/50\n",
      "104/104 [==============================] - ETA: 0s - loss: 0.1687 - accuracy: 0.9331\n",
      "Epoch 36: val_loss did not improve from 0.43373\n",
      "\n",
      "Epoch 36: accuracy did not improve from 0.93494\n",
      "\n",
      "Epoch 36: val_accuracy did not improve from 0.82594\n",
      "104/104 [==============================] - 404s 4s/step - loss: 0.1687 - accuracy: 0.9331 - val_loss: 0.5494 - val_accuracy: 0.8114 - lr: 1.0000e-04\n"
     ]
    },
    {
     "name": "stdout",
     "output_type": "stream",
     "text": [
      "Epoch 37/50\n",
      "104/104 [==============================] - ETA: 0s - loss: 0.1778 - accuracy: 0.9268\n",
      "Epoch 37: val_loss did not improve from 0.43373\n",
      "\n",
      "Epoch 37: accuracy did not improve from 0.93494\n",
      "\n",
      "Epoch 37: val_accuracy did not improve from 0.82594\n",
      "104/104 [==============================] - 404s 4s/step - loss: 0.1778 - accuracy: 0.9268 - val_loss: 0.6396 - val_accuracy: 0.7978 - lr: 1.0000e-04\n",
      "Epoch 38/50\n",
      "104/104 [==============================] - ETA: 0s - loss: 0.1743 - accuracy: 0.9268\n",
      "Epoch 38: val_loss did not improve from 0.43373\n",
      "\n",
      "Epoch 38: accuracy did not improve from 0.93494\n",
      "\n",
      "Epoch 38: val_accuracy did not improve from 0.82594\n",
      "104/104 [==============================] - 403s 4s/step - loss: 0.1743 - accuracy: 0.9268 - val_loss: 0.6468 - val_accuracy: 0.7969 - lr: 1.0000e-04\n",
      "Epoch 39/50\n",
      "104/104 [==============================] - ETA: 0s - loss: 0.1680 - accuracy: 0.9364\n",
      "Epoch 39: val_loss did not improve from 0.43373\n",
      "\n",
      "Epoch 39: accuracy improved from 0.93494 to 0.93645, saving model to d:/Dane/retinaldiseaseclassification/prepared/workspace\\best_accuracy_weights.h5\n",
      "\n",
      "Epoch 39: val_accuracy did not improve from 0.82594\n",
      "104/104 [==============================] - 405s 4s/step - loss: 0.1680 - accuracy: 0.9364 - val_loss: 0.6895 - val_accuracy: 0.7858 - lr: 1.0000e-04\n",
      "Epoch 40/50\n",
      "104/104 [==============================] - ETA: 0s - loss: 0.1701 - accuracy: 0.9331\n",
      "Epoch 40: val_loss did not improve from 0.43373\n",
      "\n",
      "Epoch 40: accuracy did not improve from 0.93645\n",
      "\n",
      "Epoch 40: val_accuracy did not improve from 0.82594\n",
      "104/104 [==============================] - 403s 4s/step - loss: 0.1701 - accuracy: 0.9331 - val_loss: 0.6613 - val_accuracy: 0.7986 - lr: 1.0000e-04\n",
      "Epoch 41/50\n",
      "104/104 [==============================] - ETA: 0s - loss: 0.1691 - accuracy: 0.9322\n",
      "Epoch 41: val_loss did not improve from 0.43373\n",
      "\n",
      "Epoch 41: accuracy did not improve from 0.93645\n",
      "\n",
      "Epoch 41: val_accuracy did not improve from 0.82594\n",
      "104/104 [==============================] - 404s 4s/step - loss: 0.1691 - accuracy: 0.9322 - val_loss: 0.6306 - val_accuracy: 0.7935 - lr: 1.0000e-04\n",
      "Epoch 42/50\n",
      "104/104 [==============================] - ETA: 0s - loss: 0.1740 - accuracy: 0.9289\n",
      "Epoch 42: val_loss did not improve from 0.43373\n",
      "\n",
      "Epoch 42: accuracy did not improve from 0.93645\n",
      "\n",
      "Epoch 42: val_accuracy did not improve from 0.82594\n",
      "104/104 [==============================] - 403s 4s/step - loss: 0.1740 - accuracy: 0.9289 - val_loss: 0.7042 - val_accuracy: 0.7867 - lr: 1.0000e-04\n",
      "Epoch 43/50\n",
      "104/104 [==============================] - ETA: 0s - loss: 0.1679 - accuracy: 0.9334\n",
      "Epoch 43: val_loss did not improve from 0.43373\n",
      "\n",
      "Epoch 43: accuracy did not improve from 0.93645\n",
      "\n",
      "Epoch 43: val_accuracy did not improve from 0.82594\n",
      "104/104 [==============================] - 403s 4s/step - loss: 0.1679 - accuracy: 0.9334 - val_loss: 0.6445 - val_accuracy: 0.7986 - lr: 1.0000e-04\n",
      "Epoch 44/50\n",
      "104/104 [==============================] - ETA: 0s - loss: 0.1639 - accuracy: 0.9361\n",
      "Epoch 44: val_loss did not improve from 0.43373\n",
      "\n",
      "Epoch 44: accuracy did not improve from 0.93645\n",
      "\n",
      "Epoch 44: val_accuracy did not improve from 0.82594\n",
      "104/104 [==============================] - 405s 4s/step - loss: 0.1639 - accuracy: 0.9361 - val_loss: 0.7580 - val_accuracy: 0.7739 - lr: 1.0000e-04\n",
      "Epoch 45/50\n",
      "104/104 [==============================] - ETA: 0s - loss: 0.1625 - accuracy: 0.9395\n",
      "Epoch 45: val_loss did not improve from 0.43373\n",
      "\n",
      "Epoch 45: accuracy improved from 0.93645 to 0.93946, saving model to d:/Dane/retinaldiseaseclassification/prepared/workspace\\best_accuracy_weights.h5\n",
      "\n",
      "Epoch 45: val_accuracy did not improve from 0.82594\n",
      "104/104 [==============================] - 407s 4s/step - loss: 0.1625 - accuracy: 0.9395 - val_loss: 0.6805 - val_accuracy: 0.7978 - lr: 1.0000e-04\n",
      "Epoch 46/50\n",
      "104/104 [==============================] - ETA: 0s - loss: 0.1689 - accuracy: 0.9298\n",
      "Epoch 46: val_loss did not improve from 0.43373\n",
      "\n",
      "Epoch 46: accuracy did not improve from 0.93946\n",
      "\n",
      "Epoch 46: val_accuracy did not improve from 0.82594\n",
      "104/104 [==============================] - 403s 4s/step - loss: 0.1689 - accuracy: 0.9298 - val_loss: 0.6708 - val_accuracy: 0.7918 - lr: 1.0000e-04\n",
      "Epoch 47/50\n",
      "104/104 [==============================] - ETA: 0s - loss: 0.1630 - accuracy: 0.9377\n",
      "Epoch 47: val_loss did not improve from 0.43373\n",
      "\n",
      "Epoch 47: accuracy did not improve from 0.93946\n",
      "\n",
      "Epoch 47: val_accuracy did not improve from 0.82594\n",
      "104/104 [==============================] - 402s 4s/step - loss: 0.1630 - accuracy: 0.9377 - val_loss: 0.7134 - val_accuracy: 0.7969 - lr: 1.0000e-04\n",
      "Epoch 48/50\n",
      "104/104 [==============================] - ETA: 0s - loss: 0.1746 - accuracy: 0.9313\n",
      "Epoch 48: val_loss did not improve from 0.43373\n",
      "\n",
      "Epoch 48: accuracy did not improve from 0.93946\n",
      "\n",
      "Epoch 48: val_accuracy did not improve from 0.82594\n",
      "104/104 [==============================] - 404s 4s/step - loss: 0.1746 - accuracy: 0.9313 - val_loss: 0.6591 - val_accuracy: 0.8097 - lr: 1.0000e-04\n",
      "Epoch 49/50\n",
      "104/104 [==============================] - ETA: 0s - loss: 0.1623 - accuracy: 0.9340\n",
      "Epoch 49: val_loss did not improve from 0.43373\n",
      "\n",
      "Epoch 49: accuracy did not improve from 0.93946\n",
      "\n",
      "Epoch 49: val_accuracy did not improve from 0.82594\n",
      "104/104 [==============================] - 403s 4s/step - loss: 0.1623 - accuracy: 0.9340 - val_loss: 0.6810 - val_accuracy: 0.7995 - lr: 1.0000e-04\n",
      "Epoch 50/50\n",
      "104/104 [==============================] - ETA: 0s - loss: 0.1679 - accuracy: 0.9346\n",
      "Epoch 50: val_loss did not improve from 0.43373\n",
      "\n",
      "Epoch 50: accuracy did not improve from 0.93946\n",
      "\n",
      "Epoch 50: val_accuracy did not improve from 0.82594\n",
      "104/104 [==============================] - 403s 4s/step - loss: 0.1679 - accuracy: 0.9346 - val_loss: 0.6357 - val_accuracy: 0.8038 - lr: 1.0000e-04\n"
     ]
    }
   ],
   "source": [
    "model.compile(optimizer = 'adam', loss = 'categorical_crossentropy', metrics = ['accuracy'])\n",
    "json_string = model.to_json()\n",
    "open(training_workspace_folder + 'TL_model_architecture.json', 'w').write(json_string)\n",
    "history = model.fit_generator(\n",
    "    train_generator,\n",
    "    validation_data = validation_generator,\n",
    "    epochs = 50,\n",
    "    callbacks = [checkpointer, checkpointer2, checkpointer3, learning_rate_scheduler_callback, csv_logger]\n",
    ")"
   ]
  },
  {
   "cell_type": "code",
   "execution_count": 77,
   "metadata": {},
   "outputs": [
    {
     "name": "stdout",
     "output_type": "stream",
     "text": [
      "Model: \"sequential_2\"\n",
      "_________________________________________________________________\n",
      " Layer (type)                Output Shape              Param #   \n",
      "=================================================================\n",
      " vgg16 (Functional)          (None, 7, 7, 512)         14714688  \n",
      "                                                                 \n",
      " flatten_2 (Flatten)         (None, 25088)             0         \n",
      "                                                                 \n",
      " batch_normalization_2 (Batc  (None, 25088)            100352    \n",
      " hNormalization)                                                 \n",
      "                                                                 \n",
      " dense_7 (Dense)             (None, 4096)              102764544 \n",
      "                                                                 \n",
      " dropout_5 (Dropout)         (None, 4096)              0         \n",
      "                                                                 \n",
      " dense_8 (Dense)             (None, 128)               524416    \n",
      "                                                                 \n",
      " dropout_6 (Dropout)         (None, 128)               0         \n",
      "                                                                 \n",
      " dense_9 (Dense)             (None, 2)                 258       \n",
      "                                                                 \n",
      "=================================================================\n",
      "Total params: 118,104,258\n",
      "Trainable params: 103,339,394\n",
      "Non-trainable params: 14,764,864\n",
      "_________________________________________________________________\n"
     ]
    }
   ],
   "source": [
    "model.summary()"
   ]
  },
  {
   "cell_type": "code",
   "execution_count": 78,
   "metadata": {},
   "outputs": [
    {
     "data": {
      "image/png": "[encoded data removed]",
      "text/plain": [
       "<Figure size 640x480 with 1 Axes>"
      ]
     },
     "metadata": {},
     "output_type": "display_data"
    },
    {
     "data": {
      "image/png": "[encoded data removed]",
      "text/plain": [
       "<Figure size 640x480 with 1 Axes>"
      ]
     },
     "metadata": {},
     "output_type": "display_data"
    }
   ],
   "source": [
    "plt.plot(history.history['accuracy'])\n",
    "plt.plot(history.history['val_accuracy'])\n",
    "plt.title('model accuracy')\n",
    "plt.ylabel('accuracy')\n",
    "plt.xlabel('epoch')\n",
    "plt.legend(['train', 'validation'], loc='upper left')\n",
    "plt.show()\n",
    "# \"Loss\"\n",
    "plt.plot(history.history['loss'])\n",
    "plt.plot(history.history['val_loss'])\n",
    "plt.title('model loss')\n",
    "plt.ylabel('loss')\n",
    "plt.xlabel('epoch')\n",
    "plt.legend(['train', 'validation'], loc='upper left')\n",
    "plt.show()"
   ]
  },
  {
   "cell_type": "code",
   "execution_count": 79,
   "metadata": {},
   "outputs": [
    {
     "name": "stderr",
     "output_type": "stream",
     "text": [
      "C:\\Users\\ax\\AppData\\Local\\Temp\\ipykernel_22216\\729571264.py:2: UserWarning: `Model.evaluate_generator` is deprecated and will be removed in a future version. Please use `Model.evaluate`, which supports generators.\n",
      "  scoreSeg = model.evaluate_generator(test_generator)\n"
     ]
    }
   ],
   "source": [
    "#scoreSeg = model.evaluate_generator(test_generator, 400)\n",
    "scoreSeg = model.evaluate_generator(test_generator)"
   ]
  },
  {
   "cell_type": "code",
   "execution_count": 80,
   "metadata": {},
   "outputs": [
    {
     "data": {
      "text/plain": [
       "[0.7812935709953308, 0.7932960987091064]"
      ]
     },
     "execution_count": 80,
     "metadata": {},
     "output_type": "execute_result"
    }
   ],
   "source": [
    "scoreSeg"
   ]
  },
  {
   "cell_type": "code",
   "execution_count": 81,
   "metadata": {},
   "outputs": [
    {
     "data": {
      "text/plain": [
       "['loss', 'accuracy']"
      ]
     },
     "execution_count": 81,
     "metadata": {},
     "output_type": "execute_result"
    }
   ],
   "source": [
    "model.metrics_names"
   ]
  },
  {
   "cell_type": "code",
   "execution_count": 82,
   "metadata": {},
   "outputs": [
    {
     "name": "stderr",
     "output_type": "stream",
     "text": [
      "C:\\Users\\ax\\AppData\\Local\\Temp\\ipykernel_22216\\3358749156.py:1: UserWarning: `Model.predict_generator` is deprecated and will be removed in a future version. Please use `Model.predict`, which supports generators.\n",
      "  Y_pred = model.predict_generator(test_generator)\n"
     ]
    }
   ],
   "source": [
    "Y_pred = model.predict_generator(test_generator)"
   ]
  },
  {
   "cell_type": "code",
   "execution_count": 52,
   "metadata": {},
   "outputs": [],
   "source": [
    "y_pred = np.argmax(Y_pred, axis=1)"
   ]
  },
  {
   "cell_type": "code",
   "execution_count": 53,
   "metadata": {},
   "outputs": [],
   "source": [
    "y_true = test_generator.classes"
   ]
  },
  {
   "cell_type": "code",
   "execution_count": 54,
   "metadata": {},
   "outputs": [],
   "source": [
    "cm = confusion_matrix(y_true, y_pred)"
   ]
  },
  {
   "cell_type": "code",
   "execution_count": 55,
   "metadata": {},
   "outputs": [],
   "source": [
    "tn, fp, fn, tp = cm.ravel()"
   ]
  },
  {
   "cell_type": "code",
   "execution_count": 56,
   "metadata": {},
   "outputs": [
    {
     "data": {
      "text/plain": [
       "(423, 186, 314, 151)"
      ]
     },
     "execution_count": 56,
     "metadata": {},
     "output_type": "execute_result"
    }
   ],
   "source": [
    "tn, fp, fn, tp"
   ]
  },
  {
   "cell_type": "code",
   "execution_count": 57,
   "metadata": {},
   "outputs": [
    {
     "name": "stdout",
     "output_type": "stream",
     "text": [
      "[[423 186]\n",
      " [314 151]]\n"
     ]
    }
   ],
   "source": [
    "print(confusion_matrix(test_generator.classes, y_pred))"
   ]
  },
  {
   "cell_type": "code",
   "execution_count": 83,
   "metadata": {},
   "outputs": [
    {
     "name": "stderr",
     "output_type": "stream",
     "text": [
      "C:\\Users\\ax\\AppData\\Local\\Temp\\ipykernel_22216\\3029224857.py:2: UserWarning: `Model.predict_generator` is deprecated and will be removed in a future version. Please use `Model.predict`, which supports generators.\n",
      "  Y_pred = model.predict_generator(test_data_generator)\n"
     ]
    }
   ],
   "source": [
    "cm = get_confusion_matrix(model, test_generator)"
   ]
  },
  {
   "cell_type": "code",
   "execution_count": 85,
   "metadata": {},
   "outputs": [
    {
     "data": {
      "image/png": "[encoded data removed]",
      "text/plain": [
       "<Figure size 640x480 with 2 Axes>"
      ]
     },
     "metadata": {},
     "output_type": "display_data"
    }
   ],
   "source": [
    "labels = [\"No\", \"Yes\"]\n",
    "disp = ConfusionMatrixDisplay(confusion_matrix = cm, display_labels = labels)\n",
    "disp.plot(cmap = plt.cm.Blues)\n",
    "plt.show()"
   ]
  },
  {
   "cell_type": "code",
   "execution_count": null,
   "metadata": {},
   "outputs": [],
   "source": []
  }
 ],
 "metadata": {
  "kernelspec": {
   "display_name": "Python 3 (ipykernel)",
   "language": "python",
   "name": "python3"
  },
  "language_info": {
   "codemirror_mode": {
    "name": "ipython",
    "version": 3
   },
   "file_extension": ".py",
   "mimetype": "text/x-python",
   "name": "python",
   "nbconvert_exporter": "python",
   "pygments_lexer": "ipython3",
   "version": "3.10.9"
  }
 },
 "nbformat": 4,
 "nbformat_minor": 4
}
