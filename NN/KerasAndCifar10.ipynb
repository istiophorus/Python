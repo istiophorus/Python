{
 "cells": [
  {
   "cell_type": "code",
   "execution_count": 12,
   "metadata": {},
   "outputs": [],
   "source": [
    "import pandas as pd\n",
    "import numpy as np\n",
    "import matplotlib.pyplot as plt\n",
    "%matplotlib inline\n",
    "from keras.utils.np_utils import to_categorical\n",
    "from keras.optimizers import SGD, Adam\n",
    "from keras.models import Sequential\n",
    "from keras.layers import Dense\n",
    "from keras.layers import Conv2D, MaxPool2D, Flatten, Activation\n",
    "from keras.datasets import cifar10"
   ]
  },
  {
   "cell_type": "code",
   "execution_count": 2,
   "metadata": {},
   "outputs": [],
   "source": []
  },
  {
   "cell_type": "code",
   "execution_count": 4,
   "metadata": {},
   "outputs": [],
   "source": [
    "(X_train, Y_train), (X_test, Y_test) = cifar10.load_data()"
   ]
  },
  {
   "cell_type": "code",
   "execution_count": 6,
   "metadata": {},
   "outputs": [],
   "source": [
    "Y_train_cat = to_categorical(Y_train)\n",
    "Y_test_cat = to_categorical(Y_test)"
   ]
  },
  {
   "cell_type": "code",
   "execution_count": 14,
   "metadata": {},
   "outputs": [
    {
     "data": {
      "text/plain": [
       "(50000, 32, 32, 3)"
      ]
     },
     "execution_count": 14,
     "metadata": {},
     "output_type": "execute_result"
    }
   ],
   "source": [
    "X_train.shape"
   ]
  },
  {
   "cell_type": "code",
   "execution_count": 27,
   "metadata": {},
   "outputs": [],
   "source": [
    "modelC = Sequential()\n",
    "modelC.add(Conv2D(128, (3,3), input_shape=(32,32,3),activation=\"relu\"))\n",
    "modelC.add(Conv2D(128, (3,3),activation=\"relu\"))\n",
    "modelC.add(MaxPool2D(pool_size=(2, 2)))\n",
    "modelC.add(Conv2D(128, (3,3),activation=\"relu\"))\n",
    "modelC.add(Conv2D(128, (3,3),activation=\"relu\"))\n",
    "modelC.add(MaxPool2D(pool_size=(2, 2)))\n",
    "modelC.add(Activation('relu'))\n",
    "modelC.add(Flatten())\n",
    "modelC.add(Dense(258, activation=\"relu\"))\n",
    "modelC.add(Dense(128, activation=\"relu\"))\n",
    "modelC.add(Dense(10, activation=\"softmax\"))\n",
    "modelC.compile(loss=\"categorical_crossentropy\", optimizer=\"rmsprop\", metrics=[\"accuracy\"])"
   ]
  },
  {
   "cell_type": "code",
   "execution_count": 28,
   "metadata": {
    "scrolled": false
   },
   "outputs": [
    {
     "name": "stdout",
     "output_type": "stream",
     "text": [
      "Train on 35000 samples, validate on 15000 samples\n",
      "Epoch 1/10\n",
      "35000/35000 [==============================] - 440s 13ms/step - loss: 2.0497 - accuracy: 0.3568 - val_loss: 1.3902 - val_accuracy: 0.5139\n",
      "Epoch 2/10\n",
      "35000/35000 [==============================] - 437s 12ms/step - loss: 1.3244 - accuracy: 0.5484 - val_loss: 1.1570 - val_accuracy: 0.6079\n",
      "Epoch 3/10\n",
      "35000/35000 [==============================] - 462s 13ms/step - loss: 1.1644 - accuracy: 0.6095 - val_loss: 1.2425 - val_accuracy: 0.6273\n",
      "Epoch 4/10\n",
      "35000/35000 [==============================] - 472s 13ms/step - loss: 1.0913 - accuracy: 0.6404 - val_loss: 1.1698 - val_accuracy: 0.6125\n",
      "Epoch 5/10\n",
      "35000/35000 [==============================] - 454s 13ms/step - loss: 1.0641 - accuracy: 0.6549 - val_loss: 1.0996 - val_accuracy: 0.6347\n",
      "Epoch 6/10\n",
      "35000/35000 [==============================] - 461s 13ms/step - loss: 1.0355 - accuracy: 0.6629 - val_loss: 1.4173 - val_accuracy: 0.5595\n",
      "Epoch 7/10\n",
      "35000/35000 [==============================] - 461s 13ms/step - loss: 1.0683 - accuracy: 0.6633 - val_loss: 1.0288 - val_accuracy: 0.6607\n",
      "Epoch 8/10\n",
      "35000/35000 [==============================] - 442s 13ms/step - loss: 1.1706 - accuracy: 0.6683 - val_loss: 1.6565 - val_accuracy: 0.5529\n",
      "Epoch 9/10\n",
      "35000/35000 [==============================] - 448s 13ms/step - loss: 1.0293 - accuracy: 0.6800 - val_loss: 2.5353 - val_accuracy: 0.5004\n",
      "Epoch 10/10\n",
      "35000/35000 [==============================] - 453s 13ms/step - loss: 1.0377 - accuracy: 0.6824 - val_loss: 1.2806 - val_accuracy: 0.6093\n",
      "10000/10000 [==============================] - 30s 3ms/step\n"
     ]
    },
    {
     "data": {
      "text/plain": [
       "[1.3209676338195802, 0.6025999784469604]"
      ]
     },
     "execution_count": 28,
     "metadata": {},
     "output_type": "execute_result"
    }
   ],
   "source": [
    "modelC.fit(X_train, Y_train_cat, epochs=10, verbose=1, validation_split=0.3)\n",
    "resultsC = modelC.evaluate(X_test, Y_test_cat)\n",
    "resultsC"
   ]
  },
  {
   "cell_type": "code",
   "execution_count": 57,
   "metadata": {},
   "outputs": [],
   "source": [
    "modelD = Sequential()\n",
    "modelD.add(Conv2D(64, (3,3), input_shape=(32,32,3),activation=\"relu\"))\n",
    "modelD.add(Conv2D(64, (3,3),activation=\"relu\"))\n",
    "modelD.add(Conv2D(64, (3,3),activation=\"relu\"))\n",
    "modelD.add(MaxPool2D(pool_size=(2, 2)))\n",
    "modelD.add(Conv2D(64, (3,3),activation=\"relu\"))\n",
    "modelD.add(Conv2D(64, (3,3),activation=\"relu\"))\n",
    "modelD.add(Conv2D(64, (3,3),activation=\"relu\"))\n",
    "modelD.add(MaxPool2D(pool_size=(2, 2)))\n",
    "modelD.add(Activation('relu'))\n",
    "modelD.add(Flatten())\n",
    "modelD.add(Dense(128, activation=\"relu\"))\n",
    "modelD.add(Dense(10, activation=\"softmax\"))\n",
    "modelD.compile(optimizer=\"adam\", loss=\"categorical_crossentropy\", metrics=[\"accuracy\"])"
   ]
  },
  {
   "cell_type": "code",
   "execution_count": null,
   "metadata": {},
   "outputs": [
    {
     "name": "stdout",
     "output_type": "stream",
     "text": [
      "Train on 35000 samples, validate on 15000 samples\n",
      "Epoch 1/2\n",
      "35000/35000 [==============================] - 496s 14ms/step - loss: 1.7866 - accuracy: 0.3497 - val_loss: 1.5304 - val_accuracy: 0.4404\n",
      "Epoch 2/2\n",
      " 2400/35000 [=>............................] - ETA: 6:14 - loss: 1.5187 - accuracy: 0.4421"
     ]
    }
   ],
   "source": [
    "modelD.fit(X_train, Y_train_cat, epochs=2, verbose=1, validation_split=0.3)\n",
    "resultsD = modelD.evaluate(X_test, Y_test_cat)\n",
    "resultsD"
   ]
  },
  {
   "cell_type": "code",
   "execution_count": null,
   "metadata": {},
   "outputs": [],
   "source": []
  }
 ],
 "metadata": {
  "kernelspec": {
   "display_name": "Python 3",
   "language": "python",
   "name": "python3"
  },
  "language_info": {
   "codemirror_mode": {
    "name": "ipython",
    "version": 3
   },
   "file_extension": ".py",
   "mimetype": "text/x-python",
   "name": "python",
   "nbconvert_exporter": "python",
   "pygments_lexer": "ipython3",
   "version": "3.7.4"
  }
 },
 "nbformat": 4,
 "nbformat_minor": 2
}
