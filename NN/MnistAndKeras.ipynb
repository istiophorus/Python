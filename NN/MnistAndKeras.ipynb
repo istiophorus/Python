{
 "cells": [
  {
   "cell_type": "code",
   "execution_count": 45,
   "metadata": {},
   "outputs": [],
   "source": [
    "import pandas as pd\n",
    "import numpy as np\n",
    "import matplotlib.pyplot as plt\n",
    "%matplotlib inline\n",
    "from keras.utils.np_utils import to_categorical\n",
    "from keras.optimizers import SGD, Adam"
   ]
  },
  {
   "cell_type": "code",
   "execution_count": 38,
   "metadata": {},
   "outputs": [],
   "source": [
    "from keras.datasets import mnist"
   ]
  },
  {
   "cell_type": "code",
   "execution_count": 39,
   "metadata": {},
   "outputs": [],
   "source": [
    "(X_train, Y_train), (X_test, Y_test) = mnist.load_data('mnist.npz')"
   ]
  },
  {
   "cell_type": "code",
   "execution_count": 40,
   "metadata": {},
   "outputs": [],
   "source": [
    "X_train_flat = X_train.reshape(-1, 28 * 28).astype('float32') / 255.0\n",
    "X_test_flat = X_test.reshape(-1, 28 * 28).astype('float32') / 255.0"
   ]
  },
  {
   "cell_type": "code",
   "execution_count": 41,
   "metadata": {},
   "outputs": [],
   "source": [
    "Y_train_cat = to_categorical(Y_train)\n",
    "Y_test_cat = to_categorical(Y_test)"
   ]
  },
  {
   "cell_type": "code",
   "execution_count": 42,
   "metadata": {},
   "outputs": [],
   "source": [
    "from keras.models import Sequential\n",
    "from keras.layers import Dense"
   ]
  },
  {
   "cell_type": "code",
   "execution_count": 43,
   "metadata": {},
   "outputs": [
    {
     "data": {
      "text/plain": [
       "array([0., 0., 0., 0., 0., 1., 0., 0., 0., 0.], dtype=float32)"
      ]
     },
     "execution_count": 43,
     "metadata": {},
     "output_type": "execute_result"
    }
   ],
   "source": [
    "Y_train_cat[0]"
   ]
  },
  {
   "cell_type": "code",
   "execution_count": 99,
   "metadata": {},
   "outputs": [],
   "source": [
    "model = Sequential()\n",
    "model.add(Dense(400, input_shape=(784,), activation='relu'))\n",
    "model.add(Dense(300, input_shape=(784,), activation='relu'))\n",
    "model.add(Dense(200, input_shape=(784,), activation='relu'))\n",
    "model.add(Dense(10, activation='softmax'))\n",
    "model.compile(SGD(lr=0.05), 'categorical_crossentropy', metrics=['accuracy'])"
   ]
  },
  {
   "cell_type": "code",
   "execution_count": 69,
   "metadata": {},
   "outputs": [
    {
     "name": "stdout",
     "output_type": "stream",
     "text": [
      "Epoch 1/10\n",
      "60000/60000 [==============================] - 8s 133us/step - loss: 0.3034 - accuracy: 0.9112\n",
      "Epoch 2/10\n",
      "60000/60000 [==============================] - 8s 133us/step - loss: 0.1178 - accuracy: 0.9651\n",
      "Epoch 3/10\n",
      "60000/60000 [==============================] - 8s 133us/step - loss: 0.0784 - accuracy: 0.9756\n",
      "Epoch 4/10\n",
      "60000/60000 [==============================] - 8s 133us/step - loss: 0.0565 - accuracy: 0.9826\n",
      "Epoch 5/10\n",
      "60000/60000 [==============================] - 8s 135us/step - loss: 0.0423 - accuracy: 0.9874\n",
      "Epoch 6/10\n",
      "60000/60000 [==============================] - 8s 138us/step - loss: 0.0322 - accuracy: 0.9904\n",
      "Epoch 7/10\n",
      "60000/60000 [==============================] - 8s 135us/step - loss: 0.0233 - accuracy: 0.9932\n",
      "Epoch 8/10\n",
      "60000/60000 [==============================] - 8s 134us/step - loss: 0.0176 - accuracy: 0.9951\n",
      "Epoch 9/10\n",
      "60000/60000 [==============================] - 8s 134us/step - loss: 0.0131 - accuracy: 0.9964\n",
      "Epoch 10/10\n",
      "60000/60000 [==============================] - 8s 133us/step - loss: 0.0094 - accuracy: 0.9976\n",
      "10000/10000 [==============================] - 0s 40us/step\n"
     ]
    },
    {
     "data": {
      "text/plain": [
       "[0.066404159903423, 0.9807999730110168]"
      ]
     },
     "execution_count": 69,
     "metadata": {},
     "output_type": "execute_result"
    }
   ],
   "source": [
    "model.fit(X_train_flat, Y_train_cat, epochs=10, verbose=1)\n",
    "results = model.evaluate(X_test_flat, Y_test_cat)\n",
    "results"
   ]
  },
  {
   "cell_type": "code",
   "execution_count": 86,
   "metadata": {},
   "outputs": [],
   "source": [
    "from keras.layers import Conv2D, MaxPool2D, Flatten, Activation"
   ]
  },
  {
   "cell_type": "code",
   "execution_count": 87,
   "metadata": {},
   "outputs": [],
   "source": [
    "X_train_conv = X_train.reshape(-1, 28, 28, 1)\n",
    "X_test_conv = X_test.reshape(-1, 28, 28, 1)"
   ]
  },
  {
   "cell_type": "code",
   "execution_count": 112,
   "metadata": {},
   "outputs": [],
   "source": [
    "modelC = Sequential()\n",
    "modelC.add(Conv2D(32, (3,3), input_shape=(28,28,1),))\n",
    "modelC.add(MaxPool2D(pool_size=(2, 2)))\n",
    "modelC.add(Activation('relu'))\n",
    "modelC.add(Flatten())\n",
    "modelC.add(Dense(258, activation=\"relu\"))\n",
    "modelC.add(Dense(128, activation=\"relu\"))\n",
    "modelC.add(Dense(10, activation=\"softmax\"))\n",
    "modelC.compile(loss=\"categorical_crossentropy\", optimizer=\"rmsprop\", metrics=[\"accuracy\"])"
   ]
  },
  {
   "cell_type": "code",
   "execution_count": 113,
   "metadata": {},
   "outputs": [],
   "source": [
    "#modelC.summary()"
   ]
  },
  {
   "cell_type": "code",
   "execution_count": 114,
   "metadata": {},
   "outputs": [
    {
     "name": "stdout",
     "output_type": "stream",
     "text": [
      "Train on 42000 samples, validate on 18000 samples\n",
      "Epoch 1/10\n",
      "42000/42000 [==============================] - 37s 881us/step - loss: 0.9962 - accuracy: 0.9354 - val_loss: 0.1029 - val_accuracy: 0.9714\n",
      "Epoch 2/10\n",
      "42000/42000 [==============================] - 37s 878us/step - loss: 0.0807 - accuracy: 0.9791 - val_loss: 0.1101 - val_accuracy: 0.9735\n",
      "Epoch 3/10\n",
      "42000/42000 [==============================] - 37s 878us/step - loss: 0.0561 - accuracy: 0.9865 - val_loss: 0.1184 - val_accuracy: 0.9763\n",
      "Epoch 4/10\n",
      "42000/42000 [==============================] - 37s 870us/step - loss: 0.0518 - accuracy: 0.9891 - val_loss: 0.1216 - val_accuracy: 0.9773\n",
      "Epoch 5/10\n",
      "42000/42000 [==============================] - 37s 870us/step - loss: 0.0398 - accuracy: 0.9908 - val_loss: 0.1988 - val_accuracy: 0.9737\n",
      "Epoch 6/10\n",
      "42000/42000 [==============================] - 38s 910us/step - loss: 0.0369 - accuracy: 0.9929 - val_loss: 0.1445 - val_accuracy: 0.9807\n",
      "Epoch 7/10\n",
      "42000/42000 [==============================] - 37s 873us/step - loss: 0.0381 - accuracy: 0.9930 - val_loss: 0.2749 - val_accuracy: 0.9727\n",
      "Epoch 8/10\n",
      "42000/42000 [==============================] - 35s 827us/step - loss: 0.0352 - accuracy: 0.9943 - val_loss: 0.2207 - val_accuracy: 0.9780\n",
      "Epoch 9/10\n",
      "42000/42000 [==============================] - 32s 772us/step - loss: 0.0272 - accuracy: 0.9951 - val_loss: 0.3082 - val_accuracy: 0.9772\n",
      "Epoch 10/10\n",
      "42000/42000 [==============================] - 32s 759us/step - loss: 0.0349 - accuracy: 0.9945 - val_loss: 0.2916 - val_accuracy: 0.9779\n",
      "10000/10000 [==============================] - 1s 121us/step\n"
     ]
    },
    {
     "data": {
      "text/plain": [
       "[0.33028269745257105, 0.9781000018119812]"
      ]
     },
     "execution_count": 114,
     "metadata": {},
     "output_type": "execute_result"
    }
   ],
   "source": [
    "modelC.fit(X_train_conv, Y_train_cat, epochs=10, verbose=1, validation_split=0.3)\n",
    "resultsC = modelC.evaluate(X_test_conv, Y_test_cat)\n",
    "resultsC"
   ]
  },
  {
   "cell_type": "code",
   "execution_count": 120,
   "metadata": {},
   "outputs": [],
   "source": [
    "modelC2 = Sequential()\n",
    "modelC2.add(Conv2D(32, (3,3), input_shape=(28,28,1),))\n",
    "modelC2.add(MaxPool2D(pool_size=(2, 2)))\n",
    "modelC2.add(Conv2D(64, (3,3)))\n",
    "modelC2.add(MaxPool2D(pool_size=(2, 2)))\n",
    "modelC2.add(Activation('relu'))\n",
    "modelC2.add(Flatten())\n",
    "modelC2.add(Dense(128, activation=\"relu\"))\n",
    "modelC2.add(Dense(10, activation=\"softmax\"))\n",
    "modelC2.compile(loss=\"categorical_crossentropy\", optimizer=\"rmsprop\", metrics=[\"accuracy\"])"
   ]
  },
  {
   "cell_type": "code",
   "execution_count": 121,
   "metadata": {},
   "outputs": [
    {
     "name": "stdout",
     "output_type": "stream",
     "text": [
      "Train on 42000 samples, validate on 18000 samples\n",
      "Epoch 1/10\n",
      "42000/42000 [==============================] - 30s 706us/step - loss: 0.6807 - accuracy: 0.9334 - val_loss: 0.1412 - val_accuracy: 0.9646\n",
      "Epoch 2/10\n",
      "42000/42000 [==============================] - 27s 645us/step - loss: 0.1102 - accuracy: 0.9740 - val_loss: 0.1131 - val_accuracy: 0.9757\n",
      "Epoch 3/10\n",
      "42000/42000 [==============================] - 30s 705us/step - loss: 0.0890 - accuracy: 0.9801 - val_loss: 0.1131 - val_accuracy: 0.9781\n",
      "Epoch 4/10\n",
      "42000/42000 [==============================] - 30s 715us/step - loss: 0.0768 - accuracy: 0.9840 - val_loss: 0.1180 - val_accuracy: 0.9812\n",
      "Epoch 5/10\n",
      "42000/42000 [==============================] - 22s 529us/step - loss: 0.0725 - accuracy: 0.9853 - val_loss: 0.1153 - val_accuracy: 0.9819\n",
      "Epoch 6/10\n",
      "42000/42000 [==============================] - 21s 492us/step - loss: 0.0710 - accuracy: 0.9861 - val_loss: 0.1231 - val_accuracy: 0.9794\n",
      "Epoch 7/10\n",
      "42000/42000 [==============================] - 27s 635us/step - loss: 0.0695 - accuracy: 0.9878 - val_loss: 0.1309 - val_accuracy: 0.9811\n",
      "Epoch 8/10\n",
      "42000/42000 [==============================] - 21s 508us/step - loss: 0.0628 - accuracy: 0.9889 - val_loss: 0.1932 - val_accuracy: 0.9773\n",
      "Epoch 9/10\n",
      "42000/42000 [==============================] - 22s 519us/step - loss: 0.0594 - accuracy: 0.9892 - val_loss: 0.1709 - val_accuracy: 0.9766\n",
      "Epoch 10/10\n",
      "42000/42000 [==============================] - 21s 500us/step - loss: 0.0592 - accuracy: 0.9908 - val_loss: 0.1693 - val_accuracy: 0.9803\n",
      "10000/10000 [==============================] - 1s 132us/step\n"
     ]
    },
    {
     "data": {
      "text/plain": [
       "[0.33028269745257105, 0.9781000018119812]"
      ]
     },
     "execution_count": 121,
     "metadata": {},
     "output_type": "execute_result"
    }
   ],
   "source": [
    "modelC2.fit(X_train_conv, Y_train_cat, epochs=10, verbose=1, validation_split=0.3)\n",
    "resultsC2 = modelC.evaluate(X_test_conv, Y_test_cat)\n",
    "resultsC2"
   ]
  },
  {
   "cell_type": "code",
   "execution_count": null,
   "metadata": {},
   "outputs": [],
   "source": []
  }
 ],
 "metadata": {
  "kernelspec": {
   "display_name": "Python 3",
   "language": "python",
   "name": "python3"
  },
  "language_info": {
   "codemirror_mode": {
    "name": "ipython",
    "version": 3
   },
   "file_extension": ".py",
   "mimetype": "text/x-python",
   "name": "python",
   "nbconvert_exporter": "python",
   "pygments_lexer": "ipython3",
   "version": "3.7.4"
  }
 },
 "nbformat": 4,
 "nbformat_minor": 2
}
