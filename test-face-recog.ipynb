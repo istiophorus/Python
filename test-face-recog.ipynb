{
 "cells": [
  {
   "cell_type": "code",
   "execution_count": 46,
   "id": "bea66a66",
   "metadata": {},
   "outputs": [],
   "source": [
    "import cv2\n",
    "import imutils\n",
    "from timeit import default_timer as timer"
   ]
  },
  {
   "cell_type": "code",
   "execution_count": 47,
   "id": "e88432c0",
   "metadata": {},
   "outputs": [],
   "source": [
    "def test_classifier(img_path, img_path_2, classifier_model_path):\n",
    "    haar_cascade = cv2.CascadeClassifier(classifier_model_path)\n",
    "    assert(not haar_cascade.empty())\n",
    "    img = cv2.imread(img_path)\n",
    "    start = timer()\n",
    "    faces_rect = haar_cascade.detectMultiScale(img, 1.1, 9)\n",
    "    end = timer()\n",
    "    diff = end - start \n",
    "    print(diff)\n",
    "    for (x, y, w, h) in faces_rect: \n",
    "        cv2.rectangle(img, (x, y), (x+w, y+h), (0, 255, 0), 2)\n",
    "    \n",
    "    cv2.imwrite(img_path_2, img)"
   ]
  },
  {
   "cell_type": "code",
   "execution_count": 48,
   "id": "17306b8a",
   "metadata": {},
   "outputs": [
    {
     "name": "stdout",
     "output_type": "stream",
     "text": [
      "0.19555529998615384\n"
     ]
    }
   ],
   "source": [
    "test_classifier('d:/dane/face_recognition/faces.jpg', 'd:/dane/face_recognition/faces2.jpg', 'd:/Dane/face_recognition/haarcascade_frontalface_default.xml')"
   ]
  },
  {
   "cell_type": "code",
   "execution_count": 49,
   "id": "cdeaf559",
   "metadata": {},
   "outputs": [
    {
     "name": "stdout",
     "output_type": "stream",
     "text": [
      "0.25077090004924685\n"
     ]
    }
   ],
   "source": [
    "test_classifier('d:/dane/face_recognition/faces.jpg', 'd:/dane/face_recognition/faces3.jpg', 'd:/Dane/face_recognition/haarcascade_frontalface_alt.xml')"
   ]
  },
  {
   "cell_type": "code",
   "execution_count": 71,
   "id": "f57f00be",
   "metadata": {},
   "outputs": [],
   "source": [
    "def test_dnn_detector(model_file, config_file, use_gpu, src_img_path, target_img_path, threshold):\n",
    "    img = cv2.imread(src_img_path)\n",
    "    model = cv2.dnn.readNetFromCaffe(config_file, model_file)\n",
    "    if use_gpu:\n",
    "        model.setPreferableBackend(cv2.dnn.DNN_TARGET_CPU)\n",
    "    else:\n",
    "        model.setPreferableBackend(cv2.dnn.DNN_BACKEND_CUDA)\n",
    "        model.setPreferableTarget(cv2.dnn.DNN_TARGET_CUDA)  \n",
    "        \n",
    "    img_height = img.shape[0]\n",
    "    img_width = img.shape[1]        \n",
    "    \n",
    "    start = timer()\n",
    "    \n",
    "    blob = cv2.dnn.blobFromImage(img, 1.0, (300, 300), [104, 117, 123], False, False)\n",
    "    model.setInput(blob)\n",
    "    detections = model.forward()\n",
    "    \n",
    "    end = timer()\n",
    "    diff = end - start \n",
    "    print(diff)\n",
    "    \n",
    "    img_cpy = img.copy()\n",
    "\n",
    "    boxes = []\n",
    "    for i in range(detections.shape[2]):\n",
    "        confidence = detections[0, 0, i, 2]\n",
    "        if confidence > threshold:\n",
    "            x1 = int(detections[0, 0, i, 3] * img_width)\n",
    "            y1 = int(detections[0, 0, i, 4] * img_height)\n",
    "            x2 = int(detections[0, 0, i, 5] * img_width)\n",
    "            y2 = int(detections[0, 0, i, 6] * img_height)\n",
    "            boxes.append([x1, y1, x2, y2])\n",
    "            cv2.rectangle(\n",
    "                img_cpy,\n",
    "                (x1, y1),\n",
    "                (x2, y2),\n",
    "                (0, 255, 0),\n",
    "                int(round(img_height / 150)),\n",
    "                8,\n",
    "            )\n",
    "        \n",
    "    cv2.imwrite(target_img_path, img_cpy)    "
   ]
  },
  {
   "cell_type": "code",
   "execution_count": 72,
   "id": "5fb8adc3",
   "metadata": {},
   "outputs": [],
   "source": [
    "model_file = \"d:/Dane/face_recognition/res10_300x300_ssd_iter_140000.caffemodel\"\n",
    "config_file = \"d:/Dane/face_recognition\\deploy.prototxt\"\n",
    "src_img_path = \"d:/dane/face_recognition/faces.jpg\"\n",
    "target_img_path = 'd:/dane/face_recognition/faces4.jpg'"
   ]
  },
  {
   "cell_type": "code",
   "execution_count": 77,
   "id": "4e27aca1",
   "metadata": {},
   "outputs": [
    {
     "name": "stdout",
     "output_type": "stream",
     "text": [
      "0.03905309992842376\n"
     ]
    }
   ],
   "source": [
    "test_dnn_detector(model_file, config_file, True, src_img_path, target_img_path, 0.3)"
   ]
  }
 ],
 "metadata": {
  "kernelspec": {
   "display_name": "Python 3 (ipykernel)",
   "language": "python",
   "name": "python3"
  },
  "language_info": {
   "codemirror_mode": {
    "name": "ipython",
    "version": 3
   },
   "file_extension": ".py",
   "mimetype": "text/x-python",
   "name": "python",
   "nbconvert_exporter": "python",
   "pygments_lexer": "ipython3",
   "version": "3.10.9"
  }
 },
 "nbformat": 4,
 "nbformat_minor": 5
}
