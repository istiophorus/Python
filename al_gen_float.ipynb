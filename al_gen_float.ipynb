{
 "cells": [
  {
   "cell_type": "code",
   "execution_count": 11,
   "id": "5f0291ad-f8bb-4eb8-9ab8-1471797be4d7",
   "metadata": {},
   "outputs": [],
   "source": [
    "import numpy as np\n",
    "import os\n",
    "import random \n",
    "import unittest\n",
    "import matplotlib.pyplot as plt"
   ]
  },
  {
   "cell_type": "code",
   "execution_count": 48,
   "id": "7726ea55-0941-47cc-90cd-3d3b1c451f27",
   "metadata": {},
   "outputs": [],
   "source": [
    "initial_population_size = 20\n",
    "chromosome_length = 20\n",
    "mutation_probability = 0.05\n",
    "iterations = 500"
   ]
  },
  {
   "cell_type": "code",
   "execution_count": 49,
   "id": "0d9cbd54-6be7-44d8-8727-4cb955e06cd4",
   "metadata": {},
   "outputs": [],
   "source": [
    "def generate_random_number():\n",
    "    return random.random()"
   ]
  },
  {
   "cell_type": "code",
   "execution_count": 50,
   "id": "6a4bc25e-bc28-4dc0-9e2b-e73fafb10506",
   "metadata": {},
   "outputs": [],
   "source": [
    "def fitness_function(decoded):\n",
    "    x = decoded / 20.0\n",
    "    fval = ((x - 150.0) / 25.0) ** 3 - (x - 150.0) + 300.0\n",
    "    return fval * fval"
   ]
  },
  {
   "cell_type": "code",
   "execution_count": 51,
   "id": "efffd3c1-e336-41e8-b066-169a7c931310",
   "metadata": {},
   "outputs": [],
   "source": [
    "def compute_fitness(chromosome):\n",
    "    mult = 1\n",
    "    val = 0\n",
    "    for x in chromosome:\n",
    "        val = val + mult * x\n",
    "        mult = mult * 2\n",
    "\n",
    "    return (val, fitness_function(val))"
   ]
  },
  {
   "cell_type": "code",
   "execution_count": 16,
   "id": "1e099884-b3e0-41dd-844d-81c0a0079d40",
   "metadata": {},
   "outputs": [],
   "source": [
    "class Chromosome(object):\n",
    "\n",
    "    def __init__(self, ch):\n",
    "        self.chromosome = ch\n",
    "\n",
    "        (decoded, fitness) = compute_fitness(ch)\n",
    "        \n",
    "        self.fitness = fitness\n",
    "        self.decoded = decoded\n",
    "    \n",
    "    def __str__(self):\n",
    "        return f'Chromosome:{self.chromosome}, fitness:{self.fitness}, decoded:{self.decoded}'\n",
    "\n",
    "    def __repr__(self):\n",
    "        return self.__str__()"
   ]
  },
  {
   "cell_type": "code",
   "execution_count": 24,
   "id": "dd88d0d7-a5d7-4a46-85f7-6d5314b5657e",
   "metadata": {},
   "outputs": [],
   "source": [
    "def generate_random_float_chromosome(ch_le):\n",
    "    return np.random.rand(1, ch_le)[0]"
   ]
  },
  {
   "cell_type": "code",
   "execution_count": 25,
   "id": "bc726003-1c8d-4497-bff4-0b55bd50e081",
   "metadata": {},
   "outputs": [],
   "source": [
    "def generate_random_population(count, ch_le):\n",
    "    res = []\n",
    "    for _ in range(0, count):\n",
    "        ch = generate_random_float_chromosome(ch_le)\n",
    "\n",
    "        chromosome = Chromosome(ch)\n",
    "        \n",
    "        res.append(chromosome)\n",
    "\n",
    "    return res"
   ]
  },
  {
   "cell_type": "code",
   "execution_count": 30,
   "id": "82c89d2b-55e4-410e-8a24-bbd6f551aa23",
   "metadata": {},
   "outputs": [
    {
     "data": {
      "text/plain": [
       "[Chromosome:[0.71297458 0.22164484 0.84769046 0.63150573 0.28510734], fitness:55854.83522832929, decoded:14.160789341895947,\n",
       " Chromosome:[0.76349286 0.67861566 0.32146801 0.12910447 0.25889998], fitness:55422.24043970555, decoded:8.581831643619767]"
      ]
     },
     "execution_count": 30,
     "metadata": {},
     "output_type": "execute_result"
    }
   ],
   "source": [
    "pop = generate_random_population(2, 5)\n",
    "pop"
   ]
  },
  {
   "cell_type": "code",
   "execution_count": 52,
   "id": "219dbf43-b059-40ea-9969-8e9e36726262",
   "metadata": {},
   "outputs": [],
   "source": [
    "def mutate_chromosome(chromosome, mutation_probability):\n",
    "    mutated = False\n",
    "    for ix in range(0, len(chromosome.chromosome)):\n",
    "        if generate_random_number() <= mutation_probability:\n",
    "            val = chromosome.chromosome[ix]\n",
    "            diff = (0.5 - generate_random_number()) / 20\n",
    "            #1 - val * generate_random_number()\n",
    "            chromosome.chromosome[ix] = val + diff\n",
    "            mutated = True\n",
    "\n",
    "    (decoded, fitness) = compute_fitness(chromosome.chromosome)\n",
    "    \n",
    "    chromosome.fitness = fitness\n",
    "    chromosome.decoded = decoded\n",
    "\n",
    "    return chromosome"
   ]
  },
  {
   "cell_type": "code",
   "execution_count": 53,
   "id": "24d2b8d5-4006-45c7-a259-7d2a8104e57c",
   "metadata": {},
   "outputs": [
    {
     "data": {
      "text/plain": [
       "Chromosome:[0.71297458 0.22748895 0.84769046 0.63957882 0.26940911], fitness:55841.28000258736, decoded:13.985890623098612"
      ]
     },
     "execution_count": 53,
     "metadata": {},
     "output_type": "execute_result"
    }
   ],
   "source": [
    "mutate_chromosome(pop[0], 0.1)"
   ]
  },
  {
   "cell_type": "code",
   "execution_count": 54,
   "id": "ef27530e-d32a-44c9-bd20-8dfb547d65a8",
   "metadata": {},
   "outputs": [],
   "source": [
    "def crossover_chromosome_pair_with_cutpoint(cha, chb, cut_point):\n",
    "    ch_len = len(cha.chromosome)\n",
    "    chc = np.concatenate((cha.chromosome[0:cut_point], chb.chromosome[cut_point: ch_len]))\n",
    "    chd = np.concatenate((chb.chromosome[0:cut_point], cha.chromosome[cut_point: ch_len]))\n",
    "\n",
    "    ch1 = Chromosome(chc)\n",
    "    ch2 = Chromosome(chd)\n",
    "\n",
    "    return (ch1, ch2)"
   ]
  },
  {
   "cell_type": "code",
   "execution_count": 55,
   "id": "1f1b3cd9-c0a3-4e42-b513-a1db5e5cebe9",
   "metadata": {},
   "outputs": [],
   "source": [
    "def crossover_chromosome_pair(cha, chb):\n",
    "    ch_len = len(cha.chromosome)\n",
    "    cut_point = int(random.random() * (ch_len + 1))\n",
    "\n",
    "    return crossover_chromosome_pair_with_cutpoint(cha, chb, cut_point)"
   ]
  },
  {
   "cell_type": "code",
   "execution_count": 56,
   "id": "8b626a51-357a-404d-a159-01903d8ccc88",
   "metadata": {},
   "outputs": [],
   "source": [
    "def compute_summary_fitness(population):\n",
    "    summary_fitness = 0.0\n",
    "\n",
    "    for ch in population:\n",
    "        summary_fitness += ch.fitness\n",
    "\n",
    "    return summary_fitness"
   ]
  },
  {
   "cell_type": "code",
   "execution_count": 57,
   "id": "f6f0e88a-74e6-45ce-a547-0c8fd5287261",
   "metadata": {},
   "outputs": [],
   "source": [
    "def select_chromosome(old_population, summary_fitness):\n",
    "    selector_value = summary_fitness * generate_random_number()\n",
    "    sum = 0.0\n",
    "    for ch in old_population:\n",
    "        sum += ch.fitness\n",
    "        if selector_value <= sum:\n",
    "            return ch\n",
    "\n",
    "    raise ValueError(\"WTF\")"
   ]
  },
  {
   "cell_type": "code",
   "execution_count": 58,
   "id": "f68d7df7-9f1a-4b8c-a493-6d3cdf0302a0",
   "metadata": {},
   "outputs": [],
   "source": [
    "def generate_new_population(old_population, new_population_size, mutation_probability):\n",
    "    new_population = []\n",
    "    summary_fitness = compute_summary_fitness(old_population)\n",
    "\n",
    "    for ix in range(0, new_population_size // 2):\n",
    "        selector_value = summary_fitness * generate_random_number()\n",
    "        sum = 0.0\n",
    "\n",
    "        cha = select_chromosome(old_population, summary_fitness)\n",
    "        chb = select_chromosome(old_population, summary_fitness)\n",
    "\n",
    "        (chc, chd) = crossover_chromosome_pair(cha, chb)\n",
    "        chc = mutate_chromosome(chc, mutation_probability)\n",
    "        chd = mutate_chromosome(chd, mutation_probability)\n",
    "\n",
    "        new_population.append(chc)\n",
    "        new_population.append(chd)\n",
    "\n",
    "    return new_population"
   ]
  },
  {
   "cell_type": "code",
   "execution_count": 59,
   "id": "1e792c81-1b13-40a5-8d9e-7930d6b9647a",
   "metadata": {},
   "outputs": [],
   "source": [
    "def find_best_chromosome(population):\n",
    "    res = population[0]\n",
    "    \n",
    "    for ch in population:\n",
    "        if ch.fitness > res.fitness:\n",
    "            res = ch\n",
    "\n",
    "    return res"
   ]
  },
  {
   "cell_type": "code",
   "execution_count": 60,
   "id": "ad45a17f-776a-49a7-b25e-c632327781a1",
   "metadata": {},
   "outputs": [],
   "source": [
    "def find_worst_chromosome(population):\n",
    "    res = population[0]\n",
    "    \n",
    "    for ch in population:\n",
    "        if ch.fitness < res.fitness:\n",
    "            res = ch\n",
    "\n",
    "    return res"
   ]
  },
  {
   "cell_type": "code",
   "execution_count": 61,
   "id": "3f33ec60-fd45-4219-8224-d89bd760ccf3",
   "metadata": {},
   "outputs": [],
   "source": [
    "def main_loop(iterations, initial_population_size, chromosome_length, mutation_probability, log_best):\n",
    "    population = generate_random_population(initial_population_size, chromosome_length)\n",
    "\n",
    "    best_fitness = []\n",
    "    worst_fitness = []\n",
    "    best_history = []\n",
    "    \n",
    "    for ix in range(0, iterations):\n",
    "        new_population = generate_new_population(population, initial_population_size, mutation_probability)\n",
    "        population = new_population\n",
    "        best = find_best_chromosome(population)\n",
    "        worst = find_worst_chromosome(population)\n",
    "        best_fitness.append(best.fitness)\n",
    "        worst_fitness.append(worst.fitness)\n",
    "        best_history.append(best)\n",
    "        if log_best:\n",
    "            print(best)\n",
    "\n",
    "    result = (find_best_chromosome(population), population, best_fitness, worst_fitness, best_history)\n",
    "\n",
    "    return result"
   ]
  },
  {
   "cell_type": "code",
   "execution_count": 68,
   "id": "121b09d6-8edc-45fd-b121-753569ab586e",
   "metadata": {},
   "outputs": [],
   "source": [
    "result = main_loop(1000, initial_population_size, chromosome_length, mutation_probability, False)"
   ]
  },
  {
   "cell_type": "code",
   "execution_count": 69,
   "id": "0d36d2d7-d210-4543-b013-d91fb9d20e41",
   "metadata": {},
   "outputs": [],
   "source": [
    "(best, population, best_fitness, worst_fitness, best_history) = result"
   ]
  },
  {
   "cell_type": "code",
   "execution_count": 70,
   "id": "c2e1a3b9-9a9b-49fd-a9e3-912b59c068e0",
   "metadata": {},
   "outputs": [],
   "source": [
    "xx = np.linspace(0, 2**chromosome_length, 2**chromosome_length)\n",
    "yy = [fitness_function(x) for x in xx]"
   ]
  },
  {
   "cell_type": "code",
   "execution_count": 71,
   "id": "35cde669-3035-4d56-aff2-ae4981f50de2",
   "metadata": {},
   "outputs": [],
   "source": [
    "bx = [ch.decoded for ch in best_history]\n",
    "by = [ch.fitness for ch in best_history]"
   ]
  },
  {
   "cell_type": "code",
   "execution_count": 72,
   "id": "0493e316-9585-4b67-acff-d7ee55450d38",
   "metadata": {},
   "outputs": [
    {
     "data": {
      "image/png": "[encoded data removed]",
      "text/plain": [
       "<Figure size 640x480 with 1 Axes>"
      ]
     },
     "metadata": {},
     "output_type": "display_data"
    }
   ],
   "source": [
    "plt.plot(xx, yy)\n",
    "plt.title('Fitness function')\n",
    "plt.show()"
   ]
  },
  {
   "cell_type": "code",
   "execution_count": 73,
   "id": "b384d600-cb5e-4fc2-899d-38105e65376e",
   "metadata": {},
   "outputs": [
    {
     "data": {
      "image/png": "[encoded data removed]",
      "text/plain": [
       "<Figure size 640x480 with 1 Axes>"
      ]
     },
     "metadata": {},
     "output_type": "display_data"
    }
   ],
   "source": [
    "plt.plot(xx, yy)\n",
    "plt.title('Fitness function')\n",
    "plt.scatter(bx, by, marker='o', c='black')\n",
    "plt.show()"
   ]
  },
  {
   "cell_type": "code",
   "execution_count": 74,
   "id": "5de99111-6d57-4495-8c7c-24f8d05cda97",
   "metadata": {},
   "outputs": [
    {
     "data": {
      "image/png": "[encoded data removed]",
      "text/plain": [
       "<Figure size 640x480 with 1 Axes>"
      ]
     },
     "metadata": {},
     "output_type": "display_data"
    }
   ],
   "source": [
    "plt.plot(best_fitness)\n",
    "plt.plot(worst_fitness)\n",
    "plt.show()"
   ]
  },
  {
   "cell_type": "code",
   "execution_count": null,
   "id": "e96197a4-f883-4959-ae47-2e3b5db78551",
   "metadata": {},
   "outputs": [],
   "source": []
  },
  {
   "cell_type": "code",
   "execution_count": null,
   "id": "991f84b8-6ff1-4e93-a037-c60c90d5bfde",
   "metadata": {},
   "outputs": [],
   "source": []
  },
  {
   "cell_type": "code",
   "execution_count": 75,
   "id": "4851b1c8-db97-4c25-8a8e-b255925c2bc9",
   "metadata": {},
   "outputs": [],
   "source": [
    "class TestCrossover(unittest.TestCase):\n",
    "    \n",
    "    def test1(self):\n",
    "        cha = Chromosome([0,0,0,1,1])\n",
    "        chb = Chromosome([1,1,1,0,0])\n",
    "        (chc, chd) = crossover_chromosome_pair_with_cutpoint(cha, chb, 3)\n",
    "        self.assertTrue(np.array_equal(chc.chromosome, [0, 0, 0, 0, 0]))\n",
    "        self.assertTrue(np.array_equal(chd.chromosome, [1, 1, 1, 1, 1]))\n",
    "\n",
    "    def test2(self):\n",
    "        cha = Chromosome([0,0,0,1,1])\n",
    "        chb = Chromosome([1,1,1,0,0])\n",
    "        (chc, chd) = crossover_chromosome_pair_with_cutpoint(cha, chb, 1)\n",
    "        self.assertTrue(np.array_equal(chc.chromosome, [0, 1, 1, 0, 0]))\n",
    "        self.assertTrue(np.array_equal(chd.chromosome, [1, 0, 0, 1, 1]))\n",
    "\n",
    "    def test3(self):\n",
    "        cha = Chromosome([0,0,0,0,1])\n",
    "        chb = Chromosome([1,0,0,0,0])\n",
    "        (chc, chd) = crossover_chromosome_pair_with_cutpoint(cha, chb, 0)\n",
    "        self.assertTrue(np.array_equal(chc.chromosome, [1, 0, 0, 0, 0]))\n",
    "        self.assertTrue(np.array_equal(chd.chromosome, [0, 0, 0, 0, 1]))\n",
    "\n",
    "    def test4(self):\n",
    "        cha = Chromosome([1,1,1,1,1])\n",
    "        chb = Chromosome([0,0,0,0,0])\n",
    "        (chc, chd) = crossover_chromosome_pair_with_cutpoint(cha, chb, 0)\n",
    "        self.assertTrue(np.array_equal(chc.chromosome, [0, 0, 0, 0, 0]))\n",
    "        self.assertTrue(np.array_equal(chd.chromosome, [1, 1, 1, 1, 1]))"
   ]
  },
  {
   "cell_type": "code",
   "execution_count": 76,
   "id": "49267654-c37d-43be-bf35-b3eb09a38cb5",
   "metadata": {},
   "outputs": [
    {
     "name": "stderr",
     "output_type": "stream",
     "text": [
      "....\n",
      "----------------------------------------------------------------------\n",
      "Ran 4 tests in 0.019s\n",
      "\n",
      "OK\n"
     ]
    }
   ],
   "source": [
    "if __name__ == '__main__':\n",
    "    unittest.main(argv=['first-arg-is-ignored'], exit=False)"
   ]
  },
  {
   "cell_type": "code",
   "execution_count": null,
   "id": "0343773d-ddec-4fa8-8682-d10f7e50e71c",
   "metadata": {},
   "outputs": [],
   "source": []
  }
 ],
 "metadata": {
  "kernelspec": {
   "display_name": "Python 3 (ipykernel)",
   "language": "python",
   "name": "python3"
  },
  "language_info": {
   "codemirror_mode": {
    "name": "ipython",
    "version": 3
   },
   "file_extension": ".py",
   "mimetype": "text/x-python",
   "name": "python",
   "nbconvert_exporter": "python",
   "pygments_lexer": "ipython3",
   "version": "3.12.4"
  }
 },
 "nbformat": 4,
 "nbformat_minor": 5
}
