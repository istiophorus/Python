{
 "cells": [
  {
   "cell_type": "code",
   "execution_count": 51,
   "id": "86bc87e9",
   "metadata": {},
   "outputs": [],
   "source": [
    "import pandas as pd\n",
    "import numpy as np\n",
    "import os\n",
    "import shutil"
   ]
  },
  {
   "cell_type": "code",
   "execution_count": 65,
   "id": "37af8970",
   "metadata": {},
   "outputs": [],
   "source": [
    "all_class_labels = ['DR','ARMD','MH','DN','MYA','BRVO','TSLN','ERM','LS','MS','CSR','ODC','CRVO','TV','AH','ODP','ODE','ST','AION','PT','RT','RS','CRS','EDN','RPEC','MHL','RP','CWS','CB','ODPM','PRH','MNF','HR','CRAO','TD','CME','PTCR','CF','VH','MCA','VS','BRAO','PLQ','HPED','CL']"
   ]
  },
  {
   "cell_type": "code",
   "execution_count": 66,
   "id": "ca8155d5",
   "metadata": {},
   "outputs": [],
   "source": [
    "selected_class_labels = ['ARMD','BRVO','CRVO','AION','CRAO','BRAO']"
   ]
  },
  {
   "cell_type": "code",
   "execution_count": 67,
   "id": "8801ae61",
   "metadata": {},
   "outputs": [],
   "source": [
    "target_folder_base = 'd:/Dane/retinaldiseaseclassification/prepared/'"
   ]
  },
  {
   "cell_type": "code",
   "execution_count": 85,
   "id": "013873ce",
   "metadata": {},
   "outputs": [],
   "source": [
    "def create_folder(folder_path):\n",
    "    if os.path.exists(folder_path):\n",
    "        if os.path.isdir(folder_path):\n",
    "            print('Folder already exists ' + folder_path)\n",
    "        else:\n",
    "            raise ValueError('Path already exists but it is not a folder' + folder_path)\n",
    "    else:\n",
    "        print('Creating folder ' + folder_path)\n",
    "        os.makedirs(folder_path)    "
   ]
  },
  {
   "cell_type": "code",
   "execution_count": 86,
   "id": "300faa78",
   "metadata": {},
   "outputs": [],
   "source": [
    "def create_class_folders():\n",
    "    dirs_map = {}\n",
    "    for class_label in selected_class_labels:\n",
    "        target_class_folder = target_folder_base + class_label\n",
    "        dirs_map[class_label] = target_class_folder\n",
    "        create_folder(target_class_folder)\n",
    "    return dirs_map"
   ]
  },
  {
   "cell_type": "code",
   "execution_count": 110,
   "id": "328961bb",
   "metadata": {},
   "outputs": [],
   "source": [
    "def read_labels_and_split(labels_file, class_name):\n",
    "    df = pd.read_csv(labels_file)\n",
    "    df_class_1 = df[df[class_name] == 1]\n",
    "    df_class_0 = df[df[class_name] == 0]\n",
    "    return (df_class_0, df_class_1)"
   ]
  },
  {
   "cell_type": "code",
   "execution_count": 111,
   "id": "2df39a2a",
   "metadata": {},
   "outputs": [],
   "source": [
    "def copy_images_to_category_folder(source_folder, target_folder, subset_df):\n",
    "    for id1 in subset_df.ID:\n",
    "        file_name = str(id1) + '.png'\n",
    "        file_path_in = source_folder + '/' + file_name\n",
    "        file_path_out = target_folder + '/' + file_name\n",
    "        shutil.copyfile(file_path_in, file_path_out)"
   ]
  },
  {
   "cell_type": "code",
   "execution_count": 112,
   "id": "84c94c40",
   "metadata": {},
   "outputs": [],
   "source": [
    "def create_class_category_folders_and_split_data(\n",
    "    dirs_map, \n",
    "    training_labels_file, \n",
    "    validation_labels_file, \n",
    "    test_labels_file,\n",
    "    training_files_source_folder,\n",
    "    validation_files_source_folder,\n",
    "    test_files_source_folder):\n",
    "    \n",
    "    for key in dirs_map:\n",
    "        base_class_folder = dirs_map[key]\n",
    "        train_target_folder_class_1 = base_class_folder + '/Train/' + key + '1'\n",
    "        train_target_folder_class_0 = base_class_folder + '/Train/' + key + '0'\n",
    "        validation_target_folder_class_1 = base_class_folder + '/Validate/' + key + '1'\n",
    "        validation_target_folder_class_0 = base_class_folder + '/Validate/' + key + '0'\n",
    "        test_target_folder_class_1 = base_class_folder + '/Test/' + key + '1'\n",
    "        test_target_folder_class_0 = base_class_folder + '/Test/' + key + '0'\n",
    "        create_folder(train_target_folder_class_1)\n",
    "        create_folder(train_target_folder_class_0)\n",
    "        create_folder(validation_target_folder_class_1)\n",
    "        create_folder(validation_target_folder_class_0)\n",
    "        create_folder(test_target_folder_class_1)\n",
    "        create_folder(test_target_folder_class_0)\n",
    "        \n",
    "        df_class_0, df_class_1 = read_labels_and_split(training_labels_file, key)\n",
    "        copy_images_to_category_folder(training_files_source_folder, train_target_folder_class_1, df_class_1)\n",
    "        copy_images_to_category_folder(training_files_source_folder, train_target_folder_class_0, df_class_0)\n",
    "        \n",
    "        df_class_0, df_class_1 = read_labels_and_split(validation_labels_file, key)\n",
    "        copy_images_to_category_folder(validation_files_source_folder, validation_target_folder_class_1, df_class_1)\n",
    "        copy_images_to_category_folder(validation_files_source_folder, validation_target_folder_class_0, df_class_0)\n",
    "        \n",
    "        df_class_0, df_class_1 = read_labels_and_split(test_labels_file, key)\n",
    "        copy_images_to_category_folder(test_files_source_folder, test_target_folder_class_1, df_class_1)\n",
    "        copy_images_to_category_folder(test_files_source_folder, test_target_folder_class_0, df_class_0)        "
   ]
  },
  {
   "cell_type": "code",
   "execution_count": 113,
   "id": "7212d25b",
   "metadata": {},
   "outputs": [],
   "source": [
    "training_labels = 'd:/Dane/retinaldiseaseclassification/Training_Set/Training_Set/RFMiD_Training_Labels.csv'\n",
    "validation_labels = 'd:/Dane/retinaldiseaseclassification/Evaluation_Set/Evaluation_Set/RFMiD_Validation_Labels.csv'\n",
    "test_labels = 'd:/Dane/retinaldiseaseclassification/Test_Set/Test_Set/RFMiD_Testing_Labels.csv'"
   ]
  },
  {
   "cell_type": "code",
   "execution_count": 114,
   "id": "ad20aeb9",
   "metadata": {},
   "outputs": [],
   "source": [
    "training_files_source_folder = 'd:/Dane/retinaldiseaseclassification/Training_Set/Training_Set/Training'\n",
    "validation_files_source_folder = 'd:/Dane/retinaldiseaseclassification/Evaluation_Set/Evaluation_Set/Validation'\n",
    "test_files_source_folder = 'd:/Dane/retinaldiseaseclassification/Test_Set/Test_Set/Test'"
   ]
  },
  {
   "cell_type": "code",
   "execution_count": 115,
   "id": "774c400e",
   "metadata": {},
   "outputs": [
    {
     "name": "stdout",
     "output_type": "stream",
     "text": [
      "Creating folder d:/Dane/retinaldiseaseclassification/prepared/ARMD\n",
      "Creating folder d:/Dane/retinaldiseaseclassification/prepared/BRVO\n",
      "Creating folder d:/Dane/retinaldiseaseclassification/prepared/CRVO\n",
      "Creating folder d:/Dane/retinaldiseaseclassification/prepared/AION\n",
      "Creating folder d:/Dane/retinaldiseaseclassification/prepared/CRAO\n",
      "Creating folder d:/Dane/retinaldiseaseclassification/prepared/BRAO\n",
      "Creating folder d:/Dane/retinaldiseaseclassification/prepared/ARMD/Train/ARMD1\n",
      "Creating folder d:/Dane/retinaldiseaseclassification/prepared/ARMD/Train/ARMD0\n",
      "Creating folder d:/Dane/retinaldiseaseclassification/prepared/ARMD/Validate/ARMD1\n",
      "Creating folder d:/Dane/retinaldiseaseclassification/prepared/ARMD/Validate/ARMD0\n",
      "Creating folder d:/Dane/retinaldiseaseclassification/prepared/ARMD/Test/ARMD1\n",
      "Creating folder d:/Dane/retinaldiseaseclassification/prepared/ARMD/Test/ARMD0\n",
      "Creating folder d:/Dane/retinaldiseaseclassification/prepared/BRVO/Train/BRVO1\n",
      "Creating folder d:/Dane/retinaldiseaseclassification/prepared/BRVO/Train/BRVO0\n",
      "Creating folder d:/Dane/retinaldiseaseclassification/prepared/BRVO/Validate/BRVO1\n",
      "Creating folder d:/Dane/retinaldiseaseclassification/prepared/BRVO/Validate/BRVO0\n",
      "Creating folder d:/Dane/retinaldiseaseclassification/prepared/BRVO/Test/BRVO1\n",
      "Creating folder d:/Dane/retinaldiseaseclassification/prepared/BRVO/Test/BRVO0\n",
      "Creating folder d:/Dane/retinaldiseaseclassification/prepared/CRVO/Train/CRVO1\n",
      "Creating folder d:/Dane/retinaldiseaseclassification/prepared/CRVO/Train/CRVO0\n",
      "Creating folder d:/Dane/retinaldiseaseclassification/prepared/CRVO/Validate/CRVO1\n",
      "Creating folder d:/Dane/retinaldiseaseclassification/prepared/CRVO/Validate/CRVO0\n",
      "Creating folder d:/Dane/retinaldiseaseclassification/prepared/CRVO/Test/CRVO1\n",
      "Creating folder d:/Dane/retinaldiseaseclassification/prepared/CRVO/Test/CRVO0\n",
      "Creating folder d:/Dane/retinaldiseaseclassification/prepared/AION/Train/AION1\n",
      "Creating folder d:/Dane/retinaldiseaseclassification/prepared/AION/Train/AION0\n",
      "Creating folder d:/Dane/retinaldiseaseclassification/prepared/AION/Validate/AION1\n",
      "Creating folder d:/Dane/retinaldiseaseclassification/prepared/AION/Validate/AION0\n",
      "Creating folder d:/Dane/retinaldiseaseclassification/prepared/AION/Test/AION1\n",
      "Creating folder d:/Dane/retinaldiseaseclassification/prepared/AION/Test/AION0\n",
      "Creating folder d:/Dane/retinaldiseaseclassification/prepared/CRAO/Train/CRAO1\n",
      "Creating folder d:/Dane/retinaldiseaseclassification/prepared/CRAO/Train/CRAO0\n",
      "Creating folder d:/Dane/retinaldiseaseclassification/prepared/CRAO/Validate/CRAO1\n",
      "Creating folder d:/Dane/retinaldiseaseclassification/prepared/CRAO/Validate/CRAO0\n",
      "Creating folder d:/Dane/retinaldiseaseclassification/prepared/CRAO/Test/CRAO1\n",
      "Creating folder d:/Dane/retinaldiseaseclassification/prepared/CRAO/Test/CRAO0\n",
      "Creating folder d:/Dane/retinaldiseaseclassification/prepared/BRAO/Train/BRAO1\n",
      "Creating folder d:/Dane/retinaldiseaseclassification/prepared/BRAO/Train/BRAO0\n",
      "Creating folder d:/Dane/retinaldiseaseclassification/prepared/BRAO/Validate/BRAO1\n",
      "Creating folder d:/Dane/retinaldiseaseclassification/prepared/BRAO/Validate/BRAO0\n",
      "Creating folder d:/Dane/retinaldiseaseclassification/prepared/BRAO/Test/BRAO1\n",
      "Creating folder d:/Dane/retinaldiseaseclassification/prepared/BRAO/Test/BRAO0\n"
     ]
    }
   ],
   "source": [
    "dirs_map = create_class_folders()\n",
    "create_class_category_folders_and_split_data(dirs_map, \n",
    "    training_labels, \n",
    "    validation_labels, \n",
    "    test_labels,\n",
    "    training_files_source_folder,\n",
    "    validation_files_source_folder,\n",
    "    test_files_source_folder)"
   ]
  },
  {
   "cell_type": "code",
   "execution_count": null,
   "id": "0d20ec3d",
   "metadata": {},
   "outputs": [],
   "source": []
  }
 ],
 "metadata": {
  "kernelspec": {
   "display_name": "Python 3 (ipykernel)",
   "language": "python",
   "name": "python3"
  },
  "language_info": {
   "codemirror_mode": {
    "name": "ipython",
    "version": 3
   },
   "file_extension": ".py",
   "mimetype": "text/x-python",
   "name": "python",
   "nbconvert_exporter": "python",
   "pygments_lexer": "ipython3",
   "version": "3.10.9"
  }
 },
 "nbformat": 4,
 "nbformat_minor": 5
}
