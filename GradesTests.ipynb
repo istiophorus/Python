{
 "cells": [
  {
   "cell_type": "code",
   "execution_count": 35,
   "metadata": {
    "collapsed": true
   },
   "outputs": [],
   "source": [
    "import pandas as pd\n",
    "import matplotlib.pyplot as plt\n",
    "%matplotlib inline"
   ]
  },
  {
   "cell_type": "code",
   "execution_count": 36,
   "metadata": {
    "collapsed": true
   },
   "outputs": [],
   "source": [
    "df = pd.read_csv(\"q:/Data.3/learn-data-analysis-w-python-master/datasets/gradedata.csv\")"
   ]
  },
  {
   "cell_type": "code",
   "execution_count": 37,
   "metadata": {},
   "outputs": [
    {
     "data": {
      "text/html": [
       "<div>\n",
       "<style>\n",
       "    .dataframe thead tr:only-child th {\n",
       "        text-align: right;\n",
       "    }\n",
       "\n",
       "    .dataframe thead th {\n",
       "        text-align: left;\n",
       "    }\n",
       "\n",
       "    .dataframe tbody tr th {\n",
       "        vertical-align: top;\n",
       "    }\n",
       "</style>\n",
       "<table border=\"1\" class=\"dataframe\">\n",
       "  <thead>\n",
       "    <tr style=\"text-align: right;\">\n",
       "      <th></th>\n",
       "      <th>fname</th>\n",
       "      <th>lname</th>\n",
       "      <th>gender</th>\n",
       "      <th>age</th>\n",
       "      <th>exercise</th>\n",
       "      <th>hours</th>\n",
       "      <th>grade</th>\n",
       "      <th>address</th>\n",
       "    </tr>\n",
       "  </thead>\n",
       "  <tbody>\n",
       "  </tbody>\n",
       "</table>\n",
       "</div>"
      ],
      "text/plain": [
       "Empty DataFrame\n",
       "Columns: [fname, lname, gender, age, exercise, hours, grade, address]\n",
       "Index: []"
      ]
     },
     "execution_count": 37,
     "metadata": {},
     "output_type": "execute_result"
    }
   ],
   "source": [
    "df[df.grade < 0]"
   ]
  },
  {
   "cell_type": "code",
   "execution_count": 38,
   "metadata": {},
   "outputs": [
    {
     "data": {
      "text/plain": [
       "(2000, 8)"
      ]
     },
     "execution_count": 38,
     "metadata": {},
     "output_type": "execute_result"
    }
   ],
   "source": [
    "df.notnull().shape"
   ]
  },
  {
   "cell_type": "code",
   "execution_count": 39,
   "metadata": {},
   "outputs": [
    {
     "data": {
      "text/plain": [
       "(2000, 8)"
      ]
     },
     "execution_count": 39,
     "metadata": {},
     "output_type": "execute_result"
    }
   ],
   "source": [
    "df.shape"
   ]
  },
  {
   "cell_type": "code",
   "execution_count": 40,
   "metadata": {
    "collapsed": true
   },
   "outputs": [],
   "source": [
    "def filter_by_quantile_range(dataFrame, columnName, minQ = 0.25, maxQ = 0.75, multiplier = 1.5):\n",
    "    if multiplier <= 0.0:\n",
    "        raise ValueError\n",
    "        \n",
    "    if (minQ < 0.0) or (maxQ > 1.0) or (minQ > maxQ):\n",
    "        raise valueError\n",
    "        \n",
    "    series = dataFrame[columnName]\n",
    "    \n",
    "    mean = series.mean()\n",
    "        \n",
    "    valueMinQ = series.quantile(minQ)\n",
    "    valueMaxQ = series.quantile(maxQ)\n",
    "    interquartileRange = (valueMaxQ - valueMinQ) * multiplier\n",
    "    \n",
    "    minLimit = mean - interquartileRange\n",
    "    maxLimit = mean + interquartileRange\n",
    "    \n",
    "    preFiltered = dataFrame[series >= minLimit]\n",
    "    \n",
    "    series = preFiltered[columnName]\n",
    "    \n",
    "    filtered = preFiltered[series <= maxLimit]\n",
    "    \n",
    "    return filtered    \n",
    "    "
   ]
  },
  {
   "cell_type": "code",
   "execution_count": 41,
   "metadata": {
    "collapsed": true
   },
   "outputs": [],
   "source": [
    "def filter_by_std(dataFrame, columnName, multiplier = 1.96):\n",
    "    if multiplier <= 0.0:\n",
    "        raise ValueError\n",
    "        \n",
    "    series = dataFrame[columnName]\n",
    "    \n",
    "    mean = series.mean()\n",
    "    std = series.std() * multiplier\n",
    "        \n",
    "    minLimit = mean - std\n",
    "    maxLimit = mean + std\n",
    "    \n",
    "    print(minLimit)\n",
    "    print(maxLimit)\n",
    "    \n",
    "    preFiltered = dataFrame[series >= minLimit]\n",
    "    \n",
    "    series = preFiltered[columnName]\n",
    "    \n",
    "    filtered = preFiltered[series <= maxLimit]\n",
    "    \n",
    "    return filtered "
   ]
  },
  {
   "cell_type": "code",
   "execution_count": 42,
   "metadata": {
    "collapsed": true
   },
   "outputs": [],
   "source": [
    "def filter_by_std_2(dataFrame, columnName, multiplier = 1.96):\n",
    "    if multiplier <= 0.0:\n",
    "        raise ValueError\n",
    "        \n",
    "    series = dataFrame[columnName]\n",
    "    \n",
    "    mean = series.mean()\n",
    "    std = series.std() * multiplier\n",
    "        \n",
    "    minLimit = mean - std\n",
    "    maxLimit = mean + std\n",
    "    \n",
    "    print(minLimit)\n",
    "    print(maxLimit)\n",
    "    \n",
    "    filtered = dataFrame[(series >= minLimit) & (series <= maxLimit)]\n",
    "    \n",
    "    return filtered "
   ]
  },
  {
   "cell_type": "code",
   "execution_count": 43,
   "metadata": {},
   "outputs": [],
   "source": [
    "df2 = filter_by_quantile_range(df, \"grade\")"
   ]
  },
  {
   "cell_type": "code",
   "execution_count": 44,
   "metadata": {},
   "outputs": [
    {
     "data": {
      "text/plain": [
       "(1968, 8)"
      ]
     },
     "execution_count": 44,
     "metadata": {},
     "output_type": "execute_result"
    }
   ],
   "source": [
    "df2.shape"
   ]
  },
  {
   "cell_type": "code",
   "execution_count": 45,
   "metadata": {},
   "outputs": [
    {
     "name": "stdout",
     "output_type": "stream",
     "text": [
      "63.45076853591926\n",
      "101.66133146408077\n"
     ]
    }
   ],
   "source": [
    "df3 = filter_by_std_2(df, \"grade\")"
   ]
  },
  {
   "cell_type": "code",
   "execution_count": 46,
   "metadata": {},
   "outputs": [
    {
     "data": {
      "text/plain": [
       "(1946, 8)"
      ]
     },
     "execution_count": 46,
     "metadata": {},
     "output_type": "execute_result"
    }
   ],
   "source": [
    "df3.shape"
   ]
  },
  {
   "cell_type": "code",
   "execution_count": 47,
   "metadata": {},
   "outputs": [
    {
     "data": {
      "text/plain": [
       "(array([   1.,    0.,    1.,    0.,    0.,    7.,   46.,  104.,  175.,\n",
       "         292.,  303.,  331.,  320.,  215.,  205.]),\n",
       " array([  32.        ,   36.53333333,   41.06666667,   45.6       ,\n",
       "          50.13333333,   54.66666667,   59.2       ,   63.73333333,\n",
       "          68.26666667,   72.8       ,   77.33333333,   81.86666667,\n",
       "          86.4       ,   90.93333333,   95.46666667,  100.        ]),\n",
       " <a list of 15 Patch objects>)"
      ]
     },
     "execution_count": 47,
     "metadata": {},
     "output_type": "execute_result"
    },
    {
     "data": {
      "image/png": "[encoded data removed]",
      "text/plain": [
       "<matplotlib.figure.Figure at 0xbd30320>"
      ]
     },
     "metadata": {},
     "output_type": "display_data"
    }
   ],
   "source": [
    "rng = (df[\"grade\"].min(), df[\"grade\"].max())\n",
    "\n",
    "plt.hist(df[\"grade\"], bins=15, range = rng)"
   ]
  },
  {
   "cell_type": "code",
   "execution_count": 48,
   "metadata": {},
   "outputs": [
    {
     "data": {
      "text/plain": [
       "(array([   0.,    0.,    0.,    0.,    0.,    0.,   23.,  104.,  175.,\n",
       "         292.,  303.,  331.,  320.,  215.,  205.]),\n",
       " array([  32.        ,   36.53333333,   41.06666667,   45.6       ,\n",
       "          50.13333333,   54.66666667,   59.2       ,   63.73333333,\n",
       "          68.26666667,   72.8       ,   77.33333333,   81.86666667,\n",
       "          86.4       ,   90.93333333,   95.46666667,  100.        ]),\n",
       " <a list of 15 Patch objects>)"
      ]
     },
     "execution_count": 48,
     "metadata": {},
     "output_type": "execute_result"
    },
    {
     "data": {
      "image/png": "[encoded data removed]",
      "text/plain": [
       "<matplotlib.figure.Figure at 0xbe54780>"
      ]
     },
     "metadata": {},
     "output_type": "display_data"
    }
   ],
   "source": [
    "plt.hist(df2[\"grade\"], bins=15, range = rng)"
   ]
  },
  {
   "cell_type": "code",
   "execution_count": 49,
   "metadata": {},
   "outputs": [
    {
     "data": {
      "text/plain": [
       "(array([   0.,    0.,    0.,    0.,    0.,    0.,    1.,  104.,  175.,\n",
       "         292.,  303.,  331.,  320.,  215.,  205.]),\n",
       " array([  32.        ,   36.53333333,   41.06666667,   45.6       ,\n",
       "          50.13333333,   54.66666667,   59.2       ,   63.73333333,\n",
       "          68.26666667,   72.8       ,   77.33333333,   81.86666667,\n",
       "          86.4       ,   90.93333333,   95.46666667,  100.        ]),\n",
       " <a list of 15 Patch objects>)"
      ]
     },
     "execution_count": 49,
     "metadata": {},
     "output_type": "execute_result"
    },
    {
     "data": {
      "image/png": "[encoded data removed]",
      "text/plain": [
       "<matplotlib.figure.Figure at 0x9c2c2b0>"
      ]
     },
     "metadata": {},
     "output_type": "display_data"
    }
   ],
   "source": [
    "plt.hist(df3[\"grade\"], bins=15, range = rng)"
   ]
  },
  {
   "cell_type": "code",
   "execution_count": 50,
   "metadata": {
    "collapsed": true
   },
   "outputs": [],
   "source": [
    "bins = [0, 50, 60, 70, 80, 90, 100]"
   ]
  },
  {
   "cell_type": "code",
   "execution_count": 51,
   "metadata": {
    "collapsed": true
   },
   "outputs": [],
   "source": [
    "dfx = df.copy()"
   ]
  },
  {
   "cell_type": "code",
   "execution_count": 52,
   "metadata": {
    "collapsed": true
   },
   "outputs": [],
   "source": [
    "dfx[\"grade_symbol\"] = pd.cut(dfx[\"grade\"], bins, labels = [\"F\",\"E\",\"D\",\"C\",\"B\",\"A\"])"
   ]
  },
  {
   "cell_type": "code",
   "execution_count": 53,
   "metadata": {},
   "outputs": [
    {
     "data": {
      "text/plain": [
       "B    737\n",
       "C    580\n",
       "A    475\n",
       "D    193\n",
       "E     13\n",
       "F      2\n",
       "Name: grade_symbol, dtype: int64"
      ]
     },
     "execution_count": 53,
     "metadata": {},
     "output_type": "execute_result"
    }
   ],
   "source": [
    "dfx[\"grade_symbol\"].value_counts()"
   ]
  },
  {
   "cell_type": "code",
   "execution_count": 54,
   "metadata": {},
   "outputs": [
    {
     "data": {
      "text/plain": [
       "grade_symbol\n",
       "A    15.305263\n",
       "B    11.827680\n",
       "C     8.381034\n",
       "D     5.544041\n",
       "E     3.076923\n",
       "F     9.500000\n",
       "Name: hours, dtype: float64"
      ]
     },
     "execution_count": 54,
     "metadata": {},
     "output_type": "execute_result"
    }
   ],
   "source": [
    "dfx.groupby('grade_symbol')['hours'].mean()"
   ]
  },
  {
   "cell_type": "code",
   "execution_count": 55,
   "metadata": {},
   "outputs": [
    {
     "data": {
      "text/html": [
       "<div>\n",
       "<style>\n",
       "    .dataframe thead tr:only-child th {\n",
       "        text-align: right;\n",
       "    }\n",
       "\n",
       "    .dataframe thead th {\n",
       "        text-align: left;\n",
       "    }\n",
       "\n",
       "    .dataframe tbody tr th {\n",
       "        vertical-align: top;\n",
       "    }\n",
       "</style>\n",
       "<table border=\"1\" class=\"dataframe\">\n",
       "  <thead>\n",
       "    <tr style=\"text-align: right;\">\n",
       "      <th></th>\n",
       "      <th>fname</th>\n",
       "      <th>lname</th>\n",
       "      <th>gender</th>\n",
       "      <th>age</th>\n",
       "      <th>exercise</th>\n",
       "      <th>hours</th>\n",
       "      <th>grade</th>\n",
       "      <th>address</th>\n",
       "      <th>grade_symbol</th>\n",
       "    </tr>\n",
       "  </thead>\n",
       "  <tbody>\n",
       "    <tr>\n",
       "      <th>0</th>\n",
       "      <td>Marcia</td>\n",
       "      <td>Pugh</td>\n",
       "      <td>female</td>\n",
       "      <td>17</td>\n",
       "      <td>3</td>\n",
       "      <td>10</td>\n",
       "      <td>82.4</td>\n",
       "      <td>9253 Richardson Road, Matawan, NJ 07747</td>\n",
       "      <td>B</td>\n",
       "    </tr>\n",
       "    <tr>\n",
       "      <th>1</th>\n",
       "      <td>Kadeem</td>\n",
       "      <td>Morrison</td>\n",
       "      <td>male</td>\n",
       "      <td>18</td>\n",
       "      <td>4</td>\n",
       "      <td>4</td>\n",
       "      <td>78.2</td>\n",
       "      <td>33 Spring Dr., Taunton, MA 02780</td>\n",
       "      <td>C</td>\n",
       "    </tr>\n",
       "    <tr>\n",
       "      <th>2</th>\n",
       "      <td>Nash</td>\n",
       "      <td>Powell</td>\n",
       "      <td>male</td>\n",
       "      <td>18</td>\n",
       "      <td>5</td>\n",
       "      <td>9</td>\n",
       "      <td>79.3</td>\n",
       "      <td>41 Hill Avenue, Mentor, OH 44060</td>\n",
       "      <td>C</td>\n",
       "    </tr>\n",
       "    <tr>\n",
       "      <th>3</th>\n",
       "      <td>Noelani</td>\n",
       "      <td>Wagner</td>\n",
       "      <td>female</td>\n",
       "      <td>14</td>\n",
       "      <td>2</td>\n",
       "      <td>7</td>\n",
       "      <td>83.2</td>\n",
       "      <td>8839 Marshall St., Miami, FL 33125</td>\n",
       "      <td>B</td>\n",
       "    </tr>\n",
       "    <tr>\n",
       "      <th>4</th>\n",
       "      <td>Noelani</td>\n",
       "      <td>Cherry</td>\n",
       "      <td>female</td>\n",
       "      <td>18</td>\n",
       "      <td>4</td>\n",
       "      <td>15</td>\n",
       "      <td>87.4</td>\n",
       "      <td>8304 Charles Rd., Lewis Center, OH 43035</td>\n",
       "      <td>B</td>\n",
       "    </tr>\n",
       "  </tbody>\n",
       "</table>\n",
       "</div>"
      ],
      "text/plain": [
       "     fname     lname  gender  age  exercise  hours  grade  \\\n",
       "0   Marcia      Pugh  female   17         3     10   82.4   \n",
       "1   Kadeem  Morrison    male   18         4      4   78.2   \n",
       "2     Nash    Powell    male   18         5      9   79.3   \n",
       "3  Noelani    Wagner  female   14         2      7   83.2   \n",
       "4  Noelani    Cherry  female   18         4     15   87.4   \n",
       "\n",
       "                                    address grade_symbol  \n",
       "0   9253 Richardson Road, Matawan, NJ 07747            B  \n",
       "1          33 Spring Dr., Taunton, MA 02780            C  \n",
       "2          41 Hill Avenue, Mentor, OH 44060            C  \n",
       "3        8839 Marshall St., Miami, FL 33125            B  \n",
       "4  8304 Charles Rd., Lewis Center, OH 43035            B  "
      ]
     },
     "execution_count": 55,
     "metadata": {},
     "output_type": "execute_result"
    }
   ],
   "source": [
    "dfx.head()"
   ]
  },
  {
   "cell_type": "code",
   "execution_count": 56,
   "metadata": {
    "collapsed": true
   },
   "outputs": [],
   "source": [
    "def gender_converter(gender):\n",
    "    if gender == \"female\":\n",
    "        return -1\n",
    "    elif gender == \"male\":\n",
    "        return 1\n",
    "    else:\n",
    "        return 0"
   ]
  },
  {
   "cell_type": "code",
   "execution_count": 57,
   "metadata": {
    "collapsed": true
   },
   "outputs": [],
   "source": [
    "dfx[\"gender_num\"] = dfx.gender.apply(gender_converter)"
   ]
  },
  {
   "cell_type": "code",
   "execution_count": 58,
   "metadata": {
    "collapsed": true
   },
   "outputs": [],
   "source": [
    "corrx = dfx.corr()"
   ]
  },
  {
   "cell_type": "code",
   "execution_count": 59,
   "metadata": {},
   "outputs": [
    {
     "data": {
      "text/plain": [
       "gender\n",
       "female    82.7173\n",
       "male      82.3948\n",
       "Name: grade, dtype: float64"
      ]
     },
     "execution_count": 59,
     "metadata": {},
     "output_type": "execute_result"
    }
   ],
   "source": [
    "dfx['grade'].groupby(dfx['gender']).mean()"
   ]
  },
  {
   "cell_type": "code",
   "execution_count": 60,
   "metadata": {},
   "outputs": [
    {
     "data": {
      "text/plain": [
       "gender\n",
       "female    82.7173\n",
       "male      82.3948\n",
       "Name: grade, dtype: float64"
      ]
     },
     "execution_count": 60,
     "metadata": {},
     "output_type": "execute_result"
    }
   ],
   "source": [
    "dfx.groupby(dfx['gender'])['grade'].mean()"
   ]
  },
  {
   "cell_type": "code",
   "execution_count": 61,
   "metadata": {},
   "outputs": [
    {
     "data": {
      "text/plain": [
       "gender\n",
       "female    82.6\n",
       "male      83.0\n",
       "Name: grade, dtype: float64"
      ]
     },
     "execution_count": 61,
     "metadata": {},
     "output_type": "execute_result"
    }
   ],
   "source": [
    "dfx.groupby(dfx['gender'])['grade'].median()"
   ]
  },
  {
   "cell_type": "code",
   "execution_count": 62,
   "metadata": {
    "collapsed": true
   },
   "outputs": [],
   "source": [
    "dfx['graderanked'] = dfx['grade'].rank(ascending=1)"
   ]
  },
  {
   "cell_type": "code",
   "execution_count": 63,
   "metadata": {},
   "outputs": [
    {
     "data": {
      "text/html": [
       "<div>\n",
       "<style>\n",
       "    .dataframe thead tr:only-child th {\n",
       "        text-align: right;\n",
       "    }\n",
       "\n",
       "    .dataframe thead th {\n",
       "        text-align: left;\n",
       "    }\n",
       "\n",
       "    .dataframe tbody tr th {\n",
       "        vertical-align: top;\n",
       "    }\n",
       "</style>\n",
       "<table border=\"1\" class=\"dataframe\">\n",
       "  <thead>\n",
       "    <tr style=\"text-align: right;\">\n",
       "      <th></th>\n",
       "      <th>fname</th>\n",
       "      <th>lname</th>\n",
       "      <th>gender</th>\n",
       "      <th>age</th>\n",
       "      <th>exercise</th>\n",
       "      <th>hours</th>\n",
       "      <th>grade</th>\n",
       "      <th>address</th>\n",
       "      <th>grade_symbol</th>\n",
       "      <th>gender_num</th>\n",
       "      <th>graderanked</th>\n",
       "    </tr>\n",
       "  </thead>\n",
       "  <tbody>\n",
       "    <tr>\n",
       "      <th>340</th>\n",
       "      <td>Abbot</td>\n",
       "      <td>Hall</td>\n",
       "      <td>male</td>\n",
       "      <td>16</td>\n",
       "      <td>4</td>\n",
       "      <td>3</td>\n",
       "      <td>58.9</td>\n",
       "      <td>84 Rock Creek Lane, Durham, NC 27703</td>\n",
       "      <td>E</td>\n",
       "      <td>1</td>\n",
       "      <td>7.5</td>\n",
       "    </tr>\n",
       "    <tr>\n",
       "      <th>388</th>\n",
       "      <td>Colton</td>\n",
       "      <td>Ochoa</td>\n",
       "      <td>male</td>\n",
       "      <td>17</td>\n",
       "      <td>1</td>\n",
       "      <td>4</td>\n",
       "      <td>60.3</td>\n",
       "      <td>75 Arrowhead Drive, Danvers, MA 01923</td>\n",
       "      <td>D</td>\n",
       "      <td>1</td>\n",
       "      <td>18.5</td>\n",
       "    </tr>\n",
       "    <tr>\n",
       "      <th>410</th>\n",
       "      <td>Linda</td>\n",
       "      <td>Baldwin</td>\n",
       "      <td>female</td>\n",
       "      <td>16</td>\n",
       "      <td>5</td>\n",
       "      <td>2</td>\n",
       "      <td>59.0</td>\n",
       "      <td>970 SW. Second Ave., Cedar Falls, IA 50613</td>\n",
       "      <td>E</td>\n",
       "      <td>-1</td>\n",
       "      <td>9.0</td>\n",
       "    </tr>\n",
       "    <tr>\n",
       "      <th>528</th>\n",
       "      <td>Chester</td>\n",
       "      <td>Vance</td>\n",
       "      <td>male</td>\n",
       "      <td>17</td>\n",
       "      <td>1</td>\n",
       "      <td>5</td>\n",
       "      <td>60.1</td>\n",
       "      <td>732 Randall Mill Street, Covington, GA 30014</td>\n",
       "      <td>D</td>\n",
       "      <td>1</td>\n",
       "      <td>16.5</td>\n",
       "    </tr>\n",
       "    <tr>\n",
       "      <th>556</th>\n",
       "      <td>Lacey</td>\n",
       "      <td>Nieves</td>\n",
       "      <td>female</td>\n",
       "      <td>18</td>\n",
       "      <td>1</td>\n",
       "      <td>2</td>\n",
       "      <td>57.9</td>\n",
       "      <td>38 West Brickyard Avenue, Roslindale, MA 02131</td>\n",
       "      <td>E</td>\n",
       "      <td>-1</td>\n",
       "      <td>6.0</td>\n",
       "    </tr>\n",
       "    <tr>\n",
       "      <th>664</th>\n",
       "      <td>Alika</td>\n",
       "      <td>Poole</td>\n",
       "      <td>female</td>\n",
       "      <td>19</td>\n",
       "      <td>2</td>\n",
       "      <td>16</td>\n",
       "      <td>32.0</td>\n",
       "      <td>9282 Purple Finch Lane, Lexington, NC 27292</td>\n",
       "      <td>F</td>\n",
       "      <td>-1</td>\n",
       "      <td>1.0</td>\n",
       "    </tr>\n",
       "    <tr>\n",
       "      <th>672</th>\n",
       "      <td>Ciaran</td>\n",
       "      <td>Gay</td>\n",
       "      <td>male</td>\n",
       "      <td>19</td>\n",
       "      <td>4</td>\n",
       "      <td>3</td>\n",
       "      <td>59.3</td>\n",
       "      <td>157 Bridge Street, Corona, NY 11368</td>\n",
       "      <td>E</td>\n",
       "      <td>1</td>\n",
       "      <td>11.0</td>\n",
       "    </tr>\n",
       "    <tr>\n",
       "      <th>700</th>\n",
       "      <td>Steven</td>\n",
       "      <td>Sherman</td>\n",
       "      <td>male</td>\n",
       "      <td>18</td>\n",
       "      <td>1</td>\n",
       "      <td>2</td>\n",
       "      <td>60.0</td>\n",
       "      <td>8029 Depot Street, Port Charlotte, FL 33952</td>\n",
       "      <td>E</td>\n",
       "      <td>1</td>\n",
       "      <td>15.0</td>\n",
       "    </tr>\n",
       "    <tr>\n",
       "      <th>869</th>\n",
       "      <td>Tanek</td>\n",
       "      <td>Stephens</td>\n",
       "      <td>male</td>\n",
       "      <td>15</td>\n",
       "      <td>1</td>\n",
       "      <td>4</td>\n",
       "      <td>60.5</td>\n",
       "      <td>167 Glen Eagles St., Merrimack, NH 03054</td>\n",
       "      <td>D</td>\n",
       "      <td>1</td>\n",
       "      <td>20.5</td>\n",
       "    </tr>\n",
       "    <tr>\n",
       "      <th>972</th>\n",
       "      <td>Keegan</td>\n",
       "      <td>Rasmussen</td>\n",
       "      <td>male</td>\n",
       "      <td>19</td>\n",
       "      <td>4</td>\n",
       "      <td>3</td>\n",
       "      <td>43.0</td>\n",
       "      <td>876 East Pilgrim Street, Chelmsford, MA 01824</td>\n",
       "      <td>F</td>\n",
       "      <td>1</td>\n",
       "      <td>2.0</td>\n",
       "    </tr>\n",
       "    <tr>\n",
       "      <th>1068</th>\n",
       "      <td>Isaiah</td>\n",
       "      <td>Harrington</td>\n",
       "      <td>male</td>\n",
       "      <td>17</td>\n",
       "      <td>1</td>\n",
       "      <td>4</td>\n",
       "      <td>58.9</td>\n",
       "      <td>47 Mill Pond St., Haines City, FL 33844</td>\n",
       "      <td>E</td>\n",
       "      <td>1</td>\n",
       "      <td>7.5</td>\n",
       "    </tr>\n",
       "    <tr>\n",
       "      <th>1207</th>\n",
       "      <td>Selma</td>\n",
       "      <td>Stout</td>\n",
       "      <td>female</td>\n",
       "      <td>19</td>\n",
       "      <td>2</td>\n",
       "      <td>3</td>\n",
       "      <td>59.4</td>\n",
       "      <td>5 Pierce St., Chester, PA 19013</td>\n",
       "      <td>E</td>\n",
       "      <td>-1</td>\n",
       "      <td>12.0</td>\n",
       "    </tr>\n",
       "    <tr>\n",
       "      <th>1237</th>\n",
       "      <td>Willa</td>\n",
       "      <td>Byers</td>\n",
       "      <td>female</td>\n",
       "      <td>14</td>\n",
       "      <td>2</td>\n",
       "      <td>4</td>\n",
       "      <td>59.2</td>\n",
       "      <td>9466 Wayne Lane, Torrington, CT 06790</td>\n",
       "      <td>E</td>\n",
       "      <td>-1</td>\n",
       "      <td>10.0</td>\n",
       "    </tr>\n",
       "    <tr>\n",
       "      <th>1494</th>\n",
       "      <td>Jenna</td>\n",
       "      <td>Wagner</td>\n",
       "      <td>female</td>\n",
       "      <td>16</td>\n",
       "      <td>1</td>\n",
       "      <td>3</td>\n",
       "      <td>56.3</td>\n",
       "      <td>8829 Shore Dr., Hopewell Junction, NY 12533</td>\n",
       "      <td>E</td>\n",
       "      <td>-1</td>\n",
       "      <td>5.0</td>\n",
       "    </tr>\n",
       "    <tr>\n",
       "      <th>1512</th>\n",
       "      <td>Jermaine</td>\n",
       "      <td>Sims</td>\n",
       "      <td>male</td>\n",
       "      <td>16</td>\n",
       "      <td>2</td>\n",
       "      <td>3</td>\n",
       "      <td>60.5</td>\n",
       "      <td>7994 Leatherwood St., Pittsfield, MA 01201</td>\n",
       "      <td>D</td>\n",
       "      <td>1</td>\n",
       "      <td>20.5</td>\n",
       "    </tr>\n",
       "    <tr>\n",
       "      <th>1590</th>\n",
       "      <td>Dillon</td>\n",
       "      <td>Kane</td>\n",
       "      <td>male</td>\n",
       "      <td>19</td>\n",
       "      <td>2</td>\n",
       "      <td>4</td>\n",
       "      <td>60.3</td>\n",
       "      <td>141 SW. Birchpond Ave., Germantown, MD 20874</td>\n",
       "      <td>D</td>\n",
       "      <td>1</td>\n",
       "      <td>18.5</td>\n",
       "    </tr>\n",
       "    <tr>\n",
       "      <th>1870</th>\n",
       "      <td>Levi</td>\n",
       "      <td>Coleman</td>\n",
       "      <td>male</td>\n",
       "      <td>19</td>\n",
       "      <td>3</td>\n",
       "      <td>3</td>\n",
       "      <td>55.9</td>\n",
       "      <td>9453 Laurel Street, Jersey City, NJ 07302</td>\n",
       "      <td>E</td>\n",
       "      <td>1</td>\n",
       "      <td>3.0</td>\n",
       "    </tr>\n",
       "    <tr>\n",
       "      <th>1882</th>\n",
       "      <td>Fitzgerald</td>\n",
       "      <td>Goff</td>\n",
       "      <td>male</td>\n",
       "      <td>18</td>\n",
       "      <td>1</td>\n",
       "      <td>4</td>\n",
       "      <td>59.8</td>\n",
       "      <td>3 West Shipley Rd., Langhorne, PA 19047</td>\n",
       "      <td>E</td>\n",
       "      <td>1</td>\n",
       "      <td>13.5</td>\n",
       "    </tr>\n",
       "    <tr>\n",
       "      <th>1910</th>\n",
       "      <td>Gail</td>\n",
       "      <td>Mcneil</td>\n",
       "      <td>female</td>\n",
       "      <td>17</td>\n",
       "      <td>2</td>\n",
       "      <td>3</td>\n",
       "      <td>56.1</td>\n",
       "      <td>8409A Spruce St., Fishers, IN 46037</td>\n",
       "      <td>E</td>\n",
       "      <td>-1</td>\n",
       "      <td>4.0</td>\n",
       "    </tr>\n",
       "    <tr>\n",
       "      <th>1916</th>\n",
       "      <td>Kevin</td>\n",
       "      <td>Townsend</td>\n",
       "      <td>male</td>\n",
       "      <td>14</td>\n",
       "      <td>5</td>\n",
       "      <td>2</td>\n",
       "      <td>60.1</td>\n",
       "      <td>9805 Walnutwood Dr., Panama City, FL 32404</td>\n",
       "      <td>D</td>\n",
       "      <td>1</td>\n",
       "      <td>16.5</td>\n",
       "    </tr>\n",
       "    <tr>\n",
       "      <th>1924</th>\n",
       "      <td>Xanthus</td>\n",
       "      <td>Mcneil</td>\n",
       "      <td>male</td>\n",
       "      <td>16</td>\n",
       "      <td>3</td>\n",
       "      <td>4</td>\n",
       "      <td>59.8</td>\n",
       "      <td>226 Redwood Lane, Boynton Beach, FL 33435</td>\n",
       "      <td>E</td>\n",
       "      <td>1</td>\n",
       "      <td>13.5</td>\n",
       "    </tr>\n",
       "  </tbody>\n",
       "</table>\n",
       "</div>"
      ],
      "text/plain": [
       "           fname       lname  gender  age  exercise  hours  grade  \\\n",
       "340        Abbot        Hall    male   16         4      3   58.9   \n",
       "388       Colton       Ochoa    male   17         1      4   60.3   \n",
       "410        Linda     Baldwin  female   16         5      2   59.0   \n",
       "528      Chester       Vance    male   17         1      5   60.1   \n",
       "556        Lacey      Nieves  female   18         1      2   57.9   \n",
       "664        Alika       Poole  female   19         2     16   32.0   \n",
       "672       Ciaran         Gay    male   19         4      3   59.3   \n",
       "700       Steven     Sherman    male   18         1      2   60.0   \n",
       "869        Tanek    Stephens    male   15         1      4   60.5   \n",
       "972       Keegan   Rasmussen    male   19         4      3   43.0   \n",
       "1068      Isaiah  Harrington    male   17         1      4   58.9   \n",
       "1207       Selma       Stout  female   19         2      3   59.4   \n",
       "1237       Willa       Byers  female   14         2      4   59.2   \n",
       "1494       Jenna      Wagner  female   16         1      3   56.3   \n",
       "1512    Jermaine        Sims    male   16         2      3   60.5   \n",
       "1590      Dillon        Kane    male   19         2      4   60.3   \n",
       "1870        Levi     Coleman    male   19         3      3   55.9   \n",
       "1882  Fitzgerald        Goff    male   18         1      4   59.8   \n",
       "1910        Gail      Mcneil  female   17         2      3   56.1   \n",
       "1916       Kevin    Townsend    male   14         5      2   60.1   \n",
       "1924     Xanthus      Mcneil    male   16         3      4   59.8   \n",
       "\n",
       "                                             address grade_symbol  gender_num  \\\n",
       "340             84 Rock Creek Lane, Durham, NC 27703            E           1   \n",
       "388            75 Arrowhead Drive, Danvers, MA 01923            D           1   \n",
       "410       970 SW. Second Ave., Cedar Falls, IA 50613            E          -1   \n",
       "528     732 Randall Mill Street, Covington, GA 30014            D           1   \n",
       "556   38 West Brickyard Avenue, Roslindale, MA 02131            E          -1   \n",
       "664      9282 Purple Finch Lane, Lexington, NC 27292            F          -1   \n",
       "672              157 Bridge Street, Corona, NY 11368            E           1   \n",
       "700      8029 Depot Street, Port Charlotte, FL 33952            E           1   \n",
       "869         167 Glen Eagles St., Merrimack, NH 03054            D           1   \n",
       "972    876 East Pilgrim Street, Chelmsford, MA 01824            F           1   \n",
       "1068         47 Mill Pond St., Haines City, FL 33844            E           1   \n",
       "1207                 5 Pierce St., Chester, PA 19013            E          -1   \n",
       "1237           9466 Wayne Lane, Torrington, CT 06790            E          -1   \n",
       "1494     8829 Shore Dr., Hopewell Junction, NY 12533            E          -1   \n",
       "1512      7994 Leatherwood St., Pittsfield, MA 01201            D           1   \n",
       "1590    141 SW. Birchpond Ave., Germantown, MD 20874            D           1   \n",
       "1870       9453 Laurel Street, Jersey City, NJ 07302            E           1   \n",
       "1882         3 West Shipley Rd., Langhorne, PA 19047            E           1   \n",
       "1910             8409A Spruce St., Fishers, IN 46037            E          -1   \n",
       "1916      9805 Walnutwood Dr., Panama City, FL 32404            D           1   \n",
       "1924       226 Redwood Lane, Boynton Beach, FL 33435            E           1   \n",
       "\n",
       "      graderanked  \n",
       "340           7.5  \n",
       "388          18.5  \n",
       "410           9.0  \n",
       "528          16.5  \n",
       "556           6.0  \n",
       "664           1.0  \n",
       "672          11.0  \n",
       "700          15.0  \n",
       "869          20.5  \n",
       "972           2.0  \n",
       "1068          7.5  \n",
       "1207         12.0  \n",
       "1237         10.0  \n",
       "1494          5.0  \n",
       "1512         20.5  \n",
       "1590         18.5  \n",
       "1870          3.0  \n",
       "1882         13.5  \n",
       "1910          4.0  \n",
       "1916         16.5  \n",
       "1924         13.5  "
      ]
     },
     "execution_count": 63,
     "metadata": {},
     "output_type": "execute_result"
    }
   ],
   "source": [
    "dfx[dfx['graderanked'] < 21]"
   ]
  },
  {
   "cell_type": "code",
   "execution_count": 64,
   "metadata": {},
   "outputs": [
    {
     "data": {
      "text/html": [
       "<div>\n",
       "<style>\n",
       "    .dataframe thead tr:only-child th {\n",
       "        text-align: right;\n",
       "    }\n",
       "\n",
       "    .dataframe thead th {\n",
       "        text-align: left;\n",
       "    }\n",
       "\n",
       "    .dataframe tbody tr th {\n",
       "        vertical-align: top;\n",
       "    }\n",
       "</style>\n",
       "<table border=\"1\" class=\"dataframe\">\n",
       "  <thead>\n",
       "    <tr style=\"text-align: right;\">\n",
       "      <th></th>\n",
       "      <th>fname</th>\n",
       "      <th>lname</th>\n",
       "      <th>gender</th>\n",
       "      <th>age</th>\n",
       "      <th>exercise</th>\n",
       "      <th>hours</th>\n",
       "      <th>grade</th>\n",
       "      <th>address</th>\n",
       "      <th>grade_symbol</th>\n",
       "      <th>gender_num</th>\n",
       "      <th>graderanked</th>\n",
       "    </tr>\n",
       "  </thead>\n",
       "  <tbody>\n",
       "    <tr>\n",
       "      <th>967</th>\n",
       "      <td>Melissa</td>\n",
       "      <td>Clay</td>\n",
       "      <td>female</td>\n",
       "      <td>17</td>\n",
       "      <td>5</td>\n",
       "      <td>13</td>\n",
       "      <td>93.9</td>\n",
       "      <td>563 4th Rd., Ashburn, VA 20147</td>\n",
       "      <td>A</td>\n",
       "      <td>-1</td>\n",
       "      <td>1733.0</td>\n",
       "    </tr>\n",
       "    <tr>\n",
       "      <th>1277</th>\n",
       "      <td>Melyssa</td>\n",
       "      <td>Garner</td>\n",
       "      <td>female</td>\n",
       "      <td>17</td>\n",
       "      <td>1</td>\n",
       "      <td>6</td>\n",
       "      <td>71.3</td>\n",
       "      <td>679 Hilldale Street, Greenville, NC 27834</td>\n",
       "      <td>C</td>\n",
       "      <td>-1</td>\n",
       "      <td>261.0</td>\n",
       "    </tr>\n",
       "    <tr>\n",
       "      <th>1420</th>\n",
       "      <td>Melvin</td>\n",
       "      <td>Burt</td>\n",
       "      <td>male</td>\n",
       "      <td>14</td>\n",
       "      <td>3</td>\n",
       "      <td>16</td>\n",
       "      <td>95.9</td>\n",
       "      <td>8311 Westport Street, Jacksonville, NC 28540</td>\n",
       "      <td>A</td>\n",
       "      <td>1</td>\n",
       "      <td>1812.5</td>\n",
       "    </tr>\n",
       "    <tr>\n",
       "      <th>1431</th>\n",
       "      <td>Melanie</td>\n",
       "      <td>Wilson</td>\n",
       "      <td>female</td>\n",
       "      <td>15</td>\n",
       "      <td>4</td>\n",
       "      <td>13</td>\n",
       "      <td>81.5</td>\n",
       "      <td>82 Shadow Brook Rd., Atlanta, GA 30303</td>\n",
       "      <td>B</td>\n",
       "      <td>-1</td>\n",
       "      <td>904.5</td>\n",
       "    </tr>\n",
       "  </tbody>\n",
       "</table>\n",
       "</div>"
      ],
      "text/plain": [
       "        fname   lname  gender  age  exercise  hours  grade  \\\n",
       "967   Melissa    Clay  female   17         5     13   93.9   \n",
       "1277  Melyssa  Garner  female   17         1      6   71.3   \n",
       "1420   Melvin    Burt    male   14         3     16   95.9   \n",
       "1431  Melanie  Wilson  female   15         4     13   81.5   \n",
       "\n",
       "                                           address grade_symbol  gender_num  \\\n",
       "967                 563 4th Rd., Ashburn, VA 20147            A          -1   \n",
       "1277     679 Hilldale Street, Greenville, NC 27834            C          -1   \n",
       "1420  8311 Westport Street, Jacksonville, NC 28540            A           1   \n",
       "1431        82 Shadow Brook Rd., Atlanta, GA 30303            B          -1   \n",
       "\n",
       "      graderanked  \n",
       "967        1733.0  \n",
       "1277        261.0  \n",
       "1420       1812.5  \n",
       "1431        904.5  "
      ]
     },
     "execution_count": 64,
     "metadata": {},
     "output_type": "execute_result"
    }
   ],
   "source": [
    "dfx[dfx['fname'].str.contains('Mel')]"
   ]
  },
  {
   "cell_type": "code",
   "execution_count": 65,
   "metadata": {},
   "outputs": [
    {
     "data": {
      "text/plain": [
       "age\n",
       "14    83.20\n",
       "15    82.40\n",
       "16    82.65\n",
       "17    83.70\n",
       "18    82.50\n",
       "19    82.50\n",
       "Name: grade, dtype: float64"
      ]
     },
     "execution_count": 65,
     "metadata": {},
     "output_type": "execute_result"
    }
   ],
   "source": [
    "dfx.groupby(\"age\")['grade'].median()"
   ]
  },
  {
   "cell_type": "code",
   "execution_count": 66,
   "metadata": {},
   "outputs": [
    {
     "data": {
      "text/plain": [
       "gender\n",
       "female    82.6\n",
       "male      83.0\n",
       "Name: grade, dtype: float64"
      ]
     },
     "execution_count": 66,
     "metadata": {},
     "output_type": "execute_result"
    }
   ],
   "source": [
    "dfx.groupby(\"gender\")['grade'].median()"
   ]
  },
  {
   "cell_type": "code",
   "execution_count": 67,
   "metadata": {
    "collapsed": true
   },
   "outputs": [],
   "source": [
    "import statsmodels.formula.api as sm"
   ]
  },
  {
   "cell_type": "code",
   "execution_count": 68,
   "metadata": {},
   "outputs": [
    {
     "data": {
      "text/html": [
       "<table class=\"simpletable\">\n",
       "<caption>OLS Regression Results</caption>\n",
       "<tr>\n",
       "  <th>Dep. Variable:</th>          <td>grade</td>      <th>  R-squared:         </th> <td>   0.664</td> \n",
       "</tr>\n",
       "<tr>\n",
       "  <th>Model:</th>                   <td>OLS</td>       <th>  Adj. R-squared:    </th> <td>   0.664</td> \n",
       "</tr>\n",
       "<tr>\n",
       "  <th>Method:</th>             <td>Least Squares</td>  <th>  F-statistic:       </th> <td>   1973.</td> \n",
       "</tr>\n",
       "<tr>\n",
       "  <th>Date:</th>             <td>Thu, 28 Jun 2018</td> <th>  Prob (F-statistic):</th>  <td>  0.00</td>  \n",
       "</tr>\n",
       "<tr>\n",
       "  <th>Time:</th>                 <td>23:40:22</td>     <th>  Log-Likelihood:    </th> <td> -6300.8</td> \n",
       "</tr>\n",
       "<tr>\n",
       "  <th>No. Observations:</th>      <td>  2000</td>      <th>  AIC:               </th> <td>1.261e+04</td>\n",
       "</tr>\n",
       "<tr>\n",
       "  <th>Df Residuals:</th>          <td>  1997</td>      <th>  BIC:               </th> <td>1.262e+04</td>\n",
       "</tr>\n",
       "<tr>\n",
       "  <th>Df Model:</th>              <td>     2</td>      <th>                     </th>     <td> </td>    \n",
       "</tr>\n",
       "<tr>\n",
       "  <th>Covariance Type:</th>      <td>nonrobust</td>    <th>                     </th>     <td> </td>    \n",
       "</tr>\n",
       "</table>\n",
       "<table class=\"simpletable\">\n",
       "<tr>\n",
       "      <td></td>         <th>coef</th>     <th>std err</th>      <th>t</th>      <th>P>|t|</th>  <th>[0.025</th>    <th>0.975]</th>  \n",
       "</tr>\n",
       "<tr>\n",
       "  <th>Intercept</th> <td>   58.5316</td> <td>    0.447</td> <td>  130.828</td> <td> 0.000</td> <td>   57.654</td> <td>   59.409</td>\n",
       "</tr>\n",
       "<tr>\n",
       "  <th>exercise</th>  <td>    0.9892</td> <td>    0.089</td> <td>   11.131</td> <td> 0.000</td> <td>    0.815</td> <td>    1.163</td>\n",
       "</tr>\n",
       "<tr>\n",
       "  <th>hours</th>     <td>    1.9162</td> <td>    0.031</td> <td>   61.575</td> <td> 0.000</td> <td>    1.855</td> <td>    1.977</td>\n",
       "</tr>\n",
       "</table>\n",
       "<table class=\"simpletable\">\n",
       "<tr>\n",
       "  <th>Omnibus:</th>       <td>318.721</td> <th>  Durbin-Watson:     </th> <td>   2.048</td>\n",
       "</tr>\n",
       "<tr>\n",
       "  <th>Prob(Omnibus):</th> <td> 0.000</td>  <th>  Jarque-Bera (JB):  </th> <td>2158.000</td>\n",
       "</tr>\n",
       "<tr>\n",
       "  <th>Skew:</th>          <td>-0.564</td>  <th>  Prob(JB):          </th> <td>    0.00</td>\n",
       "</tr>\n",
       "<tr>\n",
       "  <th>Kurtosis:</th>      <td> 7.962</td>  <th>  Cond. No.          </th> <td>    43.2</td>\n",
       "</tr>\n",
       "</table>"
      ],
      "text/plain": [
       "<class 'statsmodels.iolib.summary.Summary'>\n",
       "\"\"\"\n",
       "                            OLS Regression Results                            \n",
       "==============================================================================\n",
       "Dep. Variable:                  grade   R-squared:                       0.664\n",
       "Model:                            OLS   Adj. R-squared:                  0.664\n",
       "Method:                 Least Squares   F-statistic:                     1973.\n",
       "Date:                Thu, 28 Jun 2018   Prob (F-statistic):               0.00\n",
       "Time:                        23:40:22   Log-Likelihood:                -6300.8\n",
       "No. Observations:                2000   AIC:                         1.261e+04\n",
       "Df Residuals:                    1997   BIC:                         1.262e+04\n",
       "Df Model:                           2                                         \n",
       "Covariance Type:            nonrobust                                         \n",
       "==============================================================================\n",
       "                 coef    std err          t      P>|t|      [0.025      0.975]\n",
       "------------------------------------------------------------------------------\n",
       "Intercept     58.5316      0.447    130.828      0.000      57.654      59.409\n",
       "exercise       0.9892      0.089     11.131      0.000       0.815       1.163\n",
       "hours          1.9162      0.031     61.575      0.000       1.855       1.977\n",
       "==============================================================================\n",
       "Omnibus:                      318.721   Durbin-Watson:                   2.048\n",
       "Prob(Omnibus):                  0.000   Jarque-Bera (JB):             2158.000\n",
       "Skew:                          -0.564   Prob(JB):                         0.00\n",
       "Kurtosis:                       7.962   Cond. No.                         43.2\n",
       "==============================================================================\n",
       "\n",
       "Warnings:\n",
       "[1] Standard Errors assume that the covariance matrix of the errors is correctly specified.\n",
       "\"\"\""
      ]
     },
     "execution_count": 68,
     "metadata": {},
     "output_type": "execute_result"
    }
   ],
   "source": [
    "result = sm.ols(formula = 'grade ~ exercise + hours', data = dfx).fit()\n",
    "result.summary()"
   ]
  },
  {
   "cell_type": "code",
   "execution_count": 82,
   "metadata": {},
   "outputs": [
    {
     "data": {
      "text/html": [
       "<div>\n",
       "<style>\n",
       "    .dataframe thead tr:only-child th {\n",
       "        text-align: right;\n",
       "    }\n",
       "\n",
       "    .dataframe thead th {\n",
       "        text-align: left;\n",
       "    }\n",
       "\n",
       "    .dataframe tbody tr th {\n",
       "        vertical-align: top;\n",
       "    }\n",
       "</style>\n",
       "<table border=\"1\" class=\"dataframe\">\n",
       "  <thead>\n",
       "    <tr style=\"text-align: right;\">\n",
       "      <th>gender</th>\n",
       "      <th>female</th>\n",
       "      <th>male</th>\n",
       "    </tr>\n",
       "    <tr>\n",
       "      <th>hours</th>\n",
       "      <th></th>\n",
       "      <th></th>\n",
       "    </tr>\n",
       "  </thead>\n",
       "  <tbody>\n",
       "    <tr>\n",
       "      <th>0</th>\n",
       "      <td>NaN</td>\n",
       "      <td>76.80</td>\n",
       "    </tr>\n",
       "    <tr>\n",
       "      <th>1</th>\n",
       "      <td>NaN</td>\n",
       "      <td>72.75</td>\n",
       "    </tr>\n",
       "    <tr>\n",
       "      <th>2</th>\n",
       "      <td>62.20</td>\n",
       "      <td>66.45</td>\n",
       "    </tr>\n",
       "    <tr>\n",
       "      <th>3</th>\n",
       "      <td>69.95</td>\n",
       "      <td>66.05</td>\n",
       "    </tr>\n",
       "    <tr>\n",
       "      <th>4</th>\n",
       "      <td>69.15</td>\n",
       "      <td>67.25</td>\n",
       "    </tr>\n",
       "    <tr>\n",
       "      <th>5</th>\n",
       "      <td>71.70</td>\n",
       "      <td>69.30</td>\n",
       "    </tr>\n",
       "    <tr>\n",
       "      <th>6</th>\n",
       "      <td>73.10</td>\n",
       "      <td>73.80</td>\n",
       "    </tr>\n",
       "    <tr>\n",
       "      <th>7</th>\n",
       "      <td>74.05</td>\n",
       "      <td>73.80</td>\n",
       "    </tr>\n",
       "    <tr>\n",
       "      <th>8</th>\n",
       "      <td>75.55</td>\n",
       "      <td>76.20</td>\n",
       "    </tr>\n",
       "    <tr>\n",
       "      <th>9</th>\n",
       "      <td>78.65</td>\n",
       "      <td>79.20</td>\n",
       "    </tr>\n",
       "    <tr>\n",
       "      <th>10</th>\n",
       "      <td>80.90</td>\n",
       "      <td>80.60</td>\n",
       "    </tr>\n",
       "    <tr>\n",
       "      <th>11</th>\n",
       "      <td>84.50</td>\n",
       "      <td>82.30</td>\n",
       "    </tr>\n",
       "    <tr>\n",
       "      <th>12</th>\n",
       "      <td>83.30</td>\n",
       "      <td>86.40</td>\n",
       "    </tr>\n",
       "    <tr>\n",
       "      <th>13</th>\n",
       "      <td>87.30</td>\n",
       "      <td>87.10</td>\n",
       "    </tr>\n",
       "    <tr>\n",
       "      <th>14</th>\n",
       "      <td>88.10</td>\n",
       "      <td>89.70</td>\n",
       "    </tr>\n",
       "    <tr>\n",
       "      <th>15</th>\n",
       "      <td>91.45</td>\n",
       "      <td>90.80</td>\n",
       "    </tr>\n",
       "    <tr>\n",
       "      <th>16</th>\n",
       "      <td>91.40</td>\n",
       "      <td>89.30</td>\n",
       "    </tr>\n",
       "    <tr>\n",
       "      <th>17</th>\n",
       "      <td>93.90</td>\n",
       "      <td>95.15</td>\n",
       "    </tr>\n",
       "    <tr>\n",
       "      <th>18</th>\n",
       "      <td>97.85</td>\n",
       "      <td>92.10</td>\n",
       "    </tr>\n",
       "    <tr>\n",
       "      <th>19</th>\n",
       "      <td>94.20</td>\n",
       "      <td>100.00</td>\n",
       "    </tr>\n",
       "    <tr>\n",
       "      <th>20</th>\n",
       "      <td>100.00</td>\n",
       "      <td>100.00</td>\n",
       "    </tr>\n",
       "  </tbody>\n",
       "</table>\n",
       "</div>"
      ],
      "text/plain": [
       "gender  female    male\n",
       "hours                 \n",
       "0          NaN   76.80\n",
       "1          NaN   72.75\n",
       "2        62.20   66.45\n",
       "3        69.95   66.05\n",
       "4        69.15   67.25\n",
       "5        71.70   69.30\n",
       "6        73.10   73.80\n",
       "7        74.05   73.80\n",
       "8        75.55   76.20\n",
       "9        78.65   79.20\n",
       "10       80.90   80.60\n",
       "11       84.50   82.30\n",
       "12       83.30   86.40\n",
       "13       87.30   87.10\n",
       "14       88.10   89.70\n",
       "15       91.45   90.80\n",
       "16       91.40   89.30\n",
       "17       93.90   95.15\n",
       "18       97.85   92.10\n",
       "19       94.20  100.00\n",
       "20      100.00  100.00"
      ]
     },
     "execution_count": 82,
     "metadata": {},
     "output_type": "execute_result"
    }
   ],
   "source": [
    "pd.pivot_table(dfx, index = [\"hours\"], columns=[\"gender\"], values = \"grade\", aggfunc = \"median\")"
   ]
  },
  {
   "cell_type": "code",
   "execution_count": 76,
   "metadata": {},
   "outputs": [
    {
     "data": {
      "text/plain": [
       "{'boxes': [<matplotlib.lines.Line2D at 0xd1c3828>],\n",
       " 'caps': [<matplotlib.lines.Line2D at 0xd1cdba8>,\n",
       "  <matplotlib.lines.Line2D at 0xd1d6a58>],\n",
       " 'fliers': [<matplotlib.lines.Line2D at 0xd1dfac8>],\n",
       " 'means': [],\n",
       " 'medians': [<matplotlib.lines.Line2D at 0xd1d6c18>],\n",
       " 'whiskers': [<matplotlib.lines.Line2D at 0xd1c39e8>,\n",
       "  <matplotlib.lines.Line2D at 0xd1cd9e8>]}"
      ]
     },
     "execution_count": 76,
     "metadata": {},
     "output_type": "execute_result"
    },
    {
     "data": {
      "image/png": "[encoded data removed]",
      "text/plain": [
       "<matplotlib.figure.Figure at 0xd1349b0>"
      ]
     },
     "metadata": {},
     "output_type": "display_data"
    }
   ],
   "source": [
    "plt.boxplot(dfx, \"grade\", by=\"\")"
   ]
  },
  {
   "cell_type": "code",
   "execution_count": 86,
   "metadata": {},
   "outputs": [
    {
     "data": {
      "text/plain": [
       "<matplotlib.axes._subplots.AxesSubplot at 0xd14fac8>"
      ]
     },
     "execution_count": 86,
     "metadata": {},
     "output_type": "execute_result"
    },
    {
     "data": {
      "image/png": "[encoded data removed]",
      "text/plain": [
       "<matplotlib.figure.Figure at 0xd139cf8>"
      ]
     },
     "metadata": {},
     "output_type": "display_data"
    }
   ],
   "source": [
    "dfx.boxplot(column = \"grade\", by = [\"age\"])"
   ]
  },
  {
   "cell_type": "code",
   "execution_count": 78,
   "metadata": {
    "collapsed": true
   },
   "outputs": [],
   "source": []
  },
  {
   "cell_type": "code",
   "execution_count": null,
   "metadata": {
    "collapsed": true
   },
   "outputs": [],
   "source": []
  }
 ],
 "metadata": {
  "kernelspec": {
   "display_name": "Python 3",
   "language": "python",
   "name": "python3"
  },
  "language_info": {
   "codemirror_mode": {
    "name": "ipython",
    "version": 3
   },
   "file_extension": ".py",
   "mimetype": "text/x-python",
   "name": "python",
   "nbconvert_exporter": "python",
   "pygments_lexer": "ipython3",
   "version": "3.6.1"
  }
 },
 "nbformat": 4,
 "nbformat_minor": 2
}
