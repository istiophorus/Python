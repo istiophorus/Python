{
 "cells": [
  {
   "cell_type": "code",
   "execution_count": 112,
   "metadata": {},
   "outputs": [],
   "source": [
    "from keras.preprocessing.image import ImageDataGenerator\n",
    "from keras import regularizers\n",
    "import os\n",
    "import matplotlib.pyplot as plt\n",
    "import numpy as np\n",
    "from keras.applications.vgg16 import VGG16\n",
    "from keras.applications.vgg19 import VGG19\n",
    "import keras.applications.efficientnet\n",
    "from keras.applications.efficientnet import EfficientNetB7\n",
    "from keras.models import Sequential\n",
    "from keras.layers import Dense, Dropout, Flatten, BatchNormalization, MaxPooling2D, GlobalAveragePooling2D\n",
    "from keras.layers.convolutional import Conv2D\n",
    "#from keras.layers.advanced_activations import LeakyReLU\n",
    "from keras.layers import LeakyReLU\n",
    "from keras.callbacks import ModelCheckpoint, LearningRateScheduler, CSVLogger\n",
    "import tensorflow as tf\n",
    "from tensorflow.keras.layers import Dropout, Flatten, Dense, BatchNormalization\n",
    "from tensorflow.keras.applications.inception_v3 import InceptionV3\n",
    "from keras.applications.efficientnet import EfficientNetB7\n",
    "from keras.applications.efficientnet_v2 import EfficientNetV2L\n",
    "from keras.applications.inception_resnet_v2 import InceptionResNetV2\n",
    "from keras.applications.resnet_v2 import ResNet152V2\n",
    "from keras.applications.densenet import DenseNet121\n",
    "from keras.applications.resnet import ResNet50\n",
    "from sklearn.metrics import ConfusionMatrixDisplay\n",
    "from sklearn.metrics import confusion_matrix"
   ]
  },
  {
   "cell_type": "code",
   "execution_count": 46,
   "metadata": {},
   "outputs": [
    {
     "name": "stdout",
     "output_type": "stream",
     "text": [
      "[PhysicalDevice(name='/physical_device:GPU:0', device_type='GPU')]\n"
     ]
    }
   ],
   "source": [
    "print(tf.config.list_physical_devices('GPU'))"
   ]
  },
  {
   "cell_type": "code",
   "execution_count": 47,
   "metadata": {},
   "outputs": [
    {
     "data": {
      "text/plain": [
       "'2.9.3'"
      ]
     },
     "execution_count": 47,
     "metadata": {},
     "output_type": "execute_result"
    }
   ],
   "source": [
    "tf.__version__"
   ]
  },
  {
   "cell_type": "code",
   "execution_count": 48,
   "metadata": {},
   "outputs": [],
   "source": [
    "data_base_train_folder = 'd:/Dane/retinaldiseaseclassification/prepared/ARMD/Train'\n",
    "data_base_valid_folder = 'd:/Dane/retinaldiseaseclassification/prepared/ARMD/Validate'\n",
    "data_base_test_folder = 'd:/Dane/retinaldiseaseclassification/prepared/ARMD/Test'\n",
    "class_names = ['ARMD0', 'ARMD1']"
   ]
  },
  {
   "cell_type": "code",
   "execution_count": 49,
   "metadata": {},
   "outputs": [],
   "source": [
    "training_workspace_folder = \"d:/Dane/retinaldiseaseclassification/prepared/workspace/\""
   ]
  },
  {
   "cell_type": "code",
   "execution_count": 110,
   "metadata": {},
   "outputs": [],
   "source": [
    "def get_confusion_matrix(model, test_data_generator):\n",
    "    Y_pred = model.predict_generator(test_data_generator)\n",
    "    y_pred = np.argmax(Y_pred, axis=1)\n",
    "    y_true = test_data_generator.classes\n",
    "    cm = confusion_matrix(y_true, y_pred)\n",
    "    return cm"
   ]
  },
  {
   "cell_type": "code",
   "execution_count": 50,
   "metadata": {},
   "outputs": [],
   "source": [
    "def create_model_from_vgg16():\n",
    "    vgg16 = VGG16(include_top=False, weights='imagenet', input_shape=(224, 224,3))\n",
    "    \n",
    "    for layer in vgg16.layers:\n",
    "        layer.trainable = False\n",
    "        \n",
    "    new_model = tf.keras.models.Sequential([\n",
    "        vgg16,\n",
    "        Flatten(),    \n",
    "        BatchNormalization(),\n",
    "        Dense(256),\n",
    "        LeakyReLU(alpha = 0.01),\n",
    "        BatchNormalization(),\n",
    "        Dropout(0.3),\n",
    "        Dense(2, activation='softmax')\n",
    "    ])\n",
    "    \n",
    "    return new_model"
   ]
  },
  {
   "cell_type": "code",
   "execution_count": 51,
   "metadata": {},
   "outputs": [],
   "source": [
    "def create_model_from_inceptionV3():\n",
    "    inceptionV3 = InceptionV3(include_top=False, weights='imagenet', input_shape=(224, 224,3))\n",
    "    \n",
    "    for layer in inceptionV3.layers:\n",
    "        layer.trainable = False\n",
    "        \n",
    "    new_model = tf.keras.models.Sequential([\n",
    "        inceptionV3,\n",
    "        BatchNormalization(),\n",
    "        Flatten(),  \n",
    "        Dense(256),\n",
    "        LeakyReLU(alpha = 0.01),\n",
    "        BatchNormalization(),\n",
    "        Dropout(0.3),\n",
    "        Dense(2, activation='softmax')\n",
    "    ])\n",
    "    \n",
    "    return new_model"
   ]
  },
  {
   "cell_type": "code",
   "execution_count": 52,
   "metadata": {},
   "outputs": [],
   "source": [
    "def create_model_from_inceptionV3_B():\n",
    "    inceptionV3 = InceptionV3(include_top=False, weights='imagenet', input_shape=(224, 224,3))\n",
    "    \n",
    "    for layer in inceptionV3.layers:\n",
    "        layer.trainable = False\n",
    "        \n",
    "    new_model = tf.keras.models.Sequential([\n",
    "        inceptionV3,\n",
    "        #BatchNormalization(),\n",
    "        Flatten(),  \n",
    "        Dense(256),\n",
    "        LeakyReLU(alpha = 0.01),\n",
    "        BatchNormalization(),\n",
    "        Dense(256),\n",
    "        LeakyReLU(alpha = 0.01),\n",
    "        BatchNormalization(),        \n",
    "        Dropout(0.3),\n",
    "        Dense(2, activation='softmax')\n",
    "    ])\n",
    "    \n",
    "    return new_model"
   ]
  },
  {
   "cell_type": "code",
   "execution_count": 53,
   "metadata": {},
   "outputs": [],
   "source": [
    "def create_model_from_inceptionV3_D():\n",
    "    inceptionV3 = InceptionV3(include_top=False, weights='imagenet', input_shape=(224, 224,3))\n",
    "    \n",
    "    for layer in inceptionV3.layers:\n",
    "        layer.trainable = False\n",
    "        \n",
    "    new_model = tf.keras.models.Sequential([\n",
    "        inceptionV3,\n",
    "        BatchNormalization(),\n",
    "        Flatten(),  \n",
    "        Dense(256),\n",
    "        LeakyReLU(alpha = 0.01),\n",
    "        BatchNormalization(),\n",
    "        Dense(256),\n",
    "        LeakyReLU(alpha = 0.01),\n",
    "        BatchNormalization(),        \n",
    "        Dense(16),\n",
    "        LeakyReLU(alpha = 0.01),\n",
    "        BatchNormalization(),        \n",
    "        Dropout(0.3),\n",
    "        Dense(2, activation='softmax')\n",
    "    ])\n",
    "    \n",
    "    return new_model"
   ]
  },
  {
   "cell_type": "code",
   "execution_count": 54,
   "metadata": {},
   "outputs": [],
   "source": [
    "def create_model_from_inceptionV3_C():\n",
    "    inceptionV3 = InceptionV3(include_top=False, weights='imagenet', input_shape=(224, 224,3))\n",
    "    \n",
    "    for layer in inceptionV3.layers:\n",
    "        layer.trainable = False\n",
    "        \n",
    "    new_model = tf.keras.models.Sequential([\n",
    "        inceptionV3,\n",
    "        Flatten(),  \n",
    "        Dense(256),\n",
    "        LeakyReLU(alpha = 0.01),\n",
    "        Dropout(0.3),\n",
    "        Dense(2, activation='softmax')\n",
    "    ])\n",
    "    \n",
    "    return new_model"
   ]
  },
  {
   "cell_type": "code",
   "execution_count": 55,
   "metadata": {},
   "outputs": [],
   "source": [
    "def create_model_from_efficientnet_B():\n",
    "    base_model = EfficientNetB7(\n",
    "        include_top = False,\n",
    "        weights = \"imagenet\",\n",
    "        input_shape = (224, 224,3))\n",
    "    \n",
    "    for layer in base_model.layers:\n",
    "        layer.trainable = False\n",
    "    \n",
    "    new_model = tf.keras.models.Sequential([\n",
    "        base_model,\n",
    "        Flatten(),  \n",
    "        BatchNormalization(),\n",
    "        Dense(256),\n",
    "        LeakyReLU(alpha = 0.01),\n",
    "        BatchNormalization(),\n",
    "        Dense(256),\n",
    "        LeakyReLU(alpha = 0.01),\n",
    "        BatchNormalization(),\n",
    "        Dense(16),\n",
    "        LeakyReLU(alpha = 0.01),\n",
    "        Dropout(0.3),\n",
    "        Dense(2, activation='softmax')\n",
    "    ])\n",
    "    \n",
    "    return new_model    "
   ]
  },
  {
   "cell_type": "code",
   "execution_count": 56,
   "metadata": {},
   "outputs": [],
   "source": [
    "def create_model_from_efficientnet_C():\n",
    "    base_model = EfficientNetB7(\n",
    "        include_top = False,\n",
    "        weights = \"imagenet\",\n",
    "        input_shape = (224, 224,3))\n",
    "    \n",
    "    for layer in base_model.layers:\n",
    "        layer.trainable = False\n",
    "    \n",
    "    new_model = tf.keras.models.Sequential([\n",
    "        base_model,\n",
    "        Flatten(),  \n",
    "        BatchNormalization(),\n",
    "        Dense(512),\n",
    "        LeakyReLU(alpha = 0.01),\n",
    "        BatchNormalization(),\n",
    "        Dense(256),\n",
    "        LeakyReLU(alpha = 0.01),\n",
    "        BatchNormalization(),\n",
    "        Dense(16),\n",
    "        LeakyReLU(alpha = 0.01),\n",
    "        Dropout(0.3),\n",
    "        Dense(2, activation='softmax')\n",
    "    ])\n",
    "    \n",
    "    return new_model  "
   ]
  },
  {
   "cell_type": "code",
   "execution_count": 57,
   "metadata": {},
   "outputs": [],
   "source": [
    "def create_model_from_InceptionResNetV2_A():\n",
    "    base_model = InceptionResNetV2(\n",
    "        include_top = False,\n",
    "        weights = \"imagenet\",\n",
    "        input_shape = (224, 224,3))\n",
    "    \n",
    "    for layer in base_model.layers:\n",
    "        layer.trainable = False\n",
    "    \n",
    "    new_model = tf.keras.models.Sequential([\n",
    "        base_model,\n",
    "        Flatten(),  \n",
    "        BatchNormalization(),\n",
    "        Dense(512),\n",
    "        LeakyReLU(alpha = 0.01),\n",
    "        BatchNormalization(),\n",
    "        Dense(256),\n",
    "        LeakyReLU(alpha = 0.01),\n",
    "        BatchNormalization(),\n",
    "        Dense(16),\n",
    "        LeakyReLU(alpha = 0.01),\n",
    "        Dropout(0.3),\n",
    "        Dense(2, activation='softmax')\n",
    "    ])\n",
    "    \n",
    "    return new_model "
   ]
  },
  {
   "cell_type": "code",
   "execution_count": 58,
   "metadata": {},
   "outputs": [],
   "source": [
    "def create_model_from_VGG19_A():\n",
    "    base_model = VGG19(\n",
    "        include_top = False,\n",
    "        weights = \"imagenet\",\n",
    "        input_shape = (224, 224,3))\n",
    "    \n",
    "    for layer in base_model.layers:\n",
    "        layer.trainable = False\n",
    "    \n",
    "    new_model = tf.keras.models.Sequential([\n",
    "        base_model,\n",
    "        Flatten(),  \n",
    "        BatchNormalization(),\n",
    "        Dense(512),\n",
    "        LeakyReLU(alpha = 0.01),\n",
    "        BatchNormalization(),\n",
    "        Dense(256),\n",
    "        LeakyReLU(alpha = 0.01),\n",
    "        BatchNormalization(),\n",
    "        Dense(16),\n",
    "        LeakyReLU(alpha = 0.01),\n",
    "        Dropout(0.3),\n",
    "        Dense(2, activation='softmax')\n",
    "    ])\n",
    "    \n",
    "    return new_model "
   ]
  },
  {
   "cell_type": "code",
   "execution_count": 59,
   "metadata": {},
   "outputs": [],
   "source": [
    "def create_model_from_VGG19_B():\n",
    "    base_model = VGG19(\n",
    "        include_top = False,\n",
    "        weights = \"imagenet\",\n",
    "        input_shape = (224, 224,3))\n",
    "    \n",
    "    for layer in base_model.layers:\n",
    "        layer.trainable = False\n",
    "    \n",
    "    new_model = tf.keras.models.Sequential([\n",
    "        base_model,\n",
    "        Flatten(),  \n",
    "        BatchNormalization(),\n",
    "        Dense(1024),\n",
    "        LeakyReLU(alpha = 0.01),\n",
    "        BatchNormalization(),\n",
    "        Dense(512),\n",
    "        LeakyReLU(alpha = 0.01),\n",
    "        BatchNormalization(),\n",
    "        Dense(256),\n",
    "        LeakyReLU(alpha = 0.01),\n",
    "        BatchNormalization(),\n",
    "        Dense(16),\n",
    "        LeakyReLU(alpha = 0.01),\n",
    "        Dropout(0.3),\n",
    "        Dense(2, activation='softmax')\n",
    "    ])\n",
    "    \n",
    "    return new_model "
   ]
  },
  {
   "cell_type": "code",
   "execution_count": 60,
   "metadata": {},
   "outputs": [],
   "source": [
    "def create_model_from_VGG19_C():\n",
    "    base_model = VGG19(\n",
    "        include_top = False,\n",
    "        weights = \"imagenet\",\n",
    "        input_shape = (224, 224,3))\n",
    "    \n",
    "    for layer in base_model.layers:\n",
    "        layer.trainable = False\n",
    "    \n",
    "    new_model = tf.keras.models.Sequential([\n",
    "        base_model,\n",
    "        Flatten(),  \n",
    "        BatchNormalization(),\n",
    "        Dense(1024, activation=\"sigmoid\"),\n",
    "        Dropout(0.2),\n",
    "        Dense(512, activation=\"sigmoid\"),\n",
    "        Dropout(0.2),\n",
    "        Dense(256, activation=\"sigmoid\"),\n",
    "        Dropout(0.2),\n",
    "        Dense(16, activation=\"sigmoid\"),\n",
    "        Dropout(0.2),\n",
    "        Dense(2, activation='softmax')\n",
    "    ])\n",
    "    \n",
    "    return new_model "
   ]
  },
  {
   "cell_type": "code",
   "execution_count": 61,
   "metadata": {},
   "outputs": [],
   "source": [
    "def create_model_from_EfficientNetV2L_A():\n",
    "    base_model = EfficientNetV2L(\n",
    "        include_top = False,\n",
    "        weights = \"imagenet\",\n",
    "        input_shape = (224, 224,3))\n",
    "    \n",
    "    for layer in base_model.layers:\n",
    "        layer.trainable = False\n",
    "    \n",
    "    new_model = tf.keras.models.Sequential([\n",
    "        base_model,\n",
    "        Flatten(),  \n",
    "        BatchNormalization(),\n",
    "        Dense(1024, activation=\"sigmoid\"),\n",
    "        Dropout(0.2),\n",
    "        Dense(512, activation=\"sigmoid\"),\n",
    "        Dropout(0.2),\n",
    "        Dense(256, activation=\"sigmoid\"),\n",
    "        Dropout(0.2),\n",
    "        Dense(16, activation=\"sigmoid\"),\n",
    "        Dropout(0.2),\n",
    "        Dense(2, activation='softmax')\n",
    "    ])\n",
    "    \n",
    "    return new_model "
   ]
  },
  {
   "cell_type": "code",
   "execution_count": 62,
   "metadata": {},
   "outputs": [],
   "source": [
    "def create_model_from_EfficientNetV2L_B():\n",
    "    base_model = EfficientNetV2L(\n",
    "        include_top = False,\n",
    "        weights = \"imagenet\",\n",
    "        input_shape = (224, 224,3))\n",
    "    \n",
    "    for layer in base_model.layers:\n",
    "        layer.trainable = False\n",
    "    \n",
    "    new_model = tf.keras.models.Sequential([\n",
    "        base_model,\n",
    "        Flatten(),  \n",
    "        BatchNormalization(),\n",
    "        Dense(1024, activation=\"relu\"),\n",
    "        Dropout(0.2),\n",
    "        Dense(512, activation=\"relu\"),\n",
    "        Dropout(0.2),\n",
    "        Dense(256, activation=\"relu\"),\n",
    "        Dropout(0.2),\n",
    "        Dense(16, activation=\"relu\"),\n",
    "        Dropout(0.2),\n",
    "        Dense(2, activation='softmax')\n",
    "    ])\n",
    "    \n",
    "    return new_model "
   ]
  },
  {
   "cell_type": "code",
   "execution_count": 63,
   "metadata": {},
   "outputs": [],
   "source": [
    "def create_model_from_EfficientNetV2L_C():\n",
    "    base_model = EfficientNetV2L(\n",
    "        include_top = False,\n",
    "        weights = \"imagenet\",\n",
    "        input_shape = (224, 224,3))\n",
    "    \n",
    "    for layer in base_model.layers:\n",
    "        layer.trainable = False\n",
    "    \n",
    "    new_model = tf.keras.models.Sequential([\n",
    "        base_model,\n",
    "        Flatten(),  \n",
    "        BatchNormalization(),\n",
    "        Dense(2048, activation=\"sigmoid\"),\n",
    "        Dropout(0.2),\n",
    "        Dense(1024, activation=\"sigmoid\"),\n",
    "        Dropout(0.2),\n",
    "        Dense(512, activation=\"sigmoid\"),\n",
    "        Dropout(0.2),\n",
    "        Dense(256, activation=\"sigmoid\"),\n",
    "        Dropout(0.2),\n",
    "        Dense(128, activation=\"sigmoid\"),\n",
    "        Dropout(0.2),\n",
    "        Dense(2, activation='softmax')\n",
    "    ])\n",
    "    \n",
    "    return new_model "
   ]
  },
  {
   "cell_type": "code",
   "execution_count": 64,
   "metadata": {},
   "outputs": [],
   "source": [
    "def create_model_from_vgg16_B():\n",
    "    vgg16 = VGG16(include_top=False, weights='imagenet', input_shape=(224, 224,3))\n",
    "    \n",
    "    for layer in vgg16.layers:\n",
    "        layer.trainable = False\n",
    "        \n",
    "    new_model = tf.keras.models.Sequential([\n",
    "        vgg16,\n",
    "        Flatten(),    \n",
    "        BatchNormalization(),\n",
    "        Dense(256),\n",
    "        LeakyReLU(alpha = 0.01),\n",
    "        BatchNormalization(),\n",
    "        Dropout(0.3),\n",
    "        Dense(2, activation='softmax')\n",
    "    ])\n",
    "    \n",
    "    return new_model"
   ]
  },
  {
   "cell_type": "code",
   "execution_count": 65,
   "metadata": {},
   "outputs": [],
   "source": [
    "def create_model_from_vgg16_C():\n",
    "    vgg16 = VGG16(include_top=False, weights='imagenet', input_shape=(224, 224,3))\n",
    "    \n",
    "    for layer in vgg16.layers:\n",
    "        layer.trainable = False\n",
    "        \n",
    "    new_model = tf.keras.models.Sequential([\n",
    "        vgg16,\n",
    "        Flatten(),    \n",
    "        BatchNormalization(),\n",
    "        Dense(1024, activation=\"sigmoid\"),\n",
    "        Dropout(0.2),\n",
    "        Dense(512, activation=\"sigmoid\"),\n",
    "        Dropout(0.2),\n",
    "        Dense(256, activation=\"sigmoid\"),\n",
    "        Dropout(0.2),\n",
    "        Dense(128, activation=\"sigmoid\"),\n",
    "        Dropout(0.2),\n",
    "        Dense(2, activation='softmax')\n",
    "    ])\n",
    "    \n",
    "    return new_model"
   ]
  },
  {
   "cell_type": "code",
   "execution_count": 66,
   "metadata": {},
   "outputs": [],
   "source": [
    "def create_model_from_efficientnet_D():\n",
    "    base_model = EfficientNetB7(\n",
    "        include_top = False,\n",
    "        weights = \"imagenet\",\n",
    "        input_shape = (224, 224,3))\n",
    "    \n",
    "    for layer in base_model.layers:\n",
    "        layer.trainable = False\n",
    "    \n",
    "    new_model = tf.keras.models.Sequential([\n",
    "        base_model,\n",
    "        Flatten(),  \n",
    "        BatchNormalization(),\n",
    "        Dense(1024, activation=\"sigmoid\"),\n",
    "        Dropout(0.2),\n",
    "        Dense(512, activation=\"sigmoid\"),\n",
    "        Dropout(0.2),\n",
    "        Dense(256, activation=\"sigmoid\"),\n",
    "        Dropout(0.2),\n",
    "        Dense(128, activation=\"sigmoid\"),\n",
    "        Dropout(0.2),\n",
    "        Dense(2, activation='softmax')\n",
    "    ])\n",
    "    \n",
    "    return new_model "
   ]
  },
  {
   "cell_type": "code",
   "execution_count": 67,
   "metadata": {},
   "outputs": [],
   "source": [
    "def create_model_from_efficientnet_E():\n",
    "    base_model = EfficientNetB7(\n",
    "        include_top = False,\n",
    "        weights = \"imagenet\",\n",
    "        input_shape = (224, 224,3))\n",
    "    \n",
    "    for layer in base_model.layers:\n",
    "        layer.trainable = False\n",
    "    \n",
    "    new_model = tf.keras.models.Sequential([\n",
    "        base_model,\n",
    "        Flatten(),  \n",
    "        BatchNormalization(),\n",
    "        Dense(512),\n",
    "        LeakyReLU(alpha = 0.01),\n",
    "        BatchNormalization(),\n",
    "        Dense(256),\n",
    "        LeakyReLU(alpha = 0.01),\n",
    "        BatchNormalization(),\n",
    "        Dense(256),\n",
    "        LeakyReLU(alpha = 0.01),\n",
    "        BatchNormalization(),\n",
    "        Dense(16),\n",
    "        LeakyReLU(alpha = 0.01),\n",
    "        Dropout(0.3),\n",
    "        Dense(2, activation='softmax')\n",
    "    ])\n",
    "    \n",
    "    return new_model "
   ]
  },
  {
   "cell_type": "code",
   "execution_count": 68,
   "metadata": {},
   "outputs": [],
   "source": [
    "def create_model_from_vgg16_D():\n",
    "    vgg16 = VGG16(include_top=False, weights='imagenet', input_shape=(224, 224,3))\n",
    "    \n",
    "    for layer in vgg16.layers:\n",
    "        layer.trainable = False\n",
    "        \n",
    "    new_model = tf.keras.models.Sequential([\n",
    "        vgg16,\n",
    "        Flatten(),    \n",
    "        BatchNormalization(),\n",
    "        Dense(1024, activation=\"sigmoid\"),\n",
    "        Dropout(0.2),\n",
    "        Dense(512, activation=\"sigmoid\"),\n",
    "        Dropout(0.2),\n",
    "        Dense(256, activation=\"sigmoid\"),\n",
    "        Dropout(0.2),\n",
    "        Dense(128, activation=\"sigmoid\"),\n",
    "        Dropout(0.2),\n",
    "        Dense(2, activation='softmax')\n",
    "    ])\n",
    "    \n",
    "    return new_model"
   ]
  },
  {
   "cell_type": "code",
   "execution_count": 69,
   "metadata": {},
   "outputs": [],
   "source": [
    "def create_model_from_vgg16_E():\n",
    "    vgg16 = VGG16(include_top=False, weights='imagenet', input_shape=(224, 224,3))\n",
    "    \n",
    "    for layer in vgg16.layers:\n",
    "        layer.trainable = False\n",
    "        \n",
    "    vgg16.layers[-1].trainable = True\n",
    "    vgg16.layers[-2].trainable = True\n",
    "    vgg16.layers[-3].trainable = True\n",
    "        \n",
    "    new_model = tf.keras.models.Sequential([\n",
    "        vgg16,\n",
    "        Flatten(),    \n",
    "        BatchNormalization(),\n",
    "        Dense(1024, activation=\"sigmoid\"),\n",
    "        Dropout(0.2),\n",
    "        Dense(512, activation=\"sigmoid\"),\n",
    "        Dropout(0.2),\n",
    "        Dense(256, activation=\"sigmoid\"),\n",
    "        Dropout(0.2),\n",
    "        Dense(128, activation=\"sigmoid\"),\n",
    "        Dropout(0.2),\n",
    "        Dense(2, activation='softmax')\n",
    "    ])\n",
    "    \n",
    "    return new_model"
   ]
  },
  {
   "cell_type": "code",
   "execution_count": 70,
   "metadata": {},
   "outputs": [],
   "source": [
    "def create_model_from_vgg16_E():\n",
    "    vgg16 = VGG16(include_top=False, weights='imagenet', input_shape=(224, 224,3))\n",
    "    \n",
    "    for layer in vgg16.layers:\n",
    "        layer.trainable = False\n",
    "        \n",
    "    vgg16.layers[-1].trainable = True\n",
    "    vgg16.layers[-2].trainable = True\n",
    "    vgg16.layers[-3].trainable = True\n",
    "        \n",
    "    new_model = tf.keras.models.Sequential([\n",
    "        vgg16,\n",
    "        Flatten(),    \n",
    "        BatchNormalization(),\n",
    "        Dense(1024, activation=\"sigmoid\"),\n",
    "        Dropout(0.2),\n",
    "        Dense(512, activation=\"sigmoid\"),\n",
    "        Dropout(0.2),\n",
    "        Dense(256, activation=\"sigmoid\"),\n",
    "        Dropout(0.2),\n",
    "        Dense(128, activation=\"sigmoid\"),\n",
    "        Dropout(0.2),\n",
    "        Dense(2, activation='softmax')\n",
    "    ])\n",
    "    \n",
    "    return new_model"
   ]
  },
  {
   "cell_type": "code",
   "execution_count": 71,
   "metadata": {},
   "outputs": [],
   "source": [
    "def create_model_from_vgg16_F():\n",
    "    vgg16 = VGG16(include_top=False, weights='imagenet', input_shape=(224, 224,3))\n",
    "\n",
    "    for layer in vgg16.layers:\n",
    "        layer.trainable = False\n",
    "\n",
    "    new_model = tf.keras.models.Sequential([\n",
    "        vgg16,\n",
    "        Conv2D(filters = 512, kernel_size = (3,3), padding = \"same\", activation = \"relu\"),\n",
    "        Conv2D(filters = 512, kernel_size = (3,3), padding = \"same\", activation = \"relu\"),\n",
    "        #Conv2D(filters = 512, kernel_size = (3,3), padding = \"same\", activation = \"relu\"),\n",
    "        MaxPooling2D(pool_size=(2,2), strides=(2,2)),\n",
    "        Flatten(),    \n",
    "        BatchNormalization(),\n",
    "        #Dense(1024, activation=\"sigmoid\"),\n",
    "        #Dropout(0.2),\n",
    "        Dense(512, activation=\"sigmoid\"),\n",
    "        Dropout(0.2),\n",
    "        Dense(256, activation=\"sigmoid\"),\n",
    "        Dropout(0.2),\n",
    "        Dense(128, activation=\"sigmoid\"),\n",
    "        Dropout(0.2),\n",
    "        Dense(2, activation='softmax')\n",
    "    ])\n",
    "\n",
    "    return new_model"
   ]
  },
  {
   "cell_type": "code",
   "execution_count": 72,
   "metadata": {},
   "outputs": [],
   "source": [
    "def create_model_from_vgg16_G():\n",
    "    vgg16 = VGG16(include_top=False, weights='imagenet', input_shape=(224, 224,3))\n",
    "\n",
    "    for layer in vgg16.layers:\n",
    "        layer.trainable = False\n",
    "\n",
    "    new_model = tf.keras.models.Sequential([\n",
    "        vgg16,\n",
    "        Flatten(),    \n",
    "        BatchNormalization(),\n",
    "        Dense(4096, activation=\"sigmoid\"),\n",
    "        Dropout(0.2),\n",
    "        Dense(128, activation=\"sigmoid\"),\n",
    "        Dropout(0.2),\n",
    "        Dense(2, activation='softmax')\n",
    "    ])\n",
    "\n",
    "    return (new_model, keras.applications.vgg16.preprocess_input)"
   ]
  },
  {
   "cell_type": "code",
   "execution_count": 73,
   "metadata": {},
   "outputs": [],
   "source": [
    "def create_model_from_ResNet152V2_A():\n",
    "    base_model = ResNet152V2(include_top=False, weights='imagenet', input_shape=(224, 224,3))\n",
    "\n",
    "    for layer in base_model.layers:\n",
    "        layer.trainable = False\n",
    "\n",
    "    new_model = tf.keras.models.Sequential([\n",
    "        base_model,\n",
    "        Flatten(),    \n",
    "        BatchNormalization(),\n",
    "        Dense(1024, activation=\"sigmoid\"),\n",
    "        Dropout(0.2),\n",
    "        Dense(128, activation=\"sigmoid\"),\n",
    "        Dropout(0.2),\n",
    "        Dense(2, activation='softmax')\n",
    "    ])\n",
    "\n",
    "    return (new_model, keras.applications.resnet_v2.preprocess_input)"
   ]
  },
  {
   "cell_type": "code",
   "execution_count": 74,
   "metadata": {},
   "outputs": [],
   "source": [
    "def create_model_from_efficientnet_C():\n",
    "    base_model = EfficientNetB7(\n",
    "        include_top = False,\n",
    "        weights = \"imagenet\",\n",
    "        input_shape = (224, 224,3))\n",
    "    \n",
    "    for layer in base_model.layers:\n",
    "        layer.trainable = False\n",
    "    \n",
    "    new_model = tf.keras.models.Sequential([\n",
    "        base_model,\n",
    "        Flatten(),  \n",
    "        BatchNormalization(),\n",
    "        Dense(256),\n",
    "        LeakyReLU(alpha = 0.01),\n",
    "        BatchNormalization(),\n",
    "        Dense(256),\n",
    "        LeakyReLU(alpha = 0.01),\n",
    "        BatchNormalization(),\n",
    "        Dense(16),\n",
    "        LeakyReLU(alpha = 0.01),\n",
    "        Dropout(0.3),\n",
    "        Dense(2, activation='softmax')\n",
    "    ])\n",
    "    \n",
    "    return (new_model, keras.applications.efficientnet_v2.preprocess_input)"
   ]
  },
  {
   "cell_type": "code",
   "execution_count": 75,
   "metadata": {},
   "outputs": [],
   "source": [
    "def create_model_from_DenseNet121_C():\n",
    "    base_model = DenseNet121(\n",
    "        include_top = False,\n",
    "        weights = \"imagenet\",\n",
    "        input_shape = (224, 224,3))\n",
    "    \n",
    "    for layer in base_model.layers:\n",
    "        layer.trainable = False\n",
    "    \n",
    "    new_model = tf.keras.models.Sequential([\n",
    "        base_model,\n",
    "        GlobalAveragePooling2D(),  \n",
    "        Dropout(0.5),\n",
    "        Dense(2, activation='softmax')\n",
    "    ])\n",
    "    \n",
    "    return (new_model, keras.applications.densenet.preprocess_input)"
   ]
  },
  {
   "cell_type": "code",
   "execution_count": 76,
   "metadata": {},
   "outputs": [],
   "source": [
    "def create_model_from_DenseNet121_D():\n",
    "    base_model = DenseNet121(\n",
    "        include_top = False,\n",
    "        weights = \"imagenet\",\n",
    "        input_shape = (224, 224,3))\n",
    "    \n",
    "    for layer in base_model.layers:\n",
    "        layer.trainable = False\n",
    "    \n",
    "    new_model = tf.keras.models.Sequential([\n",
    "        base_model,\n",
    "        Flatten(),    \n",
    "        BatchNormalization(),\n",
    "        Dense(4096, activation=\"sigmoid\"),\n",
    "        Dropout(0.2),\n",
    "        Dense(128, activation=\"sigmoid\"),\n",
    "        Dropout(0.2),\n",
    "        Dense(2, activation='softmax')\n",
    "    ])\n",
    "    \n",
    "    return (new_model, keras.applications.densenet.preprocess_input)"
   ]
  },
  {
   "cell_type": "code",
   "execution_count": 77,
   "metadata": {},
   "outputs": [],
   "source": [
    "def create_model_from_ResNet50_A():\n",
    "    base_model = ResNet50(\n",
    "        include_top = False,\n",
    "        weights = \"imagenet\",\n",
    "        input_shape = (224, 224,3))\n",
    "    \n",
    "    for layer in base_model.layers:\n",
    "        layer.trainable = False\n",
    "    \n",
    "    new_model = tf.keras.models.Sequential([\n",
    "        base_model,\n",
    "        Flatten(),    \n",
    "        BatchNormalization(),\n",
    "        Dense(1024, activation=\"sigmoid\"),\n",
    "        Dropout(0.2),\n",
    "        Dense(128, activation=\"sigmoid\"),\n",
    "        Dropout(0.2),\n",
    "        Dense(2, activation='softmax')\n",
    "    ])\n",
    "    \n",
    "    return (new_model, keras.applications.resnet.preprocess_input)"
   ]
  },
  {
   "cell_type": "code",
   "execution_count": 78,
   "metadata": {},
   "outputs": [],
   "source": [
    "checkpointer = ModelCheckpoint(filepath = training_workspace_folder +'best_val_loss_weights.h5', verbose = 1, monitor = 'val_loss', mode = 'auto', save_best_only = True) #save at each epoch if the validation decreased\n",
    "checkpointer2 = ModelCheckpoint(filepath = training_workspace_folder +'best_accuracy_weights.h5', verbose = 1, monitor = 'accuracy', mode = 'auto', save_best_only = True) #save at each epoch if the validation decreased\n",
    "checkpointer3 = ModelCheckpoint(filepath = training_workspace_folder +'best_val_accuracy_weights.h5', verbose = 1, monitor = 'val_accuracy', mode = 'auto', save_best_only = True) #save at each epoch if the validation decreased"
   ]
  },
  {
   "cell_type": "code",
   "execution_count": 79,
   "metadata": {},
   "outputs": [],
   "source": [
    "(model, selected_preprocessing_function) = create_model_from_ResNet50_A()"
   ]
  },
  {
   "cell_type": "code",
   "execution_count": 80,
   "metadata": {},
   "outputs": [
    {
     "data": {
      "text/plain": [
       "<function keras.applications.resnet.preprocess_input(x, data_format=None)>"
      ]
     },
     "execution_count": 80,
     "metadata": {},
     "output_type": "execute_result"
    }
   ],
   "source": [
    "selected_preprocessing_function"
   ]
  },
  {
   "cell_type": "code",
   "execution_count": 81,
   "metadata": {},
   "outputs": [
    {
     "name": "stdout",
     "output_type": "stream",
     "text": [
      "Found 3320 images belonging to 2 classes.\n"
     ]
    }
   ],
   "source": [
    "train_generator = ImageDataGenerator(\n",
    "    zoom_range=[0.8, 1.2],\n",
    "    rotation_range = 90.0,\n",
    "    width_shift_range = 0.1,\n",
    "    height_shift_range = 0.1,\n",
    "    horizontal_flip = True,\n",
    "    vertical_flip = True,\n",
    "    preprocessing_function = selected_preprocessing_function\n",
    ").flow_from_directory(\n",
    "    directory = data_base_train_folder,\n",
    "    class_mode = 'categorical',\n",
    "    target_size = (224,224),\n",
    "    classes = class_names,\n",
    "    batch_size = 32)"
   ]
  },
  {
   "cell_type": "code",
   "execution_count": 82,
   "metadata": {},
   "outputs": [
    {
     "name": "stdout",
     "output_type": "stream",
     "text": [
      "Found 1172 images belonging to 2 classes.\n"
     ]
    }
   ],
   "source": [
    "validation_generator = ImageDataGenerator(\n",
    "    zoom_range=[0.8, 1.2],\n",
    "    rotation_range = 90.0,\n",
    "    width_shift_range = 0.1,\n",
    "    height_shift_range = 0.1,\n",
    "    horizontal_flip = True,\n",
    "    vertical_flip = True,\n",
    "    preprocessing_function = selected_preprocessing_function\n",
    ").flow_from_directory(\n",
    "    directory = data_base_valid_folder,\n",
    "    class_mode = 'categorical',\n",
    "    target_size = (224,224),\n",
    "    classes = class_names,\n",
    "    batch_size = 32)"
   ]
  },
  {
   "cell_type": "code",
   "execution_count": 83,
   "metadata": {},
   "outputs": [
    {
     "name": "stdout",
     "output_type": "stream",
     "text": [
      "Found 1074 images belonging to 2 classes.\n"
     ]
    }
   ],
   "source": [
    "test_generator = ImageDataGenerator(\n",
    "    preprocessing_function = selected_preprocessing_function\n",
    ").flow_from_directory(\n",
    "    directory = data_base_test_folder,\n",
    "    class_mode = 'categorical',\n",
    "    target_size = (224,224),\n",
    "    classes = class_names,\n",
    "    batch_size = 32)"
   ]
  },
  {
   "cell_type": "code",
   "execution_count": 84,
   "metadata": {},
   "outputs": [],
   "source": [
    "def scheduler_I(epoch, lr):\n",
    "    if epoch < 10:\n",
    "        return 0.001\n",
    "    \n",
    "    if epoch < 20:\n",
    "        return 0.0005\n",
    "    \n",
    "    if epoch < 50:\n",
    "        return 0.0001\n",
    "    \n",
    "    return 0.00005"
   ]
  },
  {
   "cell_type": "code",
   "execution_count": 85,
   "metadata": {},
   "outputs": [],
   "source": [
    "def scheduler_II(epoch, lr):\n",
    "    if epoch < 10:\n",
    "        return 0.001\n",
    "    \n",
    "    if epoch < 20:\n",
    "        return 0.0001\n",
    "    \n",
    "    if epoch < 50:\n",
    "        return 0.00001\n",
    "    \n",
    "    return 0.000005"
   ]
  },
  {
   "cell_type": "code",
   "execution_count": 86,
   "metadata": {},
   "outputs": [],
   "source": [
    "learning_rate_scheduler_callback = LearningRateScheduler(scheduler_I)"
   ]
  },
  {
   "cell_type": "code",
   "execution_count": 87,
   "metadata": {},
   "outputs": [],
   "source": [
    "csv_logger = CSVLogger('d:/Dane/retinaldiseaseclassification/prepared/workspace/training.log')"
   ]
  },
  {
   "cell_type": "code",
   "execution_count": 88,
   "metadata": {},
   "outputs": [
    {
     "name": "stderr",
     "output_type": "stream",
     "text": [
      "C:\\Users\\ax\\AppData\\Local\\Temp\\ipykernel_9212\\957810706.py:4: UserWarning: `Model.fit_generator` is deprecated and will be removed in a future version. Please use `Model.fit`, which supports generators.\n",
      "  history = model.fit_generator(\n"
     ]
    },
    {
     "name": "stdout",
     "output_type": "stream",
     "text": [
      "Epoch 1/20\n",
      "104/104 [==============================] - ETA: 0s - loss: 0.5102 - accuracy: 0.7428\n",
      "Epoch 1: val_loss improved from inf to 0.41337, saving model to d:/Dane/retinaldiseaseclassification/prepared/workspace\\best_val_loss_weights.h5\n",
      "\n",
      "Epoch 1: accuracy improved from -inf to 0.74277, saving model to d:/Dane/retinaldiseaseclassification/prepared/workspace\\best_accuracy_weights.h5\n",
      "\n",
      "Epoch 1: val_accuracy improved from -inf to 0.80973, saving model to d:/Dane/retinaldiseaseclassification/prepared/workspace\\best_val_accuracy_weights.h5\n",
      "104/104 [==============================] - 447s 4s/step - loss: 0.5102 - accuracy: 0.7428 - val_loss: 0.4134 - val_accuracy: 0.8097 - lr: 0.0010\n",
      "Epoch 2/20\n",
      "104/104 [==============================] - ETA: 0s - loss: 0.3971 - accuracy: 0.8181\n",
      "Epoch 2: val_loss improved from 0.41337 to 0.39380, saving model to d:/Dane/retinaldiseaseclassification/prepared/workspace\\best_val_loss_weights.h5\n",
      "\n",
      "Epoch 2: accuracy improved from 0.74277 to 0.81807, saving model to d:/Dane/retinaldiseaseclassification/prepared/workspace\\best_accuracy_weights.h5\n",
      "\n",
      "Epoch 2: val_accuracy improved from 0.80973 to 0.84130, saving model to d:/Dane/retinaldiseaseclassification/prepared/workspace\\best_val_accuracy_weights.h5\n",
      "104/104 [==============================] - 417s 4s/step - loss: 0.3971 - accuracy: 0.8181 - val_loss: 0.3938 - val_accuracy: 0.8413 - lr: 0.0010\n",
      "Epoch 3/20\n",
      "104/104 [==============================] - ETA: 0s - loss: 0.3602 - accuracy: 0.8380\n",
      "Epoch 3: val_loss did not improve from 0.39380\n",
      "\n",
      "Epoch 3: accuracy improved from 0.81807 to 0.83795, saving model to d:/Dane/retinaldiseaseclassification/prepared/workspace\\best_accuracy_weights.h5\n",
      "\n",
      "Epoch 3: val_accuracy did not improve from 0.84130\n",
      "104/104 [==============================] - 414s 4s/step - loss: 0.3602 - accuracy: 0.8380 - val_loss: 0.4232 - val_accuracy: 0.8148 - lr: 0.0010\n",
      "Epoch 4/20\n",
      "104/104 [==============================] - ETA: 0s - loss: 0.3315 - accuracy: 0.8554\n",
      "Epoch 4: val_loss did not improve from 0.39380\n",
      "\n",
      "Epoch 4: accuracy improved from 0.83795 to 0.85542, saving model to d:/Dane/retinaldiseaseclassification/prepared/workspace\\best_accuracy_weights.h5\n",
      "\n",
      "Epoch 4: val_accuracy did not improve from 0.84130\n",
      "104/104 [==============================] - 410s 4s/step - loss: 0.3315 - accuracy: 0.8554 - val_loss: 0.3938 - val_accuracy: 0.8370 - lr: 0.0010\n",
      "Epoch 5/20\n",
      "104/104 [==============================] - ETA: 0s - loss: 0.3350 - accuracy: 0.8557\n",
      "Epoch 5: val_loss improved from 0.39380 to 0.38645, saving model to d:/Dane/retinaldiseaseclassification/prepared/workspace\\best_val_loss_weights.h5\n",
      "\n",
      "Epoch 5: accuracy improved from 0.85542 to 0.85572, saving model to d:/Dane/retinaldiseaseclassification/prepared/workspace\\best_accuracy_weights.h5\n",
      "\n",
      "Epoch 5: val_accuracy did not improve from 0.84130\n",
      "104/104 [==============================] - 411s 4s/step - loss: 0.3350 - accuracy: 0.8557 - val_loss: 0.3864 - val_accuracy: 0.8345 - lr: 0.0010\n",
      "Epoch 6/20\n",
      "104/104 [==============================] - ETA: 0s - loss: 0.3096 - accuracy: 0.8645\n",
      "Epoch 6: val_loss did not improve from 0.38645\n",
      "\n",
      "Epoch 6: accuracy improved from 0.85572 to 0.86446, saving model to d:/Dane/retinaldiseaseclassification/prepared/workspace\\best_accuracy_weights.h5\n",
      "\n",
      "Epoch 6: val_accuracy did not improve from 0.84130\n",
      "104/104 [==============================] - 402s 4s/step - loss: 0.3096 - accuracy: 0.8645 - val_loss: 0.3865 - val_accuracy: 0.8396 - lr: 0.0010\n",
      "Epoch 7/20\n",
      "104/104 [==============================] - ETA: 0s - loss: 0.2995 - accuracy: 0.8714\n",
      "Epoch 7: val_loss did not improve from 0.38645\n",
      "\n",
      "Epoch 7: accuracy improved from 0.86446 to 0.87139, saving model to d:/Dane/retinaldiseaseclassification/prepared/workspace\\best_accuracy_weights.h5\n",
      "\n",
      "Epoch 7: val_accuracy did not improve from 0.84130\n",
      "104/104 [==============================] - 410s 4s/step - loss: 0.2995 - accuracy: 0.8714 - val_loss: 0.5081 - val_accuracy: 0.8131 - lr: 0.0010\n",
      "Epoch 8/20\n",
      "104/104 [==============================] - ETA: 0s - loss: 0.2890 - accuracy: 0.8747\n",
      "Epoch 8: val_loss did not improve from 0.38645\n",
      "\n",
      "Epoch 8: accuracy improved from 0.87139 to 0.87470, saving model to d:/Dane/retinaldiseaseclassification/prepared/workspace\\best_accuracy_weights.h5\n",
      "\n",
      "Epoch 8: val_accuracy did not improve from 0.84130\n",
      "104/104 [==============================] - 419s 4s/step - loss: 0.2890 - accuracy: 0.8747 - val_loss: 0.4276 - val_accuracy: 0.8276 - lr: 0.0010\n",
      "Epoch 9/20\n",
      "104/104 [==============================] - ETA: 0s - loss: 0.2950 - accuracy: 0.8660\n",
      "Epoch 9: val_loss improved from 0.38645 to 0.37073, saving model to d:/Dane/retinaldiseaseclassification/prepared/workspace\\best_val_loss_weights.h5\n",
      "\n",
      "Epoch 9: accuracy did not improve from 0.87470\n",
      "\n",
      "Epoch 9: val_accuracy improved from 0.84130 to 0.84898, saving model to d:/Dane/retinaldiseaseclassification/prepared/workspace\\best_val_accuracy_weights.h5\n",
      "104/104 [==============================] - 417s 4s/step - loss: 0.2950 - accuracy: 0.8660 - val_loss: 0.3707 - val_accuracy: 0.8490 - lr: 0.0010\n",
      "Epoch 10/20\n",
      "104/104 [==============================] - ETA: 0s - loss: 0.2745 - accuracy: 0.8816\n",
      "Epoch 10: val_loss improved from 0.37073 to 0.36690, saving model to d:/Dane/retinaldiseaseclassification/prepared/workspace\\best_val_loss_weights.h5\n",
      "\n",
      "Epoch 10: accuracy improved from 0.87470 to 0.88163, saving model to d:/Dane/retinaldiseaseclassification/prepared/workspace\\best_accuracy_weights.h5\n",
      "\n",
      "Epoch 10: val_accuracy improved from 0.84898 to 0.85666, saving model to d:/Dane/retinaldiseaseclassification/prepared/workspace\\best_val_accuracy_weights.h5\n",
      "104/104 [==============================] - 423s 4s/step - loss: 0.2745 - accuracy: 0.8816 - val_loss: 0.3669 - val_accuracy: 0.8567 - lr: 0.0010\n",
      "Epoch 11/20\n",
      "104/104 [==============================] - ETA: 0s - loss: 0.2562 - accuracy: 0.8910\n",
      "Epoch 11: val_loss improved from 0.36690 to 0.36528, saving model to d:/Dane/retinaldiseaseclassification/prepared/workspace\\best_val_loss_weights.h5\n",
      "\n",
      "Epoch 11: accuracy improved from 0.88163 to 0.89096, saving model to d:/Dane/retinaldiseaseclassification/prepared/workspace\\best_accuracy_weights.h5\n",
      "\n",
      "Epoch 11: val_accuracy improved from 0.85666 to 0.86177, saving model to d:/Dane/retinaldiseaseclassification/prepared/workspace\\best_val_accuracy_weights.h5\n",
      "104/104 [==============================] - 429s 4s/step - loss: 0.2562 - accuracy: 0.8910 - val_loss: 0.3653 - val_accuracy: 0.8618 - lr: 5.0000e-04\n",
      "Epoch 12/20\n",
      "104/104 [==============================] - ETA: 0s - loss: 0.2714 - accuracy: 0.8771\n",
      "Epoch 12: val_loss did not improve from 0.36528\n",
      "\n",
      "Epoch 12: accuracy did not improve from 0.89096\n",
      "\n",
      "Epoch 12: val_accuracy did not improve from 0.86177\n",
      "104/104 [==============================] - 408s 4s/step - loss: 0.2714 - accuracy: 0.8771 - val_loss: 0.4155 - val_accuracy: 0.8422 - lr: 5.0000e-04\n",
      "Epoch 13/20\n",
      "104/104 [==============================] - ETA: 0s - loss: 0.2472 - accuracy: 0.8937\n",
      "Epoch 13: val_loss did not improve from 0.36528\n",
      "\n",
      "Epoch 13: accuracy improved from 0.89096 to 0.89367, saving model to d:/Dane/retinaldiseaseclassification/prepared/workspace\\best_accuracy_weights.h5\n",
      "\n",
      "Epoch 13: val_accuracy did not improve from 0.86177\n",
      "104/104 [==============================] - 398s 4s/step - loss: 0.2472 - accuracy: 0.8937 - val_loss: 0.4986 - val_accuracy: 0.8174 - lr: 5.0000e-04\n",
      "Epoch 14/20\n",
      "104/104 [==============================] - ETA: 0s - loss: 0.2461 - accuracy: 0.8979\n",
      "Epoch 14: val_loss did not improve from 0.36528\n",
      "\n",
      "Epoch 14: accuracy improved from 0.89367 to 0.89789, saving model to d:/Dane/retinaldiseaseclassification/prepared/workspace\\best_accuracy_weights.h5\n",
      "\n",
      "Epoch 14: val_accuracy did not improve from 0.86177\n",
      "104/104 [==============================] - 399s 4s/step - loss: 0.2461 - accuracy: 0.8979 - val_loss: 0.4259 - val_accuracy: 0.8447 - lr: 5.0000e-04\n",
      "Epoch 15/20\n",
      "104/104 [==============================] - ETA: 0s - loss: 0.2497 - accuracy: 0.8952\n",
      "Epoch 15: val_loss did not improve from 0.36528\n",
      "\n",
      "Epoch 15: accuracy did not improve from 0.89789\n",
      "\n",
      "Epoch 15: val_accuracy did not improve from 0.86177\n",
      "104/104 [==============================] - 406s 4s/step - loss: 0.2497 - accuracy: 0.8952 - val_loss: 0.4460 - val_accuracy: 0.8345 - lr: 5.0000e-04\n"
     ]
    },
    {
     "name": "stdout",
     "output_type": "stream",
     "text": [
      "Epoch 16/20\n",
      "104/104 [==============================] - ETA: 0s - loss: 0.2270 - accuracy: 0.9030\n",
      "Epoch 16: val_loss did not improve from 0.36528\n",
      "\n",
      "Epoch 16: accuracy improved from 0.89789 to 0.90301, saving model to d:/Dane/retinaldiseaseclassification/prepared/workspace\\best_accuracy_weights.h5\n",
      "\n",
      "Epoch 16: val_accuracy did not improve from 0.86177\n",
      "104/104 [==============================] - 416s 4s/step - loss: 0.2270 - accuracy: 0.9030 - val_loss: 0.3756 - val_accuracy: 0.8558 - lr: 5.0000e-04\n",
      "Epoch 17/20\n",
      "104/104 [==============================] - ETA: 0s - loss: 0.2235 - accuracy: 0.9036\n",
      "Epoch 17: val_loss did not improve from 0.36528\n",
      "\n",
      "Epoch 17: accuracy improved from 0.90301 to 0.90361, saving model to d:/Dane/retinaldiseaseclassification/prepared/workspace\\best_accuracy_weights.h5\n",
      "\n",
      "Epoch 17: val_accuracy did not improve from 0.86177\n",
      "104/104 [==============================] - 413s 4s/step - loss: 0.2235 - accuracy: 0.9036 - val_loss: 0.5411 - val_accuracy: 0.8157 - lr: 5.0000e-04\n",
      "Epoch 18/20\n",
      "104/104 [==============================] - ETA: 0s - loss: 0.2272 - accuracy: 0.9081\n",
      "Epoch 18: val_loss did not improve from 0.36528\n",
      "\n",
      "Epoch 18: accuracy improved from 0.90361 to 0.90813, saving model to d:/Dane/retinaldiseaseclassification/prepared/workspace\\best_accuracy_weights.h5\n",
      "\n",
      "Epoch 18: val_accuracy did not improve from 0.86177\n",
      "104/104 [==============================] - 403s 4s/step - loss: 0.2272 - accuracy: 0.9081 - val_loss: 0.5259 - val_accuracy: 0.8140 - lr: 5.0000e-04\n",
      "Epoch 19/20\n",
      "104/104 [==============================] - ETA: 0s - loss: 0.2110 - accuracy: 0.9108\n",
      "Epoch 19: val_loss did not improve from 0.36528\n",
      "\n",
      "Epoch 19: accuracy improved from 0.90813 to 0.91084, saving model to d:/Dane/retinaldiseaseclassification/prepared/workspace\\best_accuracy_weights.h5\n",
      "\n",
      "Epoch 19: val_accuracy did not improve from 0.86177\n",
      "104/104 [==============================] - 402s 4s/step - loss: 0.2110 - accuracy: 0.9108 - val_loss: 0.4275 - val_accuracy: 0.8498 - lr: 5.0000e-04\n",
      "Epoch 20/20\n",
      "104/104 [==============================] - ETA: 0s - loss: 0.2172 - accuracy: 0.9069\n",
      "Epoch 20: val_loss did not improve from 0.36528\n",
      "\n",
      "Epoch 20: accuracy did not improve from 0.91084\n",
      "\n",
      "Epoch 20: val_accuracy did not improve from 0.86177\n",
      "104/104 [==============================] - 387s 4s/step - loss: 0.2172 - accuracy: 0.9069 - val_loss: 0.5010 - val_accuracy: 0.8166 - lr: 5.0000e-04\n"
     ]
    }
   ],
   "source": [
    "model.compile(optimizer = 'adam', loss = 'categorical_crossentropy', metrics = ['accuracy'])\n",
    "json_string = model.to_json()\n",
    "open(training_workspace_folder + 'TL_model_architecture.json', 'w').write(json_string)\n",
    "history = model.fit_generator(\n",
    "    train_generator,\n",
    "    validation_data = validation_generator,\n",
    "    epochs = 20,\n",
    "    callbacks = [checkpointer, checkpointer2, checkpointer3, learning_rate_scheduler_callback, csv_logger]\n",
    ")"
   ]
  },
  {
   "cell_type": "code",
   "execution_count": 89,
   "metadata": {},
   "outputs": [
    {
     "name": "stdout",
     "output_type": "stream",
     "text": [
      "Model: \"sequential_1\"\n",
      "_________________________________________________________________\n",
      " Layer (type)                Output Shape              Param #   \n",
      "=================================================================\n",
      " resnet50 (Functional)       (None, 7, 7, 2048)        23587712  \n",
      "                                                                 \n",
      " flatten_1 (Flatten)         (None, 100352)            0         \n",
      "                                                                 \n",
      " batch_normalization_1 (Batc  (None, 100352)           401408    \n",
      " hNormalization)                                                 \n",
      "                                                                 \n",
      " dense_3 (Dense)             (None, 1024)              102761472 \n",
      "                                                                 \n",
      " dropout_2 (Dropout)         (None, 1024)              0         \n",
      "                                                                 \n",
      " dense_4 (Dense)             (None, 128)               131200    \n",
      "                                                                 \n",
      " dropout_3 (Dropout)         (None, 128)               0         \n",
      "                                                                 \n",
      " dense_5 (Dense)             (None, 2)                 258       \n",
      "                                                                 \n",
      "=================================================================\n",
      "Total params: 126,882,050\n",
      "Trainable params: 103,093,634\n",
      "Non-trainable params: 23,788,416\n",
      "_________________________________________________________________\n"
     ]
    }
   ],
   "source": [
    "model.summary()"
   ]
  },
  {
   "cell_type": "code",
   "execution_count": 90,
   "metadata": {},
   "outputs": [
    {
     "data": {
      "image/png": "[encoded data removed]",
      "text/plain": [
       "<Figure size 640x480 with 1 Axes>"
      ]
     },
     "metadata": {},
     "output_type": "display_data"
    },
    {
     "data": {
      "image/png": "[encoded data removed]",
      "text/plain": [
       "<Figure size 640x480 with 1 Axes>"
      ]
     },
     "metadata": {},
     "output_type": "display_data"
    }
   ],
   "source": [
    "plt.plot(history.history['accuracy'])\n",
    "plt.plot(history.history['val_accuracy'])\n",
    "plt.title('model accuracy')\n",
    "plt.ylabel('accuracy')\n",
    "plt.xlabel('epoch')\n",
    "plt.legend(['train', 'validation'], loc='upper left')\n",
    "plt.show()\n",
    "# \"Loss\"\n",
    "plt.plot(history.history['loss'])\n",
    "plt.plot(history.history['val_loss'])\n",
    "plt.title('model loss')\n",
    "plt.ylabel('loss')\n",
    "plt.xlabel('epoch')\n",
    "plt.legend(['train', 'validation'], loc='upper left')\n",
    "plt.show()"
   ]
  },
  {
   "cell_type": "code",
   "execution_count": 91,
   "metadata": {},
   "outputs": [
    {
     "name": "stderr",
     "output_type": "stream",
     "text": [
      "C:\\Users\\ax\\AppData\\Local\\Temp\\ipykernel_9212\\729571264.py:2: UserWarning: `Model.evaluate_generator` is deprecated and will be removed in a future version. Please use `Model.evaluate`, which supports generators.\n",
      "  scoreSeg = model.evaluate_generator(test_generator)\n"
     ]
    }
   ],
   "source": [
    "#scoreSeg = model.evaluate_generator(test_generator, 400)\n",
    "scoreSeg = model.evaluate_generator(test_generator)"
   ]
  },
  {
   "cell_type": "code",
   "execution_count": 92,
   "metadata": {},
   "outputs": [
    {
     "data": {
      "text/plain": [
       "[0.488174706697464, 0.8175046443939209]"
      ]
     },
     "execution_count": 92,
     "metadata": {},
     "output_type": "execute_result"
    }
   ],
   "source": [
    "scoreSeg"
   ]
  },
  {
   "cell_type": "code",
   "execution_count": 93,
   "metadata": {},
   "outputs": [
    {
     "data": {
      "text/plain": [
       "['loss', 'accuracy']"
      ]
     },
     "execution_count": 93,
     "metadata": {},
     "output_type": "execute_result"
    }
   ],
   "source": [
    "model.metrics_names"
   ]
  },
  {
   "cell_type": "code",
   "execution_count": 94,
   "metadata": {},
   "outputs": [
    {
     "name": "stderr",
     "output_type": "stream",
     "text": [
      "C:\\Users\\ax\\AppData\\Local\\Temp\\ipykernel_9212\\3358749156.py:1: UserWarning: `Model.predict_generator` is deprecated and will be removed in a future version. Please use `Model.predict`, which supports generators.\n",
      "  Y_pred = model.predict_generator(test_generator)\n"
     ]
    }
   ],
   "source": [
    "Y_pred = model.predict_generator(test_generator)"
   ]
  },
  {
   "cell_type": "code",
   "execution_count": 95,
   "metadata": {},
   "outputs": [],
   "source": [
    "y_pred = np.argmax(Y_pred, axis=1)"
   ]
  },
  {
   "cell_type": "code",
   "execution_count": 104,
   "metadata": {},
   "outputs": [],
   "source": [
    "y_true = test_generator.classes"
   ]
  },
  {
   "cell_type": "code",
   "execution_count": 105,
   "metadata": {},
   "outputs": [],
   "source": [
    "cm = confusion_matrix(y_true, y_pred)"
   ]
  },
  {
   "cell_type": "code",
   "execution_count": 106,
   "metadata": {},
   "outputs": [],
   "source": [
    "tn, fp, fn, tp = cm.ravel()"
   ]
  },
  {
   "cell_type": "code",
   "execution_count": 107,
   "metadata": {},
   "outputs": [
    {
     "data": {
      "text/plain": [
       "(422, 187, 321, 144)"
      ]
     },
     "execution_count": 107,
     "metadata": {},
     "output_type": "execute_result"
    }
   ],
   "source": [
    "tn, fp, fn, tp"
   ]
  },
  {
   "cell_type": "code",
   "execution_count": 108,
   "metadata": {},
   "outputs": [
    {
     "name": "stdout",
     "output_type": "stream",
     "text": [
      "[[422 187]\n",
      " [321 144]]\n"
     ]
    }
   ],
   "source": [
    "print(confusion_matrix(test_generator.classes, y_pred))"
   ]
  },
  {
   "cell_type": "code",
   "execution_count": 111,
   "metadata": {},
   "outputs": [
    {
     "name": "stderr",
     "output_type": "stream",
     "text": [
      "C:\\Users\\ax\\AppData\\Local\\Temp\\ipykernel_9212\\3029224857.py:2: UserWarning: `Model.predict_generator` is deprecated and will be removed in a future version. Please use `Model.predict`, which supports generators.\n",
      "  Y_pred = model.predict_generator(test_data_generator)\n"
     ]
    }
   ],
   "source": [
    "cm = get_confusion_matrix(model, test_generator)"
   ]
  },
  {
   "cell_type": "code",
   "execution_count": 113,
   "metadata": {},
   "outputs": [
    {
     "data": {
      "image/png": "[encoded data removed]",
      "text/plain": [
       "<Figure size 640x480 with 2 Axes>"
      ]
     },
     "metadata": {},
     "output_type": "display_data"
    }
   ],
   "source": [
    "labels = [\"No\", \"Yes\"]\n",
    "disp = ConfusionMatrixDisplay(confusion_matrix = cm, display_labels = labels)\n",
    "disp.plot(cmap = plt.cm.Blues)\n",
    "plt.show()"
   ]
  },
  {
   "cell_type": "code",
   "execution_count": null,
   "metadata": {},
   "outputs": [],
   "source": []
  }
 ],
 "metadata": {
  "kernelspec": {
   "display_name": "Python 3 (ipykernel)",
   "language": "python",
   "name": "python3"
  },
  "language_info": {
   "codemirror_mode": {
    "name": "ipython",
    "version": 3
   },
   "file_extension": ".py",
   "mimetype": "text/x-python",
   "name": "python",
   "nbconvert_exporter": "python",
   "pygments_lexer": "ipython3",
   "version": "3.10.9"
  }
 },
 "nbformat": 4,
 "nbformat_minor": 4
}
