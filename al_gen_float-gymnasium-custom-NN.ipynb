{
 "cells": [
  {
   "cell_type": "code",
   "execution_count": 308,
   "id": "5f0291ad-f8bb-4eb8-9ab8-1471797be4d7",
   "metadata": {},
   "outputs": [],
   "source": [
    "import numpy as np\n",
    "import os\n",
    "import random \n",
    "import unittest\n",
    "import matplotlib.pyplot as plt\n",
    "import gymnasium as gym\n",
    "from gymnasium import wrappers\n",
    "import tensorflow as tf\n",
    "from tensorflow.keras import layers, models\n",
    "import time\n",
    "import uuid\n",
    "import qmath"
   ]
  },
  {
   "cell_type": "code",
   "execution_count": 32,
   "id": "a56e7d78-69be-401d-b79b-fada471f8025",
   "metadata": {},
   "outputs": [],
   "source": [
    "MAX_STEPS = 2000"
   ]
  },
  {
   "cell_type": "code",
   "execution_count": 3,
   "id": "034aa6b6-ce24-4ac7-8a6f-9db978d690b9",
   "metadata": {},
   "outputs": [],
   "source": [
    "def extract_array(input, start_index, dx, dy, reduce = True):\n",
    "    c = dx * dy\n",
    "    arr = input[start_index: start_index + c]\n",
    "    nparr = np.array(arr)\n",
    "\n",
    "    if dy == 1 and reduce:\n",
    "        if dx == 1:\n",
    "            nparr =arr[0]\n",
    "        else:\n",
    "            nparr = nparr.reshape((dx, ))\n",
    "    else:\n",
    "        nparr = nparr.reshape((dx, dy))\n",
    "        \n",
    "    return nparr"
   ]
  },
  {
   "cell_type": "code",
   "execution_count": 4,
   "id": "bae10532-bad4-444b-b67a-3ecc4b1471d9",
   "metadata": {},
   "outputs": [],
   "source": [
    "# Activation functions\n",
    "def relu(x):\n",
    "    return np.maximum(0, x)"
   ]
  },
  {
   "cell_type": "code",
   "execution_count": 5,
   "id": "b2a5dbf6-9816-4248-b3d6-d68610eb0e90",
   "metadata": {},
   "outputs": [],
   "source": [
    "def softmax(x):\n",
    "    exp_x = np.exp(x - np.max(x, axis=1, keepdims=True))\n",
    "    return exp_x / np.sum(exp_x, axis=1, keepdims=True)"
   ]
  },
  {
   "cell_type": "code",
   "execution_count": 6,
   "id": "56634465-b65b-43c9-a4d9-103347eaba15",
   "metadata": {},
   "outputs": [],
   "source": [
    "class SimpleNN:\n",
    "    def __init__(self):\n",
    "        # Initialize weights and biases\n",
    "        self.W1 = np.random.randn(8, 8) * 0.01\n",
    "        self.b1 = np.zeros((1, 8))\n",
    "        self.W2 = np.random.randn(8, 8) * 0.01\n",
    "        self.b2 = np.zeros((1, 8))\n",
    "        self.W3 = np.random.randn(8, 4) * 0.01\n",
    "        self.b3 = np.zeros((1, 4))\n",
    "\n",
    "    def set_trainable_weights(self, input_weights):\n",
    "        start_index = 0\n",
    "        dx = 8\n",
    "        dy = 8\n",
    "        self.W1 = extract_array(input_weights, start_index, dx, dy)\n",
    "        start_index += dx * dy\n",
    "\n",
    "        dx = 1\n",
    "        dy = 8\n",
    "        self.b1 = extract_array(input_weights, start_index, dx, dy)\n",
    "        start_index += dx * dy        \n",
    "\n",
    "        dx = 8\n",
    "        dy = 8\n",
    "        self.W2 = extract_array(input_weights, start_index, dx, dy)\n",
    "        start_index += dx * dy\n",
    "\n",
    "        dx = 1\n",
    "        dy = 8\n",
    "        self.b2 = extract_array(input_weights, start_index, dx, dy)\n",
    "        start_index += dx * dy        \n",
    "        \n",
    "        dx = 8\n",
    "        dy = 4\n",
    "        self.W3 = extract_array(input_weights, start_index, dx, dy)\n",
    "        start_index += dx * dy\n",
    "\n",
    "        dx = 1\n",
    "        dy = 4\n",
    "        self.b3 = extract_array(input_weights, start_index, dx, dy)\n",
    "        start_index += dx * dy        \n",
    "        #print('start_index ' + str(start_index))\n",
    "\n",
    "    def forward(self, X):\n",
    "        # Forward pass\n",
    "        self.Z1 = np.dot(X, self.W1) + self.b1\n",
    "        self.A1 = relu(self.Z1)\n",
    "        self.Z2 = np.dot(self.A1, self.W2) + self.b2\n",
    "        self.A2 = relu(self.Z2)\n",
    "        self.Z3 = np.dot(self.A2, self.W3) + self.b3\n",
    "        self.A3 = softmax(self.Z3)\n",
    "        return self.A3\n",
    "\n",
    "    def predict(self, X):\n",
    "        # Predict method\n",
    "        probabilities = self.forward(X)\n",
    "        return probabilities"
   ]
  },
  {
   "cell_type": "code",
   "execution_count": 42,
   "id": "e45feecb-ab67-4a4d-ab7b-060c48b54c60",
   "metadata": {},
   "outputs": [],
   "source": [
    "def create_environment():\n",
    "    global MAX_STEPS\n",
    "    env = gym.make(\"LunarLander-v2\", render_mode = None, enable_wind = False, max_episode_steps = MAX_STEPS)\n",
    "    observation, info = env.reset(seed=42)    \n",
    "    return env"
   ]
  },
  {
   "cell_type": "code",
   "execution_count": 43,
   "id": "e6d98bf1-c070-46f2-acf3-8c0cc7b4970e",
   "metadata": {},
   "outputs": [],
   "source": [
    "def generate_normal_random_number(sigma):\n",
    "    return np.random.normal(0.0, sigma)"
   ]
  },
  {
   "cell_type": "code",
   "execution_count": 68,
   "id": "0d9cbd54-6be7-44d8-8727-4cb955e06cd4",
   "metadata": {},
   "outputs": [],
   "source": [
    "def generate_random_number():\n",
    "    return random.random()"
   ]
  },
  {
   "cell_type": "code",
   "execution_count": 320,
   "id": "6a4bc25e-bc28-4dc0-9e2b-e73fafb10506",
   "metadata": {},
   "outputs": [],
   "source": [
    "def fitness_function(chromosome):\n",
    "    global MAX_STEPS\n",
    "    observation, info = ENV.reset(seed=42)\n",
    "    #observation, info = ENV.reset()\n",
    "\n",
    "    MODEL.set_trainable_weights(chromosome)\n",
    "\n",
    "    for ix in range(MAX_STEPS):\n",
    "        observation_2 = np.expand_dims(observation, axis=0)\n",
    "        action_prob = MODEL.predict(observation_2)\n",
    "        \n",
    "        action = np.argmax(action_prob)\n",
    "        observation, reward, terminated, truncated, info = ENV.step(action)\n",
    "\n",
    "        if terminated or truncated:\n",
    "            break   \n",
    "\n",
    "    px = observation[0]\n",
    "    py = observation[1]\n",
    "\n",
    "    distance = math.sqrt(px * px + py * py)\n",
    "    distance_alt = 1 + distance * 10\n",
    "    distance_alt_mult = distance_alt * distance_alt\n",
    "\n",
    "    if reward < 0.0:\n",
    "        fitness = reward\n",
    "        fitness += 101\n",
    "        fitness *= ix / distance_alt_mult\n",
    "    else:\n",
    "        fitness = 1000000 + ((reward + 101) ** 4) / (ix * distance_alt_mult)\n",
    "    \n",
    "    return (fitness, reward, ix, distance)"
   ]
  },
  {
   "cell_type": "code",
   "execution_count": 321,
   "id": "bcf526d2-9d77-4f72-a62a-405d2d19df13",
   "metadata": {},
   "outputs": [],
   "source": [
    "MAX_FITNESS = 0.0"
   ]
  },
  {
   "cell_type": "code",
   "execution_count": 322,
   "id": "efffd3c1-e336-41e8-b066-169a7c931310",
   "metadata": {},
   "outputs": [],
   "source": [
    "def compute_fitness(ch):\n",
    "    global MAX_FITNESS\n",
    "    time_start = time.time()\n",
    "    (fitness, reward, ix, distance) = fitness_function(ch.chromosome)\n",
    "    time_end = time.time()\n",
    "    time_diff = time_end - time_start\n",
    "    #print((fitness, reward, ix, time_diff))\n",
    "    if fitness > MAX_FITNESS:\n",
    "        print((fitness, reward, ix, time_diff, distance))\n",
    "        MAX_FITNESS = fitness\n",
    "    return fitness"
   ]
  },
  {
   "cell_type": "code",
   "execution_count": 323,
   "id": "1e099884-b3e0-41dd-844d-81c0a0079d40",
   "metadata": {},
   "outputs": [],
   "source": [
    "class Chromosome(object):\n",
    "\n",
    "    def __init__(self, ch):\n",
    "        self.chromosome = ch\n",
    "        self.id = uuid.uuid4()\n",
    "\n",
    "        fitness = compute_fitness(self)\n",
    "        \n",
    "        self.fitness = fitness\n",
    "    \n",
    "    def __str__(self):\n",
    "        return f'Chromosome:{self.chromosome}, fitness:{self.fitness}'\n",
    "\n",
    "    def __repr__(self):\n",
    "        return self.__str__()"
   ]
  },
  {
   "cell_type": "code",
   "execution_count": 324,
   "id": "dd88d0d7-a5d7-4a46-85f7-6d5314b5657e",
   "metadata": {},
   "outputs": [],
   "source": [
    "def generate_random_float_chromosome(ch_le):\n",
    "    return np.random.normal(0.0, 1.0, ch_le)"
   ]
  },
  {
   "cell_type": "code",
   "execution_count": 325,
   "id": "bc726003-1c8d-4497-bff4-0b55bd50e081",
   "metadata": {},
   "outputs": [],
   "source": [
    "def generate_random_population(count, ch_le):\n",
    "    res = []\n",
    "    for _ in range(0, count):\n",
    "        ch = generate_random_float_chromosome(ch_le)\n",
    "\n",
    "        chromosome = Chromosome(ch)\n",
    "        \n",
    "        res.append(chromosome)\n",
    "\n",
    "    return res"
   ]
  },
  {
   "cell_type": "code",
   "execution_count": 326,
   "id": "575373a3-0050-40e2-9d7d-c20695388747",
   "metadata": {},
   "outputs": [],
   "source": [
    "initial_population_size = 1000\n",
    "chromosome_length = 180  #756\n",
    "mutation_probability = 0.05\n",
    "iterations = 30"
   ]
  },
  {
   "cell_type": "code",
   "execution_count": 327,
   "id": "89bc770a-6caa-43ee-ae63-856c654a91b0",
   "metadata": {},
   "outputs": [],
   "source": [
    "ENV = create_environment()"
   ]
  },
  {
   "cell_type": "code",
   "execution_count": 328,
   "id": "714b47a5-9dc4-42ee-91d0-0828ebe3b304",
   "metadata": {},
   "outputs": [],
   "source": [
    "MODEL = SimpleNN()"
   ]
  },
  {
   "cell_type": "code",
   "execution_count": 329,
   "id": "fb8a278c-956b-46b4-8441-b5bdbeb865a6",
   "metadata": {},
   "outputs": [],
   "source": [
    "MAX_FITNESS = 0.0"
   ]
  },
  {
   "cell_type": "code",
   "execution_count": 330,
   "id": "82c89d2b-55e4-410e-8a24-bbd6f551aa23",
   "metadata": {},
   "outputs": [
    {
     "name": "stdout",
     "output_type": "stream",
     "text": [
      "(4.126714777146809, -100, 79, 0.013425588607788086, 0.3375335085093713)\n",
      "(58.11662633991235, -100, 83, 0.004944324493408203, 0.019505762815499067)\n"
     ]
    }
   ],
   "source": [
    "pop = generate_random_population(5, chromosome_length)\n",
    "#pop"
   ]
  },
  {
   "cell_type": "code",
   "execution_count": 331,
   "id": "219dbf43-b059-40ea-9969-8e9e36726262",
   "metadata": {},
   "outputs": [],
   "source": [
    "def mutate_chromosome(chromosome, mutation_probability):\n",
    "    mutated = False\n",
    "    for ix in range(0, len(chromosome.chromosome)):\n",
    "        if generate_random_number() <= mutation_probability:\n",
    "            val = chromosome.chromosome[ix]\n",
    "            diff = generate_normal_random_number(0.1)\n",
    "            chromosome.chromosome[ix] = val + diff\n",
    "            mutated = True\n",
    "\n",
    "    fitness = compute_fitness(chromosome)\n",
    "    \n",
    "    chromosome.fitness = fitness\n",
    "\n",
    "    return chromosome"
   ]
  },
  {
   "cell_type": "code",
   "execution_count": 332,
   "id": "24d2b8d5-4006-45c7-a259-7d2a8104e57c",
   "metadata": {},
   "outputs": [
    {
     "data": {
      "text/plain": [
       "Chromosome:[-1.21119291  1.36861341  1.54111399 -0.1544695  -2.66020093  0.67308169\n",
       " -1.82233005 -0.64858839  1.25161537  0.75781932 -0.4142604   0.94340344\n",
       "  0.4312918   0.83301315 -0.6284467  -0.21357135  0.86359162  0.22874654\n",
       "  1.17443139 -1.29201169 -0.45418802  2.23136553 -0.45023094  0.50909878\n",
       "  0.54724881  2.12273827 -1.30362214  0.67028319  0.61432718  0.39470545\n",
       "  0.04106749  0.54677985  0.45080198  0.85651887  0.08057963  1.86850114\n",
       "  1.19250593 -1.14422555  0.44159364  1.92979543  3.46417781  0.05039209\n",
       "  0.1592117  -0.84090596 -0.3477359   1.72852232  0.47636405 -1.32535729\n",
       "  1.61298427 -1.7038556  -1.30047956 -1.11253204  1.30494331  1.71927615\n",
       " -0.12142625 -0.36134205 -0.78427022 -1.82071705  0.31951163 -2.12495699\n",
       "  0.09445071 -0.34780188  0.30281022  0.17010819 -1.18415222 -0.85024364\n",
       "  0.34033247  0.14668682 -0.36771983 -2.07182511 -1.08688243  0.31756966\n",
       "  0.05628488  0.03110418 -0.80871838 -1.46334844  0.11138397  0.07936847\n",
       " -0.69661578  1.41966094 -0.21221809 -0.45694015 -1.74119469 -0.15178099\n",
       "  1.43014745 -2.5021463   0.51027602 -0.08379373 -0.1341662  -1.60860283\n",
       "  1.26036231  0.44042386 -0.30367294 -0.95007801 -1.25460734  0.45472378\n",
       " -0.37500991 -0.41563714 -1.24876724 -0.62373096 -0.02886523  1.23555569\n",
       "  0.38560415 -0.91794428 -0.51342886  1.20897728  0.39277559 -0.0732277\n",
       "  1.18784536  1.38943725 -1.12835537 -1.14643866  0.22055422  0.2627846\n",
       "  0.0252527   1.3376114  -0.17235913 -2.01108029 -1.05202775  0.17554352\n",
       "  0.27555877  0.83138389  1.01710864  0.22948984 -0.10843925  1.45967401\n",
       "  1.07834981  0.82734722 -0.99831455  0.71692772 -1.08458095 -0.16883741\n",
       "  0.57537856  1.73271014  1.84374727 -1.40499237  1.28524336 -1.32788419\n",
       " -0.43038621  1.20969996 -0.47321087  1.06880657  0.61735474  1.35913199\n",
       "  1.12895327 -2.28784096 -0.80009678  0.25084541  1.61165381 -1.87328832\n",
       " -0.49428461  1.47793526 -1.09448135 -0.48269969  0.9505052   2.32948633\n",
       " -0.69231188  0.15905669 -0.30165655  2.6590321  -0.50656117 -0.22928645\n",
       "  0.12838765  0.99681816  0.05192529 -0.32766294 -0.83423379  1.16223709\n",
       "  0.19645794 -0.50816585  2.12939757  0.47373678 -0.60466894 -0.6416054\n",
       "  0.4886248  -0.68123837 -1.74039864  0.74709604 -0.21329389  1.30691774], fitness:4.126714777146809"
      ]
     },
     "execution_count": 332,
     "metadata": {},
     "output_type": "execute_result"
    }
   ],
   "source": [
    "mutate_chromosome(pop[0], 0.1)"
   ]
  },
  {
   "cell_type": "code",
   "execution_count": 333,
   "id": "ef27530e-d32a-44c9-bd20-8dfb547d65a8",
   "metadata": {},
   "outputs": [],
   "source": [
    "def crossover_chromosome_pair_with_cutpoint(cha, chb, cut_point):\n",
    "    ch_len = len(cha.chromosome)\n",
    "    chc = np.concatenate((cha.chromosome[0:cut_point], chb.chromosome[cut_point: ch_len]))\n",
    "    chd = np.concatenate((chb.chromosome[0:cut_point], cha.chromosome[cut_point: ch_len]))\n",
    "\n",
    "    ch1 = Chromosome(chc)\n",
    "    ch2 = Chromosome(chd)\n",
    "\n",
    "    return (ch1, ch2)"
   ]
  },
  {
   "cell_type": "code",
   "execution_count": 334,
   "id": "1f1b3cd9-c0a3-4e42-b513-a1db5e5cebe9",
   "metadata": {},
   "outputs": [],
   "source": [
    "def crossover_chromosome_pair(cha, chb):\n",
    "    ch_len = len(cha.chromosome)\n",
    "    cut_point = int(random.random() * (ch_len + 1))\n",
    "\n",
    "    return crossover_chromosome_pair_with_cutpoint(cha, chb, cut_point)"
   ]
  },
  {
   "cell_type": "code",
   "execution_count": 335,
   "id": "8b626a51-357a-404d-a159-01903d8ccc88",
   "metadata": {},
   "outputs": [],
   "source": [
    "def compute_summary_fitness(population):\n",
    "    summary_fitness = 0.0\n",
    "\n",
    "    for ch in population:\n",
    "        summary_fitness += ch.fitness\n",
    "\n",
    "    return summary_fitness"
   ]
  },
  {
   "cell_type": "code",
   "execution_count": 336,
   "id": "f6f0e88a-74e6-45ce-a547-0c8fd5287261",
   "metadata": {},
   "outputs": [],
   "source": [
    "def select_chromosome(old_population, summary_fitness):\n",
    "    selector_value = summary_fitness * generate_random_number()\n",
    "    sum = 0.0\n",
    "    for ch in old_population:\n",
    "        sum += ch.fitness\n",
    "        if selector_value <= sum:\n",
    "            return ch\n",
    "\n",
    "    raise ValueError(\"WTF\")"
   ]
  },
  {
   "cell_type": "code",
   "execution_count": 337,
   "id": "f68d7df7-9f1a-4b8c-a493-6d3cdf0302a0",
   "metadata": {},
   "outputs": [],
   "source": [
    "def generate_new_population(old_population, new_population_size, mutation_probability):\n",
    "    new_population = []\n",
    "    summary_fitness = compute_summary_fitness(old_population)\n",
    "\n",
    "    for ix in range(0, new_population_size // 2):\n",
    "        selector_value = summary_fitness * generate_random_number()\n",
    "        sum = 0.0\n",
    "\n",
    "        cha = select_chromosome(old_population, summary_fitness)\n",
    "        chb = select_chromosome(old_population, summary_fitness)\n",
    "\n",
    "        (chc, chd) = crossover_chromosome_pair(cha, chb)\n",
    "        chc = mutate_chromosome(chc, mutation_probability)\n",
    "        chd = mutate_chromosome(chd, mutation_probability)\n",
    "\n",
    "        new_population.append(chc)\n",
    "        new_population.append(chd)\n",
    "\n",
    "    return new_population"
   ]
  },
  {
   "cell_type": "code",
   "execution_count": 338,
   "id": "1e792c81-1b13-40a5-8d9e-7930d6b9647a",
   "metadata": {},
   "outputs": [],
   "source": [
    "def find_best_chromosome(population):\n",
    "    res = population[0]\n",
    "    \n",
    "    for ch in population:\n",
    "        if ch.fitness > res.fitness:\n",
    "            res = ch\n",
    "\n",
    "    return res"
   ]
  },
  {
   "cell_type": "code",
   "execution_count": 339,
   "id": "ad45a17f-776a-49a7-b25e-c632327781a1",
   "metadata": {},
   "outputs": [],
   "source": [
    "def find_worst_chromosome(population):\n",
    "    res = population[0]\n",
    "    \n",
    "    for ch in population:\n",
    "        if ch.fitness < res.fitness:\n",
    "            res = ch\n",
    "\n",
    "    return res"
   ]
  },
  {
   "cell_type": "code",
   "execution_count": 340,
   "id": "3f33ec60-fd45-4219-8224-d89bd760ccf3",
   "metadata": {},
   "outputs": [],
   "source": [
    "def main_loop(iterations, initial_population_size, chromosome_length, mutation_probability, log_best):\n",
    "    population = generate_random_population(initial_population_size, chromosome_length)\n",
    "\n",
    "    best_fitness = []\n",
    "    worst_fitness = []\n",
    "    best_history = []\n",
    "    \n",
    "    for ix in range(0, iterations):\n",
    "        print('Iteration ' + str(ix))\n",
    "        new_population = generate_new_population(population, initial_population_size, mutation_probability)\n",
    "        population = new_population\n",
    "        best = find_best_chromosome(population)\n",
    "        worst = find_worst_chromosome(population)\n",
    "        best_fitness.append(best.fitness)\n",
    "        worst_fitness.append(worst.fitness)\n",
    "        best_history.append(best)\n",
    "        if log_best:\n",
    "            print(best.fitness)\n",
    "\n",
    "    result = (find_best_chromosome(best_history), population, best_fitness, worst_fitness, best_history)\n",
    "\n",
    "    return result"
   ]
  },
  {
   "cell_type": "code",
   "execution_count": 341,
   "id": "121b09d6-8edc-45fd-b121-753569ab586e",
   "metadata": {},
   "outputs": [
    {
     "name": "stdout",
     "output_type": "stream",
     "text": [
      "(72.73926289778593, -100, 84, 0.016007423400878906, 0.007462068307507651)\n",
      "Iteration 0\n",
      "(76.78150691468191, -100, 104, 0.0, 0.016382680080967403)\n",
      "(83.20831739801656, -100, 102, 0.015758514404296875, 0.010717613454180826)\n",
      "(151.46035167203112, -100, 234, 0.01554560661315918, 0.024296370787387153)\n",
      "151.46035167203112\n",
      "Iteration 1\n",
      "73.35447885809442\n",
      "Iteration 2\n",
      "(1069555.0787739397, 100, 311, 0.022478818893432617, 0.7686553462612874)\n",
      "70.32019548857302\n",
      "Iteration 3\n",
      "75.88450857206783\n",
      "Iteration 4\n",
      "83.66400756398272\n",
      "Iteration 5\n",
      "107.46771548731694\n",
      "Iteration 6\n",
      "77.54216348887618\n",
      "Iteration 7\n",
      "(1085936.3453679546, 100, 376, 0.015624761581420898, 0.6107383540038988)\n",
      "(1107498.2270043031, 100, 378, 0.015633106231689453, 0.5337902651123168)\n",
      "1107498.2270043031\n",
      "Iteration 8\n",
      "(1129417.4151194596, 100, 314, 0.015634536743164062, 0.5337689091283332)\n",
      "(1149017.392460643, 100, 276, 0.009136438369750977, 0.5299688767795668)\n",
      "(1303420.3597968286, 100, 255, 0.00826120376586914, 0.35930340509852904)\n",
      "(1314505.2020138372, 100, 242, 0.015615701675415039, 0.363095451341145)\n",
      "(1314785.2426410285, 100, 243, 0.012634754180908203, 0.36193598574316826)\n",
      "(3350891.0631119492, 100, 205, 0.0, 0.08403436703183455)\n",
      "3225541.2236447665\n",
      "Iteration 9\n",
      "(3633207.9758582916, 100, 203, 0.01561737060546875, 0.07474369508230261)\n",
      "(4020352.547515149, 100, 204, 0.03789854049682617, 0.06276019889086748)\n",
      "3918357.1422180235\n",
      "Iteration 10\n",
      "(6313259.23201041, 100, 267, 0.010630369186401367, 0.007264492273639296)\n",
      "6313259.23201041\n",
      "Iteration 11\n",
      "(7146056.593561634, 100, 241, 0.011635780334472656, 0.004974862889981502)\n",
      "(8176959.672721245, 100, 219, 0.015771150588989258, 0.0019060115896272966)\n",
      "8176959.672721245\n",
      "Iteration 12\n",
      "(8458024.675239734, 100, 214, 0.015633344650268555, 0.0011284428672195157)\n",
      "8458024.675239734\n",
      "Iteration 13\n",
      "(8531228.943431947, 100, 211, 0.0, 0.0013486486173304847)\n",
      "(8585315.480920058, 100, 205, 0.0, 0.002453868229837909)\n",
      "8585315.480920058\n",
      "Iteration 14\n",
      "(8663702.297336198, 100, 200, 0.012389421463012695, 0.0031947977151245816)\n",
      "(9016769.6498438, 100, 199, 0.0, 0.0011499969837423744)\n",
      "8490950.454387993\n",
      "Iteration 15\n",
      "(9071219.553297963, 100, 200, 0.007064104080200195, 0.0005558951454414041)\n",
      "8528678.565451507\n",
      "Iteration 16\n",
      "8895877.979645796\n",
      "Iteration 17\n",
      "8649033.529148858\n",
      "Iteration 18\n",
      "(9199224.99027941, 100, 194, 0.015610218048095703, 0.0012989276566716446)\n",
      "9199224.99027941\n",
      "Iteration 19\n",
      "8601010.204527847\n",
      "Iteration 20\n",
      "8932481.926470812\n",
      "Iteration 21\n",
      "8799223.406231742\n",
      "Iteration 22\n",
      "8886293.31481359\n",
      "Iteration 23\n",
      "8891936.013780536\n",
      "Iteration 24\n",
      "8593316.25271951\n",
      "Iteration 25\n",
      "8596435.218607528\n",
      "Iteration 26\n",
      "(9208083.073670596, 100, 193, 0.015759944915771484, 0.0015062044248888356)\n",
      "9208083.073670596\n",
      "Iteration 27\n",
      "8830208.197484784\n",
      "Iteration 28\n",
      "9060404.118431168\n",
      "Iteration 29\n",
      "(9265327.740173668, 100, 193, 0.0171816349029541, 0.0011540837934589183)\n",
      "8613652.368819213\n"
     ]
    }
   ],
   "source": [
    "result = main_loop(30, initial_population_size, chromosome_length, mutation_probability, True)"
   ]
  },
  {
   "cell_type": "code",
   "execution_count": 342,
   "id": "0d36d2d7-d210-4543-b013-d91fb9d20e41",
   "metadata": {},
   "outputs": [],
   "source": [
    "(best, population, best_fitness, worst_fitness, best_history) = result"
   ]
  },
  {
   "cell_type": "code",
   "execution_count": 343,
   "id": "27035ca7-0c07-4c0c-a8e7-30e2c5c1ac46",
   "metadata": {},
   "outputs": [],
   "source": [
    "best = find_best_chromosome(best_history)"
   ]
  },
  {
   "cell_type": "code",
   "execution_count": null,
   "id": "f1cf3e87-868c-4e04-aebe-0fadd81dac8e",
   "metadata": {},
   "outputs": [],
   "source": []
  },
  {
   "cell_type": "code",
   "execution_count": 344,
   "id": "a2d05668-d49e-45b4-a1c5-665b93339b1c",
   "metadata": {},
   "outputs": [],
   "source": [
    "ENV.close()"
   ]
  },
  {
   "cell_type": "code",
   "execution_count": 345,
   "id": "040268f7-6842-41cc-a36c-0ce9d04eb5f8",
   "metadata": {},
   "outputs": [
    {
     "data": {
      "text/plain": [
       "Chromosome:[ 1.29396207 -0.16572333 -1.41568154  0.8582572   0.68287582  1.38416836\n",
       "  0.45578971 -0.7915158   0.20509325 -1.10012287 -1.45661262  0.57397789\n",
       " -0.71014674 -1.36301634  1.18743518 -0.31622575  1.05119282 -0.41626068\n",
       "  0.58587743  0.51455918  2.0102371   0.41010753  0.58038904  0.50886003\n",
       "  0.45348922 -2.73873834 -2.14057485 -1.01895254 -0.8906768   0.57946885\n",
       " -0.67211016 -0.40755687  0.98213129 -0.48599059  0.28247411  0.65870854\n",
       " -1.47961882 -0.30416004  0.11045934  0.33082538 -0.28370291  0.44213959\n",
       " -0.85591977  0.80189579 -1.274897    0.39736777  0.68766306 -2.89888049\n",
       "  1.31906026  0.17841796 -0.99655412 -0.08334883 -0.27793263 -0.46691922\n",
       "  0.17841893 -1.07580781  0.50064152  1.01994058 -1.59872812  0.78785938\n",
       " -1.29908973  1.20643177 -0.61175668  1.53915353  0.68979962  0.91723364\n",
       "  1.40240327 -0.14553908  1.01940499  0.30031236  0.55872188 -0.67898706\n",
       " -0.0940692   1.31495958 -0.68362882 -0.79717045 -0.0792626   2.83845505\n",
       "  0.26334126 -0.95964014 -1.18678301 -0.23683761  0.6080305  -0.36271722\n",
       " -0.20294426 -0.62585104  2.45319999  0.54133767 -0.78793471 -0.8937224\n",
       " -0.03590277  1.63766343 -1.66046972 -0.19246987 -0.17174947  0.34437951\n",
       " -0.08390711 -0.09099981  0.84586373 -0.1295684  -1.49029452 -1.70665711\n",
       "  1.05533141  0.30432119  2.70085232 -0.25072953 -0.00820655 -2.17117593\n",
       " -0.03863129  0.00513585  1.64920084 -1.52237412  0.30051199 -0.37992121\n",
       "  0.51104175  0.57523336 -0.38723594  0.16604135  0.57760442 -0.09541313\n",
       "  1.05080308  0.78823898 -0.51183232 -0.03174273 -0.32398278  0.85101652\n",
       "  0.8160341   0.87707628  0.26131631 -0.49768939 -0.25219478  1.56990479\n",
       "  0.7019918  -0.1249719  -0.04975964 -0.33298255  1.01460877 -0.87923601\n",
       " -0.00724811 -1.45804613  1.19492702  1.10490925 -1.05684283  1.75854093\n",
       " -0.73344595  1.64214168 -0.66772346  0.68668825  0.27324234 -1.11187552\n",
       " -0.49435088 -0.244906   -0.10823971  0.42134254  1.15119324 -1.00726755\n",
       " -0.45137711  0.07073779  0.16236557 -1.17531918  0.38026702  0.28128745\n",
       "  0.69663135 -0.42853897  1.48240548 -0.10625744 -0.3101901  -0.46420106\n",
       " -0.78607415 -0.47224142  0.54914597 -0.59608816 -1.65697857  0.16489555\n",
       "  0.07168702  1.38132599 -0.31065674 -0.98240576 -2.46699813 -0.09159629], fitness:9208083.073670596"
      ]
     },
     "execution_count": 345,
     "metadata": {},
     "output_type": "execute_result"
    }
   ],
   "source": [
    "best"
   ]
  },
  {
   "cell_type": "code",
   "execution_count": 346,
   "id": "60542c3b-3022-4e6b-ba70-9e63009c35c9",
   "metadata": {},
   "outputs": [],
   "source": [
    "MODEL.set_trainable_weights(best.chromosome)  "
   ]
  },
  {
   "cell_type": "code",
   "execution_count": 376,
   "id": "0b8caa47-55f4-4cb1-9023-ad3308416f25",
   "metadata": {},
   "outputs": [],
   "source": [
    "test_env = gym.make(\"LunarLander-v2\", render_mode = 'human', enable_wind = False, max_episode_steps = 100000)"
   ]
  },
  {
   "cell_type": "code",
   "execution_count": 377,
   "id": "2e94e5e0-f6c9-4b3c-9eee-7a1e9f523483",
   "metadata": {},
   "outputs": [],
   "source": [
    "observation, info = test_env.reset(seed=42)\n",
    "#observation, info = test_env.reset()"
   ]
  },
  {
   "cell_type": "code",
   "execution_count": 378,
   "id": "c17a68d5-110a-471a-bfd1-1302501ac328",
   "metadata": {},
   "outputs": [],
   "source": [
    "for ix in range(1000):\n",
    "    observation_2 = np.expand_dims(observation, axis=0)\n",
    "    action_prob = MODEL.predict(observation_2)\n",
    "    \n",
    "    action = np.argmax(action_prob)\n",
    "    observation, reward, terminated, truncated, info = test_env.step(action)\n",
    "\n",
    "    if terminated or truncated:\n",
    "        #print(reward)\n",
    "        observation, info = test_env.reset()\n",
    "        #break\n",
    "\n",
    "test_env.close()"
   ]
  },
  {
   "cell_type": "code",
   "execution_count": null,
   "id": "86e5dc7c-a8dc-4543-848d-bfd3521d3600",
   "metadata": {},
   "outputs": [],
   "source": []
  },
  {
   "cell_type": "code",
   "execution_count": 350,
   "id": "5de99111-6d57-4495-8c7c-24f8d05cda97",
   "metadata": {},
   "outputs": [
    {
     "data": {
      "image/png": "[encoded data removed]",
      "text/plain": [
       "<Figure size 640x480 with 1 Axes>"
      ]
     },
     "metadata": {},
     "output_type": "display_data"
    }
   ],
   "source": [
    "plt.plot(best_fitness)\n",
    "plt.plot(worst_fitness)\n",
    "plt.show()"
   ]
  },
  {
   "cell_type": "code",
   "execution_count": null,
   "id": "e96197a4-f883-4959-ae47-2e3b5db78551",
   "metadata": {},
   "outputs": [],
   "source": []
  },
  {
   "cell_type": "code",
   "execution_count": null,
   "id": "f810a6b5-5832-45c1-b305-b7e453ac8981",
   "metadata": {},
   "outputs": [],
   "source": []
  }
 ],
 "metadata": {
  "kernelspec": {
   "display_name": "Python 3 (ipykernel)",
   "language": "python",
   "name": "python3"
  },
  "language_info": {
   "codemirror_mode": {
    "name": "ipython",
    "version": 3
   },
   "file_extension": ".py",
   "mimetype": "text/x-python",
   "name": "python",
   "nbconvert_exporter": "python",
   "pygments_lexer": "ipython3",
   "version": "3.12.4"
  }
 },
 "nbformat": 4,
 "nbformat_minor": 5
}
